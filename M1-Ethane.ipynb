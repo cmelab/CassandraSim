{
 "cells": [
  {
   "cell_type": "markdown",
   "metadata": {},
   "source": [
    "# Contents\n",
    " - [Imports](#Imports)\n",
    " - [Functions](#Functions)\n",
    " - [Make Surface & Visualize](#Surface)\n",
    " - [Make Ethane & Visualize](#Ethane)\n",
    " - [Apply Forcefields and Generate Simulation Box](#Forcefields)\n",
    " - [Define Statepoints](#Statepoints)\n",
    " - [Render Trajectory](#Trajectory)\n",
    " - [Errors](#Errors)\n",
    " - [Notes](#Notes)\n",
    "\n",
    "# Interesting Etherpads\n",
    " - [7-9: Equilibration & Box Stuff](https://etherpad.boisestate.edu/p/ldrd-s20-9)\n",
    " - [7-30: New Sweeps](https://etherpad.boisestate.edu/p/ldrd-s20-12)"
   ]
  },
  {
   "cell_type": "code",
   "execution_count": 1,
   "metadata": {},
   "outputs": [],
   "source": [
    "# Quick commands\n",
    "#!tail -n 1 signac/workspace/*/surfequil*.prp\n",
    "#!head -n 10 signac/workspace/*/surfprod*.prp\n",
    "!rm -rf *.in.* species* *.out* *.inp*"
   ]
  },
  {
   "cell_type": "markdown",
   "metadata": {},
   "source": [
    "<a id=\"Imports\"></a>\n",
    "## Imports"
   ]
  },
  {
   "cell_type": "code",
   "execution_count": 2,
   "metadata": {},
   "outputs": [],
   "source": [
    "import mosdef_cassandra as mc\n",
    "import generate_mc as gen   # Chris' script\n",
    "import mbuild as mb\n",
    "import foyer\n",
    "import numpy as np\n",
    "import matplotlib.pyplot as plt\n",
    "from scipy.spatial import ConvexHull\n",
    "import random\n",
    "import unyt as u    # For Cassandra's physical unit specification \n",
    "                    # https://mosdef-cassandra.readthedocs.io/en/latest/guides/unyts.html"
   ]
  },
  {
   "cell_type": "markdown",
   "metadata": {},
   "source": [
    "<a id=\"Functions\"></a>\n",
    "## Functions"
   ]
  },
  {
   "cell_type": "code",
   "execution_count": 3,
   "metadata": {},
   "outputs": [],
   "source": [
    "def gen_system(dims=[2, 2, 2]):\n",
    "    defaults_dict = {'stoichiometry': {'Mo': 1, 'V': 0.15, 'Nb': 0.13, 'Te': 0.12},\n",
    "                     'dimensions': dims,\n",
    "                     'template': 'M1UnitCell_mod.pdb',\n",
    "                     'crystal_x': 2.148490,\n",
    "                     'crystal_y': 2.664721,\n",
    "                     'crystal_z': 0.400321,\n",
    "                     'z_reactor_size': 20.0,\n",
    "                     'forcefield': None\n",
    "                     }\n",
    "\n",
    "    system = gen.Surface(defaults_dict['dimensions'],\n",
    "                        defaults_dict['template'],\n",
    "                         defaults_dict['stoichiometry'],\n",
    "                         True,\n",
    "                         defaults_dict['crystal_x'],\n",
    "                         defaults_dict['crystal_y'],\n",
    "                         defaults_dict['crystal_z']\n",
    "                        )\n",
    "    system.translate_to(np.zeros(3)) # Added so that periodicity doesn't error out\n",
    "    system.periodicity = system.boundingbox.lengths # necessary\n",
    "    #system.to_parmed() # Triggers an error\n",
    "    return system"
   ]
  },
  {
   "cell_type": "code",
   "execution_count": 4,
   "metadata": {},
   "outputs": [],
   "source": [
    "def apply_ff(system, systemFF, organicFF=None):\n",
    "    typed_surface = systemFF.apply(system.children[0],\n",
    "                            assert_angle_params=False,\n",
    "                            assert_bond_params=False,\n",
    "                            assert_dihedral_params=False,\n",
    "                            assert_improper_params=False)\n",
    "    if organicFF:\n",
    "        for idx, child in enumerate(system.children):\n",
    "            if idx == 0:\n",
    "                pass\n",
    "            else:\n",
    "                typed_comp = organicFF.apply(child)\n",
    "                typed_surface += typed_comp\n",
    "    return typed_surface"
   ]
  },
  {
   "cell_type": "code",
   "execution_count": 10,
   "metadata": {},
   "outputs": [],
   "source": [
    "def run_cassandra_surf(chem_pot, temp):\n",
    "    # Create box and species list\n",
    "    box_list = [surface]\n",
    "    species_list = [typed_surface,typed_ethane]\n",
    "\n",
    "    # Since we have an occupied box we need to specify\n",
    "    # the number of each species present in the intial config\n",
    "    mols_in_boxes = [[2,0]]\n",
    "\n",
    "    system = mc.System(box_list, species_list, mols_in_boxes=mols_in_boxes)\n",
    "    moveset = mc.MoveSet(\"gcmc\", species_list)\n",
    "\n",
    "    custom_args = {\n",
    "        \"run_name\": f\"surfequil_{chem_pot:.0f}_{temp:.0f}\",\n",
    "        \"chemical_potentials\": [\"none\",chem_pot*u.Unit('kJ/mol')],\n",
    "        \"rcut_min\": 0.3980 * 2.5* u.angstrom, #(or 3.0)\n",
    "        \"vdw_cutoff\": min(box.lengths)/2.1* u.angstrom,\n",
    "        \"charge_style\": \"none\",\n",
    "        #\"charge_cutoff\": 14.0,\n",
    "        \"coord_freq\": 100,\n",
    "        \"prop_freq\": 10,\n",
    "    }\n",
    "\n",
    "    mc.run(\n",
    "        system=system, \n",
    "        moveset=moveset, \n",
    "        run_type=\"equilibration\", \n",
    "        run_length= 10000, # To reach ~1.33 hours\n",
    "        temperature=temp*u.K, \n",
    "        **custom_args\n",
    "    )\n",
    "    \n",
    "    # Set max translate and volume for production\n",
    "    moveset.max_translate = [[0* u.angstrom,10.0* u.angstrom]] # angstroms\n",
    "\n",
    "    # Update run_name and restart_name\n",
    "    custom_args[\"run_name\"] = f\"surfprod_{chem_pot:.0f}_{temp:.0f}\"\n",
    "    custom_args[\"restart_name\"] = f\"surfequil_{chem_pot:.0f}_{temp:.0f}\"\n",
    "\n",
    "    mc.restart(\n",
    "        system=system,\n",
    "        moveset=moveset,\n",
    "        run_type=\"production\",\n",
    "        run_length= 50000, # To reach ~6.67 hours, total 8 hrs\n",
    "        temperature=temp*u.K,\n",
    "        **custom_args,\n",
    "    )"
   ]
  },
  {
   "cell_type": "code",
   "execution_count": 6,
   "metadata": {},
   "outputs": [
    {
     "name": "stdout",
     "output_type": "stream",
     "text": [
      "Using the following executables for Cassandra:\n",
      "Python: /home/nealeellyson/miniconda3/envs/moscas/bin/python\n",
      "library_setup: /home/nealeellyson/miniconda3/envs/moscas/bin/library_setup.py\n",
      "Cassandra: /home/nealeellyson/miniconda3/envs/moscas/bin/cassandra.exe\n"
     ]
    }
   ],
   "source": [
    "mc.utils.detect_cassandra_binaries();"
   ]
  },
  {
   "cell_type": "markdown",
   "metadata": {},
   "source": [
    "<a id=\"Surface\"></a>\n",
    "## Make Surface & Visualize"
   ]
  },
  {
   "cell_type": "code",
   "execution_count": 7,
   "metadata": {},
   "outputs": [
    {
     "name": "stdout",
     "output_type": "stream",
     "text": [
      "Adding [0, 0, 1] to system... \n"
     ]
    },
    {
     "data": {
      "application/3dmoljs_load.v0": "<div id=\"3dmolviewer_15974255044218364\"  style=\"position: relative; width: 640px; height: 480px\">\n        <p id=\"3dmolwarning_15974255044218364\" style=\"background-color:#ffcccc;color:black\">You appear to be running in JupyterLab (or JavaScript failed to load for some other reason).  You need to install the 3dmol extension: <br>\n        <tt>jupyter labextension install jupyterlab_3dmol</tt></p>\n        </div>\n<script>\n\nvar loadScriptAsync = function(uri){\n  return new Promise((resolve, reject) => {\n    var tag = document.createElement('script');\n    tag.src = uri;\n    tag.async = true;\n    tag.onload = () => {\n      resolve();\n    };\n  var firstScriptTag = document.getElementsByTagName('script')[0];\n  firstScriptTag.parentNode.insertBefore(tag, firstScriptTag);\n});\n};\n\nif(typeof $3Dmolpromise === 'undefined') {\n$3Dmolpromise = null;\n  $3Dmolpromise = loadScriptAsync('https://3dmol.csb.pitt.edu/build/3Dmol.js');\n}\n\nvar viewer_15974255044218364 = null;\nvar warn = document.getElementById(\"3dmolwarning_15974255044218364\");\nif(warn) {\n    warn.parentNode.removeChild(warn);\n}\n$3Dmolpromise.then(function() {\nviewer_15974255044218364 = $3Dmol.createViewer($(\"#3dmolviewer_15974255044218364\"),{backgroundColor:\"white\"});\n\tviewer_15974255044218364.addModel(\"@<TRIPOS>MOLECULE\\nRES\\n320 0 1 0 1\\nSMALL\\nNO_CHARGES\\n@<TRIPOS>CRYSIN\\n   20.9710    26.5140    14.0000    90.0000    90.0000    90.0000  1  1\\n@<TRIPOS>ATOM\\n       1 Nb          -5.5485     6.8270    -2.6820 Nb            1 RES     \\n       2 Mo          -3.0915    12.9990    -2.6180 Mo            1 RES     \\n       3 Mo          -1.8165    -7.1840    -2.6520 Mo            1 RES     \\n       4 Mo          -1.0425   -10.6900    -1.5350 Mo            1 RES     \\n       5 V            0.4285    12.4550    -1.5720 V             1 RES     \\n       6 Nb           2.5375     9.6000    -2.6580 Nb            1 RES     \\n       7 Mo           4.0985    12.8910    -1.5350 Mo            1 RES     \\n       8 Mo          -5.5405    10.3850    -1.5890 Mo            1 RES     \\n       9 Mo           1.7235    -8.0460    -1.7250 Mo            1 RES     \\n      10 Nb           5.0225    -6.4960    -2.6820 Nb            1 RES     \\n      11 Mo          -8.0065     0.6540    -2.6160 Mo            1 RES     \\n      12 Mo           2.5655    -0.3240    -2.6180 Mo            1 RES     \\n      13 Mo           7.4805   -12.6690    -2.6160 Mo            1 RES     \\n      14 V           -9.2835    -5.8090    -2.6500 V             1 RES     \\n      15 Mo           1.2895     6.1400    -2.6520 Mo            1 RES     \\n      16 Mo           8.7575     7.5150    -2.6500 Mo            1 RES     \\n      17 Mo         -10.0565    -2.3020    -1.5340 Mo            1 RES     \\n      18 V            0.5165     2.6340    -1.5350 V             1 RES     \\n      19 Te           9.5305    11.0210    -1.5330 Te            1 RES     \\n      20 Mo           9.6175     1.2010    -1.5720 Mo            1 RES     \\n      21 Nb          -0.9545    -0.8690    -1.5730 Nb            1 RES     \\n      22 Mo         -10.1435   -12.1230    -1.5710 Mo            1 RES     \\n      23 Mo           7.5095     4.0550    -2.6580 Mo            1 RES     \\n      24 V           -3.0635    -3.7230    -2.6580 V             1 RES     \\n      25 Mo          -8.0345    -9.2680    -2.6570 Mo            1 RES     \\n      26 V            5.9475     0.7650    -1.5350 V             1 RES     \\n      27 Mo          -4.6235    -0.4330    -1.5350 Mo            1 RES     \\n      28 Te          -6.4735   -12.5590    -1.5350 Te            1 RES     \\n      29 Mo          -5.5585     3.2700    -1.5890 Mo            1 RES     \\n      30 Mo           5.0145    -2.9390    -1.5900 Mo            1 RES     \\n      31 V            5.0325   -10.0530    -1.5890 V             1 RES     \\n      32 Mo           8.3205    -4.9450    -1.7260 Mo            1 RES     \\n      33 Mo          -2.2505     5.2780    -1.7250 Mo            1 RES     \\n      34 Mo          -8.8465     8.3780    -1.7250 Mo            1 RES     \\n      35 Nb           2.0555   -11.3340    -2.5710 Nb            1 RES     \\n      36 Mo           7.9905    -1.6560    -2.5720 Mo            1 RES     \\n      37 Mo          -2.5815     1.9890    -2.5710 Mo            1 RES     \\n      38 Mo          -8.5165    11.6670    -2.5710 Mo            1 RES     \\n      39 Mo           5.9955     9.8950    -2.0710 Mo            1 RES     \\n      40 Mo           4.0505     3.7600    -2.0720 Mo            1 RES     \\n      41 Mo          -6.5225    -3.4290    -2.0720 Mo            1 RES     \\n      42 Mo          -4.5765    -9.5640    -2.0720 Mo            1 RES     \\n      43 Mo          -5.5485    -6.4960    -1.6060 Mo            1 RES     \\n      44 Mo           5.0235     6.8270    -1.6070 Mo            1 RES     \\n      45 O           -5.5485     6.8270    -4.3540 O             1 RES     \\n      46 O           -5.5485    -6.4960     0.0620 O             1 RES     \\n      47 O           -3.1025    12.9740    -4.2910 O             1 RES     \\n      48 O           -1.8095    -7.2450    -4.3230 O             1 RES     \\n      49 O           -1.0445   -10.6990     0.1440 O             1 RES     \\n      50 O            0.4545    12.4640     0.1060 O             1 RES     \\n      51 O            2.4945     9.6800    -4.3280 O             1 RES     \\n      52 O            4.0555    12.8630     0.1420 O             1 RES     \\n      53 O            2.0595   -11.3350    -4.2820 O             1 RES     \\n      54 O           -5.5285    10.3580     0.0890 O             1 RES     \\n      55 O            1.7395    -7.9670    -0.0490 O             1 RES     \\n      56 O            6.1365    10.0920    -0.2510 O             1 RES     \\n      57 O            5.4365    -8.3140    -2.1100 O             1 RES     \\n      58 O            6.5585   -10.9960    -2.0940 O             1 RES     \\n      59 O           -4.7185   -12.7440    -2.0750 O             1 RES     \\n      60 O            6.6975     7.7810    -2.2040 O             1 RES     \\n      61 O            9.2235   -11.9410    -2.0810 O             1 RES     \\n      62 O           10.8275    12.5080    -1.9760 O             1 RES     \\n      63 O            8.7185     9.4030    -2.0690 O             1 RES     \\n      64 O           -6.2995    -8.2440    -2.2190 O             1 RES     \\n      65 O           -9.4285   -10.4500    -2.0470 O             1 RES     \\n      66 O           -9.8685    10.1460    -2.0910 O             1 RES     \\n      67 O           10.6885     7.5180    -2.2080 O             1 RES     \\n      68 O           -8.3305   -12.8760    -2.1650 O             1 RES     \\n      69 O           -7.4925     9.9050    -2.0860 O             1 RES     \\n      70 O           -7.4695     7.2660    -2.2720 O             1 RES     \\n      71 O           -8.9435    -7.6420    -2.2510 O             1 RES     \\n      72 O           -6.6555   -10.7130    -2.1560 O             1 RES     \\n      73 O           -6.5975    12.1040    -1.9760 O             1 RES     \\n      74 O           -2.3235   -11.8730    -2.1210 O             1 RES     \\n      75 O            5.0225    -6.4960    -4.3540 O             1 RES     \\n      76 O            5.0235     6.8270     0.0620 O             1 RES     \\n      77 O           -7.9945     0.6780    -4.2900 O             1 RES     \\n      78 O            2.5775    -0.3480    -4.2920 O             1 RES     \\n      79 O            7.4695   -12.6460    -4.2900 O             1 RES     \\n      80 O           -9.2905    -5.7480    -4.3210 O             1 RES     \\n      81 O            1.2835     6.0790    -4.3230 O             1 RES     \\n      82 O            8.7645     7.5760    -4.3210 O             1 RES     \\n      83 O          -10.0565    -2.2930     0.1450 O             1 RES     \\n      84 O            0.5175     2.6240     0.1440 O             1 RES     \\n      85 O            9.5305    11.0300     0.1460 O             1 RES     \\n      86 O            9.5915     1.1900     0.1060 O             1 RES     \\n      87 O           -0.9805    -0.8590     0.1050 O             1 RES     \\n      88 O          -10.1175   -12.1330     0.1060 O             1 RES     \\n      89 O            7.5535     3.9770    -4.3280 O             1 RES     \\n      90 O           -3.0205    -3.6440    -4.3280 O             1 RES     \\n      91 O           -8.0795    -9.3470    -4.3280 O             1 RES     \\n      92 O            5.9885     0.7930     0.1410 O             1 RES     \\n      93 O           -4.5805    -0.4610     0.1410 O             1 RES     \\n      94 O           -6.5135   -12.5300     0.1410 O             1 RES     \\n      95 O            7.9865    -1.6540    -4.2830 O             1 RES     \\n      96 O           -2.5865     1.9880    -4.2820 O             1 RES     \\n      97 O           -8.5125    11.6700    -4.2830 O             1 RES     \\n      98 O           -5.5715     3.2970     0.0890 O             1 RES     \\n      99 O            5.0025    -2.9650     0.0880 O             1 RES     \\n     100 O            5.0455   -10.0260     0.0890 O             1 RES     \\n     101 O            8.3035    -5.0210    -0.0500 O             1 RES     \\n     102 O           -2.2655     5.3560    -0.0490 O             1 RES     \\n     103 O           -8.8305     8.3010    -0.0490 O             1 RES     \\n     104 O            3.9095     3.5620    -0.2530 O             1 RES     \\n     105 O           -6.6625    -3.2320    -0.2520 O             1 RES     \\n     106 O           -4.4355    -9.7610    -0.2520 O             1 RES     \\n     107 O            4.6095    -4.6770    -2.1100 O             1 RES     \\n     108 O           -5.9625     5.0090    -2.1100 O             1 RES     \\n     109 O           -5.1355     8.6460    -2.1100 O             1 RES     \\n     110 O            3.4875    -1.9960    -2.0930 O             1 RES     \\n     111 O           -7.0845     2.3270    -2.0940 O             1 RES     \\n     112 O           -4.0135    11.3270    -2.0930 O             1 RES     \\n     113 O           -6.3785    -0.2480    -2.0730 O             1 RES     \\n     114 O            4.1935     0.5800    -2.0750 O             1 RES     \\n     115 O            5.8525    13.0760    -2.0730 O             1 RES     \\n     116 O            3.3485     5.8730    -2.2050 O             1 RES     \\n     117 O           -7.2235    -5.5420    -2.2040 O             1 RES     \\n     118 O           -3.8745    -7.4500    -2.2050 O             1 RES     \\n     119 O            0.8225    -1.0500    -2.0830 O             1 RES     \\n     120 O           -9.7485     1.3820    -2.0810 O             1 RES     \\n     121 O           -1.3485    12.2730    -2.0820 O             1 RES     \\n     122 O           -0.7815     1.1480    -1.9770 O             1 RES     \\n     123 O            9.7905    -0.8150    -1.9770 O             1 RES     \\n     124 O            0.2555   -12.1760    -1.9760 O             1 RES     \\n     125 O            1.3275     4.2520    -2.0710 O             1 RES     \\n     126 O           -9.2445    -3.9210    -2.0690 O             1 RES     \\n     127 O           -1.8545    -9.0710    -2.0710 O             1 RES     \\n     128 O           -4.7995    -4.7480    -2.2200 O             1 RES     \\n     129 O            5.7735     5.0800    -2.2200 O             1 RES     \\n     130 O            4.2735     8.5750    -2.2190 O             1 RES     \\n     131 O           -1.6695    -2.5410    -2.0490 O             1 RES     \\n     132 O            8.9025     2.8730    -2.0470 O             1 RES     \\n     133 O            1.1435    10.7820    -2.0480 O             1 RES     \\n     134 O           -1.2285     3.5100    -2.0900 O             1 RES     \\n     135 O            9.3425    -3.1770    -2.0910 O             1 RES     \\n     136 O            0.7025    -9.8140    -2.0900 O             1 RES     \\n     137 O           -0.6415     6.1370    -2.2100 O             1 RES     \\n     138 O            9.9295    -5.8050    -2.2080 O             1 RES     \\n     139 O            0.1155    -7.1860    -2.2100 O             1 RES     \\n     140 O           -2.7675    -0.1150    -2.1670 O             1 RES     \\n     141 O            7.8045     0.4470    -2.1650 O             1 RES     \\n     142 O            2.2415   -13.4380    -2.1660 O             1 RES     \\n     143 O           -3.6055     3.7510    -2.0830 O             1 RES     \\n     144 O            6.9665    -3.4180    -2.0870 O             1 RES     \\n     145 O            3.0795    -9.5730    -2.0830 O             1 RES     \\n     146 O           -3.6275     6.3890    -2.2720 O             1 RES     \\n     147 O            6.9435    -6.0570    -2.2720 O             1 RES     \\n     148 O            3.1015    -6.9340    -2.2720 O             1 RES     \\n     149 O           -2.1555    -5.3500    -2.2520 O             1 RES     \\n     150 O            8.4175     5.6820    -2.2510 O             1 RES     \\n     151 O            1.6295     7.9730    -2.2520 O             1 RES     \\n     152 O           -4.4425    -2.2790    -2.1560 O             1 RES     \\n     153 O            6.1295     2.6110    -2.1570 O             1 RES     \\n     154 O            3.9165    11.0450    -2.1560 O             1 RES     \\n     155 O           -4.4995     1.5520    -1.9760 O             1 RES     \\n     156 O            6.0725    -1.2190    -1.9770 O             1 RES     \\n     157 O            3.9745   -11.7720    -1.9760 O             1 RES     \\n     158 O           -8.7745    -1.1190    -2.1180 O             1 RES     \\n     159 O            1.7975     1.4500    -2.1210 O             1 RES     \\n     160 O            8.0365    12.3030    -2.1270 O             1 RES     \\n     161 Mo          -5.5485     6.8270     1.3212 Mo            1 RES     \\n     162 Mo          -3.0915    12.9990     1.3852 Mo            1 RES     \\n     163 Mo          -1.8165    -7.1840     1.3512 Mo            1 RES     \\n     164 Mo          -1.0425   -10.6900     2.4682 Mo            1 RES     \\n     165 Mo           0.4285    12.4550     2.4312 Mo            1 RES     \\n     166 Mo           2.5375     9.6000     1.3452 Mo            1 RES     \\n     167 Mo           4.0985    12.8910     2.4682 Mo            1 RES     \\n     168 Mo          -5.5405    10.3850     2.4142 Mo            1 RES     \\n     169 Te           1.7235    -8.0460     2.2782 Te            1 RES     \\n     170 Mo           5.0225    -6.4960     1.3212 Mo            1 RES     \\n     171 V           -8.0065     0.6540     1.3872 V             1 RES     \\n     172 Te           2.5655    -0.3240     1.3852 Te            1 RES     \\n     173 Mo           7.4805   -12.6690     1.3872 Mo            1 RES     \\n     174 Mo          -9.2835    -5.8090     1.3532 Mo            1 RES     \\n     175 Mo           1.2895     6.1400     1.3512 Mo            1 RES     \\n     176 Mo           8.7575     7.5150     1.3532 Mo            1 RES     \\n     177 Mo         -10.0565    -2.3020     2.4692 Mo            1 RES     \\n     178 Mo           0.5165     2.6340     2.4682 Mo            1 RES     \\n     179 Te           9.5305    11.0210     2.4702 Te            1 RES     \\n     180 Mo           9.6175     1.2010     2.4312 Mo            1 RES     \\n     181 Nb          -0.9545    -0.8690     2.4302 Nb            1 RES     \\n     182 Nb         -10.1435   -12.1230     2.4322 Nb            1 RES     \\n     183 Nb           7.5095     4.0550     1.3452 Nb            1 RES     \\n     184 Mo          -3.0635    -3.7230     1.3452 Mo            1 RES     \\n     185 V           -8.0345    -9.2680     1.3462 V             1 RES     \\n     186 Mo           5.9475     0.7650     2.4682 Mo            1 RES     \\n     187 Mo          -4.6235    -0.4330     2.4682 Mo            1 RES     \\n     188 V           -6.4735   -12.5590     2.4682 V             1 RES     \\n     189 Mo          -5.5585     3.2700     2.4142 Mo            1 RES     \\n     190 Mo           5.0145    -2.9390     2.4132 Mo            1 RES     \\n     191 Mo           5.0325   -10.0530     2.4142 Mo            1 RES     \\n     192 Mo           8.3205    -4.9450     2.2772 Mo            1 RES     \\n     193 Mo          -2.2505     5.2780     2.2782 Mo            1 RES     \\n     194 Mo          -8.8465     8.3780     2.2782 Mo            1 RES     \\n     195 Mo           2.0555   -11.3340     1.4322 Mo            1 RES     \\n     196 Mo           7.9905    -1.6560     1.4312 Mo            1 RES     \\n     197 Te          -2.5815     1.9890     1.4322 Te            1 RES     \\n     198 Mo          -8.5165    11.6670     1.4322 Mo            1 RES     \\n     199 Mo           5.9955     9.8950     1.9322 Mo            1 RES     \\n     200 Mo           4.0505     3.7600     1.9312 Mo            1 RES     \\n     201 Mo          -6.5225    -3.4290     1.9312 Mo            1 RES     \\n     202 Mo          -4.5765    -9.5640     1.9312 Mo            1 RES     \\n     203 Mo          -5.5485    -6.4960     2.3972 Mo            1 RES     \\n     204 Mo           5.0235     6.8270     2.3962 Mo            1 RES     \\n     205 O           -5.5485     6.8270    -0.3508 O             1 RES     \\n     206 O           -5.5485    -6.4960     4.0652 O             1 RES     \\n     207 O           -3.1025    12.9740    -0.2878 O             1 RES     \\n     208 O           -1.8095    -7.2450    -0.3198 O             1 RES     \\n     209 O           -1.0445   -10.6990     4.1472 O             1 RES     \\n     210 O            0.4545    12.4640     4.1092 O             1 RES     \\n     211 O            2.4945     9.6800    -0.3248 O             1 RES     \\n     212 O            4.0555    12.8630     4.1452 O             1 RES     \\n     213 O            2.0595   -11.3350    -0.2788 O             1 RES     \\n     214 O           -5.5285    10.3580     4.0922 O             1 RES     \\n     215 O            1.7395    -7.9670     3.9542 O             1 RES     \\n     216 O            6.1365    10.0920     3.7522 O             1 RES     \\n     217 O            5.4365    -8.3140     1.8932 O             1 RES     \\n     218 O            6.5585   -10.9960     1.9092 O             1 RES     \\n     219 O           -4.7185   -12.7440     1.9282 O             1 RES     \\n     220 O            6.6975     7.7810     1.7992 O             1 RES     \\n     221 O            9.2235   -11.9410     1.9222 O             1 RES     \\n     222 O           10.8275    12.5080     2.0272 O             1 RES     \\n     223 O            8.7185     9.4030     1.9342 O             1 RES     \\n     224 O           -6.2995    -8.2440     1.7842 O             1 RES     \\n     225 O           -9.4285   -10.4500     1.9562 O             1 RES     \\n     226 O           -9.8685    10.1460     1.9122 O             1 RES     \\n     227 O           10.6885     7.5180     1.7952 O             1 RES     \\n     228 O           -8.3305   -12.8760     1.8382 O             1 RES     \\n     229 O           -7.4925     9.9050     1.9172 O             1 RES     \\n     230 O           -7.4695     7.2660     1.7312 O             1 RES     \\n     231 O           -8.9435    -7.6420     1.7522 O             1 RES     \\n     232 O           -6.6555   -10.7130     1.8472 O             1 RES     \\n     233 O           -6.5975    12.1040     2.0272 O             1 RES     \\n     234 O           -2.3235   -11.8730     1.8822 O             1 RES     \\n     235 O            5.0225    -6.4960    -0.3508 O             1 RES     \\n     236 O            5.0235     6.8270     4.0652 O             1 RES     \\n     237 O           -7.9945     0.6780    -0.2868 O             1 RES     \\n     238 O            2.5775    -0.3480    -0.2888 O             1 RES     \\n     239 O            7.4695   -12.6460    -0.2868 O             1 RES     \\n     240 O           -9.2905    -5.7480    -0.3178 O             1 RES     \\n     241 O            1.2835     6.0790    -0.3198 O             1 RES     \\n     242 O            8.7645     7.5760    -0.3178 O             1 RES     \\n     243 O          -10.0565    -2.2930     4.1482 O             1 RES     \\n     244 O            0.5175     2.6240     4.1472 O             1 RES     \\n     245 O            9.5305    11.0300     4.1492 O             1 RES     \\n     246 O            9.5915     1.1900     4.1092 O             1 RES     \\n     247 O           -0.9805    -0.8590     4.1082 O             1 RES     \\n     248 O          -10.1175   -12.1330     4.1092 O             1 RES     \\n     249 O            7.5535     3.9770    -0.3248 O             1 RES     \\n     250 O           -3.0205    -3.6440    -0.3248 O             1 RES     \\n     251 O           -8.0795    -9.3470    -0.3248 O             1 RES     \\n     252 O            5.9885     0.7930     4.1442 O             1 RES     \\n     253 O           -4.5805    -0.4610     4.1442 O             1 RES     \\n     254 O           -6.5135   -12.5300     4.1442 O             1 RES     \\n     255 O            7.9865    -1.6540    -0.2798 O             1 RES     \\n     256 O           -2.5865     1.9880    -0.2788 O             1 RES     \\n     257 O           -8.5125    11.6700    -0.2798 O             1 RES     \\n     258 O           -5.5715     3.2970     4.0922 O             1 RES     \\n     259 O            5.0025    -2.9650     4.0912 O             1 RES     \\n     260 O            5.0455   -10.0260     4.0922 O             1 RES     \\n     261 O            8.3035    -5.0210     3.9532 O             1 RES     \\n     262 O           -2.2655     5.3560     3.9542 O             1 RES     \\n     263 O           -8.8305     8.3010     3.9542 O             1 RES     \\n     264 O            3.9095     3.5620     3.7502 O             1 RES     \\n     265 O           -6.6625    -3.2320     3.7512 O             1 RES     \\n     266 O           -4.4355    -9.7610     3.7512 O             1 RES     \\n     267 O            4.6095    -4.6770     1.8932 O             1 RES     \\n     268 O           -5.9625     5.0090     1.8932 O             1 RES     \\n     269 O           -5.1355     8.6460     1.8932 O             1 RES     \\n     270 O            3.4875    -1.9960     1.9102 O             1 RES     \\n     271 O           -7.0845     2.3270     1.9092 O             1 RES     \\n     272 O           -4.0135    11.3270     1.9102 O             1 RES     \\n     273 O           -6.3785    -0.2480     1.9302 O             1 RES     \\n     274 O            4.1935     0.5800     1.9282 O             1 RES     \\n     275 O            5.8525    13.0760     1.9302 O             1 RES     \\n     276 O            3.3485     5.8730     1.7982 O             1 RES     \\n     277 O           -7.2235    -5.5420     1.7992 O             1 RES     \\n     278 O           -3.8745    -7.4500     1.7982 O             1 RES     \\n     279 O            0.8225    -1.0500     1.9202 O             1 RES     \\n     280 O           -9.7485     1.3820     1.9222 O             1 RES     \\n     281 O           -1.3485    12.2730     1.9212 O             1 RES     \\n     282 O           -0.7815     1.1480     2.0262 O             1 RES     \\n     283 O            9.7905    -0.8150     2.0262 O             1 RES     \\n     284 O            0.2555   -12.1760     2.0272 O             1 RES     \\n     285 O            1.3275     4.2520     1.9322 O             1 RES     \\n     286 O           -9.2445    -3.9210     1.9342 O             1 RES     \\n     287 O           -1.8545    -9.0710     1.9322 O             1 RES     \\n     288 O           -4.7995    -4.7480     1.7832 O             1 RES     \\n     289 O            5.7735     5.0800     1.7832 O             1 RES     \\n     290 O            4.2735     8.5750     1.7842 O             1 RES     \\n     291 O           -1.6695    -2.5410     1.9542 O             1 RES     \\n     292 O            8.9025     2.8730     1.9562 O             1 RES     \\n     293 O            1.1435    10.7820     1.9552 O             1 RES     \\n     294 O           -1.2285     3.5100     1.9132 O             1 RES     \\n     295 O            9.3425    -3.1770     1.9122 O             1 RES     \\n     296 O            0.7025    -9.8140     1.9132 O             1 RES     \\n     297 O           -0.6415     6.1370     1.7932 O             1 RES     \\n     298 O            9.9295    -5.8050     1.7952 O             1 RES     \\n     299 O            0.1155    -7.1860     1.7932 O             1 RES     \\n     300 O           -2.7675    -0.1150     1.8362 O             1 RES     \\n     301 O            7.8045     0.4470     1.8382 O             1 RES     \\n     302 O            2.2415   -13.4380     1.8372 O             1 RES     \\n     303 O           -3.6055     3.7510     1.9202 O             1 RES     \\n     304 O            6.9665    -3.4180     1.9162 O             1 RES     \\n     305 O            3.0795    -9.5730     1.9202 O             1 RES     \\n     306 O           -3.6275     6.3890     1.7312 O             1 RES     \\n     307 O            6.9435    -6.0570     1.7312 O             1 RES     \\n     308 O            3.1015    -6.9340     1.7312 O             1 RES     \\n     309 O           -2.1555    -5.3500     1.7512 O             1 RES     \\n     310 O            8.4175     5.6820     1.7522 O             1 RES     \\n     311 O            1.6295     7.9730     1.7512 O             1 RES     \\n     312 O           -4.4425    -2.2790     1.8472 O             1 RES     \\n     313 O            6.1295     2.6110     1.8462 O             1 RES     \\n     314 O            3.9165    11.0450     1.8472 O             1 RES     \\n     315 O           -4.4995     1.5520     2.0272 O             1 RES     \\n     316 O            6.0725    -1.2190     2.0262 O             1 RES     \\n     317 O            3.9745   -11.7720     2.0272 O             1 RES     \\n     318 O           -8.7745    -1.1190     1.8852 O             1 RES     \\n     319 O            1.7975     1.4500     1.8822 O             1 RES     \\n     320 O            8.0365    12.3030     1.8762 O             1 RES     \\n@<TRIPOS>BOND\\n@<TRIPOS>SUBSTRUCTURE\\n       1 RES             1 RESIDUE    0 **** ROOT      0\\n\",\"mol2\");\n\tviewer_15974255044218364.setStyle({\"stick\": {\"radius\": 0.2, \"color\": \"grey\"}, \"sphere\": {\"scale\": 0.3, \"colorscheme\": {\"O\": \"red\", \"Te\": \"black\", \"V\": \"black\", \"Nb\": \"black\", \"Mo\": \"black\"}}});\n\tviewer_15974255044218364.zoomTo();\nviewer_15974255044218364.render();\n});\n</script>",
      "text/html": [
       "<div id=\"3dmolviewer_15974255044218364\"  style=\"position: relative; width: 640px; height: 480px\">\n",
       "        <p id=\"3dmolwarning_15974255044218364\" style=\"background-color:#ffcccc;color:black\">You appear to be running in JupyterLab (or JavaScript failed to load for some other reason).  You need to install the 3dmol extension: <br>\n",
       "        <tt>jupyter labextension install jupyterlab_3dmol</tt></p>\n",
       "        </div>\n",
       "<script>\n",
       "\n",
       "var loadScriptAsync = function(uri){\n",
       "  return new Promise((resolve, reject) => {\n",
       "    var tag = document.createElement('script');\n",
       "    tag.src = uri;\n",
       "    tag.async = true;\n",
       "    tag.onload = () => {\n",
       "      resolve();\n",
       "    };\n",
       "  var firstScriptTag = document.getElementsByTagName('script')[0];\n",
       "  firstScriptTag.parentNode.insertBefore(tag, firstScriptTag);\n",
       "});\n",
       "};\n",
       "\n",
       "if(typeof $3Dmolpromise === 'undefined') {\n",
       "$3Dmolpromise = null;\n",
       "  $3Dmolpromise = loadScriptAsync('https://3dmol.csb.pitt.edu/build/3Dmol.js');\n",
       "}\n",
       "\n",
       "var viewer_15974255044218364 = null;\n",
       "var warn = document.getElementById(\"3dmolwarning_15974255044218364\");\n",
       "if(warn) {\n",
       "    warn.parentNode.removeChild(warn);\n",
       "}\n",
       "$3Dmolpromise.then(function() {\n",
       "viewer_15974255044218364 = $3Dmol.createViewer($(\"#3dmolviewer_15974255044218364\"),{backgroundColor:\"white\"});\n",
       "\tviewer_15974255044218364.addModel(\"@<TRIPOS>MOLECULE\\nRES\\n320 0 1 0 1\\nSMALL\\nNO_CHARGES\\n@<TRIPOS>CRYSIN\\n   20.9710    26.5140    14.0000    90.0000    90.0000    90.0000  1  1\\n@<TRIPOS>ATOM\\n       1 Nb          -5.5485     6.8270    -2.6820 Nb            1 RES     \\n       2 Mo          -3.0915    12.9990    -2.6180 Mo            1 RES     \\n       3 Mo          -1.8165    -7.1840    -2.6520 Mo            1 RES     \\n       4 Mo          -1.0425   -10.6900    -1.5350 Mo            1 RES     \\n       5 V            0.4285    12.4550    -1.5720 V             1 RES     \\n       6 Nb           2.5375     9.6000    -2.6580 Nb            1 RES     \\n       7 Mo           4.0985    12.8910    -1.5350 Mo            1 RES     \\n       8 Mo          -5.5405    10.3850    -1.5890 Mo            1 RES     \\n       9 Mo           1.7235    -8.0460    -1.7250 Mo            1 RES     \\n      10 Nb           5.0225    -6.4960    -2.6820 Nb            1 RES     \\n      11 Mo          -8.0065     0.6540    -2.6160 Mo            1 RES     \\n      12 Mo           2.5655    -0.3240    -2.6180 Mo            1 RES     \\n      13 Mo           7.4805   -12.6690    -2.6160 Mo            1 RES     \\n      14 V           -9.2835    -5.8090    -2.6500 V             1 RES     \\n      15 Mo           1.2895     6.1400    -2.6520 Mo            1 RES     \\n      16 Mo           8.7575     7.5150    -2.6500 Mo            1 RES     \\n      17 Mo         -10.0565    -2.3020    -1.5340 Mo            1 RES     \\n      18 V            0.5165     2.6340    -1.5350 V             1 RES     \\n      19 Te           9.5305    11.0210    -1.5330 Te            1 RES     \\n      20 Mo           9.6175     1.2010    -1.5720 Mo            1 RES     \\n      21 Nb          -0.9545    -0.8690    -1.5730 Nb            1 RES     \\n      22 Mo         -10.1435   -12.1230    -1.5710 Mo            1 RES     \\n      23 Mo           7.5095     4.0550    -2.6580 Mo            1 RES     \\n      24 V           -3.0635    -3.7230    -2.6580 V             1 RES     \\n      25 Mo          -8.0345    -9.2680    -2.6570 Mo            1 RES     \\n      26 V            5.9475     0.7650    -1.5350 V             1 RES     \\n      27 Mo          -4.6235    -0.4330    -1.5350 Mo            1 RES     \\n      28 Te          -6.4735   -12.5590    -1.5350 Te            1 RES     \\n      29 Mo          -5.5585     3.2700    -1.5890 Mo            1 RES     \\n      30 Mo           5.0145    -2.9390    -1.5900 Mo            1 RES     \\n      31 V            5.0325   -10.0530    -1.5890 V             1 RES     \\n      32 Mo           8.3205    -4.9450    -1.7260 Mo            1 RES     \\n      33 Mo          -2.2505     5.2780    -1.7250 Mo            1 RES     \\n      34 Mo          -8.8465     8.3780    -1.7250 Mo            1 RES     \\n      35 Nb           2.0555   -11.3340    -2.5710 Nb            1 RES     \\n      36 Mo           7.9905    -1.6560    -2.5720 Mo            1 RES     \\n      37 Mo          -2.5815     1.9890    -2.5710 Mo            1 RES     \\n      38 Mo          -8.5165    11.6670    -2.5710 Mo            1 RES     \\n      39 Mo           5.9955     9.8950    -2.0710 Mo            1 RES     \\n      40 Mo           4.0505     3.7600    -2.0720 Mo            1 RES     \\n      41 Mo          -6.5225    -3.4290    -2.0720 Mo            1 RES     \\n      42 Mo          -4.5765    -9.5640    -2.0720 Mo            1 RES     \\n      43 Mo          -5.5485    -6.4960    -1.6060 Mo            1 RES     \\n      44 Mo           5.0235     6.8270    -1.6070 Mo            1 RES     \\n      45 O           -5.5485     6.8270    -4.3540 O             1 RES     \\n      46 O           -5.5485    -6.4960     0.0620 O             1 RES     \\n      47 O           -3.1025    12.9740    -4.2910 O             1 RES     \\n      48 O           -1.8095    -7.2450    -4.3230 O             1 RES     \\n      49 O           -1.0445   -10.6990     0.1440 O             1 RES     \\n      50 O            0.4545    12.4640     0.1060 O             1 RES     \\n      51 O            2.4945     9.6800    -4.3280 O             1 RES     \\n      52 O            4.0555    12.8630     0.1420 O             1 RES     \\n      53 O            2.0595   -11.3350    -4.2820 O             1 RES     \\n      54 O           -5.5285    10.3580     0.0890 O             1 RES     \\n      55 O            1.7395    -7.9670    -0.0490 O             1 RES     \\n      56 O            6.1365    10.0920    -0.2510 O             1 RES     \\n      57 O            5.4365    -8.3140    -2.1100 O             1 RES     \\n      58 O            6.5585   -10.9960    -2.0940 O             1 RES     \\n      59 O           -4.7185   -12.7440    -2.0750 O             1 RES     \\n      60 O            6.6975     7.7810    -2.2040 O             1 RES     \\n      61 O            9.2235   -11.9410    -2.0810 O             1 RES     \\n      62 O           10.8275    12.5080    -1.9760 O             1 RES     \\n      63 O            8.7185     9.4030    -2.0690 O             1 RES     \\n      64 O           -6.2995    -8.2440    -2.2190 O             1 RES     \\n      65 O           -9.4285   -10.4500    -2.0470 O             1 RES     \\n      66 O           -9.8685    10.1460    -2.0910 O             1 RES     \\n      67 O           10.6885     7.5180    -2.2080 O             1 RES     \\n      68 O           -8.3305   -12.8760    -2.1650 O             1 RES     \\n      69 O           -7.4925     9.9050    -2.0860 O             1 RES     \\n      70 O           -7.4695     7.2660    -2.2720 O             1 RES     \\n      71 O           -8.9435    -7.6420    -2.2510 O             1 RES     \\n      72 O           -6.6555   -10.7130    -2.1560 O             1 RES     \\n      73 O           -6.5975    12.1040    -1.9760 O             1 RES     \\n      74 O           -2.3235   -11.8730    -2.1210 O             1 RES     \\n      75 O            5.0225    -6.4960    -4.3540 O             1 RES     \\n      76 O            5.0235     6.8270     0.0620 O             1 RES     \\n      77 O           -7.9945     0.6780    -4.2900 O             1 RES     \\n      78 O            2.5775    -0.3480    -4.2920 O             1 RES     \\n      79 O            7.4695   -12.6460    -4.2900 O             1 RES     \\n      80 O           -9.2905    -5.7480    -4.3210 O             1 RES     \\n      81 O            1.2835     6.0790    -4.3230 O             1 RES     \\n      82 O            8.7645     7.5760    -4.3210 O             1 RES     \\n      83 O          -10.0565    -2.2930     0.1450 O             1 RES     \\n      84 O            0.5175     2.6240     0.1440 O             1 RES     \\n      85 O            9.5305    11.0300     0.1460 O             1 RES     \\n      86 O            9.5915     1.1900     0.1060 O             1 RES     \\n      87 O           -0.9805    -0.8590     0.1050 O             1 RES     \\n      88 O          -10.1175   -12.1330     0.1060 O             1 RES     \\n      89 O            7.5535     3.9770    -4.3280 O             1 RES     \\n      90 O           -3.0205    -3.6440    -4.3280 O             1 RES     \\n      91 O           -8.0795    -9.3470    -4.3280 O             1 RES     \\n      92 O            5.9885     0.7930     0.1410 O             1 RES     \\n      93 O           -4.5805    -0.4610     0.1410 O             1 RES     \\n      94 O           -6.5135   -12.5300     0.1410 O             1 RES     \\n      95 O            7.9865    -1.6540    -4.2830 O             1 RES     \\n      96 O           -2.5865     1.9880    -4.2820 O             1 RES     \\n      97 O           -8.5125    11.6700    -4.2830 O             1 RES     \\n      98 O           -5.5715     3.2970     0.0890 O             1 RES     \\n      99 O            5.0025    -2.9650     0.0880 O             1 RES     \\n     100 O            5.0455   -10.0260     0.0890 O             1 RES     \\n     101 O            8.3035    -5.0210    -0.0500 O             1 RES     \\n     102 O           -2.2655     5.3560    -0.0490 O             1 RES     \\n     103 O           -8.8305     8.3010    -0.0490 O             1 RES     \\n     104 O            3.9095     3.5620    -0.2530 O             1 RES     \\n     105 O           -6.6625    -3.2320    -0.2520 O             1 RES     \\n     106 O           -4.4355    -9.7610    -0.2520 O             1 RES     \\n     107 O            4.6095    -4.6770    -2.1100 O             1 RES     \\n     108 O           -5.9625     5.0090    -2.1100 O             1 RES     \\n     109 O           -5.1355     8.6460    -2.1100 O             1 RES     \\n     110 O            3.4875    -1.9960    -2.0930 O             1 RES     \\n     111 O           -7.0845     2.3270    -2.0940 O             1 RES     \\n     112 O           -4.0135    11.3270    -2.0930 O             1 RES     \\n     113 O           -6.3785    -0.2480    -2.0730 O             1 RES     \\n     114 O            4.1935     0.5800    -2.0750 O             1 RES     \\n     115 O            5.8525    13.0760    -2.0730 O             1 RES     \\n     116 O            3.3485     5.8730    -2.2050 O             1 RES     \\n     117 O           -7.2235    -5.5420    -2.2040 O             1 RES     \\n     118 O           -3.8745    -7.4500    -2.2050 O             1 RES     \\n     119 O            0.8225    -1.0500    -2.0830 O             1 RES     \\n     120 O           -9.7485     1.3820    -2.0810 O             1 RES     \\n     121 O           -1.3485    12.2730    -2.0820 O             1 RES     \\n     122 O           -0.7815     1.1480    -1.9770 O             1 RES     \\n     123 O            9.7905    -0.8150    -1.9770 O             1 RES     \\n     124 O            0.2555   -12.1760    -1.9760 O             1 RES     \\n     125 O            1.3275     4.2520    -2.0710 O             1 RES     \\n     126 O           -9.2445    -3.9210    -2.0690 O             1 RES     \\n     127 O           -1.8545    -9.0710    -2.0710 O             1 RES     \\n     128 O           -4.7995    -4.7480    -2.2200 O             1 RES     \\n     129 O            5.7735     5.0800    -2.2200 O             1 RES     \\n     130 O            4.2735     8.5750    -2.2190 O             1 RES     \\n     131 O           -1.6695    -2.5410    -2.0490 O             1 RES     \\n     132 O            8.9025     2.8730    -2.0470 O             1 RES     \\n     133 O            1.1435    10.7820    -2.0480 O             1 RES     \\n     134 O           -1.2285     3.5100    -2.0900 O             1 RES     \\n     135 O            9.3425    -3.1770    -2.0910 O             1 RES     \\n     136 O            0.7025    -9.8140    -2.0900 O             1 RES     \\n     137 O           -0.6415     6.1370    -2.2100 O             1 RES     \\n     138 O            9.9295    -5.8050    -2.2080 O             1 RES     \\n     139 O            0.1155    -7.1860    -2.2100 O             1 RES     \\n     140 O           -2.7675    -0.1150    -2.1670 O             1 RES     \\n     141 O            7.8045     0.4470    -2.1650 O             1 RES     \\n     142 O            2.2415   -13.4380    -2.1660 O             1 RES     \\n     143 O           -3.6055     3.7510    -2.0830 O             1 RES     \\n     144 O            6.9665    -3.4180    -2.0870 O             1 RES     \\n     145 O            3.0795    -9.5730    -2.0830 O             1 RES     \\n     146 O           -3.6275     6.3890    -2.2720 O             1 RES     \\n     147 O            6.9435    -6.0570    -2.2720 O             1 RES     \\n     148 O            3.1015    -6.9340    -2.2720 O             1 RES     \\n     149 O           -2.1555    -5.3500    -2.2520 O             1 RES     \\n     150 O            8.4175     5.6820    -2.2510 O             1 RES     \\n     151 O            1.6295     7.9730    -2.2520 O             1 RES     \\n     152 O           -4.4425    -2.2790    -2.1560 O             1 RES     \\n     153 O            6.1295     2.6110    -2.1570 O             1 RES     \\n     154 O            3.9165    11.0450    -2.1560 O             1 RES     \\n     155 O           -4.4995     1.5520    -1.9760 O             1 RES     \\n     156 O            6.0725    -1.2190    -1.9770 O             1 RES     \\n     157 O            3.9745   -11.7720    -1.9760 O             1 RES     \\n     158 O           -8.7745    -1.1190    -2.1180 O             1 RES     \\n     159 O            1.7975     1.4500    -2.1210 O             1 RES     \\n     160 O            8.0365    12.3030    -2.1270 O             1 RES     \\n     161 Mo          -5.5485     6.8270     1.3212 Mo            1 RES     \\n     162 Mo          -3.0915    12.9990     1.3852 Mo            1 RES     \\n     163 Mo          -1.8165    -7.1840     1.3512 Mo            1 RES     \\n     164 Mo          -1.0425   -10.6900     2.4682 Mo            1 RES     \\n     165 Mo           0.4285    12.4550     2.4312 Mo            1 RES     \\n     166 Mo           2.5375     9.6000     1.3452 Mo            1 RES     \\n     167 Mo           4.0985    12.8910     2.4682 Mo            1 RES     \\n     168 Mo          -5.5405    10.3850     2.4142 Mo            1 RES     \\n     169 Te           1.7235    -8.0460     2.2782 Te            1 RES     \\n     170 Mo           5.0225    -6.4960     1.3212 Mo            1 RES     \\n     171 V           -8.0065     0.6540     1.3872 V             1 RES     \\n     172 Te           2.5655    -0.3240     1.3852 Te            1 RES     \\n     173 Mo           7.4805   -12.6690     1.3872 Mo            1 RES     \\n     174 Mo          -9.2835    -5.8090     1.3532 Mo            1 RES     \\n     175 Mo           1.2895     6.1400     1.3512 Mo            1 RES     \\n     176 Mo           8.7575     7.5150     1.3532 Mo            1 RES     \\n     177 Mo         -10.0565    -2.3020     2.4692 Mo            1 RES     \\n     178 Mo           0.5165     2.6340     2.4682 Mo            1 RES     \\n     179 Te           9.5305    11.0210     2.4702 Te            1 RES     \\n     180 Mo           9.6175     1.2010     2.4312 Mo            1 RES     \\n     181 Nb          -0.9545    -0.8690     2.4302 Nb            1 RES     \\n     182 Nb         -10.1435   -12.1230     2.4322 Nb            1 RES     \\n     183 Nb           7.5095     4.0550     1.3452 Nb            1 RES     \\n     184 Mo          -3.0635    -3.7230     1.3452 Mo            1 RES     \\n     185 V           -8.0345    -9.2680     1.3462 V             1 RES     \\n     186 Mo           5.9475     0.7650     2.4682 Mo            1 RES     \\n     187 Mo          -4.6235    -0.4330     2.4682 Mo            1 RES     \\n     188 V           -6.4735   -12.5590     2.4682 V             1 RES     \\n     189 Mo          -5.5585     3.2700     2.4142 Mo            1 RES     \\n     190 Mo           5.0145    -2.9390     2.4132 Mo            1 RES     \\n     191 Mo           5.0325   -10.0530     2.4142 Mo            1 RES     \\n     192 Mo           8.3205    -4.9450     2.2772 Mo            1 RES     \\n     193 Mo          -2.2505     5.2780     2.2782 Mo            1 RES     \\n     194 Mo          -8.8465     8.3780     2.2782 Mo            1 RES     \\n     195 Mo           2.0555   -11.3340     1.4322 Mo            1 RES     \\n     196 Mo           7.9905    -1.6560     1.4312 Mo            1 RES     \\n     197 Te          -2.5815     1.9890     1.4322 Te            1 RES     \\n     198 Mo          -8.5165    11.6670     1.4322 Mo            1 RES     \\n     199 Mo           5.9955     9.8950     1.9322 Mo            1 RES     \\n     200 Mo           4.0505     3.7600     1.9312 Mo            1 RES     \\n     201 Mo          -6.5225    -3.4290     1.9312 Mo            1 RES     \\n     202 Mo          -4.5765    -9.5640     1.9312 Mo            1 RES     \\n     203 Mo          -5.5485    -6.4960     2.3972 Mo            1 RES     \\n     204 Mo           5.0235     6.8270     2.3962 Mo            1 RES     \\n     205 O           -5.5485     6.8270    -0.3508 O             1 RES     \\n     206 O           -5.5485    -6.4960     4.0652 O             1 RES     \\n     207 O           -3.1025    12.9740    -0.2878 O             1 RES     \\n     208 O           -1.8095    -7.2450    -0.3198 O             1 RES     \\n     209 O           -1.0445   -10.6990     4.1472 O             1 RES     \\n     210 O            0.4545    12.4640     4.1092 O             1 RES     \\n     211 O            2.4945     9.6800    -0.3248 O             1 RES     \\n     212 O            4.0555    12.8630     4.1452 O             1 RES     \\n     213 O            2.0595   -11.3350    -0.2788 O             1 RES     \\n     214 O           -5.5285    10.3580     4.0922 O             1 RES     \\n     215 O            1.7395    -7.9670     3.9542 O             1 RES     \\n     216 O            6.1365    10.0920     3.7522 O             1 RES     \\n     217 O            5.4365    -8.3140     1.8932 O             1 RES     \\n     218 O            6.5585   -10.9960     1.9092 O             1 RES     \\n     219 O           -4.7185   -12.7440     1.9282 O             1 RES     \\n     220 O            6.6975     7.7810     1.7992 O             1 RES     \\n     221 O            9.2235   -11.9410     1.9222 O             1 RES     \\n     222 O           10.8275    12.5080     2.0272 O             1 RES     \\n     223 O            8.7185     9.4030     1.9342 O             1 RES     \\n     224 O           -6.2995    -8.2440     1.7842 O             1 RES     \\n     225 O           -9.4285   -10.4500     1.9562 O             1 RES     \\n     226 O           -9.8685    10.1460     1.9122 O             1 RES     \\n     227 O           10.6885     7.5180     1.7952 O             1 RES     \\n     228 O           -8.3305   -12.8760     1.8382 O             1 RES     \\n     229 O           -7.4925     9.9050     1.9172 O             1 RES     \\n     230 O           -7.4695     7.2660     1.7312 O             1 RES     \\n     231 O           -8.9435    -7.6420     1.7522 O             1 RES     \\n     232 O           -6.6555   -10.7130     1.8472 O             1 RES     \\n     233 O           -6.5975    12.1040     2.0272 O             1 RES     \\n     234 O           -2.3235   -11.8730     1.8822 O             1 RES     \\n     235 O            5.0225    -6.4960    -0.3508 O             1 RES     \\n     236 O            5.0235     6.8270     4.0652 O             1 RES     \\n     237 O           -7.9945     0.6780    -0.2868 O             1 RES     \\n     238 O            2.5775    -0.3480    -0.2888 O             1 RES     \\n     239 O            7.4695   -12.6460    -0.2868 O             1 RES     \\n     240 O           -9.2905    -5.7480    -0.3178 O             1 RES     \\n     241 O            1.2835     6.0790    -0.3198 O             1 RES     \\n     242 O            8.7645     7.5760    -0.3178 O             1 RES     \\n     243 O          -10.0565    -2.2930     4.1482 O             1 RES     \\n     244 O            0.5175     2.6240     4.1472 O             1 RES     \\n     245 O            9.5305    11.0300     4.1492 O             1 RES     \\n     246 O            9.5915     1.1900     4.1092 O             1 RES     \\n     247 O           -0.9805    -0.8590     4.1082 O             1 RES     \\n     248 O          -10.1175   -12.1330     4.1092 O             1 RES     \\n     249 O            7.5535     3.9770    -0.3248 O             1 RES     \\n     250 O           -3.0205    -3.6440    -0.3248 O             1 RES     \\n     251 O           -8.0795    -9.3470    -0.3248 O             1 RES     \\n     252 O            5.9885     0.7930     4.1442 O             1 RES     \\n     253 O           -4.5805    -0.4610     4.1442 O             1 RES     \\n     254 O           -6.5135   -12.5300     4.1442 O             1 RES     \\n     255 O            7.9865    -1.6540    -0.2798 O             1 RES     \\n     256 O           -2.5865     1.9880    -0.2788 O             1 RES     \\n     257 O           -8.5125    11.6700    -0.2798 O             1 RES     \\n     258 O           -5.5715     3.2970     4.0922 O             1 RES     \\n     259 O            5.0025    -2.9650     4.0912 O             1 RES     \\n     260 O            5.0455   -10.0260     4.0922 O             1 RES     \\n     261 O            8.3035    -5.0210     3.9532 O             1 RES     \\n     262 O           -2.2655     5.3560     3.9542 O             1 RES     \\n     263 O           -8.8305     8.3010     3.9542 O             1 RES     \\n     264 O            3.9095     3.5620     3.7502 O             1 RES     \\n     265 O           -6.6625    -3.2320     3.7512 O             1 RES     \\n     266 O           -4.4355    -9.7610     3.7512 O             1 RES     \\n     267 O            4.6095    -4.6770     1.8932 O             1 RES     \\n     268 O           -5.9625     5.0090     1.8932 O             1 RES     \\n     269 O           -5.1355     8.6460     1.8932 O             1 RES     \\n     270 O            3.4875    -1.9960     1.9102 O             1 RES     \\n     271 O           -7.0845     2.3270     1.9092 O             1 RES     \\n     272 O           -4.0135    11.3270     1.9102 O             1 RES     \\n     273 O           -6.3785    -0.2480     1.9302 O             1 RES     \\n     274 O            4.1935     0.5800     1.9282 O             1 RES     \\n     275 O            5.8525    13.0760     1.9302 O             1 RES     \\n     276 O            3.3485     5.8730     1.7982 O             1 RES     \\n     277 O           -7.2235    -5.5420     1.7992 O             1 RES     \\n     278 O           -3.8745    -7.4500     1.7982 O             1 RES     \\n     279 O            0.8225    -1.0500     1.9202 O             1 RES     \\n     280 O           -9.7485     1.3820     1.9222 O             1 RES     \\n     281 O           -1.3485    12.2730     1.9212 O             1 RES     \\n     282 O           -0.7815     1.1480     2.0262 O             1 RES     \\n     283 O            9.7905    -0.8150     2.0262 O             1 RES     \\n     284 O            0.2555   -12.1760     2.0272 O             1 RES     \\n     285 O            1.3275     4.2520     1.9322 O             1 RES     \\n     286 O           -9.2445    -3.9210     1.9342 O             1 RES     \\n     287 O           -1.8545    -9.0710     1.9322 O             1 RES     \\n     288 O           -4.7995    -4.7480     1.7832 O             1 RES     \\n     289 O            5.7735     5.0800     1.7832 O             1 RES     \\n     290 O            4.2735     8.5750     1.7842 O             1 RES     \\n     291 O           -1.6695    -2.5410     1.9542 O             1 RES     \\n     292 O            8.9025     2.8730     1.9562 O             1 RES     \\n     293 O            1.1435    10.7820     1.9552 O             1 RES     \\n     294 O           -1.2285     3.5100     1.9132 O             1 RES     \\n     295 O            9.3425    -3.1770     1.9122 O             1 RES     \\n     296 O            0.7025    -9.8140     1.9132 O             1 RES     \\n     297 O           -0.6415     6.1370     1.7932 O             1 RES     \\n     298 O            9.9295    -5.8050     1.7952 O             1 RES     \\n     299 O            0.1155    -7.1860     1.7932 O             1 RES     \\n     300 O           -2.7675    -0.1150     1.8362 O             1 RES     \\n     301 O            7.8045     0.4470     1.8382 O             1 RES     \\n     302 O            2.2415   -13.4380     1.8372 O             1 RES     \\n     303 O           -3.6055     3.7510     1.9202 O             1 RES     \\n     304 O            6.9665    -3.4180     1.9162 O             1 RES     \\n     305 O            3.0795    -9.5730     1.9202 O             1 RES     \\n     306 O           -3.6275     6.3890     1.7312 O             1 RES     \\n     307 O            6.9435    -6.0570     1.7312 O             1 RES     \\n     308 O            3.1015    -6.9340     1.7312 O             1 RES     \\n     309 O           -2.1555    -5.3500     1.7512 O             1 RES     \\n     310 O            8.4175     5.6820     1.7522 O             1 RES     \\n     311 O            1.6295     7.9730     1.7512 O             1 RES     \\n     312 O           -4.4425    -2.2790     1.8472 O             1 RES     \\n     313 O            6.1295     2.6110     1.8462 O             1 RES     \\n     314 O            3.9165    11.0450     1.8472 O             1 RES     \\n     315 O           -4.4995     1.5520     2.0272 O             1 RES     \\n     316 O            6.0725    -1.2190     2.0262 O             1 RES     \\n     317 O            3.9745   -11.7720     2.0272 O             1 RES     \\n     318 O           -8.7745    -1.1190     1.8852 O             1 RES     \\n     319 O            1.7975     1.4500     1.8822 O             1 RES     \\n     320 O            8.0365    12.3030     1.8762 O             1 RES     \\n@<TRIPOS>BOND\\n@<TRIPOS>SUBSTRUCTURE\\n       1 RES             1 RESIDUE    0 **** ROOT      0\\n\",\"mol2\");\n",
       "\tviewer_15974255044218364.setStyle({\"stick\": {\"radius\": 0.2, \"color\": \"grey\"}, \"sphere\": {\"scale\": 0.3, \"colorscheme\": {\"O\": \"red\", \"Te\": \"black\", \"V\": \"black\", \"Nb\": \"black\", \"Mo\": \"black\"}}});\n",
       "\tviewer_15974255044218364.zoomTo();\n",
       "viewer_15974255044218364.render();\n",
       "});\n",
       "</script>"
      ]
     },
     "metadata": {},
     "output_type": "display_data"
    },
    {
     "data": {
      "text/plain": [
       "<py3Dmol.view at 0x7f5bd2f3f150>"
      ]
     },
     "execution_count": 7,
     "metadata": {},
     "output_type": "execute_result"
    }
   ],
   "source": [
    "surface = gen_system(dims=[1, 1, 2]) \n",
    "surface.periodicity = surface.periodicity + np.array([0,0,1.4-0.85032099]) # So that z = 1.4Angstrom\n",
    "surface.translate_to([0,0,0]) # Centering\n",
    "surface.visualize(show_ports=True, color_scheme={'O' : 'red',\n",
    "                                                 'Te': 'black',\n",
    "                                                 'V' : 'black',\n",
    "                                                 'Nb': 'black',\n",
    "                                                 'Mo': 'black'})"
   ]
  },
  {
   "cell_type": "markdown",
   "metadata": {},
   "source": [
    "<a id=\"Ethane\"></a>\n",
    "## Make Ethane & Visualize"
   ]
  },
  {
   "cell_type": "code",
   "execution_count": 8,
   "metadata": {},
   "outputs": [
    {
     "data": {
      "application/3dmoljs_load.v0": "<div id=\"3dmolviewer_15974255116178842\"  style=\"position: relative; width: 640px; height: 480px\">\n        <p id=\"3dmolwarning_15974255116178842\" style=\"background-color:#ffcccc;color:black\">You appear to be running in JupyterLab (or JavaScript failed to load for some other reason).  You need to install the 3dmol extension: <br>\n        <tt>jupyter labextension install jupyterlab_3dmol</tt></p>\n        </div>\n<script>\n\nvar loadScriptAsync = function(uri){\n  return new Promise((resolve, reject) => {\n    var tag = document.createElement('script');\n    tag.src = uri;\n    tag.async = true;\n    tag.onload = () => {\n      resolve();\n    };\n  var firstScriptTag = document.getElementsByTagName('script')[0];\n  firstScriptTag.parentNode.insertBefore(tag, firstScriptTag);\n});\n};\n\nif(typeof $3Dmolpromise === 'undefined') {\n$3Dmolpromise = null;\n  $3Dmolpromise = loadScriptAsync('https://3dmol.csb.pitt.edu/build/3Dmol.js');\n}\n\nvar viewer_15974255116178842 = null;\nvar warn = document.getElementById(\"3dmolwarning_15974255116178842\");\nif(warn) {\n    warn.parentNode.removeChild(warn);\n}\n$3Dmolpromise.then(function() {\nviewer_15974255116178842 = $3Dmol.createViewer($(\"#3dmolviewer_15974255116178842\"),{backgroundColor:\"white\"});\n\tviewer_15974255116178842.addModel(\"@<TRIPOS>MOLECULE\\nRES\\n8 7 1 0 1\\nSMALL\\nNO_CHARGES\\n@<TRIPOS>CRYSIN\\n    7.2807     7.0127     6.9343    90.0000    90.0000    90.0000  1  1\\n@<TRIPOS>ATOM\\n       1 C            1.1003     0.0252    -0.0092 C             1 RES     \\n       2 C            2.6123     0.0252    -0.0092 C             1 RES     \\n       3 H            0.7160     0.6941     0.7666 H             1 RES     \\n       4 H            0.7160    -0.9811     0.1821 H             1 RES     \\n       5 H            0.7160     0.3627    -0.9764 H             1 RES     \\n       6 H            2.9967    -0.3122     0.9580 H             1 RES     \\n       7 H            2.9967     1.0316    -0.2006 H             1 RES     \\n       8 H            2.9967    -0.6436    -0.7851 H             1 RES     \\n@<TRIPOS>BOND\\n       1        8        2 1\\n       2        7        2 1\\n       3        5        1 1\\n       4        1        3 1\\n       5        1        4 1\\n       6        1        2 1\\n       7        6        2 1\\n@<TRIPOS>SUBSTRUCTURE\\n       1 RES             1 RESIDUE    0 **** ROOT      0\\n\",\"mol2\");\n\tviewer_15974255116178842.setStyle({\"stick\": {\"radius\": 0.2, \"color\": \"grey\"}, \"sphere\": {\"scale\": 0.3, \"colorscheme\": {}}});\n\tviewer_15974255116178842.zoomTo();\nviewer_15974255116178842.render();\n});\n</script>",
      "text/html": [
       "<div id=\"3dmolviewer_15974255116178842\"  style=\"position: relative; width: 640px; height: 480px\">\n",
       "        <p id=\"3dmolwarning_15974255116178842\" style=\"background-color:#ffcccc;color:black\">You appear to be running in JupyterLab (or JavaScript failed to load for some other reason).  You need to install the 3dmol extension: <br>\n",
       "        <tt>jupyter labextension install jupyterlab_3dmol</tt></p>\n",
       "        </div>\n",
       "<script>\n",
       "\n",
       "var loadScriptAsync = function(uri){\n",
       "  return new Promise((resolve, reject) => {\n",
       "    var tag = document.createElement('script');\n",
       "    tag.src = uri;\n",
       "    tag.async = true;\n",
       "    tag.onload = () => {\n",
       "      resolve();\n",
       "    };\n",
       "  var firstScriptTag = document.getElementsByTagName('script')[0];\n",
       "  firstScriptTag.parentNode.insertBefore(tag, firstScriptTag);\n",
       "});\n",
       "};\n",
       "\n",
       "if(typeof $3Dmolpromise === 'undefined') {\n",
       "$3Dmolpromise = null;\n",
       "  $3Dmolpromise = loadScriptAsync('https://3dmol.csb.pitt.edu/build/3Dmol.js');\n",
       "}\n",
       "\n",
       "var viewer_15974255116178842 = null;\n",
       "var warn = document.getElementById(\"3dmolwarning_15974255116178842\");\n",
       "if(warn) {\n",
       "    warn.parentNode.removeChild(warn);\n",
       "}\n",
       "$3Dmolpromise.then(function() {\n",
       "viewer_15974255116178842 = $3Dmol.createViewer($(\"#3dmolviewer_15974255116178842\"),{backgroundColor:\"white\"});\n",
       "\tviewer_15974255116178842.addModel(\"@<TRIPOS>MOLECULE\\nRES\\n8 7 1 0 1\\nSMALL\\nNO_CHARGES\\n@<TRIPOS>CRYSIN\\n    7.2807     7.0127     6.9343    90.0000    90.0000    90.0000  1  1\\n@<TRIPOS>ATOM\\n       1 C            1.1003     0.0252    -0.0092 C             1 RES     \\n       2 C            2.6123     0.0252    -0.0092 C             1 RES     \\n       3 H            0.7160     0.6941     0.7666 H             1 RES     \\n       4 H            0.7160    -0.9811     0.1821 H             1 RES     \\n       5 H            0.7160     0.3627    -0.9764 H             1 RES     \\n       6 H            2.9967    -0.3122     0.9580 H             1 RES     \\n       7 H            2.9967     1.0316    -0.2006 H             1 RES     \\n       8 H            2.9967    -0.6436    -0.7851 H             1 RES     \\n@<TRIPOS>BOND\\n       1        8        2 1\\n       2        7        2 1\\n       3        5        1 1\\n       4        1        3 1\\n       5        1        4 1\\n       6        1        2 1\\n       7        6        2 1\\n@<TRIPOS>SUBSTRUCTURE\\n       1 RES             1 RESIDUE    0 **** ROOT      0\\n\",\"mol2\");\n",
       "\tviewer_15974255116178842.setStyle({\"stick\": {\"radius\": 0.2, \"color\": \"grey\"}, \"sphere\": {\"scale\": 0.3, \"colorscheme\": {}}});\n",
       "\tviewer_15974255116178842.zoomTo();\n",
       "viewer_15974255116178842.render();\n",
       "});\n",
       "</script>"
      ]
     },
     "metadata": {},
     "output_type": "display_data"
    }
   ],
   "source": [
    "ethane = mb.load(\"CC\", smiles=True)\n",
    "ethane.visualize().show()"
   ]
  },
  {
   "cell_type": "markdown",
   "metadata": {},
   "source": [
    "<a id=\"Forcefields\"></a>\n",
    "## Apply Forcefields and Generate Simulation Box"
   ]
  },
  {
   "cell_type": "code",
   "execution_count": 9,
   "metadata": {},
   "outputs": [
    {
     "name": "stderr",
     "output_type": "stream",
     "text": [
      "/home/nealeellyson/miniconda3/envs/moscas/lib/python3.7/site-packages/foyer/forcefield.py:449: UserWarning: No force field version number found in force field XML file.\n",
      "  'No force field version number found in force field XML file.'\n",
      "/home/nealeellyson/miniconda3/envs/moscas/lib/python3.7/site-packages/foyer/forcefield.py:461: UserWarning: No force field name found in force field XML file.\n",
      "  'No force field name found in force field XML file.'\n",
      "/home/nealeellyson/miniconda3/envs/moscas/lib/python3.7/site-packages/foyer/validator.py:132: ValidationWarning: You have empty smart definition(s)\n",
      "  warn(\"You have empty smart definition(s)\", ValidationWarning)\n",
      "/home/nealeellyson/miniconda3/envs/moscas/lib/python3.7/site-packages/parmed/openmm/topsystem.py:238: OpenMMWarning: Adding what seems to be Urey-Bradley terms before Angles. This is unexpected, but the parameters will all be present in one form or another.\n",
      "  'all be present in one form or another.', OpenMMWarning)\n",
      "/home/nealeellyson/miniconda3/envs/moscas/lib/python3.7/site-packages/foyer/forcefield.py:267: UserWarning: Parameters have not been assigned to all impropers. Total system impropers: 8, Parameterized impropers: 0. Note that if your system contains torsions of Ryckaert-Bellemans functional form, all of these torsions are processed as propers\n",
      "  warnings.warn(msg)\n"
     ]
    }
   ],
   "source": [
    "# Load forcefields\n",
    "opls_uff = foyer.forcefields.Forcefield(forcefield_files='forcefields/FF_opls_uff.xml')\n",
    "oplsaa = foyer.forcefields.load_OPLSAA()\n",
    "\n",
    "# Use foyer to apply forcefields\n",
    "typed_surface = apply_ff(surface, opls_uff)\n",
    "typed_ethane = oplsaa.apply(ethane, \n",
    "                            assert_bond_params=False, \n",
    "                            assert_angle_params=False, \n",
    "                            assert_dihedral_params=False)\n",
    "\n",
    "# Establish simulation box dimensions\n",
    "L = 10\n",
    "box = mb.Box(mins=[-L/2]*3, maxs=[L/2]*3)"
   ]
  },
  {
   "cell_type": "markdown",
   "metadata": {},
   "source": [
    "<a id=\"Statepoints\"></a>\n",
    "## Define Statepoints"
   ]
  },
  {
   "cell_type": "code",
   "execution_count": 11,
   "metadata": {},
   "outputs": [
    {
     "name": "stdout",
     "output_type": "stream",
     "text": [
      "epsilon: 0.07\n",
      "sigma:  3.5\n",
      "The unit temperature is 33 K\n"
     ]
    }
   ],
   "source": [
    "eps = typed_ethane.atoms[0].epsilon\n",
    "print(f\"epsilon: {eps:.2f}\")\n",
    "print(\"sigma: \", typed_ethane.atoms[0].sigma)\n",
    "# ParmEd is in kcal/mol\n",
    "\n",
    "kb = 0.001985875    # kcal/(mol K)\n",
    "T = eps/kb\n",
    "\n",
    "print(f\"The unit temperature is {T:.0f} K\")\n",
    "chem_pots = [i*T for i in range(0,5)] \n",
    "temp = 2*T"
   ]
  },
  {
   "cell_type": "markdown",
   "metadata": {},
   "source": [
    "<a id=\"Run\"></a>\n",
    "## Run Simulation"
   ]
  },
  {
   "cell_type": "code",
   "execution_count": null,
   "metadata": {},
   "outputs": [
    {
     "name": "stdout",
     "output_type": "stream",
     "text": [
      "Treating <Structure 160 atoms; 1 residues; 0 bonds; PBC (orthogonal); NOT parametrized> as a non-insertable rigid species since it has no bonds\n",
      "Using the following executables for Cassandra:\n",
      "Python: /home/nealeellyson/miniconda3/envs/moscas/bin/python\n",
      "library_setup: /home/nealeellyson/miniconda3/envs/moscas/bin/library_setup.py\n",
      "Cassandra: /home/nealeellyson/miniconda3/envs/moscas/bin/cassandra.exe\n",
      "Generating fragment libraries...\n"
     ]
    },
    {
     "name": "stderr",
     "output_type": "stream",
     "text": [
      "/home/nealeellyson/miniconda3/envs/moscas/lib/python3.7/site-packages/mbuild/formats/cassandramcf.py:178: UserWarning: No bonds found. Cassandra will interpet this as a rigid species\n",
      "  warnings.warn(\"No bonds found. Cassandra will interpet \"\n",
      "/home/nealeellyson/miniconda3/envs/moscas/lib/python3.7/site-packages/mbuild/formats/cassandramcf.py:570: UserWarning: More than two atoms present but no fragments identified.\n",
      "  warnings.warn('More than two atoms present but '\n"
     ]
    },
    {
     "name": "stdout",
     "output_type": "stream",
     "text": [
      "Running Cassandra...\n",
      "Using the following executables for Cassandra:\n",
      "Python: /home/nealeellyson/miniconda3/envs/moscas/bin/python\n",
      "library_setup: /home/nealeellyson/miniconda3/envs/moscas/bin/library_setup.py\n",
      "Cassandra: /home/nealeellyson/miniconda3/envs/moscas/bin/cassandra.exe\n",
      "Running Cassandra...\n",
      "Treating <Structure 160 atoms; 1 residues; 0 bonds; PBC (orthogonal); NOT parametrized> as a non-insertable rigid species since it has no bonds\n",
      "Using the following executables for Cassandra:\n",
      "Python: /home/nealeellyson/miniconda3/envs/moscas/bin/python\n",
      "library_setup: /home/nealeellyson/miniconda3/envs/moscas/bin/library_setup.py\n",
      "Cassandra: /home/nealeellyson/miniconda3/envs/moscas/bin/cassandra.exe\n",
      "Generating fragment libraries...\n",
      "Running Cassandra...\n",
      "Using the following executables for Cassandra:\n",
      "Python: /home/nealeellyson/miniconda3/envs/moscas/bin/python\n",
      "library_setup: /home/nealeellyson/miniconda3/envs/moscas/bin/library_setup.py\n",
      "Cassandra: /home/nealeellyson/miniconda3/envs/moscas/bin/cassandra.exe\n",
      "Running Cassandra...\n",
      "Treating <Structure 160 atoms; 1 residues; 0 bonds; PBC (orthogonal); NOT parametrized> as a non-insertable rigid species since it has no bonds\n",
      "Using the following executables for Cassandra:\n",
      "Python: /home/nealeellyson/miniconda3/envs/moscas/bin/python\n",
      "library_setup: /home/nealeellyson/miniconda3/envs/moscas/bin/library_setup.py\n",
      "Cassandra: /home/nealeellyson/miniconda3/envs/moscas/bin/cassandra.exe\n",
      "Generating fragment libraries...\n",
      "Running Cassandra...\n",
      "Using the following executables for Cassandra:\n",
      "Python: /home/nealeellyson/miniconda3/envs/moscas/bin/python\n",
      "library_setup: /home/nealeellyson/miniconda3/envs/moscas/bin/library_setup.py\n",
      "Cassandra: /home/nealeellyson/miniconda3/envs/moscas/bin/cassandra.exe\n",
      "Running Cassandra...\n"
     ]
    }
   ],
   "source": [
    "for chem_pot in chem_pots:\n",
    "    run_cassandra_surf(chem_pot,temp)"
   ]
  },
  {
   "cell_type": "markdown",
   "metadata": {},
   "source": [
    "<a id=\"Trajectory\"></a>\n",
    "## Render Trajectory"
   ]
  },
  {
   "cell_type": "code",
   "execution_count": 27,
   "metadata": {},
   "outputs": [
    {
     "name": "stdout",
     "output_type": "stream",
     "text": [
      "Copy this into Ovito Load Remote File:\n",
      "/home/nealeellyson/CassandraSim/output/gcmc.out.xyz\n"
     ]
    }
   ],
   "source": [
    "import ex_render_cassandra as erc\n",
    "import os\n",
    "import getpass\n",
    "\n",
    "# These cells are for visualizing output\n",
    "xyzfile = f\"prod_{chem_pot:.0f}_{temp:.0f}.out.xyz\"\n",
    "boxfile = f\"prod_{chem_pot:.0f}_{temp:.0f}.out.H\"\n",
    "traj = erc.make_traj(xyzfile, boxfile)\n",
    "print(\"Frames: \",len(traj))\n",
    "\n",
    "cwd = os.getcwd()\n",
    "username = getpass.getuser()\n",
    "for chem_pot in chem_pots:\n",
    "    xyzfile = f\"surfprod_{chem_pot:.0f}_{temp:.0f}.out.xyz\"\n",
    "    print(\"\\n\\tCopy this into Ovito Load Remote File:\") # From Fry\n",
    "    print('sftp://'+username+'@fry'+cwd+'/'+xyzfile)"
   ]
  },
  {
   "cell_type": "code",
   "execution_count": 26,
   "metadata": {},
   "outputs": [],
   "source": [
    "xyzfile = \"output/gcmc.out.xyz\"\n",
    "boxfile = \"output/gcmc.out.H\"\n",
    "\n",
    "traj = erc.make_traj(xyzfile, boxfile)"
   ]
  },
  {
   "cell_type": "code",
   "execution_count": 27,
   "metadata": {},
   "outputs": [
    {
     "data": {
      "image/png": "\n",
      "text/plain": [
       "<IPython.core.display.Image object>"
      ]
     },
     "metadata": {},
     "output_type": "display_data"
    }
   ],
   "source": [
    "erc.display_movie(erc.render_sphere_frame, traj)\n",
    "#erc.display_movie(erc.render_sphere_frame, traj, gif=\"traj.gif\")"
   ]
  },
  {
   "cell_type": "markdown",
   "metadata": {},
   "source": [
    "<a id=\"Errors\"></a>\n",
    "## Errors:\n",
    "`Initial vdw cutoff is greater than half the minimum box length\n",
    "This error occurred in subroutine Get_Pair_Style on step 0.`\n",
    "\n",
    "Jenny: \n",
    "> Fixed by making the boxlist an empty box with correct size\n",
    "\n",
    "My fix:\n",
    "```\n",
    "\"vdw_cutoff\": min(surface.boundingbox.lengths)/3,\n",
    "\"charge_style\": \"none\",\n",
    "#\"charge_cutoff\": 14.0,\n",
    "```\n"
   ]
  },
  {
   "cell_type": "markdown",
   "metadata": {},
   "source": [
    "<a id=\"Notes\"></a>\n",
    "## Notes"
   ]
  },
  {
   "cell_type": "markdown",
   "metadata": {},
   "source": [
    "#### W/rt equilibration\n",
    "We can tweak trial move stuff within Cassandra and could dramatically improve equilibration times\n",
    "\n",
    "#### W/rt box size\n",
    "We want a surface with ethane absorbing into it and the box height above to only focus on things absorbing into the surface. The problem is the other side of the surface and if the space is too small where the molecules can't fit between the two. But if we make it too far then we have a middle area. "
   ]
  },
  {
   "cell_type": "code",
   "execution_count": null,
   "metadata": {},
   "outputs": [],
   "source": []
  }
 ],
 "metadata": {
  "kernelspec": {
   "display_name": "Python 3",
   "language": "python",
   "name": "python3"
  },
  "language_info": {
   "codemirror_mode": {
    "name": "ipython",
    "version": 3
   },
   "file_extension": ".py",
   "mimetype": "text/x-python",
   "name": "python",
   "nbconvert_exporter": "python",
   "pygments_lexer": "ipython3",
   "version": "3.7.8"
  }
 },
 "nbformat": 4,
 "nbformat_minor": 4
}
