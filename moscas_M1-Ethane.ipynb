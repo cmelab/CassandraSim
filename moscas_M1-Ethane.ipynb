{
 "cells": [
  {
   "cell_type": "code",
   "execution_count": 1,
   "metadata": {},
   "outputs": [],
   "source": [
    "# Delete output of previous run\n",
    "# !rm -rf *.in.* species* *.out* *.inp* *.log*"
   ]
  },
  {
   "cell_type": "code",
   "execution_count": 2,
   "metadata": {},
   "outputs": [],
   "source": [
    "import mosdef_cassandra as mc\n",
    "import generate_mc as gen   # Chris' script\n",
    "import mbuild as mb\n",
    "import foyer\n",
    "import numpy as np\n",
    "import matplotlib.pyplot as plt\n",
    "from scipy.spatial import ConvexHull\n",
    "import random\n",
    "import unyt as u    # For Cassandra's physical unit specification \n",
    "                    # https://mosdef-cassandra.readthedocs.io/en/latest/guides/unyts.html"
   ]
  },
  {
   "cell_type": "code",
   "execution_count": 3,
   "metadata": {},
   "outputs": [],
   "source": [
    "def gen_system(dims=[2, 2, 2]):\n",
    "    defaults_dict = {'stoichiometry': {'Mo': 1, 'V': 0.15, 'Nb': 0.13, 'Te': 0.12},\n",
    "                     'dimensions': dims,\n",
    "                     'template': 'M1UnitCell_mod.pdb',\n",
    "                     'crystal_x': 2.148490,\n",
    "                     'crystal_y': 2.664721,\n",
    "                     'crystal_z': 0.400321,\n",
    "                     'z_reactor_size': 20.0,\n",
    "                     'forcefield': None\n",
    "                     }\n",
    "\n",
    "    system = gen.Surface(defaults_dict['dimensions'],\n",
    "                        defaults_dict['template'],\n",
    "                         defaults_dict['stoichiometry'],\n",
    "                         True,\n",
    "                         defaults_dict['crystal_x'],\n",
    "                         defaults_dict['crystal_y'],\n",
    "                         defaults_dict['crystal_z']\n",
    "                        )\n",
    "    system.translate_to(np.zeros(3)) # Added so that periodicity doesn't error out\n",
    "    system.periodicity = system.boundingbox.lengths # necessary\n",
    "    #system.to_parmed() # Triggers an error\n",
    "    return system"
   ]
  },
  {
   "cell_type": "code",
   "execution_count": 13,
   "metadata": {},
   "outputs": [],
   "source": [
    "def apply_ff(system, systemFF, organicFF=None):\n",
    "    typed_surface = systemFF.apply(system.children[0],\n",
    "                            assert_angle_params=False,\n",
    "                            assert_bond_params=False,\n",
    "                            assert_dihedral_params=False,\n",
    "                            assert_improper_params=False)\n",
    "    if organicFF:\n",
    "        for idx, child in enumerate(system.children):\n",
    "            if idx == 0:\n",
    "                pass\n",
    "            else:\n",
    "                typed_comp = organicFF.apply(child)\n",
    "                typed_surface += typed_comp\n",
    "    return typed_surface"
   ]
  },
  {
   "cell_type": "code",
   "execution_count": 14,
   "metadata": {},
   "outputs": [
    {
     "name": "stdout",
     "output_type": "stream",
     "text": [
      "Using the following executables for Cassandra:\n",
      "Python: /home/nealeellyson/miniconda3/envs/mc/bin/python\n",
      "library_setup: /home/nealeellyson/miniconda3/envs/mc/bin/library_setup.py\n",
      "Cassandra: /home/nealeellyson/miniconda3/envs/mc/bin/cassandra.exe\n"
     ]
    }
   ],
   "source": [
    "mc.utils.detect_cassandra_binaries();"
   ]
  },
  {
   "cell_type": "markdown",
   "metadata": {},
   "source": [
    "Jump to Isotherm stuff [HERE](#ai)"
   ]
  },
  {
   "cell_type": "code",
   "execution_count": 15,
   "metadata": {},
   "outputs": [
    {
     "name": "stdout",
     "output_type": "stream",
     "text": [
      "Adding [0, 0, 0] to system... \n"
     ]
    },
    {
     "data": {
      "application/3dmoljs_load.v0": "<div id=\"3dmolviewer_15950175006462686\"  style=\"position: relative; width: 640px; height: 480px\">\n        <p id=\"3dmolwarning_15950175006462686\" style=\"background-color:#ffcccc;color:black\">You appear to be running in JupyterLab (or JavaScript failed to load for some other reason).  You need to install the 3dmol extension: <br>\n        <tt>jupyter labextension install jupyterlab_3dmol</tt></p>\n        </div>\n<script>\n\nvar loadScriptAsync = function(uri){\n  return new Promise((resolve, reject) => {\n    var tag = document.createElement('script');\n    tag.src = uri;\n    tag.async = true;\n    tag.onload = () => {\n      resolve();\n    };\n  var firstScriptTag = document.getElementsByTagName('script')[0];\n  firstScriptTag.parentNode.insertBefore(tag, firstScriptTag);\n});\n};\n\nif(typeof $3Dmolpromise === 'undefined') {\n$3Dmolpromise = null;\n  $3Dmolpromise = loadScriptAsync('https://3dmol.csb.pitt.edu/build/3Dmol.js');\n}\n\nvar viewer_15950175006462686 = null;\nvar warn = document.getElementById(\"3dmolwarning_15950175006462686\");\nif(warn) {\n    warn.parentNode.removeChild(warn);\n}\n$3Dmolpromise.then(function() {\nviewer_15950175006462686 = $3Dmol.createViewer($(\"#3dmolviewer_15950175006462686\"),{backgroundColor:\"white\"});\n\tviewer_15950175006462686.addModel(\"@<TRIPOS>MOLECULE\\nRES\\n160 0 1 0 1\\nSMALL\\nNO_CHARGES\\n@<TRIPOS>CRYSIN\\n   20.9710    26.5140     4.5000    90.0000    90.0000    90.0000  1  1\\n@<TRIPOS>ATOM\\n       1 V           -5.5485     6.8270    -0.6804 V             1 RES     \\n       2 Mo          -3.0915    12.9990    -0.6164 Mo            1 RES     \\n       3 Mo          -1.8165    -7.1840    -0.6504 Mo            1 RES     \\n       4 Mo          -1.0425   -10.6900     0.4666 Mo            1 RES     \\n       5 Mo           0.4285    12.4550     0.4296 Mo            1 RES     \\n       6 Mo           2.5375     9.6000    -0.6564 Mo            1 RES     \\n       7 Mo           4.0985    12.8910     0.4666 Mo            1 RES     \\n       8 Mo          -5.5405    10.3850     0.4126 Mo            1 RES     \\n       9 Mo           1.7235    -8.0460     0.2766 Mo            1 RES     \\n      10 Mo           5.0225    -6.4960    -0.6804 Mo            1 RES     \\n      11 Mo          -8.0065     0.6540    -0.6144 Mo            1 RES     \\n      12 Mo           2.5655    -0.3240    -0.6164 Mo            1 RES     \\n      13 Mo           7.4805   -12.6690    -0.6144 Mo            1 RES     \\n      14 Mo          -9.2835    -5.8090    -0.6484 Mo            1 RES     \\n      15 Mo           1.2895     6.1400    -0.6504 Mo            1 RES     \\n      16 V            8.7575     7.5150    -0.6484 V             1 RES     \\n      17 Mo         -10.0565    -2.3020     0.4676 Mo            1 RES     \\n      18 Te           0.5165     2.6340     0.4666 Te            1 RES     \\n      19 Mo           9.5305    11.0210     0.4686 Mo            1 RES     \\n      20 Te           9.6175     1.2010     0.4296 Te            1 RES     \\n      21 Mo          -0.9545    -0.8690     0.4286 Mo            1 RES     \\n      22 Nb         -10.1435   -12.1230     0.4306 Nb            1 RES     \\n      23 Mo           7.5095     4.0550    -0.6564 Mo            1 RES     \\n      24 Mo          -3.0635    -3.7230    -0.6564 Mo            1 RES     \\n      25 Mo          -8.0345    -9.2680    -0.6554 Mo            1 RES     \\n      26 Te           5.9475     0.7650     0.4666 Te            1 RES     \\n      27 Mo          -4.6235    -0.4330     0.4666 Mo            1 RES     \\n      28 Mo          -6.4735   -12.5590     0.4666 Mo            1 RES     \\n      29 Te          -5.5585     3.2700     0.4126 Te            1 RES     \\n      30 Mo           5.0145    -2.9390     0.4116 Mo            1 RES     \\n      31 Nb           5.0325   -10.0530     0.4126 Nb            1 RES     \\n      32 V            8.3205    -4.9450     0.2756 V             1 RES     \\n      33 Mo          -2.2505     5.2780     0.2766 Mo            1 RES     \\n      34 Nb          -8.8465     8.3780     0.2766 Nb            1 RES     \\n      35 Mo           2.0555   -11.3340    -0.5694 Mo            1 RES     \\n      36 Mo           7.9905    -1.6560    -0.5704 Mo            1 RES     \\n      37 Mo          -2.5815     1.9890    -0.5694 Mo            1 RES     \\n      38 Mo          -8.5165    11.6670    -0.5694 Mo            1 RES     \\n      39 Te           5.9955     9.8950    -0.0694 Te            1 RES     \\n      40 Nb           4.0505     3.7600    -0.0704 Nb            1 RES     \\n      41 Mo          -6.5225    -3.4290    -0.0704 Mo            1 RES     \\n      42 Nb          -4.5765    -9.5640    -0.0704 Nb            1 RES     \\n      43 Nb          -5.5485    -6.4960     0.3956 Nb            1 RES     \\n      44 Mo           5.0235     6.8270     0.3946 Mo            1 RES     \\n      45 O           -5.5485     6.8270    -2.3524 O             1 RES     \\n      46 O           -5.5485    -6.4960     2.0636 O             1 RES     \\n      47 O           -3.1025    12.9740    -2.2894 O             1 RES     \\n      48 O           -1.8095    -7.2450    -2.3214 O             1 RES     \\n      49 O           -1.0445   -10.6990     2.1456 O             1 RES     \\n      50 O            0.4545    12.4640     2.1076 O             1 RES     \\n      51 O            2.4945     9.6800    -2.3264 O             1 RES     \\n      52 O            4.0555    12.8630     2.1436 O             1 RES     \\n      53 O            2.0595   -11.3350    -2.2804 O             1 RES     \\n      54 O           -5.5285    10.3580     2.0906 O             1 RES     \\n      55 O            1.7395    -7.9670     1.9526 O             1 RES     \\n      56 O            6.1365    10.0920     1.7506 O             1 RES     \\n      57 O            5.4365    -8.3140    -0.1084 O             1 RES     \\n      58 O            6.5585   -10.9960    -0.0924 O             1 RES     \\n      59 O           -4.7185   -12.7440    -0.0734 O             1 RES     \\n      60 O            6.6975     7.7810    -0.2024 O             1 RES     \\n      61 O            9.2235   -11.9410    -0.0794 O             1 RES     \\n      62 O           10.8275    12.5080     0.0256 O             1 RES     \\n      63 O            8.7185     9.4030    -0.0674 O             1 RES     \\n      64 O           -6.2995    -8.2440    -0.2174 O             1 RES     \\n      65 O           -9.4285   -10.4500    -0.0454 O             1 RES     \\n      66 O           -9.8685    10.1460    -0.0894 O             1 RES     \\n      67 O           10.6885     7.5180    -0.2064 O             1 RES     \\n      68 O           -8.3305   -12.8760    -0.1634 O             1 RES     \\n      69 O           -7.4925     9.9050    -0.0844 O             1 RES     \\n      70 O           -7.4695     7.2660    -0.2704 O             1 RES     \\n      71 O           -8.9435    -7.6420    -0.2494 O             1 RES     \\n      72 O           -6.6555   -10.7130    -0.1544 O             1 RES     \\n      73 O           -6.5975    12.1040     0.0256 O             1 RES     \\n      74 O           -2.3235   -11.8730    -0.1194 O             1 RES     \\n      75 O            5.0225    -6.4960    -2.3524 O             1 RES     \\n      76 O            5.0235     6.8270     2.0636 O             1 RES     \\n      77 O           -7.9945     0.6780    -2.2884 O             1 RES     \\n      78 O            2.5775    -0.3480    -2.2904 O             1 RES     \\n      79 O            7.4695   -12.6460    -2.2884 O             1 RES     \\n      80 O           -9.2905    -5.7480    -2.3194 O             1 RES     \\n      81 O            1.2835     6.0790    -2.3214 O             1 RES     \\n      82 O            8.7645     7.5760    -2.3194 O             1 RES     \\n      83 O          -10.0565    -2.2930     2.1466 O             1 RES     \\n      84 O            0.5175     2.6240     2.1456 O             1 RES     \\n      85 O            9.5305    11.0300     2.1476 O             1 RES     \\n      86 O            9.5915     1.1900     2.1076 O             1 RES     \\n      87 O           -0.9805    -0.8590     2.1066 O             1 RES     \\n      88 O          -10.1175   -12.1330     2.1076 O             1 RES     \\n      89 O            7.5535     3.9770    -2.3264 O             1 RES     \\n      90 O           -3.0205    -3.6440    -2.3264 O             1 RES     \\n      91 O           -8.0795    -9.3470    -2.3264 O             1 RES     \\n      92 O            5.9885     0.7930     2.1426 O             1 RES     \\n      93 O           -4.5805    -0.4610     2.1426 O             1 RES     \\n      94 O           -6.5135   -12.5300     2.1426 O             1 RES     \\n      95 O            7.9865    -1.6540    -2.2814 O             1 RES     \\n      96 O           -2.5865     1.9880    -2.2804 O             1 RES     \\n      97 O           -8.5125    11.6700    -2.2814 O             1 RES     \\n      98 O           -5.5715     3.2970     2.0906 O             1 RES     \\n      99 O            5.0025    -2.9650     2.0896 O             1 RES     \\n     100 O            5.0455   -10.0260     2.0906 O             1 RES     \\n     101 O            8.3035    -5.0210     1.9516 O             1 RES     \\n     102 O           -2.2655     5.3560     1.9526 O             1 RES     \\n     103 O           -8.8305     8.3010     1.9526 O             1 RES     \\n     104 O            3.9095     3.5620     1.7486 O             1 RES     \\n     105 O           -6.6625    -3.2320     1.7496 O             1 RES     \\n     106 O           -4.4355    -9.7610     1.7496 O             1 RES     \\n     107 O            4.6095    -4.6770    -0.1084 O             1 RES     \\n     108 O           -5.9625     5.0090    -0.1084 O             1 RES     \\n     109 O           -5.1355     8.6460    -0.1084 O             1 RES     \\n     110 O            3.4875    -1.9960    -0.0914 O             1 RES     \\n     111 O           -7.0845     2.3270    -0.0924 O             1 RES     \\n     112 O           -4.0135    11.3270    -0.0914 O             1 RES     \\n     113 O           -6.3785    -0.2480    -0.0714 O             1 RES     \\n     114 O            4.1935     0.5800    -0.0734 O             1 RES     \\n     115 O            5.8525    13.0760    -0.0714 O             1 RES     \\n     116 O            3.3485     5.8730    -0.2034 O             1 RES     \\n     117 O           -7.2235    -5.5420    -0.2024 O             1 RES     \\n     118 O           -3.8745    -7.4500    -0.2034 O             1 RES     \\n     119 O            0.8225    -1.0500    -0.0814 O             1 RES     \\n     120 O           -9.7485     1.3820    -0.0794 O             1 RES     \\n     121 O           -1.3485    12.2730    -0.0804 O             1 RES     \\n     122 O           -0.7815     1.1480     0.0246 O             1 RES     \\n     123 O            9.7905    -0.8150     0.0246 O             1 RES     \\n     124 O            0.2555   -12.1760     0.0256 O             1 RES     \\n     125 O            1.3275     4.2520    -0.0694 O             1 RES     \\n     126 O           -9.2445    -3.9210    -0.0674 O             1 RES     \\n     127 O           -1.8545    -9.0710    -0.0694 O             1 RES     \\n     128 O           -4.7995    -4.7480    -0.2184 O             1 RES     \\n     129 O            5.7735     5.0800    -0.2184 O             1 RES     \\n     130 O            4.2735     8.5750    -0.2174 O             1 RES     \\n     131 O           -1.6695    -2.5410    -0.0474 O             1 RES     \\n     132 O            8.9025     2.8730    -0.0454 O             1 RES     \\n     133 O            1.1435    10.7820    -0.0464 O             1 RES     \\n     134 O           -1.2285     3.5100    -0.0884 O             1 RES     \\n     135 O            9.3425    -3.1770    -0.0894 O             1 RES     \\n     136 O            0.7025    -9.8140    -0.0884 O             1 RES     \\n     137 O           -0.6415     6.1370    -0.2084 O             1 RES     \\n     138 O            9.9295    -5.8050    -0.2064 O             1 RES     \\n     139 O            0.1155    -7.1860    -0.2084 O             1 RES     \\n     140 O           -2.7675    -0.1150    -0.1654 O             1 RES     \\n     141 O            7.8045     0.4470    -0.1634 O             1 RES     \\n     142 O            2.2415   -13.4380    -0.1644 O             1 RES     \\n     143 O           -3.6055     3.7510    -0.0814 O             1 RES     \\n     144 O            6.9665    -3.4180    -0.0854 O             1 RES     \\n     145 O            3.0795    -9.5730    -0.0814 O             1 RES     \\n     146 O           -3.6275     6.3890    -0.2704 O             1 RES     \\n     147 O            6.9435    -6.0570    -0.2704 O             1 RES     \\n     148 O            3.1015    -6.9340    -0.2704 O             1 RES     \\n     149 O           -2.1555    -5.3500    -0.2504 O             1 RES     \\n     150 O            8.4175     5.6820    -0.2494 O             1 RES     \\n     151 O            1.6295     7.9730    -0.2504 O             1 RES     \\n     152 O           -4.4425    -2.2790    -0.1544 O             1 RES     \\n     153 O            6.1295     2.6110    -0.1554 O             1 RES     \\n     154 O            3.9165    11.0450    -0.1544 O             1 RES     \\n     155 O           -4.4995     1.5520     0.0256 O             1 RES     \\n     156 O            6.0725    -1.2190     0.0246 O             1 RES     \\n     157 O            3.9745   -11.7720     0.0256 O             1 RES     \\n     158 O           -8.7745    -1.1190    -0.1164 O             1 RES     \\n     159 O            1.7975     1.4500    -0.1194 O             1 RES     \\n     160 O            8.0365    12.3030    -0.1254 O             1 RES     \\n@<TRIPOS>BOND\\n@<TRIPOS>SUBSTRUCTURE\\n       1 RES             1 RESIDUE    0 **** ROOT      0\\n\",\"mol2\");\n\tviewer_15950175006462686.setStyle({\"stick\": {\"radius\": 0.2, \"color\": \"grey\"}, \"sphere\": {\"scale\": 0.3, \"colorscheme\": {\"O\": \"red\", \"Te\": \"black\", \"V\": \"black\", \"Nb\": \"black\", \"Mo\": \"black\"}}});\n\tviewer_15950175006462686.zoomTo();\nviewer_15950175006462686.render();\n});\n</script>",
      "text/html": [
       "<div id=\"3dmolviewer_15950175006462686\"  style=\"position: relative; width: 640px; height: 480px\">\n",
       "        <p id=\"3dmolwarning_15950175006462686\" style=\"background-color:#ffcccc;color:black\">You appear to be running in JupyterLab (or JavaScript failed to load for some other reason).  You need to install the 3dmol extension: <br>\n",
       "        <tt>jupyter labextension install jupyterlab_3dmol</tt></p>\n",
       "        </div>\n",
       "<script>\n",
       "\n",
       "var loadScriptAsync = function(uri){\n",
       "  return new Promise((resolve, reject) => {\n",
       "    var tag = document.createElement('script');\n",
       "    tag.src = uri;\n",
       "    tag.async = true;\n",
       "    tag.onload = () => {\n",
       "      resolve();\n",
       "    };\n",
       "  var firstScriptTag = document.getElementsByTagName('script')[0];\n",
       "  firstScriptTag.parentNode.insertBefore(tag, firstScriptTag);\n",
       "});\n",
       "};\n",
       "\n",
       "if(typeof $3Dmolpromise === 'undefined') {\n",
       "$3Dmolpromise = null;\n",
       "  $3Dmolpromise = loadScriptAsync('https://3dmol.csb.pitt.edu/build/3Dmol.js');\n",
       "}\n",
       "\n",
       "var viewer_15950175006462686 = null;\n",
       "var warn = document.getElementById(\"3dmolwarning_15950175006462686\");\n",
       "if(warn) {\n",
       "    warn.parentNode.removeChild(warn);\n",
       "}\n",
       "$3Dmolpromise.then(function() {\n",
       "viewer_15950175006462686 = $3Dmol.createViewer($(\"#3dmolviewer_15950175006462686\"),{backgroundColor:\"white\"});\n",
       "\tviewer_15950175006462686.addModel(\"@<TRIPOS>MOLECULE\\nRES\\n160 0 1 0 1\\nSMALL\\nNO_CHARGES\\n@<TRIPOS>CRYSIN\\n   20.9710    26.5140     4.5000    90.0000    90.0000    90.0000  1  1\\n@<TRIPOS>ATOM\\n       1 V           -5.5485     6.8270    -0.6804 V             1 RES     \\n       2 Mo          -3.0915    12.9990    -0.6164 Mo            1 RES     \\n       3 Mo          -1.8165    -7.1840    -0.6504 Mo            1 RES     \\n       4 Mo          -1.0425   -10.6900     0.4666 Mo            1 RES     \\n       5 Mo           0.4285    12.4550     0.4296 Mo            1 RES     \\n       6 Mo           2.5375     9.6000    -0.6564 Mo            1 RES     \\n       7 Mo           4.0985    12.8910     0.4666 Mo            1 RES     \\n       8 Mo          -5.5405    10.3850     0.4126 Mo            1 RES     \\n       9 Mo           1.7235    -8.0460     0.2766 Mo            1 RES     \\n      10 Mo           5.0225    -6.4960    -0.6804 Mo            1 RES     \\n      11 Mo          -8.0065     0.6540    -0.6144 Mo            1 RES     \\n      12 Mo           2.5655    -0.3240    -0.6164 Mo            1 RES     \\n      13 Mo           7.4805   -12.6690    -0.6144 Mo            1 RES     \\n      14 Mo          -9.2835    -5.8090    -0.6484 Mo            1 RES     \\n      15 Mo           1.2895     6.1400    -0.6504 Mo            1 RES     \\n      16 V            8.7575     7.5150    -0.6484 V             1 RES     \\n      17 Mo         -10.0565    -2.3020     0.4676 Mo            1 RES     \\n      18 Te           0.5165     2.6340     0.4666 Te            1 RES     \\n      19 Mo           9.5305    11.0210     0.4686 Mo            1 RES     \\n      20 Te           9.6175     1.2010     0.4296 Te            1 RES     \\n      21 Mo          -0.9545    -0.8690     0.4286 Mo            1 RES     \\n      22 Nb         -10.1435   -12.1230     0.4306 Nb            1 RES     \\n      23 Mo           7.5095     4.0550    -0.6564 Mo            1 RES     \\n      24 Mo          -3.0635    -3.7230    -0.6564 Mo            1 RES     \\n      25 Mo          -8.0345    -9.2680    -0.6554 Mo            1 RES     \\n      26 Te           5.9475     0.7650     0.4666 Te            1 RES     \\n      27 Mo          -4.6235    -0.4330     0.4666 Mo            1 RES     \\n      28 Mo          -6.4735   -12.5590     0.4666 Mo            1 RES     \\n      29 Te          -5.5585     3.2700     0.4126 Te            1 RES     \\n      30 Mo           5.0145    -2.9390     0.4116 Mo            1 RES     \\n      31 Nb           5.0325   -10.0530     0.4126 Nb            1 RES     \\n      32 V            8.3205    -4.9450     0.2756 V             1 RES     \\n      33 Mo          -2.2505     5.2780     0.2766 Mo            1 RES     \\n      34 Nb          -8.8465     8.3780     0.2766 Nb            1 RES     \\n      35 Mo           2.0555   -11.3340    -0.5694 Mo            1 RES     \\n      36 Mo           7.9905    -1.6560    -0.5704 Mo            1 RES     \\n      37 Mo          -2.5815     1.9890    -0.5694 Mo            1 RES     \\n      38 Mo          -8.5165    11.6670    -0.5694 Mo            1 RES     \\n      39 Te           5.9955     9.8950    -0.0694 Te            1 RES     \\n      40 Nb           4.0505     3.7600    -0.0704 Nb            1 RES     \\n      41 Mo          -6.5225    -3.4290    -0.0704 Mo            1 RES     \\n      42 Nb          -4.5765    -9.5640    -0.0704 Nb            1 RES     \\n      43 Nb          -5.5485    -6.4960     0.3956 Nb            1 RES     \\n      44 Mo           5.0235     6.8270     0.3946 Mo            1 RES     \\n      45 O           -5.5485     6.8270    -2.3524 O             1 RES     \\n      46 O           -5.5485    -6.4960     2.0636 O             1 RES     \\n      47 O           -3.1025    12.9740    -2.2894 O             1 RES     \\n      48 O           -1.8095    -7.2450    -2.3214 O             1 RES     \\n      49 O           -1.0445   -10.6990     2.1456 O             1 RES     \\n      50 O            0.4545    12.4640     2.1076 O             1 RES     \\n      51 O            2.4945     9.6800    -2.3264 O             1 RES     \\n      52 O            4.0555    12.8630     2.1436 O             1 RES     \\n      53 O            2.0595   -11.3350    -2.2804 O             1 RES     \\n      54 O           -5.5285    10.3580     2.0906 O             1 RES     \\n      55 O            1.7395    -7.9670     1.9526 O             1 RES     \\n      56 O            6.1365    10.0920     1.7506 O             1 RES     \\n      57 O            5.4365    -8.3140    -0.1084 O             1 RES     \\n      58 O            6.5585   -10.9960    -0.0924 O             1 RES     \\n      59 O           -4.7185   -12.7440    -0.0734 O             1 RES     \\n      60 O            6.6975     7.7810    -0.2024 O             1 RES     \\n      61 O            9.2235   -11.9410    -0.0794 O             1 RES     \\n      62 O           10.8275    12.5080     0.0256 O             1 RES     \\n      63 O            8.7185     9.4030    -0.0674 O             1 RES     \\n      64 O           -6.2995    -8.2440    -0.2174 O             1 RES     \\n      65 O           -9.4285   -10.4500    -0.0454 O             1 RES     \\n      66 O           -9.8685    10.1460    -0.0894 O             1 RES     \\n      67 O           10.6885     7.5180    -0.2064 O             1 RES     \\n      68 O           -8.3305   -12.8760    -0.1634 O             1 RES     \\n      69 O           -7.4925     9.9050    -0.0844 O             1 RES     \\n      70 O           -7.4695     7.2660    -0.2704 O             1 RES     \\n      71 O           -8.9435    -7.6420    -0.2494 O             1 RES     \\n      72 O           -6.6555   -10.7130    -0.1544 O             1 RES     \\n      73 O           -6.5975    12.1040     0.0256 O             1 RES     \\n      74 O           -2.3235   -11.8730    -0.1194 O             1 RES     \\n      75 O            5.0225    -6.4960    -2.3524 O             1 RES     \\n      76 O            5.0235     6.8270     2.0636 O             1 RES     \\n      77 O           -7.9945     0.6780    -2.2884 O             1 RES     \\n      78 O            2.5775    -0.3480    -2.2904 O             1 RES     \\n      79 O            7.4695   -12.6460    -2.2884 O             1 RES     \\n      80 O           -9.2905    -5.7480    -2.3194 O             1 RES     \\n      81 O            1.2835     6.0790    -2.3214 O             1 RES     \\n      82 O            8.7645     7.5760    -2.3194 O             1 RES     \\n      83 O          -10.0565    -2.2930     2.1466 O             1 RES     \\n      84 O            0.5175     2.6240     2.1456 O             1 RES     \\n      85 O            9.5305    11.0300     2.1476 O             1 RES     \\n      86 O            9.5915     1.1900     2.1076 O             1 RES     \\n      87 O           -0.9805    -0.8590     2.1066 O             1 RES     \\n      88 O          -10.1175   -12.1330     2.1076 O             1 RES     \\n      89 O            7.5535     3.9770    -2.3264 O             1 RES     \\n      90 O           -3.0205    -3.6440    -2.3264 O             1 RES     \\n      91 O           -8.0795    -9.3470    -2.3264 O             1 RES     \\n      92 O            5.9885     0.7930     2.1426 O             1 RES     \\n      93 O           -4.5805    -0.4610     2.1426 O             1 RES     \\n      94 O           -6.5135   -12.5300     2.1426 O             1 RES     \\n      95 O            7.9865    -1.6540    -2.2814 O             1 RES     \\n      96 O           -2.5865     1.9880    -2.2804 O             1 RES     \\n      97 O           -8.5125    11.6700    -2.2814 O             1 RES     \\n      98 O           -5.5715     3.2970     2.0906 O             1 RES     \\n      99 O            5.0025    -2.9650     2.0896 O             1 RES     \\n     100 O            5.0455   -10.0260     2.0906 O             1 RES     \\n     101 O            8.3035    -5.0210     1.9516 O             1 RES     \\n     102 O           -2.2655     5.3560     1.9526 O             1 RES     \\n     103 O           -8.8305     8.3010     1.9526 O             1 RES     \\n     104 O            3.9095     3.5620     1.7486 O             1 RES     \\n     105 O           -6.6625    -3.2320     1.7496 O             1 RES     \\n     106 O           -4.4355    -9.7610     1.7496 O             1 RES     \\n     107 O            4.6095    -4.6770    -0.1084 O             1 RES     \\n     108 O           -5.9625     5.0090    -0.1084 O             1 RES     \\n     109 O           -5.1355     8.6460    -0.1084 O             1 RES     \\n     110 O            3.4875    -1.9960    -0.0914 O             1 RES     \\n     111 O           -7.0845     2.3270    -0.0924 O             1 RES     \\n     112 O           -4.0135    11.3270    -0.0914 O             1 RES     \\n     113 O           -6.3785    -0.2480    -0.0714 O             1 RES     \\n     114 O            4.1935     0.5800    -0.0734 O             1 RES     \\n     115 O            5.8525    13.0760    -0.0714 O             1 RES     \\n     116 O            3.3485     5.8730    -0.2034 O             1 RES     \\n     117 O           -7.2235    -5.5420    -0.2024 O             1 RES     \\n     118 O           -3.8745    -7.4500    -0.2034 O             1 RES     \\n     119 O            0.8225    -1.0500    -0.0814 O             1 RES     \\n     120 O           -9.7485     1.3820    -0.0794 O             1 RES     \\n     121 O           -1.3485    12.2730    -0.0804 O             1 RES     \\n     122 O           -0.7815     1.1480     0.0246 O             1 RES     \\n     123 O            9.7905    -0.8150     0.0246 O             1 RES     \\n     124 O            0.2555   -12.1760     0.0256 O             1 RES     \\n     125 O            1.3275     4.2520    -0.0694 O             1 RES     \\n     126 O           -9.2445    -3.9210    -0.0674 O             1 RES     \\n     127 O           -1.8545    -9.0710    -0.0694 O             1 RES     \\n     128 O           -4.7995    -4.7480    -0.2184 O             1 RES     \\n     129 O            5.7735     5.0800    -0.2184 O             1 RES     \\n     130 O            4.2735     8.5750    -0.2174 O             1 RES     \\n     131 O           -1.6695    -2.5410    -0.0474 O             1 RES     \\n     132 O            8.9025     2.8730    -0.0454 O             1 RES     \\n     133 O            1.1435    10.7820    -0.0464 O             1 RES     \\n     134 O           -1.2285     3.5100    -0.0884 O             1 RES     \\n     135 O            9.3425    -3.1770    -0.0894 O             1 RES     \\n     136 O            0.7025    -9.8140    -0.0884 O             1 RES     \\n     137 O           -0.6415     6.1370    -0.2084 O             1 RES     \\n     138 O            9.9295    -5.8050    -0.2064 O             1 RES     \\n     139 O            0.1155    -7.1860    -0.2084 O             1 RES     \\n     140 O           -2.7675    -0.1150    -0.1654 O             1 RES     \\n     141 O            7.8045     0.4470    -0.1634 O             1 RES     \\n     142 O            2.2415   -13.4380    -0.1644 O             1 RES     \\n     143 O           -3.6055     3.7510    -0.0814 O             1 RES     \\n     144 O            6.9665    -3.4180    -0.0854 O             1 RES     \\n     145 O            3.0795    -9.5730    -0.0814 O             1 RES     \\n     146 O           -3.6275     6.3890    -0.2704 O             1 RES     \\n     147 O            6.9435    -6.0570    -0.2704 O             1 RES     \\n     148 O            3.1015    -6.9340    -0.2704 O             1 RES     \\n     149 O           -2.1555    -5.3500    -0.2504 O             1 RES     \\n     150 O            8.4175     5.6820    -0.2494 O             1 RES     \\n     151 O            1.6295     7.9730    -0.2504 O             1 RES     \\n     152 O           -4.4425    -2.2790    -0.1544 O             1 RES     \\n     153 O            6.1295     2.6110    -0.1554 O             1 RES     \\n     154 O            3.9165    11.0450    -0.1544 O             1 RES     \\n     155 O           -4.4995     1.5520     0.0256 O             1 RES     \\n     156 O            6.0725    -1.2190     0.0246 O             1 RES     \\n     157 O            3.9745   -11.7720     0.0256 O             1 RES     \\n     158 O           -8.7745    -1.1190    -0.1164 O             1 RES     \\n     159 O            1.7975     1.4500    -0.1194 O             1 RES     \\n     160 O            8.0365    12.3030    -0.1254 O             1 RES     \\n@<TRIPOS>BOND\\n@<TRIPOS>SUBSTRUCTURE\\n       1 RES             1 RESIDUE    0 **** ROOT      0\\n\",\"mol2\");\n",
       "\tviewer_15950175006462686.setStyle({\"stick\": {\"radius\": 0.2, \"color\": \"grey\"}, \"sphere\": {\"scale\": 0.3, \"colorscheme\": {\"O\": \"red\", \"Te\": \"black\", \"V\": \"black\", \"Nb\": \"black\", \"Mo\": \"black\"}}});\n",
       "\tviewer_15950175006462686.zoomTo();\n",
       "viewer_15950175006462686.render();\n",
       "});\n",
       "</script>"
      ]
     },
     "metadata": {},
     "output_type": "display_data"
    },
    {
     "data": {
      "text/plain": [
       "<py3Dmol.view at 0x7fbe9a00de50>"
      ]
     },
     "execution_count": 15,
     "metadata": {},
     "output_type": "execute_result"
    }
   ],
   "source": [
    "surface = gen_system(dims=[1, 1, 1])\n",
    "surface.visualize(show_ports=True, color_scheme={'O':'red',\n",
    "                                               'Te': 'black',\n",
    "                                               'V': 'black',\n",
    "                                               'Nb': 'black',\n",
    "                                               'Mo': 'black'})"
   ]
  },
  {
   "cell_type": "code",
   "execution_count": 16,
   "metadata": {},
   "outputs": [
    {
     "data": {
      "text/plain": [
       "generate_mc.Surface"
      ]
     },
     "execution_count": 16,
     "metadata": {},
     "output_type": "execute_result"
    }
   ],
   "source": [
    "type(surface)"
   ]
  },
  {
   "cell_type": "code",
   "execution_count": 13,
   "metadata": {},
   "outputs": [
    {
     "data": {
      "application/3dmoljs_load.v0": "<div id=\"3dmolviewer_15943232124799352\"  style=\"position: relative; width: 640px; height: 480px\">\n        <p id=\"3dmolwarning_15943232124799352\" style=\"background-color:#ffcccc;color:black\">You appear to be running in JupyterLab (or JavaScript failed to load for some other reason).  You need to install the 3dmol extension: <br>\n        <tt>jupyter labextension install jupyterlab_3dmol</tt></p>\n        </div>\n<script>\n\nvar loadScriptAsync = function(uri){\n  return new Promise((resolve, reject) => {\n    var tag = document.createElement('script');\n    tag.src = uri;\n    tag.async = true;\n    tag.onload = () => {\n      resolve();\n    };\n  var firstScriptTag = document.getElementsByTagName('script')[0];\n  firstScriptTag.parentNode.insertBefore(tag, firstScriptTag);\n});\n};\n\nif(typeof $3Dmolpromise === 'undefined') {\n$3Dmolpromise = null;\n  $3Dmolpromise = loadScriptAsync('https://3dmol.csb.pitt.edu/build/3Dmol.js');\n}\n\nvar viewer_15943232124799352 = null;\nvar warn = document.getElementById(\"3dmolwarning_15943232124799352\");\nif(warn) {\n    warn.parentNode.removeChild(warn);\n}\n$3Dmolpromise.then(function() {\nviewer_15943232124799352 = $3Dmol.createViewer($(\"#3dmolviewer_15943232124799352\"),{backgroundColor:\"white\"});\n\tviewer_15943232124799352.addModel(\"@<TRIPOS>MOLECULE\\nRES\\n8 7 1 0 1\\nSMALL\\nNO_CHARGES\\n@<TRIPOS>CRYSIN\\n    7.2807     7.0380     6.8696    90.0000    90.0000    90.0000  1  1\\n@<TRIPOS>ATOM\\n       1 C            0.9389     0.0324     0.0686 C             1 RES     \\n       2 C            2.4509     0.0324     0.0686 C             1 RES     \\n       3 H            0.5545     0.6326    -0.7615 H             1 RES     \\n       4 H            0.5545     0.4513     1.0034 H             1 RES     \\n       5 H            0.5545    -0.9866    -0.0361 H             1 RES     \\n       6 H            2.8352     1.0514     0.1733 H             1 RES     \\n       7 H            2.8352    -0.3864    -0.8662 H             1 RES     \\n       8 H            2.8352    -0.5677     0.8988 H             1 RES     \\n@<TRIPOS>BOND\\n       1        3        1 1\\n       2        6        2 1\\n       3        8        2 1\\n       4        1        2 1\\n       5        1        4 1\\n       6        1        5 1\\n       7        7        2 1\\n@<TRIPOS>SUBSTRUCTURE\\n       1 RES             1 RESIDUE    0 **** ROOT      0\\n\",\"mol2\");\n\tviewer_15943232124799352.setStyle({\"stick\": {\"radius\": 0.2, \"color\": \"grey\"}, \"sphere\": {\"scale\": 0.3, \"colorscheme\": {}}});\n\tviewer_15943232124799352.zoomTo();\nviewer_15943232124799352.render();\n});\n</script>",
      "text/html": [
       "<div id=\"3dmolviewer_15943232124799352\"  style=\"position: relative; width: 640px; height: 480px\">\n",
       "        <p id=\"3dmolwarning_15943232124799352\" style=\"background-color:#ffcccc;color:black\">You appear to be running in JupyterLab (or JavaScript failed to load for some other reason).  You need to install the 3dmol extension: <br>\n",
       "        <tt>jupyter labextension install jupyterlab_3dmol</tt></p>\n",
       "        </div>\n",
       "<script>\n",
       "\n",
       "var loadScriptAsync = function(uri){\n",
       "  return new Promise((resolve, reject) => {\n",
       "    var tag = document.createElement('script');\n",
       "    tag.src = uri;\n",
       "    tag.async = true;\n",
       "    tag.onload = () => {\n",
       "      resolve();\n",
       "    };\n",
       "  var firstScriptTag = document.getElementsByTagName('script')[0];\n",
       "  firstScriptTag.parentNode.insertBefore(tag, firstScriptTag);\n",
       "});\n",
       "};\n",
       "\n",
       "if(typeof $3Dmolpromise === 'undefined') {\n",
       "$3Dmolpromise = null;\n",
       "  $3Dmolpromise = loadScriptAsync('https://3dmol.csb.pitt.edu/build/3Dmol.js');\n",
       "}\n",
       "\n",
       "var viewer_15943232124799352 = null;\n",
       "var warn = document.getElementById(\"3dmolwarning_15943232124799352\");\n",
       "if(warn) {\n",
       "    warn.parentNode.removeChild(warn);\n",
       "}\n",
       "$3Dmolpromise.then(function() {\n",
       "viewer_15943232124799352 = $3Dmol.createViewer($(\"#3dmolviewer_15943232124799352\"),{backgroundColor:\"white\"});\n",
       "\tviewer_15943232124799352.addModel(\"@<TRIPOS>MOLECULE\\nRES\\n8 7 1 0 1\\nSMALL\\nNO_CHARGES\\n@<TRIPOS>CRYSIN\\n    7.2807     7.0380     6.8696    90.0000    90.0000    90.0000  1  1\\n@<TRIPOS>ATOM\\n       1 C            0.9389     0.0324     0.0686 C             1 RES     \\n       2 C            2.4509     0.0324     0.0686 C             1 RES     \\n       3 H            0.5545     0.6326    -0.7615 H             1 RES     \\n       4 H            0.5545     0.4513     1.0034 H             1 RES     \\n       5 H            0.5545    -0.9866    -0.0361 H             1 RES     \\n       6 H            2.8352     1.0514     0.1733 H             1 RES     \\n       7 H            2.8352    -0.3864    -0.8662 H             1 RES     \\n       8 H            2.8352    -0.5677     0.8988 H             1 RES     \\n@<TRIPOS>BOND\\n       1        3        1 1\\n       2        6        2 1\\n       3        8        2 1\\n       4        1        2 1\\n       5        1        4 1\\n       6        1        5 1\\n       7        7        2 1\\n@<TRIPOS>SUBSTRUCTURE\\n       1 RES             1 RESIDUE    0 **** ROOT      0\\n\",\"mol2\");\n",
       "\tviewer_15943232124799352.setStyle({\"stick\": {\"radius\": 0.2, \"color\": \"grey\"}, \"sphere\": {\"scale\": 0.3, \"colorscheme\": {}}});\n",
       "\tviewer_15943232124799352.zoomTo();\n",
       "viewer_15943232124799352.render();\n",
       "});\n",
       "</script>"
      ]
     },
     "metadata": {},
     "output_type": "display_data"
    }
   ],
   "source": [
    "ethane = mb.load(\"CC\", smiles=True)\n",
    "ethane.visualize().show()"
   ]
  },
  {
   "cell_type": "code",
   "execution_count": 14,
   "metadata": {},
   "outputs": [
    {
     "name": "stderr",
     "output_type": "stream",
     "text": [
      "/home/nealeellyson/miniconda3/envs/mc/lib/python3.7/site-packages/parmed/openmm/topsystem.py:238: OpenMMWarning: Adding what seems to be Urey-Bradley terms before Angles. This is unexpected, but the parameters will all be present in one form or another.\n",
      "  'all be present in one form or another.', OpenMMWarning)\n"
     ]
    }
   ],
   "source": [
    "# Load forcefields\n",
    "opls_uff = foyer.forcefields.Forcefield(forcefield_files='forcefields/FF_opls_uff_M1.xml')\n",
    "oplsaa = foyer.forcefields.load_OPLSAA()\n",
    "\n",
    "# Use foyer to apply forcefields\n",
    "typed_surface = apply_ff(surface, opls_uff)\n",
    "typed_ethane = oplsaa.apply(ethane)\n",
    "\n",
    "# Create box and species list\n",
    "box_list = [surface]\n",
    "species_list = [typed_surface, typed_ethane]"
   ]
  },
  {
   "cell_type": "code",
   "execution_count": 19,
   "metadata": {},
   "outputs": [
    {
     "name": "stdout",
     "output_type": "stream",
     "text": [
      "surface.boundingbox.lengths: [2.0970999  2.65140007 0.44999999]\n",
      "min(surface.boundingbox.lengths)/2.1: 0.21428570860908144\n"
     ]
    }
   ],
   "source": [
    "print('surface.boundingbox.lengths:', surface.boundingbox.lengths)\n",
    "print('min(surface.boundingbox.lengths)/2.1:',min(surface.boundingbox.lengths)/2.1)"
   ]
  },
  {
   "cell_type": "code",
   "execution_count": 16,
   "metadata": {},
   "outputs": [],
   "source": [
    "%%bash\n",
    "\n",
    "# Delete output of previous run\n",
    "rm -rf *.in.* species* *.out* *.inp* *.log*"
   ]
  },
  {
   "cell_type": "code",
   "execution_count": 17,
   "metadata": {},
   "outputs": [
    {
     "name": "stdout",
     "output_type": "stream",
     "text": [
      "Treating <Structure 160 atoms; 1 residues; 0 bonds; PBC (orthogonal); NOT parametrized> as a non-insertable rigid species since it has no bonds\n",
      "Using the following executables for Cassandra:\n",
      "Python: /home/nealeellyson/miniconda3/envs/mc/bin/python\n",
      "library_setup: /home/nealeellyson/miniconda3/envs/mc/bin/library_setup.py\n",
      "Cassandra: /home/nealeellyson/miniconda3/envs/mc/bin/cassandra.exe\n",
      "Generating fragment libraries...\n"
     ]
    },
    {
     "name": "stderr",
     "output_type": "stream",
     "text": [
      "/home/nealeellyson/miniconda3/envs/mc/lib/python3.7/site-packages/mbuild/formats/cassandramcf.py:178: UserWarning: No bonds found. Cassandra will interpet this as a rigid species\n",
      "  warnings.warn(\"No bonds found. Cassandra will interpet \"\n",
      "/home/nealeellyson/miniconda3/envs/mc/lib/python3.7/site-packages/mbuild/formats/cassandramcf.py:564: UserWarning: More than two atoms present but no fragments identified.\n",
      "  warnings.warn('More than two atoms present but '\n",
      "/home/nealeellyson/miniconda3/envs/mc/lib/python3.7/site-packages/mbuild/formats/cassandramcf.py:303: UserWarning: Warning, type name opls_135 will be shortened to six characters as ls_135. Please confirm your final MCF.\n",
      "  \"MCF.\".format(itype,itype[-6:]))\n",
      "/home/nealeellyson/miniconda3/envs/mc/lib/python3.7/site-packages/mbuild/formats/cassandramcf.py:303: UserWarning: Warning, type name opls_140 will be shortened to six characters as ls_140. Please confirm your final MCF.\n",
      "  \"MCF.\".format(itype,itype[-6:]))\n"
     ]
    },
    {
     "name": "stdout",
     "output_type": "stream",
     "text": [
      "Running Cassandra...\n"
     ]
    }
   ],
   "source": [
    "# Since we have an occupied box we need to specify\n",
    "# the number of each species present in the intial config\n",
    "mols_in_boxes = [[1,0]]\n",
    "\n",
    "system = mc.System(box_list, species_list, mols_in_boxes=mols_in_boxes)\n",
    "moves = mc.Moves(\"gcmc\", species_list)    # Grand Canonical Monte Carlo\n",
    "\n",
    "custom_args = {\n",
    "    \"chemical_potentials\": [\"none\", float(-30.0* u.kelvin)],\n",
    "    \"rcut_min\": float(0.5* u.angstrom),\n",
    "    \"vdw_cutoff\": (min(surface.boundingbox.lengths)/3)* u.angstrom, #min(box.lengths)/2.1, # OG: 14.0, \n",
    "    \"charge_style\": \"none\",\n",
    "    #\"charge_cutoff\": 14.0,\n",
    "    \"coord_freq\": 100,\n",
    "    \"prop_freq\": 10,\n",
    "}\n",
    "\n",
    "mc.run(system=system, \n",
    "       moves=moves, \n",
    "       run_type=\"equilibration\", \n",
    "       run_length=10000, \n",
    "       temperature= float(300 * u.K), **custom_args)"
   ]
  },
  {
   "cell_type": "code",
   "execution_count": 18,
   "metadata": {},
   "outputs": [
    {
     "name": "stdout",
     "output_type": "stream",
     "text": [
      " Cassandra simulation complete\n"
     ]
    }
   ],
   "source": [
    "!tail -n 1 mosdef*.log # Should say \"Cassandra simulation complete\""
   ]
  },
  {
   "cell_type": "code",
   "execution_count": 15,
   "metadata": {},
   "outputs": [
    {
     "name": "stdout",
     "output_type": "stream",
     "text": [
      "/home/nealeellyson/CassandraSim\n"
     ]
    },
    {
     "name": "stderr",
     "output_type": "stream",
     "text": [
      "mkdir: cannot create directory ‘output’: File exists\n",
      "mv: cannot stat ‘*.in.*’: No such file or directory\n",
      "mv: cannot move ‘species1’ to ‘output/species1’: File exists\n",
      "mv: cannot move ‘species2’ to ‘output/species2’: File exists\n",
      "mv: cannot stat ‘*.out*’: No such file or directory\n",
      "mv: cannot stat ‘*.inp*’: No such file or directory\n"
     ]
    }
   ],
   "source": [
    "%%bash\n",
    "\n",
    "# move the output\n",
    "mkdir output\n",
    "mv *.in.* species* *.out* *.inp* output"
   ]
  },
  {
   "cell_type": "code",
   "execution_count": 27,
   "metadata": {},
   "outputs": [
    {
     "name": "stdout",
     "output_type": "stream",
     "text": [
      "Copy this into Ovito Load Remote File:\n",
      "/home/nealeellyson/CassandraSim/output/gcmc.out.xyz\n"
     ]
    }
   ],
   "source": [
    "import ex_render_cassandra as erc\n",
    "import os\n",
    "import getpass\n",
    "\n",
    "# These cells are for visualizing output\n",
    "xyzfile = f\"prod_{chem_pot:.0f}_{temp:.0f}.out.xyz\"\n",
    "boxfile = f\"prod_{chem_pot:.0f}_{temp:.0f}.out.H\"\n",
    "traj = erc.make_traj(xyzfile, boxfile)\n",
    "print(\"Frames: \",len(traj))\n",
    "\n",
    "cwd = os.getcwd()\n",
    "username = getpass.getuser()\n",
    "print(\"Copy this into Ovito Load Remote File:\\n\") # From Fry\n",
    "print('sftp://'+username+'@fry'+cwd+'/'+xyzfile)"
   ]
  },
  {
   "cell_type": "code",
   "execution_count": 26,
   "metadata": {},
   "outputs": [],
   "source": [
    "xyzfile = \"output/gcmc.out.xyz\"\n",
    "boxfile = \"output/gcmc.out.H\"\n",
    "\n",
    "traj = erc.make_traj(xyzfile, boxfile)"
   ]
  },
  {
   "cell_type": "code",
   "execution_count": 27,
   "metadata": {},
   "outputs": [
    {
     "data": {
      "image/png": "\n",
      "text/plain": [
       "<IPython.core.display.Image object>"
      ]
     },
     "metadata": {},
     "output_type": "display_data"
    }
   ],
   "source": [
    "erc.display_movie(erc.render_sphere_frame, traj)\n",
    "#erc.display_movie(erc.render_sphere_frame, traj, gif=\"traj.gif\")"
   ]
  },
  {
   "cell_type": "markdown",
   "metadata": {},
   "source": [
    "# Errors:\n",
    "`Initial vdw cutoff is greater than half the minimum box length\n",
    "This error occurred in subroutine Get_Pair_Style on step 0.`\n",
    "\n",
    "Jenny: \n",
    "> Fixed by making the boxlist an empty box with correct size\n",
    "\n",
    "My fix:\n",
    "```\n",
    "\"vdw_cutoff\": min(surface.boundingbox.lengths)/3,\n",
    "\"charge_style\": \"none\",\n",
    "#\"charge_cutoff\": 14.0,\n",
    "```\n",
    "\n",
    "Open in VMD in terminal with `vmd [filename]`\n",
    "\n",
    "ovito\n",
    "set up x11 forwarding\n",
    "on fry: ssh -Y -> asks for x11 forwarding"
   ]
  },
  {
   "cell_type": "markdown",
   "metadata": {},
   "source": [
    "## Copy from LJ_example notebook in cassandra_example"
   ]
  },
  {
   "cell_type": "markdown",
   "metadata": {},
   "source": [
    "<a id=\"ai\"></a>\n",
    "### Adsorption Isotherm & Energy Plot\n",
    "\n"
   ]
  },
  {
   "cell_type": "code",
   "execution_count": 5,
   "metadata": {},
   "outputs": [
    {
     "name": "stdout",
     "output_type": "stream",
     "text": [
      "Adding [0, 0, 1] to system... \n"
     ]
    }
   ],
   "source": [
    "L = 10\n",
    "box = mb.Box(mins=[-L/2]*3, maxs=[L/2]*3)\n",
    "\n",
    "\n",
    "surface = gen_system(dims=[1, 1, 2]) # Should be double layer\n",
    "#Test surface size, we care about the surface being thick enough, \n",
    "#but gap is not a key thing and could be issue with MC sims\n",
    "surface.periodicity = surface.periodicity + np.array([0,0,1.4-0.85032099]) # Make (14 in A, convert from nm), only room for an ethane\n",
    "# Centering???\n",
    "surface.translate_to([0,0,0]) \n",
    "surface.visualize(show_ports=True, color_scheme={'O':'red',\n",
    "                                               'Te': 'black',\n",
    "                                               'V': 'black',\n",
    "                                               'Nb': 'black',\n",
    "                                               'Mo': 'black'})\n",
    "ethane = mb.load(\"CC\", smiles=True)\n",
    "#ethane.visualize().show()"
   ]
  },
  {
   "cell_type": "code",
   "execution_count": 6,
   "metadata": {},
   "outputs": [
    {
     "name": "stderr",
     "output_type": "stream",
     "text": [
      "/home/nealeellyson/miniconda3/envs/mc/lib/python3.7/site-packages/foyer/forcefield.py:433: UserWarning: No force field version number found in force field XML file.\n",
      "  'No force field version number found in force field XML file.'\n",
      "/home/nealeellyson/miniconda3/envs/mc/lib/python3.7/site-packages/foyer/forcefield.py:445: UserWarning: No force field name found in force field XML file.\n",
      "  'No force field name found in force field XML file.'\n",
      "/home/nealeellyson/miniconda3/envs/mc/lib/python3.7/site-packages/foyer/validator.py:132: ValidationWarning: You have empty smart definition(s)\n",
      "  warn(\"You have empty smart definition(s)\", ValidationWarning)\n",
      "/home/nealeellyson/miniconda3/envs/mc/lib/python3.7/site-packages/parmed/openmm/topsystem.py:238: OpenMMWarning: Adding what seems to be Urey-Bradley terms before Angles. This is unexpected, but the parameters will all be present in one form or another.\n",
      "  'all be present in one form or another.', OpenMMWarning)\n",
      "/home/nealeellyson/miniconda3/envs/mc/lib/python3.7/site-packages/foyer/forcefield.py:267: UserWarning: Parameters have not been assigned to all impropers. Total system impropers: 8, Parameterized impropers: 0. Note that if your system contains torsions of Ryckaert-Bellemans functional form, all of these torsions are processed as propers\n",
      "  warnings.warn(msg)\n"
     ]
    }
   ],
   "source": [
    "# Load forcefields\n",
    "opls_uff = foyer.forcefields.Forcefield(forcefield_files='forcefields/FF_opls_uff.xml')\n",
    "oplsaa = foyer.forcefields.load_OPLSAA()\n",
    "\n",
    "# Use foyer to apply forcefields\n",
    "typed_surface = apply_ff(surface, opls_uff)\n",
    "typed_ethane = oplsaa.apply(ethane, assert_bond_params=False, assert_angle_params=False, \n",
    "    assert_dihedral_params=False)"
   ]
  },
  {
   "cell_type": "code",
   "execution_count": 7,
   "metadata": {},
   "outputs": [],
   "source": [
    "def run_cassandra_surf(chem_pot, temp):\n",
    "    # Create box and species list\n",
    "    box_list = [surface]\n",
    "    species_list = [typed_surface,typed_ethane]\n",
    "\n",
    "    # Since we have an occupied box we need to specify\n",
    "    # the number of each species present in the intial config\n",
    "    mols_in_boxes = [[2,0]]\n",
    "\n",
    "    system = mc.System(box_list, species_list, mols_in_boxes=mols_in_boxes)\n",
    "    moves = mc.Moves(\"gcmc\", species_list)\n",
    "\n",
    "    custom_args = {\n",
    "        \"run_name\": f\"surfequil_{chem_pot:.0f}_{temp:.0f}\",\n",
    "        \"chemical_potentials\": [\"none\",chem_pot],\n",
    "        \"rcut_min\": 0.3980 * 2.5, #(or 3.0)\n",
    "        \"vdw_cutoff\": min(box.lengths)/2.1,\n",
    "        \"charge_style\": \"none\",\n",
    "        #\"charge_cutoff\": 14.0,\n",
    "        \"coord_freq\": 100,\n",
    "        \"prop_freq\": 10,\n",
    "    }\n",
    "\n",
    "    mc.run(\n",
    "        system=system, \n",
    "        moves=moves, \n",
    "        run_type=\"equilibration\", \n",
    "        run_length=3600549, # To reach ~1.33 hours\n",
    "        temperature=temp, \n",
    "        **custom_args\n",
    "    )\n",
    "    \n",
    "    # Set max translate and volume for production\n",
    "    moves.max_translate = [[0,10.0]] # angstroms\n",
    "\n",
    "    # Update run_name and restart_name\n",
    "    custom_args[\"run_name\"] = f\"surfprod_{chem_pot:.0f}_{temp:.0f}\"\n",
    "    custom_args[\"restart_name\"] = f\"surfequil_{chem_pot:.0f}_{temp:.0f}\"\n",
    "\n",
    "    mc.restart(\n",
    "        system=system,\n",
    "        moves=moves,\n",
    "        run_type=\"production\",\n",
    "        run_length=24097256, # To reach ~6.67 hours, total 8 hrs\n",
    "        temperature=temp,\n",
    "        **custom_args,\n",
    "    )"
   ]
  },
  {
   "cell_type": "markdown",
   "metadata": {},
   "source": [
    "#### W/rt equilibration\n",
    "We can tweak trial move stuff within Cassandra and could dramatically improve equilibration times\n",
    "\n",
    "#### W/rt box size\n",
    "We want a surface with ethane absorbing into it and the box height above to only focus on things absorbing into the surface. The problem is the other side of the surface and if the space is too small where the molecules can't fit between the two. But if we make it too far then we have a middle area. \n",
    "\n",
    "[Lab Meeting Notes Here](https://etherpad.boisestate.edu/p/ldrd-s20-9)\n",
    "Where we discuss equilibration, box size, "
   ]
  },
  {
   "cell_type": "code",
   "execution_count": 52,
   "metadata": {},
   "outputs": [],
   "source": [
    "!rm -f box*xyz\n",
    "#!rm -f surf*_33.out.log"
   ]
  },
  {
   "cell_type": "code",
   "execution_count": 8,
   "metadata": {},
   "outputs": [
    {
     "name": "stdout",
     "output_type": "stream",
     "text": [
      "epsilon: 0.07\n",
      "sigma:  3.5\n",
      "The unit temperature is 33 K\n"
     ]
    }
   ],
   "source": [
    "eps = typed_ethane.atoms[0].epsilon\n",
    "print(f\"epsilon: {eps:.2f}\")\n",
    "print(\"sigma: \", typed_ethane.atoms[0].sigma)\n",
    "# ParmEd is in kcal/mol\n",
    "\n",
    "kb = 0.001985875    # kcal/(mol K)\n",
    "T = eps/kb\n",
    "\n",
    "print(f\"The unit temperature is {T:.0f} K\")\n",
    "chem_pots = [i*T for i in range(0,10)] #[33] #\n",
    "temp = 2*T"
   ]
  },
  {
   "cell_type": "code",
   "execution_count": 9,
   "metadata": {},
   "outputs": [
    {
     "data": {
      "text/plain": [
       "[0.0,\n",
       " 33.23472021149368,\n",
       " 66.46944042298736,\n",
       " 99.70416063448104,\n",
       " 132.93888084597472,\n",
       " 166.1736010574684,\n",
       " 199.40832126896208,\n",
       " 232.64304148045576,\n",
       " 265.87776169194944,\n",
       " 299.11248190344315]"
      ]
     },
     "execution_count": 9,
     "metadata": {},
     "output_type": "execute_result"
    }
   ],
   "source": [
    "chem_pots"
   ]
  },
  {
   "cell_type": "code",
   "execution_count": null,
   "metadata": {},
   "outputs": [
    {
     "name": "stdout",
     "output_type": "stream",
     "text": [
      "Treating <Structure 160 atoms; 1 residues; 0 bonds; PBC (orthogonal); NOT parametrized> as a non-insertable rigid species since it has no bonds\n",
      "Using the following executables for Cassandra:\n",
      "Python: /home/nealeellyson/miniconda3/envs/mc/bin/python\n",
      "library_setup: /home/nealeellyson/miniconda3/envs/mc/bin/library_setup.py\n",
      "Cassandra: /home/nealeellyson/miniconda3/envs/mc/bin/cassandra.exe\n",
      "Generating fragment libraries...\n"
     ]
    },
    {
     "name": "stderr",
     "output_type": "stream",
     "text": [
      "/home/nealeellyson/miniconda3/envs/mc/lib/python3.7/site-packages/mbuild/formats/cassandramcf.py:178: UserWarning: No bonds found. Cassandra will interpet this as a rigid species\n",
      "  warnings.warn(\"No bonds found. Cassandra will interpet \"\n",
      "/home/nealeellyson/miniconda3/envs/mc/lib/python3.7/site-packages/mbuild/formats/cassandramcf.py:564: UserWarning: More than two atoms present but no fragments identified.\n",
      "  warnings.warn('More than two atoms present but '\n",
      "/home/nealeellyson/miniconda3/envs/mc/lib/python3.7/site-packages/mbuild/formats/cassandramcf.py:303: UserWarning: Warning, type name opls_135 will be shortened to six characters as ls_135. Please confirm your final MCF.\n",
      "  \"MCF.\".format(itype,itype[-6:]))\n",
      "/home/nealeellyson/miniconda3/envs/mc/lib/python3.7/site-packages/mbuild/formats/cassandramcf.py:303: UserWarning: Warning, type name opls_140 will be shortened to six characters as ls_140. Please confirm your final MCF.\n",
      "  \"MCF.\".format(itype,itype[-6:]))\n"
     ]
    },
    {
     "name": "stdout",
     "output_type": "stream",
     "text": [
      "Running Cassandra...\n",
      "Using the following executables for Cassandra:\n",
      "Python: /home/nealeellyson/miniconda3/envs/mc/bin/python\n",
      "library_setup: /home/nealeellyson/miniconda3/envs/mc/bin/library_setup.py\n",
      "Cassandra: /home/nealeellyson/miniconda3/envs/mc/bin/cassandra.exe\n",
      "Running Cassandra...\n"
     ]
    }
   ],
   "source": [
    "for chem_pot in chem_pots:\n",
    "    run_cassandra_surf(chem_pot,temp)\n",
    "    !rm -f box*xyz  # it won't overwrite the box..."
   ]
  },
  {
   "cell_type": "markdown",
   "metadata": {},
   "source": []
  },
  {
   "cell_type": "code",
   "execution_count": 22,
   "metadata": {
    "collapsed": true,
    "jupyter": {
     "outputs_hidden": true
    }
   },
   "outputs": [
    {
     "name": "stdout",
     "output_type": "stream",
     "text": [
      "==> mosdef_cassandra_2020-07-09_15:33:45.631426.log <==\n",
      " Cassandra simulation complete\n",
      "\n",
      "==> mosdef_cassandra_2020-07-09_16:11:55.857635.log <==\n",
      " Cassandra simulation complete\n",
      "\n",
      "==> mosdef_cassandra_2020-07-09_16:12:15.206624.log <==\n",
      " Cassandra simulation complete\n",
      "\n",
      "==> mosdef_cassandra_2020-07-09_16:12:59.911363.log <==\n",
      " Cassandra simulation complete\n",
      "\n",
      "==> mosdef_cassandra_2020-07-09_16:13:20.306337.log <==\n",
      " Cassandra simulation complete\n",
      "\n",
      "==> mosdef_cassandra_2020-07-09_16:14:08.456281.log <==\n",
      " Cassandra simulation complete\n",
      "\n",
      "==> mosdef_cassandra_2020-07-09_16:14:29.096669.log <==\n",
      " Cassandra simulation complete\n",
      "\n",
      "==> mosdef_cassandra_2020-07-09_16:15:17.412289.log <==\n",
      " Cassandra simulation complete\n",
      "\n",
      "==> mosdef_cassandra_2020-07-09_16:15:38.611830.log <==\n",
      " Cassandra simulation complete\n",
      "\n",
      "==> mosdef_cassandra_2020-07-09_16:16:29.489494.log <==\n",
      " Cassandra simulation complete\n",
      "\n",
      "==> mosdef_cassandra_2020-07-09_16:16:50.446840.log <==\n",
      " Cassandra simulation complete\n",
      "\n",
      "==> mosdef_cassandra_2020-07-09_16:17:42.853045.log <==\n",
      " Cassandra simulation complete\n",
      "\n",
      "==> mosdef_cassandra_2020-07-09_16:18:04.332119.log <==\n",
      " Cassandra simulation complete\n",
      "\n",
      "==> mosdef_cassandra_2020-07-09_16:18:54.513785.log <==\n",
      " Cassandra simulation complete\n",
      "\n",
      "==> mosdef_cassandra_2020-07-09_16:19:15.714920.log <==\n",
      " Cassandra simulation complete\n",
      "\n",
      "==> mosdef_cassandra_2020-07-09_16:20:07.301815.log <==\n",
      "Fatal Error. Stopping program.\n",
      "\n",
      "==> mosdef_cassandra_2020-07-09_16:20:18.699195.log <==\n",
      "Fatal Error. Stopping program.\n",
      "\n",
      "==> mosdef_cassandra_2020-07-09_16:20:21.786511.log <==\n",
      "Fatal Error. Stopping program.\n",
      "\n",
      "==> mosdef_cassandra_2020-07-09_16:20:32.197224.log <==\n",
      "Fatal Error. Stopping program.\n",
      "\n",
      "==> mosdef_cassandra_2020-07-09_16:20:35.318827.log <==\n",
      " Cassandra simulation complete\n",
      "\n",
      "==> mosdef_cassandra_2020-07-09_16:20:56.512062.log <==\n",
      " Cassandra simulation complete\n",
      "\n",
      "==> mosdef_cassandra_2020-07-09_19:22:52.746098.log <==\n",
      " Cassandra simulation complete\n",
      "\n",
      "==> mosdef_cassandra_2020-07-09_19:23:12.693233.log <==\n",
      " Cassandra simulation complete\n",
      "\n",
      "==> mosdef_cassandra_2020-07-09_19:23:58.257010.log <==\n",
      " Cassandra simulation complete\n",
      "\n",
      "==> mosdef_cassandra_2020-07-09_19:24:18.641593.log <==\n",
      " Cassandra simulation complete\n",
      "\n",
      "==> mosdef_cassandra_2020-07-09_19:25:05.481607.log <==\n",
      " Cassandra simulation complete\n",
      "\n",
      "==> mosdef_cassandra_2020-07-09_19:25:26.335447.log <==\n",
      " Cassandra simulation complete\n",
      "\n",
      "==> mosdef_cassandra_2020-07-09_19:26:15.384892.log <==\n",
      " Cassandra simulation complete\n",
      "\n",
      "==> mosdef_cassandra_2020-07-09_19:26:36.801060.log <==\n",
      " Cassandra simulation complete\n",
      "\n",
      "==> mosdef_cassandra_2020-07-09_19:27:29.602271.log <==\n",
      " Cassandra simulation complete\n",
      "\n",
      "==> mosdef_cassandra_2020-07-09_19:27:51.004291.log <==\n",
      " Cassandra simulation complete\n",
      "\n",
      "==> mosdef_cassandra_2020-07-09_19:28:41.891373.log <==\n",
      " Cassandra simulation complete\n",
      "\n",
      "==> mosdef_cassandra_2020-07-09_19:29:03.393911.log <==\n",
      " Cassandra simulation complete\n",
      "\n",
      "==> mosdef_cassandra_2020-07-09_19:29:55.437646.log <==\n",
      " Cassandra simulation complete\n",
      "\n",
      "==> mosdef_cassandra_2020-07-09_19:30:16.705022.log <==\n",
      " Cassandra simulation complete\n",
      "\n",
      "==> mosdef_cassandra_2020-07-09_19:31:09.262412.log <==\n",
      " Cassandra simulation complete\n",
      "\n",
      "==> mosdef_cassandra_2020-07-09_19:31:31.043236.log <==\n",
      " Cassandra simulation complete\n",
      "\n",
      "==> mosdef_cassandra_2020-07-09_19:32:27.028715.log <==\n",
      " Cassandra simulation complete\n",
      "\n",
      "==> mosdef_cassandra_2020-07-09_19:32:48.874571.log <==\n",
      " Cassandra simulation complete\n",
      "\n",
      "==> mosdef_cassandra_2020-07-09_19:33:42.776725.log <==\n",
      " Cassandra simulation complete\n",
      "\n",
      "==> mosdef_cassandra_2020-07-09_19:34:04.650203.log <==\n",
      " Cassandra simulation complete\n"
     ]
    }
   ],
   "source": [
    "# If you want to check whether your run completed successfully\n",
    "# This should say \"Cassandra simulation complete\"\n",
    "!tail -n 1 mosdef*.log"
   ]
  },
  {
   "cell_type": "code",
   "execution_count": 10,
   "metadata": {
    "collapsed": true,
    "jupyter": {
     "outputs_hidden": true
    }
   },
   "outputs": [
    {
     "name": "stdout",
     "output_type": "stream",
     "text": [
      "\n",
      "\tCopy this into Ovito Load Remote File:\n",
      "sftp://nealeellyson@fry/home/erjank_project/nealeellyson/CassandraSim_arg/surfprod_0_66.out.xyz\n",
      "\n",
      "\tCopy this into Ovito Load Remote File:\n",
      "sftp://nealeellyson@fry/home/erjank_project/nealeellyson/CassandraSim_arg/surfprod_33_66.out.xyz\n",
      "\n",
      "\tCopy this into Ovito Load Remote File:\n",
      "sftp://nealeellyson@fry/home/erjank_project/nealeellyson/CassandraSim_arg/surfprod_66_66.out.xyz\n",
      "\n",
      "\tCopy this into Ovito Load Remote File:\n",
      "sftp://nealeellyson@fry/home/erjank_project/nealeellyson/CassandraSim_arg/surfprod_100_66.out.xyz\n",
      "\n",
      "\tCopy this into Ovito Load Remote File:\n",
      "sftp://nealeellyson@fry/home/erjank_project/nealeellyson/CassandraSim_arg/surfprod_133_66.out.xyz\n",
      "\n",
      "\tCopy this into Ovito Load Remote File:\n",
      "sftp://nealeellyson@fry/home/erjank_project/nealeellyson/CassandraSim_arg/surfprod_166_66.out.xyz\n",
      "\n",
      "\tCopy this into Ovito Load Remote File:\n",
      "sftp://nealeellyson@fry/home/erjank_project/nealeellyson/CassandraSim_arg/surfprod_199_66.out.xyz\n",
      "\n",
      "\tCopy this into Ovito Load Remote File:\n",
      "sftp://nealeellyson@fry/home/erjank_project/nealeellyson/CassandraSim_arg/surfprod_233_66.out.xyz\n",
      "\n",
      "\tCopy this into Ovito Load Remote File:\n",
      "sftp://nealeellyson@fry/home/erjank_project/nealeellyson/CassandraSim_arg/surfprod_266_66.out.xyz\n",
      "\n",
      "\tCopy this into Ovito Load Remote File:\n",
      "sftp://nealeellyson@fry/home/erjank_project/nealeellyson/CassandraSim_arg/surfprod_299_66.out.xyz\n"
     ]
    }
   ],
   "source": [
    "import ex_render_cassandra as erc\n",
    "import os\n",
    "import getpass\n",
    "\n",
    "# These cells are for visualizing output\n",
    "#xyzfile = f\"surfprod_{chem_pot:.0f}_{temp:.0f}.out.xyz\"\n",
    "#boxfile = f\"surfprod_{chem_pot:.0f}_{temp:.0f}.out.H\"\n",
    "#traj = erc.make_traj(xyzfile, boxfile)\n",
    "#print(\"Frames: \",len(traj))\n",
    "\n",
    "for chem_pot in chem_pots:\n",
    "    cwd = os.getcwd()\n",
    "    username = getpass.getuser()\n",
    "    xyzfile = f\"surfprod_{chem_pot:.0f}_{temp:.0f}.out.xyz\"\n",
    "    print(\"\\n\\tCopy this into Ovito Load Remote File:\") # From Fry\n",
    "    print('sftp://'+username+'@fry'+cwd+'/'+xyzfile)"
   ]
  },
  {
   "cell_type": "code",
   "execution_count": 6,
   "metadata": {},
   "outputs": [
    {
     "name": "stdout",
     "output_type": "stream",
     "text": [
      "[[3.6005100e+06 2.7996765e+05 2.7809726e+05 ... 2.0000000e+00\n",
      "  4.3000000e+01 2.7869724e+03]\n",
      " [3.6005200e+06 2.7996945e+05 2.7809943e+05 ... 2.0000000e+00\n",
      "  4.3000000e+01 2.7869724e+03]\n",
      " [3.6005300e+06 2.7996716e+05 2.7809763e+05 ... 2.0000000e+00\n",
      "  4.3000000e+01 2.7869724e+03]\n",
      " ...\n",
      " [2.4097230e+07 2.7997976e+05 2.7808506e+05 ... 2.0000000e+00\n",
      "  4.3000000e+01 2.7869724e+03]\n",
      " [2.4097240e+07 2.7997788e+05 2.7808343e+05 ... 2.0000000e+00\n",
      "  4.3000000e+01 2.7869724e+03]\n",
      " [2.4097250e+07 2.7997749e+05 2.7808369e+05 ... 2.0000000e+00\n",
      "  4.3000000e+01 2.7869724e+03]]\n",
      "[[3.6005100e+06 2.7996765e+05 2.7809726e+05 ... 2.0000000e+00\n",
      "  4.3000000e+01 2.7869724e+03]\n",
      " [3.6005200e+06 2.7996945e+05 2.7809943e+05 ... 2.0000000e+00\n",
      "  4.3000000e+01 2.7869724e+03]\n",
      " [3.6005300e+06 2.7996716e+05 2.7809763e+05 ... 2.0000000e+00\n",
      "  4.3000000e+01 2.7869724e+03]\n",
      " ...\n",
      " [2.4097230e+07 2.7997976e+05 2.7808506e+05 ... 2.0000000e+00\n",
      "  4.3000000e+01 2.7869724e+03]\n",
      " [2.4097240e+07 2.7997788e+05 2.7808343e+05 ... 2.0000000e+00\n",
      "  4.3000000e+01 2.7869724e+03]\n",
      " [2.4097250e+07 2.7997749e+05 2.7808369e+05 ... 2.0000000e+00\n",
      "  4.3000000e+01 2.7869724e+03]]\n",
      "[[3.6005100e+06 2.7989029e+05 2.7811120e+05 ... 2.0000000e+00\n",
      "  4.7000000e+01 2.8126303e+03]\n",
      " [3.6005200e+06 2.7989244e+05 2.7811200e+05 ... 2.0000000e+00\n",
      "  4.7000000e+01 2.8126303e+03]\n",
      " [3.6005300e+06 2.7989152e+05 2.7811148e+05 ... 2.0000000e+00\n",
      "  4.7000000e+01 2.8126303e+03]\n",
      " ...\n",
      " [2.4097230e+07 2.7983348e+05 2.7810682e+05 ... 2.0000000e+00\n",
      "  4.8000000e+01 2.8190447e+03]\n",
      " [2.4097240e+07 2.7983438e+05 2.7810677e+05 ... 2.0000000e+00\n",
      "  4.8000000e+01 2.8190447e+03]\n",
      " [2.4097250e+07 2.7983883e+05 2.7811231e+05 ... 2.0000000e+00\n",
      "  4.8000000e+01 2.8190447e+03]]\n",
      "[[3.6005100e+06 2.7989029e+05 2.7811120e+05 ... 2.0000000e+00\n",
      "  4.7000000e+01 2.8126303e+03]\n",
      " [3.6005200e+06 2.7989244e+05 2.7811200e+05 ... 2.0000000e+00\n",
      "  4.7000000e+01 2.8126303e+03]\n",
      " [3.6005300e+06 2.7989152e+05 2.7811148e+05 ... 2.0000000e+00\n",
      "  4.7000000e+01 2.8126303e+03]\n",
      " ...\n",
      " [2.4097230e+07 2.7983348e+05 2.7810682e+05 ... 2.0000000e+00\n",
      "  4.8000000e+01 2.8190447e+03]\n",
      " [2.4097240e+07 2.7983438e+05 2.7810677e+05 ... 2.0000000e+00\n",
      "  4.8000000e+01 2.8190447e+03]\n",
      " [2.4097250e+07 2.7983883e+05 2.7811231e+05 ... 2.0000000e+00\n",
      "  4.8000000e+01 2.8190447e+03]]\n",
      "[[3.6005100e+06 2.7989029e+05 2.7811120e+05 ... 2.0000000e+00\n",
      "  4.7000000e+01 2.8126303e+03]\n",
      " [3.6005200e+06 2.7989244e+05 2.7811200e+05 ... 2.0000000e+00\n",
      "  4.7000000e+01 2.8126303e+03]\n",
      " [3.6005300e+06 2.7989152e+05 2.7811148e+05 ... 2.0000000e+00\n",
      "  4.7000000e+01 2.8126303e+03]\n",
      " ...\n",
      " [2.4097230e+07 2.7983348e+05 2.7810682e+05 ... 2.0000000e+00\n",
      "  4.8000000e+01 2.8190447e+03]\n",
      " [2.4097240e+07 2.7983438e+05 2.7810677e+05 ... 2.0000000e+00\n",
      "  4.8000000e+01 2.8190447e+03]\n",
      " [2.4097250e+07 2.7983883e+05 2.7811231e+05 ... 2.0000000e+00\n",
      "  4.8000000e+01 2.8190447e+03]]\n",
      "[[3.6005100e+06 2.7989029e+05 2.7811120e+05 ... 2.0000000e+00\n",
      "  4.7000000e+01 2.8126303e+03]\n",
      " [3.6005200e+06 2.7989244e+05 2.7811200e+05 ... 2.0000000e+00\n",
      "  4.7000000e+01 2.8126303e+03]\n",
      " [3.6005300e+06 2.7989152e+05 2.7811148e+05 ... 2.0000000e+00\n",
      "  4.7000000e+01 2.8126303e+03]\n",
      " ...\n",
      " [2.4097230e+07 2.7983348e+05 2.7810682e+05 ... 2.0000000e+00\n",
      "  4.8000000e+01 2.8190447e+03]\n",
      " [2.4097240e+07 2.7983438e+05 2.7810677e+05 ... 2.0000000e+00\n",
      "  4.8000000e+01 2.8190447e+03]\n",
      " [2.4097250e+07 2.7983883e+05 2.7811231e+05 ... 2.0000000e+00\n",
      "  4.8000000e+01 2.8190447e+03]]\n",
      "[[3.6005100e+06 2.7989029e+05 2.7811120e+05 ... 2.0000000e+00\n",
      "  4.7000000e+01 2.8126303e+03]\n",
      " [3.6005200e+06 2.7989244e+05 2.7811200e+05 ... 2.0000000e+00\n",
      "  4.7000000e+01 2.8126303e+03]\n",
      " [3.6005300e+06 2.7989152e+05 2.7811148e+05 ... 2.0000000e+00\n",
      "  4.7000000e+01 2.8126303e+03]\n",
      " ...\n",
      " [2.4097230e+07 2.7983348e+05 2.7810682e+05 ... 2.0000000e+00\n",
      "  4.8000000e+01 2.8190447e+03]\n",
      " [2.4097240e+07 2.7983438e+05 2.7810677e+05 ... 2.0000000e+00\n",
      "  4.8000000e+01 2.8190447e+03]\n",
      " [2.4097250e+07 2.7983883e+05 2.7811231e+05 ... 2.0000000e+00\n",
      "  4.8000000e+01 2.8190447e+03]]\n",
      "[[3.6005100e+06 2.7989029e+05 2.7811120e+05 ... 2.0000000e+00\n",
      "  4.7000000e+01 2.8126303e+03]\n",
      " [3.6005200e+06 2.7989244e+05 2.7811200e+05 ... 2.0000000e+00\n",
      "  4.7000000e+01 2.8126303e+03]\n",
      " [3.6005300e+06 2.7989152e+05 2.7811148e+05 ... 2.0000000e+00\n",
      "  4.7000000e+01 2.8126303e+03]\n",
      " ...\n",
      " [2.4097230e+07 2.7983348e+05 2.7810682e+05 ... 2.0000000e+00\n",
      "  4.8000000e+01 2.8190447e+03]\n",
      " [2.4097240e+07 2.7983438e+05 2.7810677e+05 ... 2.0000000e+00\n",
      "  4.8000000e+01 2.8190447e+03]\n",
      " [2.4097250e+07 2.7983883e+05 2.7811231e+05 ... 2.0000000e+00\n",
      "  4.8000000e+01 2.8190447e+03]]\n",
      "[[3.6005100e+06 2.7989029e+05 2.7811120e+05 ... 2.0000000e+00\n",
      "  4.7000000e+01 2.8126303e+03]\n",
      " [3.6005200e+06 2.7989244e+05 2.7811200e+05 ... 2.0000000e+00\n",
      "  4.7000000e+01 2.8126303e+03]\n",
      " [3.6005300e+06 2.7989152e+05 2.7811148e+05 ... 2.0000000e+00\n",
      "  4.7000000e+01 2.8126303e+03]\n",
      " ...\n",
      " [2.4097230e+07 2.7983348e+05 2.7810682e+05 ... 2.0000000e+00\n",
      "  4.8000000e+01 2.8190447e+03]\n",
      " [2.4097240e+07 2.7983438e+05 2.7810677e+05 ... 2.0000000e+00\n",
      "  4.8000000e+01 2.8190447e+03]\n",
      " [2.4097250e+07 2.7983883e+05 2.7811231e+05 ... 2.0000000e+00\n",
      "  4.8000000e+01 2.8190447e+03]]\n",
      "[[3.6005100e+06 2.7989029e+05 2.7811120e+05 ... 2.0000000e+00\n",
      "  4.7000000e+01 2.8126303e+03]\n",
      " [3.6005200e+06 2.7989244e+05 2.7811200e+05 ... 2.0000000e+00\n",
      "  4.7000000e+01 2.8126303e+03]\n",
      " [3.6005300e+06 2.7989152e+05 2.7811148e+05 ... 2.0000000e+00\n",
      "  4.7000000e+01 2.8126303e+03]\n",
      " ...\n",
      " [2.4097230e+07 2.7983348e+05 2.7810682e+05 ... 2.0000000e+00\n",
      "  4.8000000e+01 2.8190447e+03]\n",
      " [2.4097240e+07 2.7983438e+05 2.7810677e+05 ... 2.0000000e+00\n",
      "  4.8000000e+01 2.8190447e+03]\n",
      " [2.4097250e+07 2.7983883e+05 2.7811231e+05 ... 2.0000000e+00\n",
      "  4.8000000e+01 2.8190447e+03]]\n"
     ]
    }
   ],
   "source": [
    "# prp file is different when nmols is different\n",
    "T = 33\n",
    "chem_pots = [i*T for i in range(0,10)] #[33] #\n",
    "temp = 2*T\n",
    "pressures = []\n",
    "nmols = []\n",
    "for chem_pot in chem_pots:\n",
    "    try:\n",
    "        a = np.loadtxt(f\"surfprod_{chem_pot:.0f}_{temp:.0f}.out.prp\")\n",
    "    except:\n",
    "        pass\n",
    "    print(a)\n",
    "    pressures.append(np.mean(a[:,5]))\n",
    "    nmols.append(np.mean(a[:,8]))"
   ]
  },
  {
   "cell_type": "code",
   "execution_count": 19,
   "metadata": {},
   "outputs": [
    {
     "data": {
      "image/png": "[encoded data removed]",
      "text/plain": [
       "<Figure size 432x288 with 1 Axes>"
      ]
     },
     "metadata": {
      "needs_background": "light"
     },
     "output_type": "display_data"
    }
   ],
   "source": [
    "plt.title(r\"\"\"Adsorption isotherm for M1 & Ethanes\n",
    "at T = 2$\\frac{\\epsilon}{k_{B}}$\"\"\")\n",
    "plt.scatter(pressures,nmols)\n",
    "plt.xlabel(\"Pressure (bar)\")\n",
    "plt.ylabel(\"Number of molecules\")\n",
    "plt.show()\n",
    "# graph below suggests we need to go to higher potential(??)--not quite levelling off"
   ]
  },
  {
   "cell_type": "code",
   "execution_count": 44,
   "metadata": {},
   "outputs": [
    {
     "data": {
      "image/png": "[encoded data removed]",
      "text/plain": [
       "<Figure size 432x288 with 1 Axes>"
      ]
     },
     "metadata": {
      "needs_background": "light"
     },
     "output_type": "display_data"
    }
   ],
   "source": [
    "# if we wanted to check whether our system was equilibrated we could the equil\n",
    "# property files (.prp)\n",
    "\n",
    "# STEP Energy_Total Energy_Intra Energy_Inter Enthalpy Pressure Volume Nmols Mass_Density  \n",
    "#     (kJ/mol)-Ext  (kJ/mol)-Ext (kJ/mol)-Ext          (bar)    (A^3)        (kg/m^3) \n",
    "\n",
    "chem_pots = [66]\n",
    "\n",
    "for chem_pot in chem_pots:\n",
    "    try:\n",
    "        a = np.loadtxt(f\"surfequil_{chem_pot:.0f}_{temp:.0f}.out.prp\")\n",
    "        plt.scatter(a[30000:,0],a[30000:,1], label=f\"T = {temp:.0f}, μ = {chem_pot:.0f}\")\n",
    "    except:\n",
    "        pass\n",
    "\n",
    "plt.xlabel(\"Step\")\n",
    "plt.ylabel(\"Total Energy (kJ/mol)\")\n",
    "plt.title(\"Total Energy vs Step in Equilibration Runs\")\n",
    "plt.legend(bbox_to_anchor=(1, 1), loc='upper left', ncol=1)\n",
    "plt.show()"
   ]
  },
  {
   "cell_type": "markdown",
   "metadata": {},
   "source": [
    "# Time step calculation:"
   ]
  },
  {
   "cell_type": "code",
   "execution_count": 8,
   "metadata": {
    "collapsed": true,
    "jupyter": {
     "outputs_hidden": true,
     "source_hidden": true
    }
   },
   "outputs": [
    {
     "name": "stdout",
     "output_type": "stream",
     "text": [
      "==> surfequil_0_66.out.log <==\n",
      "         0    Minutes\n",
      "        11    Seconds\n",
      "       999         ms\n",
      "********************************************************************************\n",
      "\n",
      "==> surfequil_100_66.out.log <==\n",
      "         0    Minutes\n",
      "        13    Seconds\n",
      "       536         ms\n",
      "********************************************************************************\n",
      "\n",
      "==> surfequil_133_66.out.log <==\n",
      "         0    Minutes\n",
      "        13    Seconds\n",
      "       495         ms\n",
      "********************************************************************************\n",
      "\n",
      "==> surfequil_166_66.out.log <==\n",
      "         0    Minutes\n",
      "        13    Seconds\n",
      "       646         ms\n",
      "********************************************************************************\n",
      "\n",
      "==> surfequil_199_66.out.log <==\n",
      "         0    Minutes\n",
      "        13    Seconds\n",
      "       415         ms\n",
      "********************************************************************************\n",
      "\n",
      "==> surfequil_233_66.out.log <==\n",
      "         0    Minutes\n",
      "        13    Seconds\n",
      "       827         ms\n",
      "********************************************************************************\n",
      "\n",
      "==> surfequil_266_66.out.log <==\n",
      "         0    Minutes\n",
      "        13    Seconds\n",
      "       957         ms\n",
      "********************************************************************************\n",
      "\n",
      "==> surfequil_299_66.out.log <==\n",
      "         0    Minutes\n",
      "        13    Seconds\n",
      "       978         ms\n",
      "********************************************************************************\n",
      "\n",
      "==> surfequil_33_66.out.log <==\n",
      "         0    Minutes\n",
      "        12    Seconds\n",
      "       476         ms\n",
      "********************************************************************************\n",
      "\n",
      "==> surfequil_66_66.out.log <==\n",
      "         0    Minutes\n",
      "        12    Seconds\n",
      "       984         ms\n",
      "********************************************************************************\n"
     ]
    }
   ],
   "source": [
    "!tail -n 4 surfequil*out.log"
   ]
  },
  {
   "cell_type": "code",
   "execution_count": 17,
   "metadata": {
    "jupyter": {
     "source_hidden": true
    }
   },
   "outputs": [],
   "source": [
    "surfequil_299_66 = 13.978\n",
    "surfequil_266_66 = 13.957\n",
    "surfequil_233_66 = 13.827\n",
    "surfequil_199_66 = 13.415\n",
    "surfequil_166_66 = 13.646\n",
    "surfequil_133_66 = 13.495\n",
    "surfequil_100_66 = 13.536\n",
    "surfequil_66_66  = 12.984\n",
    "surfequil_33_66  = 12.476\n",
    "surfequil_0_66   = 11.999\n",
    "surfequil = [\n",
    "13.978,\n",
    "13.957,\n",
    "13.827,\n",
    "13.415,\n",
    "13.646,\n",
    "13.495,\n",
    "13.536,\n",
    "12.984,\n",
    "12.476,\n",
    "11.999,\n",
    "]\n",
    "\n",
    "surfprod_299_66 = 51.405\n",
    "surfprod_266_66 = 52.386\n",
    "surfprod_233_66 = 54.479\n",
    "surfprod_199_66 = 51.133\n",
    "surfprod_166_66 = 50.418\n",
    "surfprod_133_66 = 49.504\n",
    "surfprod_100_66 = 51.350\n",
    "surfprod_66_66  = 47.590\n",
    "surfprod_33_66  = 45.486\n",
    "surfprod_0_66   = 44.231\n",
    "surfprod = [\n",
    "51.405,\n",
    "52.386,\n",
    "54.479,\n",
    "51.133,\n",
    "50.418,\n",
    "49.504,\n",
    "51.350,\n",
    "47.590,\n",
    "45.486,\n",
    "44.231,\n",
    "]"
   ]
  },
  {
   "cell_type": "code",
   "execution_count": 24,
   "metadata": {
    "collapsed": true,
    "jupyter": {
     "outputs_hidden": true,
     "source_hidden": true
    }
   },
   "outputs": [],
   "source": [
    "import numpy as np\n",
    "equil = np.average(surfequil)\n",
    "prod = np.average(surfprod)\n",
    "equilrun = 10000\n",
    "prodrun = 50000\n",
    "idealtime = 8*3600"
   ]
  },
  {
   "cell_type": "code",
   "execution_count": 44,
   "metadata": {
    "jupyter": {
     "source_hidden": true
    }
   },
   "outputs": [],
   "source": [
    "idealequil = equilrun/equil*idealtime/6"
   ]
  },
  {
   "cell_type": "code",
   "execution_count": 45,
   "metadata": {
    "jupyter": {
     "source_hidden": true
    }
   },
   "outputs": [],
   "source": [
    "idealprod = prodrun/prod*idealtime/6*5"
   ]
  },
  {
   "cell_type": "code",
   "execution_count": 46,
   "metadata": {
    "collapsed": true,
    "jupyter": {
     "outputs_hidden": true,
     "source_hidden": true
    }
   },
   "outputs": [
    {
     "data": {
      "text/plain": [
       "24097256.527344365"
      ]
     },
     "execution_count": 46,
     "metadata": {},
     "output_type": "execute_result"
    }
   ],
   "source": [
    "idealprod"
   ]
  },
  {
   "cell_type": "code",
   "execution_count": 47,
   "metadata": {
    "collapsed": true,
    "jupyter": {
     "outputs_hidden": true,
     "source_hidden": true
    }
   },
   "outputs": [
    {
     "data": {
      "text/plain": [
       "3600549.08373527"
      ]
     },
     "execution_count": 47,
     "metadata": {},
     "output_type": "execute_result"
    }
   ],
   "source": [
    "idealequil"
   ]
  },
  {
   "cell_type": "code",
   "execution_count": 49,
   "metadata": {
    "collapsed": true,
    "jupyter": {
     "outputs_hidden": true,
     "source_hidden": true
    }
   },
   "outputs": [
    {
     "data": {
      "text/plain": [
       "1.3333333333333333"
      ]
     },
     "execution_count": 49,
     "metadata": {},
     "output_type": "execute_result"
    }
   ],
   "source": [
    "idealtime/6/3600"
   ]
  },
  {
   "cell_type": "code",
   "execution_count": 50,
   "metadata": {
    "collapsed": true,
    "jupyter": {
     "outputs_hidden": true,
     "source_hidden": true
    }
   },
   "outputs": [
    {
     "data": {
      "text/plain": [
       "6.666666666666667"
      ]
     },
     "execution_count": 50,
     "metadata": {},
     "output_type": "execute_result"
    }
   ],
   "source": [
    "idealtime/6*5/3600"
   ]
  },
  {
   "cell_type": "code",
   "execution_count": null,
   "metadata": {},
   "outputs": [],
   "source": []
  }
 ],
 "metadata": {
  "kernelspec": {
   "display_name": "Python 3",
   "language": "python",
   "name": "python3"
  },
  "language_info": {
   "codemirror_mode": {
    "name": "ipython",
    "version": 3
   },
   "file_extension": ".py",
   "mimetype": "text/x-python",
   "name": "python",
   "nbconvert_exporter": "python",
   "pygments_lexer": "ipython3",
   "version": "3.7.8"
  }
 },
 "nbformat": 4,
 "nbformat_minor": 4
}
