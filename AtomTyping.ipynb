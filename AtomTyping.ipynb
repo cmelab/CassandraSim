{
 "cells": [
  {
   "cell_type": "code",
   "execution_count": 3,
   "metadata": {},
   "outputs": [
    {
     "name": "stderr",
     "output_type": "stream",
     "text": [
      "/home/nealeellyson/miniconda3/envs/moscas/lib/python3.7/site-packages/foyer/forcefield.py:267: UserWarning: Parameters have not been assigned to all impropers. Total system impropers: 60, Parameterized impropers: 0. Note that if your system contains torsions of Ryckaert-Bellemans functional form, all of these torsions are processed as propers\n",
      "  warnings.warn(msg)\n"
     ]
    }
   ],
   "source": [
    "import mbuild as mb\n",
    "from foyer import Forcefield\n",
    "\n",
    "\n",
    "mb_benz = mb.load(\"/home/erjank_project/nealeellyson/MosCas/components/2Benz.pdb\")\n",
    "box = mb.box.Box([10, 10, 10])\n",
    "my_box = mb.packing.fill_box(mb_benz, n_compounds=5, box=box)\n",
    "my_box_pmd = my_box.to_parmed(box=box)\n",
    "ff = Forcefield(name=\"oplsaa\")\n",
    "struc = ff.apply(\n",
    "    my_box_pmd,\n",
    "    assert_bond_params=True,\n",
    "    assert_angle_params=True,\n",
    "    assert_dihedral_params=False,\n",
    ")\n",
    "struc.write_foyer(\"smaller.xml\", forcefield=ff)"
   ]
  }
 ],
 "metadata": {
  "kernelspec": {
   "display_name": "Python 3",
   "language": "python",
   "name": "python3"
  },
  "language_info": {
   "codemirror_mode": {
    "name": "ipython",
    "version": 3
   },
   "file_extension": ".py",
   "mimetype": "text/x-python",
   "name": "python",
   "nbconvert_exporter": "python",
   "pygments_lexer": "ipython3",
   "version": "3.7.8"
  }
 },
 "nbformat": 4,
 "nbformat_minor": 4
}
