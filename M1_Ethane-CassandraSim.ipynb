{
 "cells": [
  {
   "cell_type": "code",
   "execution_count": 1,
   "metadata": {},
   "outputs": [],
   "source": [
    "# Delete output of previous run\n",
<<<<<<< HEAD
    "#!rm -rf *.in.* species* *.out* *.inp* *.log*"
=======
    "!rm -rf *.in.* species* *.out* *.inp* *.log*"
>>>>>>> 8c6772543288a8a3ed3133285a461b1f0ab135df
   ]
  },
  {
   "cell_type": "code",
   "execution_count": 1,
   "metadata": {},
   "outputs": [],
   "source": [
    "import mosdef_cassandra as mc\n",
    "import generate_mc as gen   # Chris' script\n",
    "import mbuild as mb\n",
    "import foyer\n",
    "import numpy as np\n",
    "import matplotlib.pyplot as plt\n",
    "from scipy.spatial import ConvexHull\n",
    "import random\n",
    "import unyt as u    # For Cassandra's physical unit specification \n",
    "                    # https://mosdef-cassandra.readthedocs.io/en/latest/guides/unyts.html\n",
    "import ex_render_cassandra as erc\n",
    "import os\n",
    "import getpass\n",
    "from glob import glob"
   ]
  },
  {
   "cell_type": "code",
   "execution_count": 3,
   "metadata": {},
   "outputs": [],
   "source": [
    "def gen_system(dims=[2, 2, 2]):\n",
    "    defaults_dict = {'stoichiometry': {'Mo': 1, 'V': 0.15, 'Nb': 0.13, 'Te': 0.12},\n",
    "                     'dimensions': dims,\n",
    "                     'template': 'M1UnitCell_mod.pdb',\n",
    "                     'crystal_x': 2.148490,\n",
    "                     'crystal_y': 2.664721,\n",
    "                     'crystal_z': 0.400321,\n",
    "                     'z_reactor_size': 20.0,\n",
    "                     'forcefield': None\n",
    "                     }\n",
    "\n",
    "    system = gen.Surface(defaults_dict['dimensions'],\n",
    "                        defaults_dict['template'],\n",
    "                         defaults_dict['stoichiometry'],\n",
    "                         True,\n",
    "                         defaults_dict['crystal_x'],\n",
    "                         defaults_dict['crystal_y'],\n",
    "                         defaults_dict['crystal_z']\n",
    "                        )\n",
    "    system.translate_to(np.zeros(3)) # Added so that periodicity doesn't error out\n",
    "    system.periodicity = system.boundingbox.lengths # necessary\n",
    "    #system.to_parmed() # Triggers an error\n",
    "    return system"
   ]
  },
  {
   "cell_type": "code",
   "execution_count": 4,
   "metadata": {},
   "outputs": [],
   "source": [
    "def apply_ff(system, systemFF, organicFF=None):\n",
    "    typed_surface = systemFF.apply(system.children[0],\n",
    "                            assert_angle_params=False,\n",
    "                            assert_bond_params=False,\n",
    "                            assert_dihedral_params=False,\n",
    "                            assert_improper_params=False)\n",
    "    if organicFF:\n",
    "        for idx, child in enumerate(system.children):\n",
    "            if idx == 0:\n",
    "                pass\n",
    "            else:\n",
    "                typed_comp = organicFF.apply(child)\n",
    "                typed_surface += typed_comp\n",
    "    return typed_surface"
   ]
  },
  {
   "cell_type": "code",
   "execution_count": 5,
   "metadata": {},
   "outputs": [
    {
     "name": "stdout",
     "output_type": "stream",
     "text": [
      "Using the following executables for Cassandra:\n",
      "Python: /home/nealeellyson/miniconda3/envs/mc/bin/python\n",
      "library_setup: /home/nealeellyson/miniconda3/envs/mc/bin/library_setup.py\n",
      "Cassandra: /home/nealeellyson/miniconda3/envs/mc/bin/cassandra.exe\n"
     ]
    }
   ],
   "source": [
    "mc.utils.detect_cassandra_binaries();"
   ]
  },
  {
   "cell_type": "markdown",
   "metadata": {},
   "source": [
    "Jump to Isotherm stuff [HERE](#ai)"
   ]
  },
  {
   "cell_type": "code",
   "execution_count": 12,
   "metadata": {},
   "outputs": [
    {
     "name": "stdout",
     "output_type": "stream",
     "text": [
      "Adding [0, 0, 0] to system... \n"
     ]
    },
    {
     "data": {
      "application/3dmoljs_load.v0": "<div id=\"3dmolviewer_15943232119795337\"  style=\"position: relative; width: 640px; height: 480px\">\n        <p id=\"3dmolwarning_15943232119795337\" style=\"background-color:#ffcccc;color:black\">You appear to be running in JupyterLab (or JavaScript failed to load for some other reason).  You need to install the 3dmol extension: <br>\n        <tt>jupyter labextension install jupyterlab_3dmol</tt></p>\n        </div>\n<script>\n\nvar loadScriptAsync = function(uri){\n  return new Promise((resolve, reject) => {\n    var tag = document.createElement('script');\n    tag.src = uri;\n    tag.async = true;\n    tag.onload = () => {\n      resolve();\n    };\n  var firstScriptTag = document.getElementsByTagName('script')[0];\n  firstScriptTag.parentNode.insertBefore(tag, firstScriptTag);\n});\n};\n\nif(typeof $3Dmolpromise === 'undefined') {\n$3Dmolpromise = null;\n  $3Dmolpromise = loadScriptAsync('https://3dmol.csb.pitt.edu/build/3Dmol.js');\n}\n\nvar viewer_15943232119795337 = null;\nvar warn = document.getElementById(\"3dmolwarning_15943232119795337\");\nif(warn) {\n    warn.parentNode.removeChild(warn);\n}\n$3Dmolpromise.then(function() {\nviewer_15943232119795337 = $3Dmol.createViewer($(\"#3dmolviewer_15943232119795337\"),{backgroundColor:\"white\"});\n\tviewer_15943232119795337.addModel(\"@<TRIPOS>MOLECULE\\nRES\\n160 0 1 0 1\\nSMALL\\nNO_CHARGES\\n@<TRIPOS>CRYSIN\\n   20.9710    26.5140     4.5000    90.0000    90.0000    90.0000  1  1\\n@<TRIPOS>ATOM\\n       1 Mo          -5.5485     6.8270    -0.6804 Mo            1 RES     \\n       2 Mo          -3.0915    12.9990    -0.6164 Mo            1 RES     \\n       3 Te          -1.8165    -7.1840    -0.6504 Te            1 RES     \\n       4 Mo          -1.0425   -10.6900     0.4666 Mo            1 RES     \\n       5 Mo           0.4285    12.4550     0.4296 Mo            1 RES     \\n       6 Mo           2.5375     9.6000    -0.6564 Mo            1 RES     \\n       7 Mo           4.0985    12.8910     0.4666 Mo            1 RES     \\n       8 Nb          -5.5405    10.3850     0.4126 Nb            1 RES     \\n       9 Mo           1.7235    -8.0460     0.2766 Mo            1 RES     \\n      10 V            5.0225    -6.4960    -0.6804 V             1 RES     \\n      11 Nb          -8.0065     0.6540    -0.6144 Nb            1 RES     \\n      12 Mo           2.5655    -0.3240    -0.6164 Mo            1 RES     \\n      13 V            7.4805   -12.6690    -0.6144 V             1 RES     \\n      14 Nb          -9.2835    -5.8090    -0.6484 Nb            1 RES     \\n      15 V            1.2895     6.1400    -0.6504 V             1 RES     \\n      16 Mo           8.7575     7.5150    -0.6484 Mo            1 RES     \\n      17 Mo         -10.0565    -2.3020     0.4676 Mo            1 RES     \\n      18 Mo           0.5165     2.6340     0.4666 Mo            1 RES     \\n      19 Te           9.5305    11.0210     0.4686 Te            1 RES     \\n      20 Mo           9.6175     1.2010     0.4296 Mo            1 RES     \\n      21 V           -0.9545    -0.8690     0.4286 V             1 RES     \\n      22 Mo         -10.1435   -12.1230     0.4306 Mo            1 RES     \\n      23 Mo           7.5095     4.0550    -0.6564 Mo            1 RES     \\n      24 Mo          -3.0635    -3.7230    -0.6564 Mo            1 RES     \\n      25 Nb          -8.0345    -9.2680    -0.6554 Nb            1 RES     \\n      26 Mo           5.9475     0.7650     0.4666 Mo            1 RES     \\n      27 Mo          -4.6235    -0.4330     0.4666 Mo            1 RES     \\n      28 Te          -6.4735   -12.5590     0.4666 Te            1 RES     \\n      29 Mo          -5.5585     3.2700     0.4126 Mo            1 RES     \\n      30 Mo           5.0145    -2.9390     0.4116 Mo            1 RES     \\n      31 Mo           5.0325   -10.0530     0.4126 Mo            1 RES     \\n      32 Mo           8.3205    -4.9450     0.2756 Mo            1 RES     \\n      33 Mo          -2.2505     5.2780     0.2766 Mo            1 RES     \\n      34 Mo          -8.8465     8.3780     0.2766 Mo            1 RES     \\n      35 Mo           2.0555   -11.3340    -0.5694 Mo            1 RES     \\n      36 V            7.9905    -1.6560    -0.5704 V             1 RES     \\n      37 Te          -2.5815     1.9890    -0.5694 Te            1 RES     \\n      38 Mo          -8.5165    11.6670    -0.5694 Mo            1 RES     \\n      39 V            5.9955     9.8950    -0.0694 V             1 RES     \\n      40 Te           4.0505     3.7600    -0.0704 Te            1 RES     \\n      41 Nb          -6.5225    -3.4290    -0.0704 Nb            1 RES     \\n      42 Mo          -4.5765    -9.5640    -0.0704 Mo            1 RES     \\n      43 Te          -5.5485    -6.4960     0.3956 Te            1 RES     \\n      44 Mo           5.0235     6.8270     0.3946 Mo            1 RES     \\n      45 O           -5.5485     6.8270    -2.3524 O             1 RES     \\n      46 O           -5.5485    -6.4960     2.0636 O             1 RES     \\n      47 O           -3.1025    12.9740    -2.2894 O             1 RES     \\n      48 O           -1.8095    -7.2450    -2.3214 O             1 RES     \\n      49 O           -1.0445   -10.6990     2.1456 O             1 RES     \\n      50 O            0.4545    12.4640     2.1076 O             1 RES     \\n      51 O            2.4945     9.6800    -2.3264 O             1 RES     \\n      52 O            4.0555    12.8630     2.1436 O             1 RES     \\n      53 O            2.0595   -11.3350    -2.2804 O             1 RES     \\n      54 O           -5.5285    10.3580     2.0906 O             1 RES     \\n      55 O            1.7395    -7.9670     1.9526 O             1 RES     \\n      56 O            6.1365    10.0920     1.7506 O             1 RES     \\n      57 O            5.4365    -8.3140    -0.1084 O             1 RES     \\n      58 O            6.5585   -10.9960    -0.0924 O             1 RES     \\n      59 O           -4.7185   -12.7440    -0.0734 O             1 RES     \\n      60 O            6.6975     7.7810    -0.2024 O             1 RES     \\n      61 O            9.2235   -11.9410    -0.0794 O             1 RES     \\n      62 O           10.8275    12.5080     0.0256 O             1 RES     \\n      63 O            8.7185     9.4030    -0.0674 O             1 RES     \\n      64 O           -6.2995    -8.2440    -0.2174 O             1 RES     \\n      65 O           -9.4285   -10.4500    -0.0454 O             1 RES     \\n      66 O           -9.8685    10.1460    -0.0894 O             1 RES     \\n      67 O           10.6885     7.5180    -0.2064 O             1 RES     \\n      68 O           -8.3305   -12.8760    -0.1634 O             1 RES     \\n      69 O           -7.4925     9.9050    -0.0844 O             1 RES     \\n      70 O           -7.4695     7.2660    -0.2704 O             1 RES     \\n      71 O           -8.9435    -7.6420    -0.2494 O             1 RES     \\n      72 O           -6.6555   -10.7130    -0.1544 O             1 RES     \\n      73 O           -6.5975    12.1040     0.0256 O             1 RES     \\n      74 O           -2.3235   -11.8730    -0.1194 O             1 RES     \\n      75 O            5.0225    -6.4960    -2.3524 O             1 RES     \\n      76 O            5.0235     6.8270     2.0636 O             1 RES     \\n      77 O           -7.9945     0.6780    -2.2884 O             1 RES     \\n      78 O            2.5775    -0.3480    -2.2904 O             1 RES     \\n      79 O            7.4695   -12.6460    -2.2884 O             1 RES     \\n      80 O           -9.2905    -5.7480    -2.3194 O             1 RES     \\n      81 O            1.2835     6.0790    -2.3214 O             1 RES     \\n      82 O            8.7645     7.5760    -2.3194 O             1 RES     \\n      83 O          -10.0565    -2.2930     2.1466 O             1 RES     \\n      84 O            0.5175     2.6240     2.1456 O             1 RES     \\n      85 O            9.5305    11.0300     2.1476 O             1 RES     \\n      86 O            9.5915     1.1900     2.1076 O             1 RES     \\n      87 O           -0.9805    -0.8590     2.1066 O             1 RES     \\n      88 O          -10.1175   -12.1330     2.1076 O             1 RES     \\n      89 O            7.5535     3.9770    -2.3264 O             1 RES     \\n      90 O           -3.0205    -3.6440    -2.3264 O             1 RES     \\n      91 O           -8.0795    -9.3470    -2.3264 O             1 RES     \\n      92 O            5.9885     0.7930     2.1426 O             1 RES     \\n      93 O           -4.5805    -0.4610     2.1426 O             1 RES     \\n      94 O           -6.5135   -12.5300     2.1426 O             1 RES     \\n      95 O            7.9865    -1.6540    -2.2814 O             1 RES     \\n      96 O           -2.5865     1.9880    -2.2804 O             1 RES     \\n      97 O           -8.5125    11.6700    -2.2814 O             1 RES     \\n      98 O           -5.5715     3.2970     2.0906 O             1 RES     \\n      99 O            5.0025    -2.9650     2.0896 O             1 RES     \\n     100 O            5.0455   -10.0260     2.0906 O             1 RES     \\n     101 O            8.3035    -5.0210     1.9516 O             1 RES     \\n     102 O           -2.2655     5.3560     1.9526 O             1 RES     \\n     103 O           -8.8305     8.3010     1.9526 O             1 RES     \\n     104 O            3.9095     3.5620     1.7486 O             1 RES     \\n     105 O           -6.6625    -3.2320     1.7496 O             1 RES     \\n     106 O           -4.4355    -9.7610     1.7496 O             1 RES     \\n     107 O            4.6095    -4.6770    -0.1084 O             1 RES     \\n     108 O           -5.9625     5.0090    -0.1084 O             1 RES     \\n     109 O           -5.1355     8.6460    -0.1084 O             1 RES     \\n     110 O            3.4875    -1.9960    -0.0914 O             1 RES     \\n     111 O           -7.0845     2.3270    -0.0924 O             1 RES     \\n     112 O           -4.0135    11.3270    -0.0914 O             1 RES     \\n     113 O           -6.3785    -0.2480    -0.0714 O             1 RES     \\n     114 O            4.1935     0.5800    -0.0734 O             1 RES     \\n     115 O            5.8525    13.0760    -0.0714 O             1 RES     \\n     116 O            3.3485     5.8730    -0.2034 O             1 RES     \\n     117 O           -7.2235    -5.5420    -0.2024 O             1 RES     \\n     118 O           -3.8745    -7.4500    -0.2034 O             1 RES     \\n     119 O            0.8225    -1.0500    -0.0814 O             1 RES     \\n     120 O           -9.7485     1.3820    -0.0794 O             1 RES     \\n     121 O           -1.3485    12.2730    -0.0804 O             1 RES     \\n     122 O           -0.7815     1.1480     0.0246 O             1 RES     \\n     123 O            9.7905    -0.8150     0.0246 O             1 RES     \\n     124 O            0.2555   -12.1760     0.0256 O             1 RES     \\n     125 O            1.3275     4.2520    -0.0694 O             1 RES     \\n     126 O           -9.2445    -3.9210    -0.0674 O             1 RES     \\n     127 O           -1.8545    -9.0710    -0.0694 O             1 RES     \\n     128 O           -4.7995    -4.7480    -0.2184 O             1 RES     \\n     129 O            5.7735     5.0800    -0.2184 O             1 RES     \\n     130 O            4.2735     8.5750    -0.2174 O             1 RES     \\n     131 O           -1.6695    -2.5410    -0.0474 O             1 RES     \\n     132 O            8.9025     2.8730    -0.0454 O             1 RES     \\n     133 O            1.1435    10.7820    -0.0464 O             1 RES     \\n     134 O           -1.2285     3.5100    -0.0884 O             1 RES     \\n     135 O            9.3425    -3.1770    -0.0894 O             1 RES     \\n     136 O            0.7025    -9.8140    -0.0884 O             1 RES     \\n     137 O           -0.6415     6.1370    -0.2084 O             1 RES     \\n     138 O            9.9295    -5.8050    -0.2064 O             1 RES     \\n     139 O            0.1155    -7.1860    -0.2084 O             1 RES     \\n     140 O           -2.7675    -0.1150    -0.1654 O             1 RES     \\n     141 O            7.8045     0.4470    -0.1634 O             1 RES     \\n     142 O            2.2415   -13.4380    -0.1644 O             1 RES     \\n     143 O           -3.6055     3.7510    -0.0814 O             1 RES     \\n     144 O            6.9665    -3.4180    -0.0854 O             1 RES     \\n     145 O            3.0795    -9.5730    -0.0814 O             1 RES     \\n     146 O           -3.6275     6.3890    -0.2704 O             1 RES     \\n     147 O            6.9435    -6.0570    -0.2704 O             1 RES     \\n     148 O            3.1015    -6.9340    -0.2704 O             1 RES     \\n     149 O           -2.1555    -5.3500    -0.2504 O             1 RES     \\n     150 O            8.4175     5.6820    -0.2494 O             1 RES     \\n     151 O            1.6295     7.9730    -0.2504 O             1 RES     \\n     152 O           -4.4425    -2.2790    -0.1544 O             1 RES     \\n     153 O            6.1295     2.6110    -0.1554 O             1 RES     \\n     154 O            3.9165    11.0450    -0.1544 O             1 RES     \\n     155 O           -4.4995     1.5520     0.0256 O             1 RES     \\n     156 O            6.0725    -1.2190     0.0246 O             1 RES     \\n     157 O            3.9745   -11.7720     0.0256 O             1 RES     \\n     158 O           -8.7745    -1.1190    -0.1164 O             1 RES     \\n     159 O            1.7975     1.4500    -0.1194 O             1 RES     \\n     160 O            8.0365    12.3030    -0.1254 O             1 RES     \\n@<TRIPOS>BOND\\n@<TRIPOS>SUBSTRUCTURE\\n       1 RES             1 RESIDUE    0 **** ROOT      0\\n\",\"mol2\");\n\tviewer_15943232119795337.setStyle({\"stick\": {\"radius\": 0.2, \"color\": \"grey\"}, \"sphere\": {\"scale\": 0.3, \"colorscheme\": {\"O\": \"red\", \"Te\": \"black\", \"V\": \"black\", \"Nb\": \"black\", \"Mo\": \"black\"}}});\n\tviewer_15943232119795337.zoomTo();\nviewer_15943232119795337.render();\n});\n</script>",
      "text/html": [
       "<div id=\"3dmolviewer_15943232119795337\"  style=\"position: relative; width: 640px; height: 480px\">\n",
       "        <p id=\"3dmolwarning_15943232119795337\" style=\"background-color:#ffcccc;color:black\">You appear to be running in JupyterLab (or JavaScript failed to load for some other reason).  You need to install the 3dmol extension: <br>\n",
       "        <tt>jupyter labextension install jupyterlab_3dmol</tt></p>\n",
       "        </div>\n",
       "<script>\n",
       "\n",
       "var loadScriptAsync = function(uri){\n",
       "  return new Promise((resolve, reject) => {\n",
       "    var tag = document.createElement('script');\n",
       "    tag.src = uri;\n",
       "    tag.async = true;\n",
       "    tag.onload = () => {\n",
       "      resolve();\n",
       "    };\n",
       "  var firstScriptTag = document.getElementsByTagName('script')[0];\n",
       "  firstScriptTag.parentNode.insertBefore(tag, firstScriptTag);\n",
       "});\n",
       "};\n",
       "\n",
       "if(typeof $3Dmolpromise === 'undefined') {\n",
       "$3Dmolpromise = null;\n",
       "  $3Dmolpromise = loadScriptAsync('https://3dmol.csb.pitt.edu/build/3Dmol.js');\n",
       "}\n",
       "\n",
       "var viewer_15943232119795337 = null;\n",
       "var warn = document.getElementById(\"3dmolwarning_15943232119795337\");\n",
       "if(warn) {\n",
       "    warn.parentNode.removeChild(warn);\n",
       "}\n",
       "$3Dmolpromise.then(function() {\n",
       "viewer_15943232119795337 = $3Dmol.createViewer($(\"#3dmolviewer_15943232119795337\"),{backgroundColor:\"white\"});\n",
       "\tviewer_15943232119795337.addModel(\"@<TRIPOS>MOLECULE\\nRES\\n160 0 1 0 1\\nSMALL\\nNO_CHARGES\\n@<TRIPOS>CRYSIN\\n   20.9710    26.5140     4.5000    90.0000    90.0000    90.0000  1  1\\n@<TRIPOS>ATOM\\n       1 Mo          -5.5485     6.8270    -0.6804 Mo            1 RES     \\n       2 Mo          -3.0915    12.9990    -0.6164 Mo            1 RES     \\n       3 Te          -1.8165    -7.1840    -0.6504 Te            1 RES     \\n       4 Mo          -1.0425   -10.6900     0.4666 Mo            1 RES     \\n       5 Mo           0.4285    12.4550     0.4296 Mo            1 RES     \\n       6 Mo           2.5375     9.6000    -0.6564 Mo            1 RES     \\n       7 Mo           4.0985    12.8910     0.4666 Mo            1 RES     \\n       8 Nb          -5.5405    10.3850     0.4126 Nb            1 RES     \\n       9 Mo           1.7235    -8.0460     0.2766 Mo            1 RES     \\n      10 V            5.0225    -6.4960    -0.6804 V             1 RES     \\n      11 Nb          -8.0065     0.6540    -0.6144 Nb            1 RES     \\n      12 Mo           2.5655    -0.3240    -0.6164 Mo            1 RES     \\n      13 V            7.4805   -12.6690    -0.6144 V             1 RES     \\n      14 Nb          -9.2835    -5.8090    -0.6484 Nb            1 RES     \\n      15 V            1.2895     6.1400    -0.6504 V             1 RES     \\n      16 Mo           8.7575     7.5150    -0.6484 Mo            1 RES     \\n      17 Mo         -10.0565    -2.3020     0.4676 Mo            1 RES     \\n      18 Mo           0.5165     2.6340     0.4666 Mo            1 RES     \\n      19 Te           9.5305    11.0210     0.4686 Te            1 RES     \\n      20 Mo           9.6175     1.2010     0.4296 Mo            1 RES     \\n      21 V           -0.9545    -0.8690     0.4286 V             1 RES     \\n      22 Mo         -10.1435   -12.1230     0.4306 Mo            1 RES     \\n      23 Mo           7.5095     4.0550    -0.6564 Mo            1 RES     \\n      24 Mo          -3.0635    -3.7230    -0.6564 Mo            1 RES     \\n      25 Nb          -8.0345    -9.2680    -0.6554 Nb            1 RES     \\n      26 Mo           5.9475     0.7650     0.4666 Mo            1 RES     \\n      27 Mo          -4.6235    -0.4330     0.4666 Mo            1 RES     \\n      28 Te          -6.4735   -12.5590     0.4666 Te            1 RES     \\n      29 Mo          -5.5585     3.2700     0.4126 Mo            1 RES     \\n      30 Mo           5.0145    -2.9390     0.4116 Mo            1 RES     \\n      31 Mo           5.0325   -10.0530     0.4126 Mo            1 RES     \\n      32 Mo           8.3205    -4.9450     0.2756 Mo            1 RES     \\n      33 Mo          -2.2505     5.2780     0.2766 Mo            1 RES     \\n      34 Mo          -8.8465     8.3780     0.2766 Mo            1 RES     \\n      35 Mo           2.0555   -11.3340    -0.5694 Mo            1 RES     \\n      36 V            7.9905    -1.6560    -0.5704 V             1 RES     \\n      37 Te          -2.5815     1.9890    -0.5694 Te            1 RES     \\n      38 Mo          -8.5165    11.6670    -0.5694 Mo            1 RES     \\n      39 V            5.9955     9.8950    -0.0694 V             1 RES     \\n      40 Te           4.0505     3.7600    -0.0704 Te            1 RES     \\n      41 Nb          -6.5225    -3.4290    -0.0704 Nb            1 RES     \\n      42 Mo          -4.5765    -9.5640    -0.0704 Mo            1 RES     \\n      43 Te          -5.5485    -6.4960     0.3956 Te            1 RES     \\n      44 Mo           5.0235     6.8270     0.3946 Mo            1 RES     \\n      45 O           -5.5485     6.8270    -2.3524 O             1 RES     \\n      46 O           -5.5485    -6.4960     2.0636 O             1 RES     \\n      47 O           -3.1025    12.9740    -2.2894 O             1 RES     \\n      48 O           -1.8095    -7.2450    -2.3214 O             1 RES     \\n      49 O           -1.0445   -10.6990     2.1456 O             1 RES     \\n      50 O            0.4545    12.4640     2.1076 O             1 RES     \\n      51 O            2.4945     9.6800    -2.3264 O             1 RES     \\n      52 O            4.0555    12.8630     2.1436 O             1 RES     \\n      53 O            2.0595   -11.3350    -2.2804 O             1 RES     \\n      54 O           -5.5285    10.3580     2.0906 O             1 RES     \\n      55 O            1.7395    -7.9670     1.9526 O             1 RES     \\n      56 O            6.1365    10.0920     1.7506 O             1 RES     \\n      57 O            5.4365    -8.3140    -0.1084 O             1 RES     \\n      58 O            6.5585   -10.9960    -0.0924 O             1 RES     \\n      59 O           -4.7185   -12.7440    -0.0734 O             1 RES     \\n      60 O            6.6975     7.7810    -0.2024 O             1 RES     \\n      61 O            9.2235   -11.9410    -0.0794 O             1 RES     \\n      62 O           10.8275    12.5080     0.0256 O             1 RES     \\n      63 O            8.7185     9.4030    -0.0674 O             1 RES     \\n      64 O           -6.2995    -8.2440    -0.2174 O             1 RES     \\n      65 O           -9.4285   -10.4500    -0.0454 O             1 RES     \\n      66 O           -9.8685    10.1460    -0.0894 O             1 RES     \\n      67 O           10.6885     7.5180    -0.2064 O             1 RES     \\n      68 O           -8.3305   -12.8760    -0.1634 O             1 RES     \\n      69 O           -7.4925     9.9050    -0.0844 O             1 RES     \\n      70 O           -7.4695     7.2660    -0.2704 O             1 RES     \\n      71 O           -8.9435    -7.6420    -0.2494 O             1 RES     \\n      72 O           -6.6555   -10.7130    -0.1544 O             1 RES     \\n      73 O           -6.5975    12.1040     0.0256 O             1 RES     \\n      74 O           -2.3235   -11.8730    -0.1194 O             1 RES     \\n      75 O            5.0225    -6.4960    -2.3524 O             1 RES     \\n      76 O            5.0235     6.8270     2.0636 O             1 RES     \\n      77 O           -7.9945     0.6780    -2.2884 O             1 RES     \\n      78 O            2.5775    -0.3480    -2.2904 O             1 RES     \\n      79 O            7.4695   -12.6460    -2.2884 O             1 RES     \\n      80 O           -9.2905    -5.7480    -2.3194 O             1 RES     \\n      81 O            1.2835     6.0790    -2.3214 O             1 RES     \\n      82 O            8.7645     7.5760    -2.3194 O             1 RES     \\n      83 O          -10.0565    -2.2930     2.1466 O             1 RES     \\n      84 O            0.5175     2.6240     2.1456 O             1 RES     \\n      85 O            9.5305    11.0300     2.1476 O             1 RES     \\n      86 O            9.5915     1.1900     2.1076 O             1 RES     \\n      87 O           -0.9805    -0.8590     2.1066 O             1 RES     \\n      88 O          -10.1175   -12.1330     2.1076 O             1 RES     \\n      89 O            7.5535     3.9770    -2.3264 O             1 RES     \\n      90 O           -3.0205    -3.6440    -2.3264 O             1 RES     \\n      91 O           -8.0795    -9.3470    -2.3264 O             1 RES     \\n      92 O            5.9885     0.7930     2.1426 O             1 RES     \\n      93 O           -4.5805    -0.4610     2.1426 O             1 RES     \\n      94 O           -6.5135   -12.5300     2.1426 O             1 RES     \\n      95 O            7.9865    -1.6540    -2.2814 O             1 RES     \\n      96 O           -2.5865     1.9880    -2.2804 O             1 RES     \\n      97 O           -8.5125    11.6700    -2.2814 O             1 RES     \\n      98 O           -5.5715     3.2970     2.0906 O             1 RES     \\n      99 O            5.0025    -2.9650     2.0896 O             1 RES     \\n     100 O            5.0455   -10.0260     2.0906 O             1 RES     \\n     101 O            8.3035    -5.0210     1.9516 O             1 RES     \\n     102 O           -2.2655     5.3560     1.9526 O             1 RES     \\n     103 O           -8.8305     8.3010     1.9526 O             1 RES     \\n     104 O            3.9095     3.5620     1.7486 O             1 RES     \\n     105 O           -6.6625    -3.2320     1.7496 O             1 RES     \\n     106 O           -4.4355    -9.7610     1.7496 O             1 RES     \\n     107 O            4.6095    -4.6770    -0.1084 O             1 RES     \\n     108 O           -5.9625     5.0090    -0.1084 O             1 RES     \\n     109 O           -5.1355     8.6460    -0.1084 O             1 RES     \\n     110 O            3.4875    -1.9960    -0.0914 O             1 RES     \\n     111 O           -7.0845     2.3270    -0.0924 O             1 RES     \\n     112 O           -4.0135    11.3270    -0.0914 O             1 RES     \\n     113 O           -6.3785    -0.2480    -0.0714 O             1 RES     \\n     114 O            4.1935     0.5800    -0.0734 O             1 RES     \\n     115 O            5.8525    13.0760    -0.0714 O             1 RES     \\n     116 O            3.3485     5.8730    -0.2034 O             1 RES     \\n     117 O           -7.2235    -5.5420    -0.2024 O             1 RES     \\n     118 O           -3.8745    -7.4500    -0.2034 O             1 RES     \\n     119 O            0.8225    -1.0500    -0.0814 O             1 RES     \\n     120 O           -9.7485     1.3820    -0.0794 O             1 RES     \\n     121 O           -1.3485    12.2730    -0.0804 O             1 RES     \\n     122 O           -0.7815     1.1480     0.0246 O             1 RES     \\n     123 O            9.7905    -0.8150     0.0246 O             1 RES     \\n     124 O            0.2555   -12.1760     0.0256 O             1 RES     \\n     125 O            1.3275     4.2520    -0.0694 O             1 RES     \\n     126 O           -9.2445    -3.9210    -0.0674 O             1 RES     \\n     127 O           -1.8545    -9.0710    -0.0694 O             1 RES     \\n     128 O           -4.7995    -4.7480    -0.2184 O             1 RES     \\n     129 O            5.7735     5.0800    -0.2184 O             1 RES     \\n     130 O            4.2735     8.5750    -0.2174 O             1 RES     \\n     131 O           -1.6695    -2.5410    -0.0474 O             1 RES     \\n     132 O            8.9025     2.8730    -0.0454 O             1 RES     \\n     133 O            1.1435    10.7820    -0.0464 O             1 RES     \\n     134 O           -1.2285     3.5100    -0.0884 O             1 RES     \\n     135 O            9.3425    -3.1770    -0.0894 O             1 RES     \\n     136 O            0.7025    -9.8140    -0.0884 O             1 RES     \\n     137 O           -0.6415     6.1370    -0.2084 O             1 RES     \\n     138 O            9.9295    -5.8050    -0.2064 O             1 RES     \\n     139 O            0.1155    -7.1860    -0.2084 O             1 RES     \\n     140 O           -2.7675    -0.1150    -0.1654 O             1 RES     \\n     141 O            7.8045     0.4470    -0.1634 O             1 RES     \\n     142 O            2.2415   -13.4380    -0.1644 O             1 RES     \\n     143 O           -3.6055     3.7510    -0.0814 O             1 RES     \\n     144 O            6.9665    -3.4180    -0.0854 O             1 RES     \\n     145 O            3.0795    -9.5730    -0.0814 O             1 RES     \\n     146 O           -3.6275     6.3890    -0.2704 O             1 RES     \\n     147 O            6.9435    -6.0570    -0.2704 O             1 RES     \\n     148 O            3.1015    -6.9340    -0.2704 O             1 RES     \\n     149 O           -2.1555    -5.3500    -0.2504 O             1 RES     \\n     150 O            8.4175     5.6820    -0.2494 O             1 RES     \\n     151 O            1.6295     7.9730    -0.2504 O             1 RES     \\n     152 O           -4.4425    -2.2790    -0.1544 O             1 RES     \\n     153 O            6.1295     2.6110    -0.1554 O             1 RES     \\n     154 O            3.9165    11.0450    -0.1544 O             1 RES     \\n     155 O           -4.4995     1.5520     0.0256 O             1 RES     \\n     156 O            6.0725    -1.2190     0.0246 O             1 RES     \\n     157 O            3.9745   -11.7720     0.0256 O             1 RES     \\n     158 O           -8.7745    -1.1190    -0.1164 O             1 RES     \\n     159 O            1.7975     1.4500    -0.1194 O             1 RES     \\n     160 O            8.0365    12.3030    -0.1254 O             1 RES     \\n@<TRIPOS>BOND\\n@<TRIPOS>SUBSTRUCTURE\\n       1 RES             1 RESIDUE    0 **** ROOT      0\\n\",\"mol2\");\n",
       "\tviewer_15943232119795337.setStyle({\"stick\": {\"radius\": 0.2, \"color\": \"grey\"}, \"sphere\": {\"scale\": 0.3, \"colorscheme\": {\"O\": \"red\", \"Te\": \"black\", \"V\": \"black\", \"Nb\": \"black\", \"Mo\": \"black\"}}});\n",
       "\tviewer_15943232119795337.zoomTo();\n",
       "viewer_15943232119795337.render();\n",
       "});\n",
       "</script>"
      ]
     },
     "metadata": {},
     "output_type": "display_data"
    },
    {
     "data": {
      "text/plain": [
       "<py3Dmol.view at 0x7f2400020350>"
      ]
     },
     "execution_count": 12,
     "metadata": {},
     "output_type": "execute_result"
    }
   ],
   "source": [
    "surface = gen_system(dims=[1, 1, 1])\n",
    "surface.visualize(show_ports=True, color_scheme={'O':'red',\n",
    "                                               'Te': 'black',\n",
    "                                               'V': 'black',\n",
    "                                               'Nb': 'black',\n",
    "                                               'Mo': 'black'})"
   ]
  },
  {
   "cell_type": "code",
   "execution_count": 13,
   "metadata": {},
   "outputs": [
    {
     "data": {
      "application/3dmoljs_load.v0": "<div id=\"3dmolviewer_15943232124799352\"  style=\"position: relative; width: 640px; height: 480px\">\n        <p id=\"3dmolwarning_15943232124799352\" style=\"background-color:#ffcccc;color:black\">You appear to be running in JupyterLab (or JavaScript failed to load for some other reason).  You need to install the 3dmol extension: <br>\n        <tt>jupyter labextension install jupyterlab_3dmol</tt></p>\n        </div>\n<script>\n\nvar loadScriptAsync = function(uri){\n  return new Promise((resolve, reject) => {\n    var tag = document.createElement('script');\n    tag.src = uri;\n    tag.async = true;\n    tag.onload = () => {\n      resolve();\n    };\n  var firstScriptTag = document.getElementsByTagName('script')[0];\n  firstScriptTag.parentNode.insertBefore(tag, firstScriptTag);\n});\n};\n\nif(typeof $3Dmolpromise === 'undefined') {\n$3Dmolpromise = null;\n  $3Dmolpromise = loadScriptAsync('https://3dmol.csb.pitt.edu/build/3Dmol.js');\n}\n\nvar viewer_15943232124799352 = null;\nvar warn = document.getElementById(\"3dmolwarning_15943232124799352\");\nif(warn) {\n    warn.parentNode.removeChild(warn);\n}\n$3Dmolpromise.then(function() {\nviewer_15943232124799352 = $3Dmol.createViewer($(\"#3dmolviewer_15943232124799352\"),{backgroundColor:\"white\"});\n\tviewer_15943232124799352.addModel(\"@<TRIPOS>MOLECULE\\nRES\\n8 7 1 0 1\\nSMALL\\nNO_CHARGES\\n@<TRIPOS>CRYSIN\\n    7.2807     7.0380     6.8696    90.0000    90.0000    90.0000  1  1\\n@<TRIPOS>ATOM\\n       1 C            0.9389     0.0324     0.0686 C             1 RES     \\n       2 C            2.4509     0.0324     0.0686 C             1 RES     \\n       3 H            0.5545     0.6326    -0.7615 H             1 RES     \\n       4 H            0.5545     0.4513     1.0034 H             1 RES     \\n       5 H            0.5545    -0.9866    -0.0361 H             1 RES     \\n       6 H            2.8352     1.0514     0.1733 H             1 RES     \\n       7 H            2.8352    -0.3864    -0.8662 H             1 RES     \\n       8 H            2.8352    -0.5677     0.8988 H             1 RES     \\n@<TRIPOS>BOND\\n       1        3        1 1\\n       2        6        2 1\\n       3        8        2 1\\n       4        1        2 1\\n       5        1        4 1\\n       6        1        5 1\\n       7        7        2 1\\n@<TRIPOS>SUBSTRUCTURE\\n       1 RES             1 RESIDUE    0 **** ROOT      0\\n\",\"mol2\");\n\tviewer_15943232124799352.setStyle({\"stick\": {\"radius\": 0.2, \"color\": \"grey\"}, \"sphere\": {\"scale\": 0.3, \"colorscheme\": {}}});\n\tviewer_15943232124799352.zoomTo();\nviewer_15943232124799352.render();\n});\n</script>",
      "text/html": [
       "<div id=\"3dmolviewer_15943232124799352\"  style=\"position: relative; width: 640px; height: 480px\">\n",
       "        <p id=\"3dmolwarning_15943232124799352\" style=\"background-color:#ffcccc;color:black\">You appear to be running in JupyterLab (or JavaScript failed to load for some other reason).  You need to install the 3dmol extension: <br>\n",
       "        <tt>jupyter labextension install jupyterlab_3dmol</tt></p>\n",
       "        </div>\n",
       "<script>\n",
       "\n",
       "var loadScriptAsync = function(uri){\n",
       "  return new Promise((resolve, reject) => {\n",
       "    var tag = document.createElement('script');\n",
       "    tag.src = uri;\n",
       "    tag.async = true;\n",
       "    tag.onload = () => {\n",
       "      resolve();\n",
       "    };\n",
       "  var firstScriptTag = document.getElementsByTagName('script')[0];\n",
       "  firstScriptTag.parentNode.insertBefore(tag, firstScriptTag);\n",
       "});\n",
       "};\n",
       "\n",
       "if(typeof $3Dmolpromise === 'undefined') {\n",
       "$3Dmolpromise = null;\n",
       "  $3Dmolpromise = loadScriptAsync('https://3dmol.csb.pitt.edu/build/3Dmol.js');\n",
       "}\n",
       "\n",
       "var viewer_15943232124799352 = null;\n",
       "var warn = document.getElementById(\"3dmolwarning_15943232124799352\");\n",
       "if(warn) {\n",
       "    warn.parentNode.removeChild(warn);\n",
       "}\n",
       "$3Dmolpromise.then(function() {\n",
       "viewer_15943232124799352 = $3Dmol.createViewer($(\"#3dmolviewer_15943232124799352\"),{backgroundColor:\"white\"});\n",
       "\tviewer_15943232124799352.addModel(\"@<TRIPOS>MOLECULE\\nRES\\n8 7 1 0 1\\nSMALL\\nNO_CHARGES\\n@<TRIPOS>CRYSIN\\n    7.2807     7.0380     6.8696    90.0000    90.0000    90.0000  1  1\\n@<TRIPOS>ATOM\\n       1 C            0.9389     0.0324     0.0686 C             1 RES     \\n       2 C            2.4509     0.0324     0.0686 C             1 RES     \\n       3 H            0.5545     0.6326    -0.7615 H             1 RES     \\n       4 H            0.5545     0.4513     1.0034 H             1 RES     \\n       5 H            0.5545    -0.9866    -0.0361 H             1 RES     \\n       6 H            2.8352     1.0514     0.1733 H             1 RES     \\n       7 H            2.8352    -0.3864    -0.8662 H             1 RES     \\n       8 H            2.8352    -0.5677     0.8988 H             1 RES     \\n@<TRIPOS>BOND\\n       1        3        1 1\\n       2        6        2 1\\n       3        8        2 1\\n       4        1        2 1\\n       5        1        4 1\\n       6        1        5 1\\n       7        7        2 1\\n@<TRIPOS>SUBSTRUCTURE\\n       1 RES             1 RESIDUE    0 **** ROOT      0\\n\",\"mol2\");\n",
       "\tviewer_15943232124799352.setStyle({\"stick\": {\"radius\": 0.2, \"color\": \"grey\"}, \"sphere\": {\"scale\": 0.3, \"colorscheme\": {}}});\n",
       "\tviewer_15943232124799352.zoomTo();\n",
       "viewer_15943232124799352.render();\n",
       "});\n",
       "</script>"
      ]
     },
     "metadata": {},
     "output_type": "display_data"
    }
   ],
   "source": [
    "ethane = mb.load(\"CC\", smiles=True)\n",
    "ethane.visualize().show()"
   ]
  },
  {
   "cell_type": "code",
   "execution_count": 14,
   "metadata": {},
   "outputs": [
    {
     "name": "stderr",
     "output_type": "stream",
     "text": [
      "/home/nealeellyson/miniconda3/envs/mc/lib/python3.7/site-packages/parmed/openmm/topsystem.py:238: OpenMMWarning: Adding what seems to be Urey-Bradley terms before Angles. This is unexpected, but the parameters will all be present in one form or another.\n",
      "  'all be present in one form or another.', OpenMMWarning)\n"
     ]
    }
   ],
   "source": [
    "# Load forcefields\n",
    "opls_uff = foyer.forcefields.Forcefield(forcefield_files='forcefields/FF_opls_uff_M1.xml')\n",
    "oplsaa = foyer.forcefields.load_OPLSAA()\n",
    "\n",
    "# Use foyer to apply forcefields\n",
    "typed_surface = apply_ff(surface, opls_uff)\n",
    "typed_ethane = oplsaa.apply(ethane)\n",
    "\n",
    "# Create box and species list\n",
    "box_list = [surface]\n",
    "species_list = [typed_surface, typed_ethane]"
   ]
  },
  {
   "cell_type": "code",
   "execution_count": 19,
   "metadata": {},
   "outputs": [
    {
     "name": "stdout",
     "output_type": "stream",
     "text": [
      "surface.boundingbox.lengths: [2.0970999  2.65140007 0.44999999]\n",
      "min(surface.boundingbox.lengths)/2.1: 0.21428570860908144\n"
     ]
    }
   ],
   "source": [
    "print('surface.boundingbox.lengths:', surface.boundingbox.lengths)\n",
    "print('min(surface.boundingbox.lengths)/2.1:',min(surface.boundingbox.lengths)/2.1)"
   ]
  },
  {
   "cell_type": "code",
   "execution_count": 16,
   "metadata": {},
   "outputs": [],
   "source": [
    "%%bash\n",
    "\n",
    "# Delete output of previous run\n",
    "rm -rf *.in.* species* *.out* *.inp* *.log*"
   ]
  },
  {
   "cell_type": "code",
   "execution_count": 17,
   "metadata": {},
   "outputs": [
    {
     "name": "stdout",
     "output_type": "stream",
     "text": [
      "Treating <Structure 160 atoms; 1 residues; 0 bonds; PBC (orthogonal); NOT parametrized> as a non-insertable rigid species since it has no bonds\n",
      "Using the following executables for Cassandra:\n",
      "Python: /home/nealeellyson/miniconda3/envs/mc/bin/python\n",
      "library_setup: /home/nealeellyson/miniconda3/envs/mc/bin/library_setup.py\n",
      "Cassandra: /home/nealeellyson/miniconda3/envs/mc/bin/cassandra.exe\n",
      "Generating fragment libraries...\n"
     ]
    },
    {
     "name": "stderr",
     "output_type": "stream",
     "text": [
      "/home/nealeellyson/miniconda3/envs/mc/lib/python3.7/site-packages/mbuild/formats/cassandramcf.py:178: UserWarning: No bonds found. Cassandra will interpet this as a rigid species\n",
      "  warnings.warn(\"No bonds found. Cassandra will interpet \"\n",
      "/home/nealeellyson/miniconda3/envs/mc/lib/python3.7/site-packages/mbuild/formats/cassandramcf.py:564: UserWarning: More than two atoms present but no fragments identified.\n",
      "  warnings.warn('More than two atoms present but '\n",
      "/home/nealeellyson/miniconda3/envs/mc/lib/python3.7/site-packages/mbuild/formats/cassandramcf.py:303: UserWarning: Warning, type name opls_135 will be shortened to six characters as ls_135. Please confirm your final MCF.\n",
      "  \"MCF.\".format(itype,itype[-6:]))\n",
      "/home/nealeellyson/miniconda3/envs/mc/lib/python3.7/site-packages/mbuild/formats/cassandramcf.py:303: UserWarning: Warning, type name opls_140 will be shortened to six characters as ls_140. Please confirm your final MCF.\n",
      "  \"MCF.\".format(itype,itype[-6:]))\n"
     ]
    },
    {
     "name": "stdout",
     "output_type": "stream",
     "text": [
      "Running Cassandra...\n"
     ]
    }
   ],
   "source": [
    "# Since we have an occupied box we need to specify\n",
    "# the number of each species present in the intial config\n",
    "mols_in_boxes = [[1,0]]\n",
    "\n",
    "system = mc.System(box_list, species_list, mols_in_boxes=mols_in_boxes)\n",
    "moves = mc.Moves(\"gcmc\", species_list)    # Grand Canonical Monte Carlo\n",
    "\n",
    "custom_args = {\n",
    "    \"chemical_potentials\": [\"none\", float(-30.0* u.kelvin)],\n",
    "    \"rcut_min\": float(0.5* u.angstrom),\n",
    "    \"vdw_cutoff\": (min(surface.boundingbox.lengths)/3)* u.angstrom, #min(box.lengths)/2.1, # OG: 14.0, \n",
    "    \"charge_style\": \"none\",\n",
    "    #\"charge_cutoff\": 14.0,\n",
    "    \"coord_freq\": 100,\n",
    "    \"prop_freq\": 10,\n",
    "}\n",
    "\n",
    "mc.run(system=system, \n",
    "       moves=moves, \n",
    "       run_type=\"equilibration\", \n",
    "       run_length=10000, \n",
    "       temperature= float(300 * u.K), **custom_args)"
   ]
  },
  {
   "cell_type": "code",
   "execution_count": 18,
   "metadata": {},
   "outputs": [
    {
     "name": "stdout",
     "output_type": "stream",
     "text": [
      " Cassandra simulation complete\n"
     ]
    }
   ],
   "source": [
    "!tail -n 1 mosdef*.log # Should say \"Cassandra simulation complete\""
   ]
  },
  {
   "cell_type": "code",
   "execution_count": 15,
   "metadata": {},
   "outputs": [
    {
     "name": "stdout",
     "output_type": "stream",
     "text": [
      "/home/nealeellyson/CassandraSim\n"
     ]
    },
    {
     "name": "stderr",
     "output_type": "stream",
     "text": [
      "mkdir: cannot create directory ‘output’: File exists\n",
      "mv: cannot stat ‘*.in.*’: No such file or directory\n",
      "mv: cannot move ‘species1’ to ‘output/species1’: File exists\n",
      "mv: cannot move ‘species2’ to ‘output/species2’: File exists\n",
      "mv: cannot stat ‘*.out*’: No such file or directory\n",
      "mv: cannot stat ‘*.inp*’: No such file or directory\n"
     ]
    }
   ],
   "source": [
    "%%bash\n",
    "\n",
    "# move the output\n",
    "mkdir output\n",
    "mv *.in.* species* *.out* *.inp* output"
   ]
  },
  {
   "cell_type": "code",
   "execution_count": 27,
   "metadata": {},
   "outputs": [
    {
     "name": "stdout",
     "output_type": "stream",
     "text": [
      "Copy this into Ovito Load Remote File:\n",
      "/home/nealeellyson/CassandraSim/output/gcmc.out.xyz\n"
     ]
    }
   ],
   "source": [
    "import ex_render_cassandra as erc\n",
    "import os\n",
    "import getpass\n",
    "\n",
    "# These cells are for visualizing output\n",
    "xyzfile = f\"prod_{chem_pot:.0f}_{temp:.0f}.out.xyz\"\n",
    "boxfile = f\"prod_{chem_pot:.0f}_{temp:.0f}.out.H\"\n",
    "traj = erc.make_traj(xyzfile, boxfile)\n",
    "print(\"Frames: \",len(traj))\n",
    "\n",
    "cwd = os.getcwd()\n",
    "username = getpass.getuser()\n",
    "print(\"Copy this into Ovito Load Remote File:\\n\") # From Fry\n",
    "print('sftp://'+username+'@fry'+cwd+'/'+xyzfile)"
   ]
  },
  {
   "cell_type": "code",
   "execution_count": 26,
   "metadata": {},
   "outputs": [],
   "source": [
    "xyzfile = \"output/gcmc.out.xyz\"\n",
    "boxfile = \"output/gcmc.out.H\"\n",
    "\n",
    "traj = erc.make_traj(xyzfile, boxfile)"
   ]
  },
  {
   "cell_type": "code",
   "execution_count": 27,
   "metadata": {},
   "outputs": [
    {
     "data": {
      "image/png": "\n",
      "text/plain": [
       "<IPython.core.display.Image object>"
      ]
     },
     "metadata": {},
     "output_type": "display_data"
    }
   ],
   "source": [
    "erc.display_movie(erc.render_sphere_frame, traj)\n",
    "#erc.display_movie(erc.render_sphere_frame, traj, gif=\"traj.gif\")"
   ]
  },
  {
   "cell_type": "markdown",
   "metadata": {},
   "source": [
    "# Errors:\n",
    "`Initial vdw cutoff is greater than half the minimum box length\n",
    "This error occurred in subroutine Get_Pair_Style on step 0.`\n",
    "\n",
    "Jenny: \n",
    "> Fixed by making the boxlist an empty box with correct size\n",
    "\n",
    "My fix:\n",
    "```\n",
    "\"vdw_cutoff\": min(surface.boundingbox.lengths)/3,\n",
    "\"charge_style\": \"none\",\n",
    "#\"charge_cutoff\": 14.0,\n",
    "```\n",
    "\n",
    "Open in VMD in terminal with `vmd [filename]`\n",
    "\n",
    "ovito\n",
    "set up x11 forwarding\n",
    "on fry: ssh -Y -> asks for x11 forwarding"
   ]
  },
  {
   "cell_type": "markdown",
   "metadata": {},
   "source": [
    "## Copy from LJ_example notebook in cassandra_example"
   ]
  },
  {
   "cell_type": "markdown",
   "metadata": {},
   "source": [
    "<a id=\"ai\"></a>\n",
    "### Adsorption Isotherm & Energy Plot\n",
    "\n"
   ]
  },
  {
   "cell_type": "code",
   "execution_count": 36,
   "metadata": {},
   "outputs": [
    {
     "name": "stdout",
     "output_type": "stream",
     "text": [
      "Adding [0, 0, 1] to system... \n"
     ]
    },
    {
     "name": "stderr",
     "output_type": "stream",
     "text": [
      "/home/nealeellyson/miniconda3/envs/mc/lib/python3.7/site-packages/openbabel/__init__.py:14: UserWarning: \"import openbabel\" is deprecated, instead use \"from openbabel import openbabel\"\n",
      "  warnings.warn('\"import openbabel\" is deprecated, instead use \"from openbabel import openbabel\"')\n",
      "/home/nealeellyson/miniconda3/envs/mc/lib/python3.7/site-packages/mbuild/compound.py:2749: UserWarning: No unitcell detected for pybel.Molecule CC\t\n",
      "\n",
      "  warn(\"No unitcell detected for pybel.Molecule {}\".format(pybel_mol))\n"
     ]
    }
   ],
   "source": [
    "L = 10\n",
    "box = mb.Box(mins=[-L/2]*3, maxs=[L/2]*3)\n",
    "\n",
    "\n",
    "surface = gen_system(dims=[1, 1, 2]) # Should be double layer\n",
    "#Test surface size, we care about the surface being thick enough, \n",
    "#but gap is not a key thing and could be issue with MC sims\n",
    "surface.periodicity = surface.periodicity + np.array([0,0,1.4-0.85032099]) # Make (14 in A, convert from nm), only room for an ethane\n",
    "# Centering???\n",
    "surface.translate_to([0,0,0]) \n",
    "surface.visualize(show_ports=True, color_scheme={'O':'red',\n",
    "                                               'Te': 'black',\n",
    "                                               'V': 'black',\n",
    "                                               'Nb': 'black',\n",
    "                                               'Mo': 'black'})\n",
    "ethane = mb.load(\"CC\", smiles=True)\n",
    "#ethane.visualize().show()"
   ]
  },
  {
   "cell_type": "code",
   "execution_count": 37,
   "metadata": {},
   "outputs": [
    {
     "name": "stderr",
     "output_type": "stream",
     "text": [
      "/home/nealeellyson/miniconda3/envs/mc/lib/python3.7/site-packages/foyer/forcefield.py:433: UserWarning: No force field version number found in force field XML file.\n",
      "  'No force field version number found in force field XML file.'\n",
      "/home/nealeellyson/miniconda3/envs/mc/lib/python3.7/site-packages/foyer/forcefield.py:445: UserWarning: No force field name found in force field XML file.\n",
      "  'No force field name found in force field XML file.'\n",
      "/home/nealeellyson/miniconda3/envs/mc/lib/python3.7/site-packages/foyer/validator.py:132: ValidationWarning: You have empty smart definition(s)\n",
      "  warn(\"You have empty smart definition(s)\", ValidationWarning)\n",
      "/home/nealeellyson/miniconda3/envs/mc/lib/python3.7/site-packages/parmed/openmm/topsystem.py:238: OpenMMWarning: Adding what seems to be Urey-Bradley terms before Angles. This is unexpected, but the parameters will all be present in one form or another.\n",
      "  'all be present in one form or another.', OpenMMWarning)\n",
      "/home/nealeellyson/miniconda3/envs/mc/lib/python3.7/site-packages/foyer/forcefield.py:267: UserWarning: Parameters have not been assigned to all impropers. Total system impropers: 8, Parameterized impropers: 0. Note that if your system contains torsions of Ryckaert-Bellemans functional form, all of these torsions are processed as propers\n",
      "  warnings.warn(msg)\n"
     ]
    }
   ],
   "source": [
    "# Load forcefields\n",
    "opls_uff = foyer.forcefields.Forcefield(forcefield_files='forcefields/FF_opls_uff.xml')\n",
    "oplsaa = foyer.forcefields.load_OPLSAA()\n",
    "\n",
    "# Use foyer to apply forcefields\n",
    "typed_surface = apply_ff(surface, opls_uff)\n",
    "typed_ethane = oplsaa.apply(ethane, assert_bond_params=False, assert_angle_params=False, \n",
    "    assert_dihedral_params=False)"
   ]
  },
  {
   "cell_type": "code",
   "execution_count": 51,
   "metadata": {},
   "outputs": [],
   "source": [
    "def run_cassandra_surf(chem_pot, temp):\n",
    "    # Create box and species list\n",
    "    box_list = [surface]\n",
    "    species_list = [typed_surface,typed_ethane]\n",
    "\n",
    "    # Since we have an occupied box we need to specify\n",
    "    # the number of each species present in the intial config\n",
    "    mols_in_boxes = [[2,0]]\n",
    "\n",
    "    system = mc.System(box_list, species_list, mols_in_boxes=mols_in_boxes)\n",
    "    moves = mc.Moves(\"gcmc\", species_list)\n",
    "\n",
    "    custom_args = {\n",
    "        \"run_name\": f\"surfequil_{chem_pot:.0f}_{temp:.0f}\",\n",
    "        \"chemical_potentials\": [\"none\",chem_pot],\n",
    "        \"rcut_min\": 0.3980 * 2.5, #(or 3.0)\n",
    "        \"vdw_cutoff\": min(box.lengths)/2.1,\n",
    "        \"charge_style\": \"none\",\n",
    "        #\"charge_cutoff\": 14.0,\n",
    "        \"coord_freq\": 100,\n",
    "        \"prop_freq\": 10,\n",
    "    }\n",
    "\n",
    "    mc.run(\n",
    "        system=system, \n",
    "        moves=moves, \n",
    "        run_type=\"equilibration\", \n",
    "        run_length=3600549, # To reach ~1.33 hours\n",
    "        temperature=temp, \n",
    "        **custom_args\n",
    "    )\n",
    "    \n",
    "    # Set max translate and volume for production\n",
    "    moves.max_translate = [[0,10.0]] # angstroms\n",
    "\n",
    "    # Update run_name and restart_name\n",
    "    custom_args[\"run_name\"] = f\"surfprod_{chem_pot:.0f}_{temp:.0f}\"\n",
    "    custom_args[\"restart_name\"] = f\"surfequil_{chem_pot:.0f}_{temp:.0f}\"\n",
    "\n",
    "    mc.restart(\n",
    "        system=system,\n",
    "        moves=moves,\n",
    "        run_type=\"production\",\n",
    "        run_length=24097256, # To reach ~6.67 hours, total 8 hrs\n",
    "        temperature=temp,\n",
    "        **custom_args,\n",
    "    )"
   ]
  },
  {
   "cell_type": "markdown",
   "metadata": {},
   "source": [
    "#### W/rt equilibration\n",
    "We can tweak trial move stuff within Cassandra and could dramatically improve equilibration times\n",
    "\n",
    "#### W/rt box size\n",
    "We want a surface with ethane absorbing into it and the box height above to only focus on things absorbing into the surface. The problem is the other side of the surface and if the space is too small where the molecules can't fit between the two. But if we make it too far then we have a middle area. \n",
    "\n",
    "[Lab Meeting Notes Here](https://etherpad.boisestate.edu/p/ldrd-s20-9)\n",
    "Where we discuss equilibration, box size, "
   ]
  },
  {
   "cell_type": "code",
   "execution_count": 52,
   "metadata": {},
   "outputs": [],
   "source": [
    "!rm -f box*xyz\n",
    "#!rm -f surf*_33.out.log"
   ]
  },
  {
   "cell_type": "code",
   "execution_count": 53,
   "metadata": {},
   "outputs": [
    {
     "name": "stdout",
     "output_type": "stream",
     "text": [
      "epsilon: 0.07\n",
      "sigma:  3.5\n",
      "The unit temperature is 33 K\n"
     ]
    }
   ],
   "source": [
    "eps = typed_ethane.atoms[0].epsilon\n",
    "print(f\"epsilon: {eps:.2f}\")\n",
    "print(\"sigma: \", typed_ethane.atoms[0].sigma)\n",
    "# ParmEd is in kcal/mol\n",
    "\n",
    "kb = 0.001985875    # kcal/(mol K)\n",
    "T = eps/kb\n",
    "\n",
    "print(f\"The unit temperature is {T:.0f} K\")\n",
    "chem_pots = [i*T for i in range(0,10)] \n",
    "temp = 2*T"
   ]
  },
  {
   "cell_type": "code",
   "execution_count": null,
   "metadata": {},
   "outputs": [
    {
     "name": "stdout",
     "output_type": "stream",
     "text": [
      "Treating <Structure 160 atoms; 1 residues; 0 bonds; PBC (orthogonal); NOT parametrized> as a non-insertable rigid species since it has no bonds\n",
      "Using the following executables for Cassandra:\n",
      "Python: /home/nealeellyson/miniconda3/envs/mc/bin/python\n",
      "library_setup: /home/nealeellyson/miniconda3/envs/mc/bin/library_setup.py\n",
      "Cassandra: /home/nealeellyson/miniconda3/envs/mc/bin/cassandra.exe\n",
      "Generating fragment libraries...\n"
     ]
    },
    {
     "name": "stderr",
     "output_type": "stream",
     "text": [
      "/home/nealeellyson/miniconda3/envs/mc/lib/python3.7/site-packages/mbuild/formats/cassandramcf.py:178: UserWarning: No bonds found. Cassandra will interpet this as a rigid species\n",
      "  warnings.warn(\"No bonds found. Cassandra will interpet \"\n",
      "/home/nealeellyson/miniconda3/envs/mc/lib/python3.7/site-packages/mbuild/formats/cassandramcf.py:564: UserWarning: More than two atoms present but no fragments identified.\n",
      "  warnings.warn('More than two atoms present but '\n",
      "/home/nealeellyson/miniconda3/envs/mc/lib/python3.7/site-packages/mbuild/formats/cassandramcf.py:303: UserWarning: Warning, type name opls_135 will be shortened to six characters as ls_135. Please confirm your final MCF.\n",
      "  \"MCF.\".format(itype,itype[-6:]))\n",
      "/home/nealeellyson/miniconda3/envs/mc/lib/python3.7/site-packages/mbuild/formats/cassandramcf.py:303: UserWarning: Warning, type name opls_140 will be shortened to six characters as ls_140. Please confirm your final MCF.\n",
      "  \"MCF.\".format(itype,itype[-6:]))\n"
     ]
    },
    {
     "name": "stdout",
     "output_type": "stream",
     "text": [
      "Running Cassandra...\n",
      "Using the following executables for Cassandra:\n",
      "Python: /home/nealeellyson/miniconda3/envs/mc/bin/python\n",
      "library_setup: /home/nealeellyson/miniconda3/envs/mc/bin/library_setup.py\n",
      "Cassandra: /home/nealeellyson/miniconda3/envs/mc/bin/cassandra.exe\n",
      "Running Cassandra...\n"
     ]
    }
   ],
   "source": [
    "for chem_pot in chem_pots:\n",
    "    run_cassandra_surf(chem_pot,temp)\n",
    "    !rm -f box*xyz  # it won't overwrite the box..."
   ]
  },
  {
   "cell_type": "code",
   "execution_count": 22,
<<<<<<< HEAD
   "metadata": {
    "collapsed": true,
    "jupyter": {
     "outputs_hidden": true
    }
   },
=======
   "metadata": {},
>>>>>>> 8c6772543288a8a3ed3133285a461b1f0ab135df
   "outputs": [
    {
     "name": "stdout",
     "output_type": "stream",
     "text": [
      "==> mosdef_cassandra_2020-07-09_15:33:45.631426.log <==\n",
      " Cassandra simulation complete\n",
      "\n",
      "==> mosdef_cassandra_2020-07-09_16:11:55.857635.log <==\n",
      " Cassandra simulation complete\n",
      "\n",
      "==> mosdef_cassandra_2020-07-09_16:12:15.206624.log <==\n",
      " Cassandra simulation complete\n",
      "\n",
      "==> mosdef_cassandra_2020-07-09_16:12:59.911363.log <==\n",
      " Cassandra simulation complete\n",
      "\n",
      "==> mosdef_cassandra_2020-07-09_16:13:20.306337.log <==\n",
      " Cassandra simulation complete\n",
      "\n",
      "==> mosdef_cassandra_2020-07-09_16:14:08.456281.log <==\n",
      " Cassandra simulation complete\n",
      "\n",
      "==> mosdef_cassandra_2020-07-09_16:14:29.096669.log <==\n",
      " Cassandra simulation complete\n",
      "\n",
      "==> mosdef_cassandra_2020-07-09_16:15:17.412289.log <==\n",
      " Cassandra simulation complete\n",
      "\n",
      "==> mosdef_cassandra_2020-07-09_16:15:38.611830.log <==\n",
      " Cassandra simulation complete\n",
      "\n",
      "==> mosdef_cassandra_2020-07-09_16:16:29.489494.log <==\n",
      " Cassandra simulation complete\n",
      "\n",
      "==> mosdef_cassandra_2020-07-09_16:16:50.446840.log <==\n",
      " Cassandra simulation complete\n",
      "\n",
      "==> mosdef_cassandra_2020-07-09_16:17:42.853045.log <==\n",
      " Cassandra simulation complete\n",
      "\n",
      "==> mosdef_cassandra_2020-07-09_16:18:04.332119.log <==\n",
      " Cassandra simulation complete\n",
      "\n",
      "==> mosdef_cassandra_2020-07-09_16:18:54.513785.log <==\n",
      " Cassandra simulation complete\n",
      "\n",
      "==> mosdef_cassandra_2020-07-09_16:19:15.714920.log <==\n",
      " Cassandra simulation complete\n",
      "\n",
      "==> mosdef_cassandra_2020-07-09_16:20:07.301815.log <==\n",
      "Fatal Error. Stopping program.\n",
      "\n",
      "==> mosdef_cassandra_2020-07-09_16:20:18.699195.log <==\n",
      "Fatal Error. Stopping program.\n",
      "\n",
      "==> mosdef_cassandra_2020-07-09_16:20:21.786511.log <==\n",
      "Fatal Error. Stopping program.\n",
      "\n",
      "==> mosdef_cassandra_2020-07-09_16:20:32.197224.log <==\n",
      "Fatal Error. Stopping program.\n",
      "\n",
      "==> mosdef_cassandra_2020-07-09_16:20:35.318827.log <==\n",
      " Cassandra simulation complete\n",
<<<<<<< HEAD
      "\n",
      "==> mosdef_cassandra_2020-07-09_16:20:56.512062.log <==\n",
      " Cassandra simulation complete\n",
      "\n",
      "==> mosdef_cassandra_2020-07-09_19:22:52.746098.log <==\n",
      " Cassandra simulation complete\n",
      "\n",
      "==> mosdef_cassandra_2020-07-09_19:23:12.693233.log <==\n",
      " Cassandra simulation complete\n",
      "\n",
      "==> mosdef_cassandra_2020-07-09_19:23:58.257010.log <==\n",
      " Cassandra simulation complete\n",
      "\n",
      "==> mosdef_cassandra_2020-07-09_19:24:18.641593.log <==\n",
      " Cassandra simulation complete\n",
      "\n",
      "==> mosdef_cassandra_2020-07-09_19:25:05.481607.log <==\n",
      " Cassandra simulation complete\n",
      "\n",
      "==> mosdef_cassandra_2020-07-09_19:25:26.335447.log <==\n",
      " Cassandra simulation complete\n",
      "\n",
      "==> mosdef_cassandra_2020-07-09_19:26:15.384892.log <==\n",
      " Cassandra simulation complete\n",
      "\n",
      "==> mosdef_cassandra_2020-07-09_19:26:36.801060.log <==\n",
      " Cassandra simulation complete\n",
      "\n",
      "==> mosdef_cassandra_2020-07-09_19:27:29.602271.log <==\n",
      " Cassandra simulation complete\n",
      "\n",
      "==> mosdef_cassandra_2020-07-09_19:27:51.004291.log <==\n",
      " Cassandra simulation complete\n",
      "\n",
      "==> mosdef_cassandra_2020-07-09_19:28:41.891373.log <==\n",
      " Cassandra simulation complete\n",
      "\n",
      "==> mosdef_cassandra_2020-07-09_19:29:03.393911.log <==\n",
      " Cassandra simulation complete\n",
      "\n",
      "==> mosdef_cassandra_2020-07-09_19:29:55.437646.log <==\n",
      " Cassandra simulation complete\n",
      "\n",
      "==> mosdef_cassandra_2020-07-09_19:30:16.705022.log <==\n",
      " Cassandra simulation complete\n",
      "\n",
      "==> mosdef_cassandra_2020-07-09_19:31:09.262412.log <==\n",
      " Cassandra simulation complete\n",
      "\n",
      "==> mosdef_cassandra_2020-07-09_19:31:31.043236.log <==\n",
      " Cassandra simulation complete\n",
      "\n",
      "==> mosdef_cassandra_2020-07-09_19:32:27.028715.log <==\n",
      " Cassandra simulation complete\n",
      "\n",
      "==> mosdef_cassandra_2020-07-09_19:32:48.874571.log <==\n",
      " Cassandra simulation complete\n",
      "\n",
      "==> mosdef_cassandra_2020-07-09_19:33:42.776725.log <==\n",
      " Cassandra simulation complete\n",
      "\n",
      "==> mosdef_cassandra_2020-07-09_19:34:04.650203.log <==\n",
      " Cassandra simulation complete\n"
     ]
    }
   ],
   "source": [
    "# If you want to check whether your run completed successfully\n",
    "# This should say \"Cassandra simulation complete\"\n",
    "!tail -n 1 mosdef*.log"
   ]
  },
  {
   "cell_type": "code",
   "execution_count": 18,
   "metadata": {
    "collapsed": true,
    "jupyter": {
     "outputs_hidden": true
    }
   },
   "outputs": [
    {
     "name": "stdout",
     "output_type": "stream",
     "text": [
      "\n",
      "\tCopy this into Ovito Load Remote File:\n",
      "sftp://nealeellyson@fry/home/erjank_project/nealeellyson/CassandraSim/surfprod_0_33.out.xyz\n",
      "\n",
      "\tCopy this into Ovito Load Remote File:\n",
      "sftp://nealeellyson@fry/home/erjank_project/nealeellyson/CassandraSim/surfprod_33_33.out.xyz\n",
      "\n",
      "\tCopy this into Ovito Load Remote File:\n",
      "sftp://nealeellyson@fry/home/erjank_project/nealeellyson/CassandraSim/surfprod_66_33.out.xyz\n",
      "\n",
      "\tCopy this into Ovito Load Remote File:\n",
      "sftp://nealeellyson@fry/home/erjank_project/nealeellyson/CassandraSim/surfprod_100_33.out.xyz\n",
      "\n",
      "\tCopy this into Ovito Load Remote File:\n",
      "sftp://nealeellyson@fry/home/erjank_project/nealeellyson/CassandraSim/surfprod_133_33.out.xyz\n",
      "\n",
      "\tCopy this into Ovito Load Remote File:\n",
      "sftp://nealeellyson@fry/home/erjank_project/nealeellyson/CassandraSim/surfprod_166_33.out.xyz\n",
      "\n",
      "\tCopy this into Ovito Load Remote File:\n",
      "sftp://nealeellyson@fry/home/erjank_project/nealeellyson/CassandraSim/surfprod_199_33.out.xyz\n",
      "\n",
      "\tCopy this into Ovito Load Remote File:\n",
      "sftp://nealeellyson@fry/home/erjank_project/nealeellyson/CassandraSim/surfprod_233_33.out.xyz\n",
      "\n",
      "\tCopy this into Ovito Load Remote File:\n",
      "sftp://nealeellyson@fry/home/erjank_project/nealeellyson/CassandraSim/surfprod_266_33.out.xyz\n",
      "\n",
=======
      "\n",
      "==> mosdef_cassandra_2020-07-09_16:20:56.512062.log <==\n",
      " Cassandra simulation complete\n",
      "\n",
      "==> mosdef_cassandra_2020-07-09_19:22:52.746098.log <==\n",
      " Cassandra simulation complete\n",
      "\n",
      "==> mosdef_cassandra_2020-07-09_19:23:12.693233.log <==\n",
      " Cassandra simulation complete\n",
      "\n",
      "==> mosdef_cassandra_2020-07-09_19:23:58.257010.log <==\n",
      " Cassandra simulation complete\n",
      "\n",
      "==> mosdef_cassandra_2020-07-09_19:24:18.641593.log <==\n",
      " Cassandra simulation complete\n",
      "\n",
      "==> mosdef_cassandra_2020-07-09_19:25:05.481607.log <==\n",
      " Cassandra simulation complete\n",
      "\n",
      "==> mosdef_cassandra_2020-07-09_19:25:26.335447.log <==\n",
      " Cassandra simulation complete\n",
      "\n",
      "==> mosdef_cassandra_2020-07-09_19:26:15.384892.log <==\n",
      " Cassandra simulation complete\n",
      "\n",
      "==> mosdef_cassandra_2020-07-09_19:26:36.801060.log <==\n",
      " Cassandra simulation complete\n",
      "\n",
      "==> mosdef_cassandra_2020-07-09_19:27:29.602271.log <==\n",
      " Cassandra simulation complete\n",
      "\n",
      "==> mosdef_cassandra_2020-07-09_19:27:51.004291.log <==\n",
      " Cassandra simulation complete\n",
      "\n",
      "==> mosdef_cassandra_2020-07-09_19:28:41.891373.log <==\n",
      " Cassandra simulation complete\n",
      "\n",
      "==> mosdef_cassandra_2020-07-09_19:29:03.393911.log <==\n",
      " Cassandra simulation complete\n",
      "\n",
      "==> mosdef_cassandra_2020-07-09_19:29:55.437646.log <==\n",
      " Cassandra simulation complete\n",
      "\n",
      "==> mosdef_cassandra_2020-07-09_19:30:16.705022.log <==\n",
      " Cassandra simulation complete\n",
      "\n",
      "==> mosdef_cassandra_2020-07-09_19:31:09.262412.log <==\n",
      " Cassandra simulation complete\n",
      "\n",
      "==> mosdef_cassandra_2020-07-09_19:31:31.043236.log <==\n",
      " Cassandra simulation complete\n",
      "\n",
      "==> mosdef_cassandra_2020-07-09_19:32:27.028715.log <==\n",
      " Cassandra simulation complete\n",
      "\n",
      "==> mosdef_cassandra_2020-07-09_19:32:48.874571.log <==\n",
      " Cassandra simulation complete\n",
      "\n",
      "==> mosdef_cassandra_2020-07-09_19:33:42.776725.log <==\n",
      " Cassandra simulation complete\n",
      "\n",
      "==> mosdef_cassandra_2020-07-09_19:34:04.650203.log <==\n",
      " Cassandra simulation complete\n"
     ]
    }
   ],
   "source": [
    "# If you want to check whether your run completed successfully\n",
    "# This should say \"Cassandra simulation complete\"\n",
    "!tail -n 1 mosdef*.log"
   ]
  },
  {
   "cell_type": "code",
   "execution_count": 18,
   "metadata": {},
   "outputs": [
    {
     "name": "stdout",
     "output_type": "stream",
     "text": [
      "\n",
      "\tCopy this into Ovito Load Remote File:\n",
      "sftp://nealeellyson@fry/home/erjank_project/nealeellyson/CassandraSim/surfprod_0_33.out.xyz\n",
      "\n",
      "\tCopy this into Ovito Load Remote File:\n",
      "sftp://nealeellyson@fry/home/erjank_project/nealeellyson/CassandraSim/surfprod_33_33.out.xyz\n",
      "\n",
      "\tCopy this into Ovito Load Remote File:\n",
      "sftp://nealeellyson@fry/home/erjank_project/nealeellyson/CassandraSim/surfprod_66_33.out.xyz\n",
      "\n",
      "\tCopy this into Ovito Load Remote File:\n",
      "sftp://nealeellyson@fry/home/erjank_project/nealeellyson/CassandraSim/surfprod_100_33.out.xyz\n",
      "\n",
      "\tCopy this into Ovito Load Remote File:\n",
      "sftp://nealeellyson@fry/home/erjank_project/nealeellyson/CassandraSim/surfprod_133_33.out.xyz\n",
      "\n",
      "\tCopy this into Ovito Load Remote File:\n",
      "sftp://nealeellyson@fry/home/erjank_project/nealeellyson/CassandraSim/surfprod_166_33.out.xyz\n",
      "\n",
      "\tCopy this into Ovito Load Remote File:\n",
      "sftp://nealeellyson@fry/home/erjank_project/nealeellyson/CassandraSim/surfprod_199_33.out.xyz\n",
      "\n",
      "\tCopy this into Ovito Load Remote File:\n",
      "sftp://nealeellyson@fry/home/erjank_project/nealeellyson/CassandraSim/surfprod_233_33.out.xyz\n",
      "\n",
      "\tCopy this into Ovito Load Remote File:\n",
      "sftp://nealeellyson@fry/home/erjank_project/nealeellyson/CassandraSim/surfprod_266_33.out.xyz\n",
      "\n",
>>>>>>> 8c6772543288a8a3ed3133285a461b1f0ab135df
      "\tCopy this into Ovito Load Remote File:\n",
      "sftp://nealeellyson@fry/home/erjank_project/nealeellyson/CassandraSim/surfprod_299_33.out.xyz\n"
     ]
    }
   ],
   "source": [
    "import ex_render_cassandra as erc\n",
    "import os\n",
    "import getpass\n",
    "\n",
    "# These cells are for visualizing output\n",
    "#xyzfile = f\"surfprod_{chem_pot:.0f}_{temp:.0f}.out.xyz\"\n",
    "#boxfile = f\"surfprod_{chem_pot:.0f}_{temp:.0f}.out.H\"\n",
    "#traj = erc.make_traj(xyzfile, boxfile)\n",
    "#print(\"Frames: \",len(traj))\n",
    "\n",
    "for chem_pot in chem_pots:\n",
    "    cwd = os.getcwd()\n",
    "    username = getpass.getuser()\n",
    "    xyzfile = f\"surfprod_{chem_pot:.0f}_{temp:.0f}.out.xyz\"\n",
    "    print(\"\\n\\tCopy this into Ovito Load Remote File:\") # From Fry\n",
    "    print('sftp://'+username+'@fry'+cwd+'/'+xyzfile)"
   ]
  },
  {
   "cell_type": "code",
   "execution_count": 39,
   "metadata": {},
   "outputs": [
    {
     "data": {
      "text/plain": [
       "array([0.0000000e+00, 2.1027091e+05, 2.0947800e+05, 7.9291403e+02,\n",
       "       2.2402744e+05, 2.9345111e+04, 7.7843513e+03, 2.0000000e+00,\n",
       "       4.4000000e+01, 2.8392801e+03])"
      ]
     },
     "execution_count": 39,
     "metadata": {},
     "output_type": "execute_result"
    }
   ],
   "source": [
    "glob(f'workspace/*/surfprod_*.out.prp')\n",
    "np.loadtxt('workspace/896169fe41b9f190377dac07f43a5bfa/surfprod_0_66.out.prp')"
   ]
  },
  {
   "cell_type": "code",
   "execution_count": 11,
   "metadata": {},
   "outputs": [
    {
     "name": "stdout",
     "output_type": "stream",
     "text": [
      "workspace/896169fe41b9f190377dac07f43a5bfa/surfequil_0_66.out.prp\n",
      "workspace/80545127457a99c5c8ce87040c60df21/surfequil_33_66.out.prp\n",
      "workspace/bbccc2949d8d4c051792759b85606348/surfequil_66_66.out.prp\n",
      "workspace/432eb8e7ce77cb252732793997bf6ac0/surfequil_99_66.out.prp\n",
      "workspace/dda71c9a270bcdf0d2bc6941c76f76fe/surfequil_133_66.out.prp\n",
      "workspace/efba08aa41c854d455ba79e4f73206ea/surfequil_166_66.out.prp\n",
      "workspace/19186bff795c0a3d979175bdba8ae161/surfequil_199_66.out.prp\n",
      "workspace/cde370ae60442a26116d7b12d25063b7/surfequil_233_66.out.prp\n",
      "workspace/c083c3d624587df7dff4ac2d5c97d4ff/surfequil_266_66.out.prp\n",
      "workspace/00b4f4e4d84d7537edfbff90b58345f5/surfequil_299_66.out.prp\n"
     ]
    }
   ],
   "source": [
    "# prp file is different when nmols is different\n",
    "#!head -3 workspace/*/surfprod*out.prp\n",
    "T = 33\n",
    "temp = 66\n",
    "chem_pots = [i*T for i in range(1,10)] \n",
    "pressures = []\n",
    "nmols = []\n",
    "\n",
    "\n",
    "fnames = glob('workspace/*/surfequil_*.out.prp')\n",
    "for f in fnames:\n",
    "    print(f)\n",
    "    a = np.loadtxt(f)\n",
    "    pressures.append(np.mean(a[:,5]))\n",
    "    nmols.append(np.mean(a[:,8]))"
   ]
  },
  {
   "cell_type": "code",
   "execution_count": 5,
   "metadata": {},
   "outputs": [
    {
     "data": {
      "text/plain": [
       "10"
      ]
     },
     "execution_count": 5,
     "metadata": {},
     "output_type": "execute_result"
    }
   ],
   "source": []
  },
  {
   "cell_type": "code",
   "execution_count": 7,
   "metadata": {},
   "outputs": [
    {
     "name": "stdout",
     "output_type": "stream",
     "text": [
      "workspace/896169fe41b9f190377dac07f43a5bfa/surfequil_0_66.out.prp\n",
      "workspace/80545127457a99c5c8ce87040c60df21/surfequil_33_66.out.prp\n",
      "workspace/bbccc2949d8d4c051792759b85606348/surfequil_66_66.out.prp\n",
      "workspace/432eb8e7ce77cb252732793997bf6ac0/surfequil_99_66.out.prp\n",
      "workspace/dda71c9a270bcdf0d2bc6941c76f76fe/surfequil_133_66.out.prp\n",
      "workspace/efba08aa41c854d455ba79e4f73206ea/surfequil_166_66.out.prp\n",
      "workspace/19186bff795c0a3d979175bdba8ae161/surfequil_199_66.out.prp\n",
      "workspace/cde370ae60442a26116d7b12d25063b7/surfequil_233_66.out.prp\n",
      "workspace/c083c3d624587df7dff4ac2d5c97d4ff/surfequil_266_66.out.prp\n",
      "workspace/00b4f4e4d84d7537edfbff90b58345f5/surfequil_299_66.out.prp\n"
     ]
    },
    {
     "data": {
      "image/png": "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\n",
      "text/plain": [
       "<Figure size 432x288 with 1 Axes>"
      ]
     },
     "metadata": {
      "needs_background": "light"
     },
     "output_type": "display_data"
    }
   ],
   "source": [
    "T = 33\n",
    "temp = 2*T\n",
    "chem_pots = [i*T for i in range(0,10)] \n",
    "pressures = []\n",
    "nmols = []\n",
    "\n",
    "\n",
    "fnames = glob('workspace/*/surfequil_*.out.prp')\n",
    "for i,f in enumerate(fnames):\n",
    "    print(f)\n",
    "    a = np.loadtxt(f)\n",
    "    chem_pot = chem_pots[i]\n",
    "    plt.scatter(np.mean(a[1000000:,5]),np.mean(a[1000000:,8]), label=f\"T = {temp:.0f}, μ = {chem_pot:.0f}\")\n",
    "    pressures.append(np.mean(a[1000000:,5]))\n",
    "    nmols.append(np.mean(a[1000000:,8]))\n",
    "    \n",
    "plt.title(r\"\"\"Adsorption isotherm for M1 & Ethanes at T = 2$\\frac{\\epsilon}{k_{B}}$\"\"\")\n",
    "plt.xlabel(\"Pressure (bar)\")\n",
    "plt.ylabel(\"Number of molecules\")\n",
    "plt.legend(bbox_to_anchor=(1, 1), loc='upper left', ncol=1)\n",
    "plt.show()"
   ]
  },
  {
   "cell_type": "code",
   "execution_count": 70,
   "metadata": {},
   "outputs": [
    {
     "data": {
      "image/png": "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\n",
      "text/plain": [
       "<Figure size 432x288 with 1 Axes>"
      ]
     },
     "metadata": {
      "needs_background": "light"
     },
     "output_type": "display_data"
    }
   ],
   "source": [
    "plt.title(r\"\"\"Adsorption isotherm for M1 & Ethanes\n",
    "at T = 2$\\frac{\\epsilon}{k_{B}}$\"\"\")\n",
    "plt.scatter(pressures,nmols, label=f\"T = {temp:.0f}, μ = {chem_pot:.0f}\")\n",
    "plt.xlabel(\"Pressure (bar)\")\n",
    "plt.ylabel(\"Number of molecules\")\n",
    "plt.show()\n",
    "# graph below suggests we need to go to higher potential(??)--not quite levelling off"
   ]
  },
  {
   "cell_type": "code",
   "execution_count": 10,
   "metadata": {},
   "outputs": [
    {
     "name": "stdout",
     "output_type": "stream",
     "text": [
      "workspace/896169fe41b9f190377dac07f43a5bfa/surfequil_0_66.out.prp\n"
     ]
    },
    {
     "name": "stderr",
     "output_type": "stream",
     "text": [
      "No handles with labels found to put in legend.\n"
     ]
    },
    {
     "data": {
      "image/png": "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\n",
      "text/plain": [
       "<Figure size 432x288 with 1 Axes>"
      ]
     },
     "metadata": {
      "needs_background": "light"
     },
     "output_type": "display_data"
    },
    {
     "name": "stdout",
     "output_type": "stream",
     "text": [
      "workspace/80545127457a99c5c8ce87040c60df21/surfequil_33_66.out.prp\n"
     ]
    },
    {
     "name": "stderr",
     "output_type": "stream",
     "text": [
      "No handles with labels found to put in legend.\n"
     ]
    },
    {
     "data": {
      "image/png": "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\n",
      "text/plain": [
       "<Figure size 432x288 with 1 Axes>"
      ]
     },
     "metadata": {
      "needs_background": "light"
     },
     "output_type": "display_data"
    },
    {
     "name": "stdout",
     "output_type": "stream",
     "text": [
      "workspace/bbccc2949d8d4c051792759b85606348/surfequil_66_66.out.prp\n"
     ]
    },
    {
     "name": "stderr",
     "output_type": "stream",
     "text": [
      "No handles with labels found to put in legend.\n"
     ]
    },
    {
     "data": {
      "image/png": "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\n",
      "text/plain": [
       "<Figure size 432x288 with 1 Axes>"
      ]
     },
     "metadata": {
      "needs_background": "light"
     },
     "output_type": "display_data"
    },
    {
     "name": "stdout",
     "output_type": "stream",
     "text": [
      "workspace/432eb8e7ce77cb252732793997bf6ac0/surfequil_99_66.out.prp\n"
     ]
    },
    {
     "name": "stderr",
     "output_type": "stream",
     "text": [
      "No handles with labels found to put in legend.\n"
     ]
    },
    {
     "data": {
      "image/png": "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\n",
      "text/plain": [
       "<Figure size 432x288 with 1 Axes>"
      ]
     },
     "metadata": {
      "needs_background": "light"
     },
     "output_type": "display_data"
    },
    {
     "name": "stdout",
     "output_type": "stream",
     "text": [
      "workspace/dda71c9a270bcdf0d2bc6941c76f76fe/surfequil_133_66.out.prp\n"
     ]
    },
    {
     "name": "stderr",
     "output_type": "stream",
     "text": [
      "No handles with labels found to put in legend.\n"
     ]
    },
    {
     "data": {
      "image/png": "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\n",
      "text/plain": [
       "<Figure size 432x288 with 1 Axes>"
      ]
     },
     "metadata": {
      "needs_background": "light"
     },
     "output_type": "display_data"
    },
    {
     "name": "stdout",
     "output_type": "stream",
     "text": [
      "workspace/efba08aa41c854d455ba79e4f73206ea/surfequil_166_66.out.prp\n"
     ]
    },
    {
     "name": "stderr",
     "output_type": "stream",
     "text": [
      "No handles with labels found to put in legend.\n"
     ]
    },
    {
     "data": {
      "image/png": "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\n",
      "text/plain": [
       "<Figure size 432x288 with 1 Axes>"
      ]
     },
     "metadata": {
      "needs_background": "light"
     },
     "output_type": "display_data"
    },
    {
     "name": "stdout",
     "output_type": "stream",
     "text": [
      "workspace/19186bff795c0a3d979175bdba8ae161/surfequil_199_66.out.prp\n"
     ]
    },
    {
     "name": "stderr",
     "output_type": "stream",
     "text": [
      "No handles with labels found to put in legend.\n"
     ]
    },
    {
     "data": {
      "image/png": "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\n",
      "text/plain": [
       "<Figure size 432x288 with 1 Axes>"
      ]
     },
     "metadata": {
      "needs_background": "light"
     },
     "output_type": "display_data"
    },
    {
     "name": "stdout",
     "output_type": "stream",
     "text": [
      "workspace/cde370ae60442a26116d7b12d25063b7/surfequil_233_66.out.prp\n"
     ]
    },
    {
     "name": "stderr",
     "output_type": "stream",
     "text": [
      "No handles with labels found to put in legend.\n"
     ]
    },
    {
     "data": {
      "image/png": "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\n",
      "text/plain": [
       "<Figure size 432x288 with 1 Axes>"
      ]
     },
     "metadata": {
      "needs_background": "light"
     },
     "output_type": "display_data"
    },
    {
     "name": "stdout",
     "output_type": "stream",
     "text": [
      "workspace/c083c3d624587df7dff4ac2d5c97d4ff/surfequil_266_66.out.prp\n"
     ]
    },
    {
     "name": "stderr",
     "output_type": "stream",
     "text": [
      "No handles with labels found to put in legend.\n"
     ]
    },
    {
     "data": {
      "image/png": "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\n",
      "text/plain": [
       "<Figure size 432x288 with 1 Axes>"
      ]
     },
     "metadata": {
      "needs_background": "light"
     },
     "output_type": "display_data"
    },
    {
     "name": "stdout",
     "output_type": "stream",
     "text": [
      "workspace/00b4f4e4d84d7537edfbff90b58345f5/surfequil_299_66.out.prp\n"
     ]
    },
    {
     "name": "stderr",
     "output_type": "stream",
     "text": [
      "No handles with labels found to put in legend.\n"
     ]
    },
    {
     "data": {
      "image/png": "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\n",
      "text/plain": [
       "<Figure size 432x288 with 1 Axes>"
      ]
     },
     "metadata": {
      "needs_background": "light"
     },
     "output_type": "display_data"
    }
   ],
   "source": [
    "# if we wanted to check whether our system was equilibrated we could the equil\n",
    "# property files (.prp)\n",
    "\n",
    "# STEP Energy_Total Energy_Intra Energy_Inter Enthalpy Pressure Volume Nmols Mass_Density  \n",
    "#     (kJ/mol)-Ext  (kJ/mol)-Ext (kJ/mol)-Ext          (bar)    (A^3)        (kg/m^3) \n",
    "fnames = glob('workspace/*/surfequil_*.out.prp')\n",
    "for f in fnames:\n",
    "    print(f)\n",
    "    a = np.loadtxt(f)        \n",
    "    plt.scatter(a[1000000:,0],a[1000000:,1]) #, label=f\"T = {temp:.0f}, μ = {chem_pot:.0f}\")\n",
    "    plt.xlabel(\"Step\")\n",
    "    plt.ylabel(\"Total Energy (kJ/mol)\")\n",
    "    plt.title(\"Total Energy vs Step in Equilibration Runs\")\n",
    "    plt.legend(bbox_to_anchor=(1, 1), loc='upper left', ncol=1)\n",
    "    plt.show()"
   ]
  },
  {
   "cell_type": "markdown",
   "metadata": {},
   "source": [
    "# Time step calculation:"
   ]
  },
  {
   "cell_type": "code",
   "execution_count": 6,
   "metadata": {},
   "outputs": [
    {
     "name": "stderr",
     "output_type": "stream",
     "text": [
      "No handles with labels found to put in legend.\n"
     ]
    },
    {
     "data": {
      "image/png": "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\n",
      "text/plain": [
       "<Figure size 432x288 with 1 Axes>"
      ]
     },
     "metadata": {
      "needs_background": "light"
     },
     "output_type": "display_data"
    },
    {
     "name": "stderr",
     "output_type": "stream",
     "text": [
      "No handles with labels found to put in legend.\n"
     ]
    },
    {
     "data": {
      "image/png": "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\n",
      "text/plain": [
       "<Figure size 432x288 with 1 Axes>"
      ]
     },
     "metadata": {
      "needs_background": "light"
     },
     "output_type": "display_data"
    }
   ],
   "source": [
    "a = np.loadtxt('workspace/896169fe41b9f190377dac07f43a5bfa/surfequil_0_66.out.prp')        \n",
    "plt.scatter(a[1000000:,0],a[1000000:,1]) #, label=f\"T = {temp:.0f}, μ = {chem_pot:.0f}\")\n",
    "plt.xlabel(\"Step\")\n",
    "plt.ylabel(\"Total Energy (kJ/mol)\")\n",
    "plt.title(\"Total Energy vs Step in Equilibration Runs, 0, 66K\")\n",
    "plt.legend(bbox_to_anchor=(1, 1), loc='upper left', ncol=1)\n",
    "plt.show()\n",
    "\n",
    "a = np.loadtxt('workspace/bbccc2949d8d4c051792759b85606348/surfequil_66_66.out.prp')        \n",
    "plt.scatter(a[1000000:,0],a[1000000:,1]) #, label=f\"T = {temp:.0f}, μ = {chem_pot:.0f}\")\n",
    "plt.xlabel(\"Step\")\n",
    "plt.ylabel(\"Total Energy (kJ/mol)\")\n",
    "plt.title(\"Total Energy vs Step in Equilibration Runs, 66, 66K\")\n",
    "plt.legend(bbox_to_anchor=(1, 1), loc='upper left', ncol=1)\n",
    "plt.show()"
   ]
  },
  {
   "cell_type": "markdown",
   "metadata": {},
   "source": [
    "# Time step calculation:"
   ]
  },
  {
   "cell_type": "code",
   "execution_count": 8,
   "metadata": {},
   "outputs": [
    {
     "name": "stdout",
     "output_type": "stream",
     "text": [
      "==> surfequil_0_66.out.log <==\n",
      "         0    Minutes\n",
      "        11    Seconds\n",
      "       999         ms\n",
      "********************************************************************************\n",
      "\n",
      "==> surfequil_100_66.out.log <==\n",
      "         0    Minutes\n",
      "        13    Seconds\n",
      "       536         ms\n",
      "********************************************************************************\n",
      "\n",
      "==> surfequil_133_66.out.log <==\n",
      "         0    Minutes\n",
      "        13    Seconds\n",
      "       495         ms\n",
      "********************************************************************************\n",
      "\n",
      "==> surfequil_166_66.out.log <==\n",
      "         0    Minutes\n",
      "        13    Seconds\n",
      "       646         ms\n",
      "********************************************************************************\n",
      "\n",
      "==> surfequil_199_66.out.log <==\n",
      "         0    Minutes\n",
      "        13    Seconds\n",
      "       415         ms\n",
      "********************************************************************************\n",
      "\n",
      "==> surfequil_233_66.out.log <==\n",
      "         0    Minutes\n",
      "        13    Seconds\n",
      "       827         ms\n",
      "********************************************************************************\n",
      "\n",
      "==> surfequil_266_66.out.log <==\n",
      "         0    Minutes\n",
      "        13    Seconds\n",
      "       957         ms\n",
      "********************************************************************************\n",
      "\n",
      "==> surfequil_299_66.out.log <==\n",
      "         0    Minutes\n",
      "        13    Seconds\n",
      "       978         ms\n",
      "********************************************************************************\n",
      "\n",
      "==> surfequil_33_66.out.log <==\n",
      "         0    Minutes\n",
      "        12    Seconds\n",
      "       476         ms\n",
      "********************************************************************************\n",
      "\n",
      "==> surfequil_66_66.out.log <==\n",
      "         0    Minutes\n",
      "        12    Seconds\n",
      "       984         ms\n",
      "********************************************************************************\n"
     ]
    }
   ],
   "source": [
    "!tail -n 4 surfequil*out.log"
   ]
  },
  {
   "cell_type": "code",
   "execution_count": 17,
   "metadata": {},
   "outputs": [],
   "source": [
    "surfequil_299_66 = 13.978\n",
    "surfequil_266_66 = 13.957\n",
    "surfequil_233_66 = 13.827\n",
    "surfequil_199_66 = 13.415\n",
    "surfequil_166_66 = 13.646\n",
    "surfequil_133_66 = 13.495\n",
    "surfequil_100_66 = 13.536\n",
    "surfequil_66_66  = 12.984\n",
    "surfequil_33_66  = 12.476\n",
    "surfequil_0_66   = 11.999\n",
    "surfequil = [\n",
    "13.978,\n",
    "13.957,\n",
    "13.827,\n",
    "13.415,\n",
    "13.646,\n",
    "13.495,\n",
    "13.536,\n",
    "12.984,\n",
    "12.476,\n",
    "11.999,\n",
    "]\n",
    "\n",
    "surfprod_299_66 = 51.405\n",
    "surfprod_266_66 = 52.386\n",
    "surfprod_233_66 = 54.479\n",
    "surfprod_199_66 = 51.133\n",
    "surfprod_166_66 = 50.418\n",
    "surfprod_133_66 = 49.504\n",
    "surfprod_100_66 = 51.350\n",
    "surfprod_66_66  = 47.590\n",
    "surfprod_33_66  = 45.486\n",
    "surfprod_0_66   = 44.231\n",
    "surfprod = [\n",
    "51.405,\n",
    "52.386,\n",
    "54.479,\n",
    "51.133,\n",
    "50.418,\n",
    "49.504,\n",
    "51.350,\n",
    "47.590,\n",
    "45.486,\n",
    "44.231,\n",
    "]"
   ]
  },
  {
   "cell_type": "code",
   "execution_count": 24,
   "metadata": {},
   "outputs": [],
   "source": [
    "import numpy as np\n",
    "equil = np.average(surfequil)\n",
    "prod = np.average(surfprod)\n",
    "equilrun = 10000\n",
    "prodrun = 50000\n",
    "idealtime = 8*3600"
   ]
  },
  {
   "cell_type": "code",
   "execution_count": 44,
   "metadata": {},
   "outputs": [],
   "source": [
    "idealequil = equilrun/equil*idealtime/6"
   ]
  },
  {
   "cell_type": "code",
   "execution_count": 45,
   "metadata": {},
   "outputs": [],
   "source": [
    "idealprod = prodrun/prod*idealtime/6*5"
   ]
  },
  {
   "cell_type": "code",
   "execution_count": 46,
   "metadata": {},
   "outputs": [
    {
     "data": {
      "text/plain": [
       "24097256.527344365"
      ]
     },
     "execution_count": 46,
     "metadata": {},
     "output_type": "execute_result"
    }
   ],
   "source": [
    "idealprod"
   ]
  },
  {
   "cell_type": "code",
   "execution_count": 47,
   "metadata": {},
   "outputs": [
    {
     "data": {
      "text/plain": [
       "3600549.08373527"
      ]
     },
     "execution_count": 47,
     "metadata": {},
     "output_type": "execute_result"
    }
   ],
   "source": [
    "idealequil"
   ]
  },
  {
   "cell_type": "code",
   "execution_count": 49,
   "metadata": {},
   "outputs": [
    {
     "data": {
      "text/plain": [
       "1.3333333333333333"
      ]
     },
     "execution_count": 49,
     "metadata": {},
     "output_type": "execute_result"
    }
   ],
   "source": [
    "idealtime/6/3600"
   ]
  },
  {
   "cell_type": "code",
   "execution_count": 50,
   "metadata": {},
   "outputs": [
    {
     "data": {
      "text/plain": [
       "6.666666666666667"
      ]
     },
     "execution_count": 50,
     "metadata": {},
     "output_type": "execute_result"
    }
   ],
   "source": [
    "idealtime/6*5/3600"
   ]
  },
  {
   "cell_type": "code",
   "execution_count": 17,
   "metadata": {
    "jupyter": {
     "source_hidden": true
    }
   },
   "outputs": [],
   "source": [
    "surfequil_299_66 = 13.978\n",
    "surfequil_266_66 = 13.957\n",
    "surfequil_233_66 = 13.827\n",
    "surfequil_199_66 = 13.415\n",
    "surfequil_166_66 = 13.646\n",
    "surfequil_133_66 = 13.495\n",
    "surfequil_100_66 = 13.536\n",
    "surfequil_66_66  = 12.984\n",
    "surfequil_33_66  = 12.476\n",
    "surfequil_0_66   = 11.999\n",
    "surfequil = [\n",
    "13.978,\n",
    "13.957,\n",
    "13.827,\n",
    "13.415,\n",
    "13.646,\n",
    "13.495,\n",
    "13.536,\n",
    "12.984,\n",
    "12.476,\n",
    "11.999,\n",
    "]\n",
    "\n",
    "surfprod_299_66 = 51.405\n",
    "surfprod_266_66 = 52.386\n",
    "surfprod_233_66 = 54.479\n",
    "surfprod_199_66 = 51.133\n",
    "surfprod_166_66 = 50.418\n",
    "surfprod_133_66 = 49.504\n",
    "surfprod_100_66 = 51.350\n",
    "surfprod_66_66  = 47.590\n",
    "surfprod_33_66  = 45.486\n",
    "surfprod_0_66   = 44.231\n",
    "surfprod = [\n",
    "51.405,\n",
    "52.386,\n",
    "54.479,\n",
    "51.133,\n",
    "50.418,\n",
    "49.504,\n",
    "51.350,\n",
    "47.590,\n",
    "45.486,\n",
    "44.231,\n",
    "]"
   ]
  },
  {
   "cell_type": "code",
   "execution_count": 24,
   "metadata": {},
   "outputs": [],
   "source": [
    "import numpy as np\n",
    "equil = np.average(surfequil)\n",
    "prod = np.average(surfprod)\n",
    "equilrun = 10000\n",
    "prodrun = 50000\n",
    "idealtime = 8*3600"
   ]
  },
  {
   "cell_type": "code",
   "execution_count": 44,
   "metadata": {},
   "outputs": [],
   "source": [
    "idealequil = equilrun/equil*idealtime/6"
   ]
  },
  {
   "cell_type": "code",
   "execution_count": 45,
   "metadata": {},
   "outputs": [],
   "source": [
    "idealprod = prodrun/prod*idealtime/6*5"
   ]
  },
  {
   "cell_type": "code",
   "execution_count": 46,
   "metadata": {},
   "outputs": [
    {
     "data": {
      "text/plain": [
       "24097256.527344365"
      ]
     },
     "execution_count": 46,
     "metadata": {},
     "output_type": "execute_result"
    }
   ],
   "source": [
    "idealprod"
   ]
  },
  {
   "cell_type": "code",
   "execution_count": 47,
   "metadata": {},
   "outputs": [
    {
     "data": {
      "text/plain": [
       "3600549.08373527"
      ]
     },
     "execution_count": 47,
     "metadata": {},
     "output_type": "execute_result"
    }
   ],
   "source": [
    "idealequil"
   ]
  },
  {
   "cell_type": "code",
   "execution_count": 49,
   "metadata": {},
   "outputs": [
    {
     "data": {
      "text/plain": [
       "1.3333333333333333"
      ]
     },
     "execution_count": 49,
     "metadata": {},
     "output_type": "execute_result"
    }
   ],
   "source": [
    "idealtime/6/3600"
   ]
  },
  {
   "cell_type": "code",
   "execution_count": 50,
   "metadata": {},
   "outputs": [
    {
     "data": {
      "text/plain": [
       "6.666666666666667"
      ]
     },
     "execution_count": 50,
     "metadata": {},
     "output_type": "execute_result"
    }
   ],
   "source": [
    "idealtime/6*5/3600"
   ]
  },
  {
   "cell_type": "code",
   "execution_count": null,
   "metadata": {},
   "outputs": [],
   "source": []
  }
 ],
 "metadata": {
  "kernelspec": {
   "display_name": "Python 3",
   "language": "python",
   "name": "python3"
  },
  "language_info": {
   "codemirror_mode": {
    "name": "ipython",
    "version": 3
   },
   "file_extension": ".py",
   "mimetype": "text/x-python",
   "name": "python",
   "nbconvert_exporter": "python",
   "pygments_lexer": "ipython3",
   "version": "3.7.8"
  }
 },
 "nbformat": 4,
 "nbformat_minor": 4
}
