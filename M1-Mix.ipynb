{
 "cells": [
  {
   "cell_type": "markdown",
   "metadata": {},
   "source": [
    "# Contents\n",
    " - [Imports](#Imports)\n",
    " - [Functions](#Functions)\n",
    " - [Make Surface & Visualize](#Surface)\n",
    " - [Make Gases & Visualize](#Gases)\n",
    " - [Apply Forcefields and Generate Simulation Box](#Forcefields)\n",
    " - [Define Statepoints](#Statepoints)\n",
    " - [Render Trajectory](#Trajectory)\n",
    " - [Errors](#Errors)\n",
    " - [Notes](#Notes)\n",
    "\n",
    "# Interesting Etherpads\n",
    " - [7-9: Equilibration & Box Stuff](https://etherpad.boisestate.edu/p/ldrd-s20-9)\n",
    " - [7-30: New Sweeps](https://etherpad.boisestate.edu/p/ldrd-s20-12)"
   ]
  },
  {
   "cell_type": "code",
   "execution_count": 1,
   "metadata": {},
   "outputs": [],
   "source": [
    "# Quick commands\n",
    "#!tail -n 1 signac/workspace/*/surfequil*.prp\n",
    "#!head -n 10 signac/workspace/*/surfprod*.prp\n",
    "!rm -rf *.in.* species* *.out* *.inp*"
   ]
  },
  {
   "cell_type": "markdown",
   "metadata": {},
   "source": [
    "<a id=\"Imports\"></a>\n",
    "## Imports"
   ]
  },
  {
   "cell_type": "code",
   "execution_count": 2,
   "metadata": {},
   "outputs": [],
   "source": [
    "import mosdef_cassandra as mc\n",
    "import generate_mc as gen   # Chris' script\n",
    "import mbuild as mb\n",
    "import foyer\n",
    "import numpy as np\n",
    "import matplotlib.pyplot as plt\n",
    "from scipy.spatial import ConvexHull\n",
    "import random\n",
    "import unyt as u    # For Cassandra's physical unit specification \n",
    "                    # https://mosdef-cassandra.readthedocs.io/en/latest/guides/unyts.html"
   ]
  },
  {
   "cell_type": "markdown",
   "metadata": {},
   "source": [
    "<a id=\"Functions\"></a>\n",
    "## Functions"
   ]
  },
  {
   "cell_type": "code",
   "execution_count": 3,
   "metadata": {},
   "outputs": [],
   "source": [
    "def gen_system(dims=[2, 2, 2]):\n",
    "    defaults_dict = {'stoichiometry': {'Mo': 1, 'V': 0.15, 'Nb': 0.13, 'Te': 0.12},\n",
    "                     'dimensions': dims,\n",
    "                     'template': 'M1UnitCell_mod.pdb',\n",
    "                     'crystal_x': 2.148490,\n",
    "                     'crystal_y': 2.664721,\n",
    "                     'crystal_z': 0.400321,\n",
    "                     'z_reactor_size': 20.0,\n",
    "                     'forcefield': None\n",
    "                     }\n",
    "\n",
    "    system = gen.Surface(defaults_dict['dimensions'],\n",
    "                        defaults_dict['template'],\n",
    "                         defaults_dict['stoichiometry'],\n",
    "                         True,\n",
    "                         defaults_dict['crystal_x'],\n",
    "                         defaults_dict['crystal_y'],\n",
    "                         defaults_dict['crystal_z']\n",
    "                        )\n",
    "    system.translate_to(np.zeros(3)) # Added so that periodicity doesn't error out\n",
    "    system.periodicity = system.boundingbox.lengths # necessary\n",
    "    #system.to_parmed() # Triggers an error\n",
    "    return system"
   ]
  },
  {
   "cell_type": "code",
   "execution_count": 4,
   "metadata": {},
   "outputs": [],
   "source": [
    "def apply_ff(system, systemFF, organicFF=None):\n",
    "    typed_surface = systemFF.apply(system.children[0],\n",
    "                            assert_angle_params=False,\n",
    "                            assert_bond_params=False,\n",
    "                            assert_dihedral_params=False,\n",
    "                            assert_improper_params=False)\n",
    "    if organicFF:\n",
    "        for idx, child in enumerate(system.children):\n",
    "            if idx == 0:\n",
    "                pass\n",
    "            else:\n",
    "                typed_comp = organicFF.apply(child)\n",
    "                typed_surface += typed_comp\n",
    "    return typed_surface"
   ]
  },
  {
   "cell_type": "code",
   "execution_count": 162,
   "metadata": {},
   "outputs": [],
   "source": [
    "def run_cassandra_surf(chem_pot, temp):\n",
    "    # Create box and species list\n",
    "    box_list = [surface]\n",
    "    species_list = [typed_surface,typed_ethane,typed_helium,typed_oxygen] #\n",
    "\n",
    "    # Since we have an occupied box we need to specify\n",
    "    # the number of each species present in the intial config\n",
    "    mols_in_boxes = [[2,0,0,0]]\n",
    "\n",
    "    system = mc.System(box_list, species_list, mols_in_boxes=mols_in_boxes)\n",
    "    moveset = mc.MoveSet(\"gcmc\", species_list)\n",
    "\n",
    "    custom_args = {\n",
    "        \"run_name\": f\"surfequil\",\n",
    "        \"chemical_potentials\": [\"none\",chem_pot*u.Unit('kJ/mol'),chem_pot*u.Unit('kJ/mol'),chem_pot*u.Unit('kJ/mol')],\n",
    "        \"rcut_min\": 0.3980 * 2.5* u.angstrom, #(or 3.0)\n",
    "        \"vdw_cutoff\": min(box.lengths)/2.1* u.angstrom,\n",
    "        \"charge_style\": \"none\",\n",
    "        #\"charge_cutoff\": 14.0,\n",
    "        \"coord_freq\": 100,\n",
    "        \"prop_freq\": 10,\n",
    "    }\n",
    "\n",
    "    mc.run(\n",
    "        system=system, \n",
    "        moveset=moveset, \n",
    "        run_type=\"equilibration\", \n",
    "        run_length= 10000, # To reach ~1.33 hours\n",
    "        temperature=temp*u.K, \n",
    "        **custom_args\n",
    "    )\n",
    "    \n",
    "    # Set max translate and volume for production\n",
    "    moveset.max_translate = [[0* u.angstrom,10.0* u.angstrom,10.0* u.angstrom,10.0* u.angstrom]] # angstroms\n",
    "\n",
    "    # Update run_name and restart_name\n",
    "    custom_args[\"run_name\"] = f\"surfprod_{chem_pot:.0f}_{temp:.0f}\"\n",
    "    custom_args[\"restart_name\"] = f\"surfequil\"\n",
    "\n",
    "    mc.restart(\n",
    "        system=system,\n",
    "        moveset=moveset,\n",
    "        run_type=\"production\",\n",
    "        run_length= 50000, # To reach ~6.67 hours, total 8 hrs\n",
    "        temperature=temp*u.K,\n",
    "        **custom_args,\n",
    "    )"
   ]
  },
  {
   "cell_type": "code",
   "execution_count": 163,
   "metadata": {},
   "outputs": [
    {
     "name": "stdout",
     "output_type": "stream",
     "text": [
      "Using the following executables for Cassandra:\n",
      "Python: /home/nealeellyson/miniconda3/envs/mc/bin/python\n",
      "library_setup: /home/nealeellyson/miniconda3/envs/mc/bin/library_setup.py\n",
      "Cassandra: /home/nealeellyson/miniconda3/envs/mc/bin/cassandra.exe\n"
     ]
    }
   ],
   "source": [
    "mc.utils.detect_cassandra_binaries();"
   ]
  },
  {
   "cell_type": "markdown",
   "metadata": {},
   "source": [
    "<a id=\"Surface\"></a>\n",
    "## Make Surface & Visualize"
   ]
  },
  {
   "cell_type": "code",
   "execution_count": 164,
   "metadata": {},
   "outputs": [
    {
     "name": "stdout",
     "output_type": "stream",
     "text": [
      "Adding [0, 0, 1] to system... \n"
     ]
    }
   ],
   "source": [
    "surface = gen_system(dims=[1, 1, 2]) \n",
    "surface.periodicity = surface.periodicity + np.array([0,0,1.4-0.85032099]) # So that z = 1.4Angstrom\n",
    "surface.translate_to([0,0,0]) # Centering\n",
    "#surface.visualize(show_ports=True, color_scheme={'O' : 'red',\n",
    "#                                                 'Te': 'black',\n",
    "#                                                 'V' : 'black',\n",
    "#                                                 'Nb': 'black',\n",
    "#                                                 'Mo': 'black'})"
   ]
  },
  {
   "cell_type": "markdown",
   "metadata": {},
   "source": [
    "<a id=\"Gases\"></a>\n",
    "## Make Gases & Visualize"
   ]
  },
  {
   "cell_type": "code",
   "execution_count": 165,
   "metadata": {},
   "outputs": [],
   "source": [
    "ethane = mb.load(\"CC\", smiles=True)\n",
    "#ethane.visualize().show()\n",
    "oxygen = mb.load(\"/home/erjank_project/nealeellyson/MosCas/O2.pdb\")\n",
    "#oxygen.visualize().show()\n",
    "helium = mb.load(\"[He]\", smiles=True)\n",
    "#helium.visualize().show()"
   ]
  },
  {
   "cell_type": "markdown",
   "metadata": {},
   "source": [
    "<a id=\"Forcefields\"></a>\n",
    "## Apply Forcefields and Generate Simulation Box"
   ]
  },
  {
   "cell_type": "code",
   "execution_count": 166,
   "metadata": {},
   "outputs": [
    {
     "name": "stderr",
     "output_type": "stream",
     "text": [
      "/home/nealeellyson/miniconda3/envs/mc/lib/python3.7/site-packages/parmed/openmm/topsystem.py:238: OpenMMWarning: Adding what seems to be Urey-Bradley terms before Angles. This is unexpected, but the parameters will all be present in one form or another.\n",
      "  'all be present in one form or another.', OpenMMWarning)\n",
      "/home/nealeellyson/miniconda3/envs/mc/lib/python3.7/site-packages/parmed/openmm/topsystem.py:238: OpenMMWarning: Adding what seems to be Urey-Bradley terms before Angles. This is unexpected, but the parameters will all be present in one form or another.\n",
      "  'all be present in one form or another.', OpenMMWarning)\n",
      "/home/nealeellyson/miniconda3/envs/mc/lib/python3.7/site-packages/parmed/openmm/topsystem.py:238: OpenMMWarning: Adding what seems to be Urey-Bradley terms before Angles. This is unexpected, but the parameters will all be present in one form or another.\n",
      "  'all be present in one form or another.', OpenMMWarning)\n"
     ]
    }
   ],
   "source": [
    "# Load forcefields\n",
    "opls_uff = foyer.forcefields.Forcefield(forcefield_files='forcefields/FF_opls_uff.xml')\n",
    "oplsaa = foyer.forcefields.load_OPLSAA()\n",
    "M1oplsaa = foyer.forcefields.Forcefield(forcefield_files='forcefields/M1_oplsaa.xml')\n",
    "\n",
    "# Use foyer to apply forcefields\n",
    "typed_surface = apply_ff(surface, opls_uff)\n",
    "typed_ethane = oplsaa.apply(ethane) \n",
    "typed_oxygen = M1oplsaa.apply(oxygen)\n",
    "typed_helium = M1oplsaa.apply(helium)\n",
    "\n",
    "# Establish simulation box dimensions\n",
    "L = 10\n",
    "box = mb.Box(mins=[-L/2]*3, maxs=[L/2]*3)"
   ]
  },
  {
   "cell_type": "markdown",
   "metadata": {},
   "source": [
    "<a id=\"Statepoints\"></a>\n",
    "## Define Statepoints"
   ]
  },
  {
   "cell_type": "code",
   "execution_count": 167,
   "metadata": {},
   "outputs": [
    {
     "name": "stdout",
     "output_type": "stream",
     "text": [
      "epsilon: 0.07\n",
      "sigma:  3.5\n",
      "The unit temperature is 33 K\n"
     ]
    }
   ],
   "source": [
    "eps = typed_ethane.atoms[0].epsilon\n",
    "print(f\"epsilon: {eps:.2f}\")\n",
    "print(\"sigma: \", typed_ethane.atoms[0].sigma)\n",
    "# ParmEd is in kcal/mol\n",
    "\n",
    "kb = 0.001985875    # kcal/(mol K)\n",
    "T = eps/kb\n",
    "\n",
    "print(f\"The unit temperature is {T:.0f} K\")\n",
    "chem_pots = [-5] #[i*T for i in range(0,10)] \n",
    "temp = 800"
   ]
  },
  {
   "cell_type": "markdown",
   "metadata": {},
   "source": [
    "<a id=\"Run\"></a>\n",
    "## Run Simulation"
   ]
  },
  {
   "cell_type": "code",
   "execution_count": 168,
   "metadata": {},
   "outputs": [
    {
     "name": "stdout",
     "output_type": "stream",
     "text": [
      "Treating <Structure 160 atoms; 1 residues; 0 bonds; PBC (orthogonal); NOT parametrized> as a non-insertable rigid species since it has no bonds\n",
      "Using the following executables for Cassandra:\n",
      "Python: /home/nealeellyson/miniconda3/envs/mc/bin/python\n",
      "library_setup: /home/nealeellyson/miniconda3/envs/mc/bin/library_setup.py\n",
      "Cassandra: /home/nealeellyson/miniconda3/envs/mc/bin/cassandra.exe\n",
      "Generating fragment libraries...\n",
      "Running Cassandra...\n",
      "Using the following executables for Cassandra:\n",
      "Python: /home/nealeellyson/miniconda3/envs/mc/bin/python\n",
      "library_setup: /home/nealeellyson/miniconda3/envs/mc/bin/library_setup.py\n",
      "Cassandra: /home/nealeellyson/miniconda3/envs/mc/bin/cassandra.exe\n",
      "Running Cassandra...\n"
     ]
    }
   ],
   "source": [
    "for chem_pot in chem_pots:\n",
    "    run_cassandra_surf(chem_pot,temp)"
   ]
  },
  {
   "cell_type": "markdown",
   "metadata": {},
   "source": [
    "<a id=\"Trajectory\"></a>\n",
    "## Render Trajectory"
   ]
  },
  {
   "cell_type": "code",
   "execution_count": 27,
   "metadata": {},
   "outputs": [
    {
     "name": "stdout",
     "output_type": "stream",
     "text": [
      "Copy this into Ovito Load Remote File:\n",
      "/home/nealeellyson/CassandraSim/output/gcmc.out.xyz\n"
     ]
    }
   ],
   "source": [
    "import ex_render_cassandra as erc\n",
    "import os\n",
    "import getpass\n",
    "\n",
    "# These cells are for visualizing output\n",
    "xyzfile = f\"prod_{chem_pot:.0f}_{temp:.0f}.out.xyz\"\n",
    "boxfile = f\"prod_{chem_pot:.0f}_{temp:.0f}.out.H\"\n",
    "traj = erc.make_traj(xyzfile, boxfile)\n",
    "print(\"Frames: \",len(traj))\n",
    "\n",
    "cwd = os.getcwd()\n",
    "username = getpass.getuser()\n",
    "for chem_pot in chem_pots:\n",
    "    xyzfile = f\"surfprod_{chem_pot:.0f}_{temp:.0f}.out.xyz\"\n",
    "    print(\"\\n\\tCopy this into Ovito Load Remote File:\") # From Fry\n",
    "    print('sftp://'+username+'@fry'+cwd+'/'+xyzfile)"
   ]
  },
  {
   "cell_type": "code",
   "execution_count": 26,
   "metadata": {},
   "outputs": [],
   "source": [
    "xyzfile = \"output/gcmc.out.xyz\"\n",
    "boxfile = \"output/gcmc.out.H\"\n",
    "\n",
    "traj = erc.make_traj(xyzfile, boxfile)"
   ]
  },
  {
   "cell_type": "code",
   "execution_count": 27,
   "metadata": {},
   "outputs": [
    {
     "data": {
      "image/png": "\n",
      "text/plain": [
       "<IPython.core.display.Image object>"
      ]
     },
     "metadata": {},
     "output_type": "display_data"
    }
   ],
   "source": [
    "erc.display_movie(erc.render_sphere_frame, traj)\n",
    "#erc.display_movie(erc.render_sphere_frame, traj, gif=\"traj.gif\")"
   ]
  },
  {
   "cell_type": "markdown",
   "metadata": {},
   "source": [
    "<a id=\"Errors\"></a>\n",
    "## Errors:\n",
    "`Initial vdw cutoff is greater than half the minimum box length\n",
    "This error occurred in subroutine Get_Pair_Style on step 0.`\n",
    "\n",
    "Jenny: \n",
    "> Fixed by making the boxlist an empty box with correct size\n",
    "\n",
    "My fix:\n",
    "```\n",
    "\"vdw_cutoff\": min(surface.boundingbox.lengths)/3,\n",
    "\"charge_style\": \"none\",\n",
    "#\"charge_cutoff\": 14.0,\n",
    "```\n"
   ]
  },
  {
   "cell_type": "markdown",
   "metadata": {},
   "source": [
    "<a id=\"Notes\"></a>\n",
    "## Notes"
   ]
  },
  {
   "cell_type": "markdown",
   "metadata": {},
   "source": [
    "#### W/rt equilibration\n",
    "We can tweak trial move stuff within Cassandra and could dramatically improve equilibration times\n",
    "\n",
    "#### W/rt box size\n",
    "We want a surface with ethane absorbing into it and the box height above to only focus on things absorbing into the surface. The problem is the other side of the surface and if the space is too small where the molecules can't fit between the two. But if we make it too far then we have a middle area. "
   ]
  },
  {
   "cell_type": "code",
   "execution_count": null,
   "metadata": {},
   "outputs": [],
   "source": []
  }
 ],
 "metadata": {
  "kernelspec": {
   "display_name": "Python 3",
   "language": "python",
   "name": "python3"
  },
  "language_info": {
   "codemirror_mode": {
    "name": "ipython",
    "version": 3
   },
   "file_extension": ".py",
   "mimetype": "text/x-python",
   "name": "python",
   "nbconvert_exporter": "python",
   "pygments_lexer": "ipython3",
   "version": "3.7.8"
  }
 },
 "nbformat": 4,
 "nbformat_minor": 4
}
