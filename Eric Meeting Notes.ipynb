{
 "cells": [
  {
   "cell_type": "markdown",
   "metadata": {},
   "source": [
    "### 07-06-2020\n",
    " - Work on adsorption isotherm\n",
    " - Future-wise: Can prepare for both, industry driven & setting up M1 project for PhD\n",
    " - Plan for December MS graduation, done by end of december\n",
    " - Nov 8 advisor approved thesis\n",
    " - Oct 25 defense deadline\n",
    " - Aug 30 apply for graduation\n",
    "\n",
    "One route: (data science)\n",
    " - Timing for data incubator after Dec\n",
    " - What to take from lab and showcase in data incubator\n",
    " - Difficulty in spooling up website for visualization\n",
    "  \n",
    "What does MS->PhD look like?\n",
    " - Having a strong thesis as a backbone is good\n",
    "\n",
    "Useful metric to checkin, is there a puzzle I cant let go? Is there something I need to solve outside of the research I already do.\n",
    "\n",
    "Let's look at thesis requirements now, they should match up with the LDRD report(September-ish) and how this work ties into Bryton's work."
   ]
  },
  {
   "cell_type": "code",
   "execution_count": null,
   "metadata": {},
   "outputs": [],
   "source": []
  }
 ],
 "metadata": {
  "kernelspec": {
   "display_name": "Python 3",
   "language": "python",
   "name": "python3"
  },
  "language_info": {
   "codemirror_mode": {
    "name": "ipython",
    "version": 3
   },
   "file_extension": ".py",
   "mimetype": "text/x-python",
   "name": "python",
   "nbconvert_exporter": "python",
   "pygments_lexer": "ipython3",
   "version": "3.7.3"
  }
 },
 "nbformat": 4,
 "nbformat_minor": 2
}
