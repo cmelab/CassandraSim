{
 "cells": [
  {
   "cell_type": "markdown",
   "metadata": {},
   "source": [
    "# Contents\n",
    " - [Imports](#Imports)\n",
    " - [Functions](#Functions)\n",
    " - [Make Surface & Visualize](#Surface)\n",
    " - [Make Gases & Visualize](#Gases)\n",
    " - [Apply Forcefields and Generate Simulation Box](#Forcefields)\n",
    " - [Define Statepoints](#Statepoints)\n",
    " - [Render Trajectory](#Trajectory)\n",
    " - [Errors](#Errors)\n",
    " - [Notes](#Notes)\n",
    "\n",
    "# Interesting Etherpads\n",
    " - [7-9: Equilibration & Box Stuff](https://etherpad.boisestate.edu/p/ldrd-s20-9)\n",
    " - [7-30: New Sweeps](https://etherpad.boisestate.edu/p/ldrd-s20-12)"
   ]
  },
  {
   "cell_type": "code",
   "execution_count": 47,
   "metadata": {},
   "outputs": [],
   "source": [
    "# Quick commands\n",
    "#!tail -n 1 signac/workspace/*/surfequil*.prp\n",
    "#!head -n 10 signac/workspace/*/surfprod*.prp\n",
    "!rm -rf *.in.* species* *.out* *.inp* *.log*"
   ]
  },
  {
   "cell_type": "markdown",
   "metadata": {},
   "source": [
    "<a id=\"Imports\"></a>\n",
    "## Imports"
   ]
  },
  {
   "cell_type": "code",
   "execution_count": 39,
   "metadata": {},
   "outputs": [],
   "source": [
    "import mosdef_cassandra as mc\n",
    "import generate_mc as gen   # Chris' script\n",
    "import mbuild as mb\n",
    "import foyer\n",
    "import numpy as np\n",
    "import matplotlib.pyplot as plt\n",
    "from scipy.spatial import ConvexHull\n",
    "import random\n",
    "import unyt as u    # For Cassandra's physical unit specification \n",
    "                    # https://mosdef-cassandra.readthedocs.io/en/latest/guides/unyts.html"
   ]
  },
  {
   "cell_type": "markdown",
   "metadata": {},
   "source": [
    "<a id=\"Functions\"></a>\n",
    "## Functions"
   ]
  },
  {
   "cell_type": "code",
   "execution_count": 40,
   "metadata": {},
   "outputs": [],
   "source": [
    "def run_cassandra_surf(chem_pot, temp):\n",
    "    # Create box and species list\n",
    "    box_list = [packed]\n",
    "    species_list = [typed_packed,typed_ethane] #\n",
    "\n",
    "    # Since we have an occupied box we need to specify\n",
    "    # the number of each species present in the intial config\n",
    "    mols_in_boxes = [[1,0]]\n",
    "\n",
    "    system = mc.System(box_list, species_list, mols_in_boxes=mols_in_boxes)\n",
    "    moveset = mc.MoveSet(\"gcmc\", species_list)\n",
    "\n",
    "    custom_args = {\n",
    "        \"run_name\": f\"surfequil\",\n",
    "        \"chemical_potentials\": [\"none\",chem_pot*u.Unit('kJ/mol')],\n",
    "        \"rcut_min\": 0.3980 * 2.5* u.angstrom, #(or 3.0)\n",
    "        \"vdw_cutoff\": min(box.lengths)/2.1* u.angstrom,\n",
    "        \"charge_style\": \"none\",\n",
    "        #\"charge_cutoff\": 14.0,\n",
    "        \"coord_freq\": 100,\n",
    "        \"prop_freq\": 10,\n",
    "    }\n",
    "\n",
    "    mc.run(\n",
    "        system=system, \n",
    "        moveset=moveset, \n",
    "        run_type=\"equilibration\", \n",
    "        run_length= 10000, \n",
    "        temperature=temp*u.K, \n",
    "        **custom_args\n",
    "    )\n",
    "    \n",
    "    # Set max translate and volume for production\n",
    "    moveset.max_translate = [[0* u.angstrom,10.0* u.angstrom]] # angstroms\n",
    "\n",
    "    # Update run_name and restart_name\n",
    "    custom_args[\"run_name\"] = f\"surfprod_{chem_pot:.0f}_{temp:.0f}\"\n",
    "    custom_args[\"restart_name\"] = f\"surfequil\"\n",
    "\n",
    "    mc.restart(\n",
    "        system=system,\n",
    "        moveset=moveset,\n",
    "        run_type=\"production\",\n",
    "        run_length= 50000, \n",
    "        temperature=temp*u.K,\n",
    "        **custom_args,\n",
    "    )"
   ]
  },
  {
   "cell_type": "code",
   "execution_count": 41,
   "metadata": {},
   "outputs": [
    {
     "name": "stdout",
     "output_type": "stream",
     "text": [
      "Using the following executables for Cassandra:\n",
      "Python: /home/nealeellyson/miniconda3/envs/moscas/bin/python\n",
      "library_setup: /home/nealeellyson/miniconda3/envs/moscas/bin/library_setup.py\n",
      "Cassandra: /home/nealeellyson/miniconda3/envs/moscas/bin/cassandra.exe\n"
     ]
    }
   ],
   "source": [
    "mc.utils.detect_cassandra_binaries();"
   ]
  },
  {
   "cell_type": "markdown",
   "metadata": {},
   "source": [
    "<a id=\"Surface\"></a>\n",
    "## Make Surface & Visualize"
   ]
  },
  {
   "cell_type": "code",
   "execution_count": 42,
   "metadata": {},
   "outputs": [
    {
     "data": {
      "application/3dmoljs_load.v0": "<div id=\"3dmolviewer_1599074577845468\"  style=\"position: relative; width: 640px; height: 480px\">\n        <p id=\"3dmolwarning_1599074577845468\" style=\"background-color:#ffcccc;color:black\">You appear to be running in JupyterLab (or JavaScript failed to load for some other reason).  You need to install the 3dmol extension: <br>\n        <tt>jupyter labextension install jupyterlab_3dmol</tt></p>\n        </div>\n<script>\n\nvar loadScriptAsync = function(uri){\n  return new Promise((resolve, reject) => {\n    var tag = document.createElement('script');\n    tag.src = uri;\n    tag.async = true;\n    tag.onload = () => {\n      resolve();\n    };\n  var firstScriptTag = document.getElementsByTagName('script')[0];\n  firstScriptTag.parentNode.insertBefore(tag, firstScriptTag);\n});\n};\n\nif(typeof $3Dmolpromise === 'undefined') {\n$3Dmolpromise = null;\n  $3Dmolpromise = loadScriptAsync('https://3dmol.csb.pitt.edu/build/3Dmol.js');\n}\n\nvar viewer_1599074577845468 = null;\nvar warn = document.getElementById(\"3dmolwarning_1599074577845468\");\nif(warn) {\n    warn.parentNode.removeChild(warn);\n}\n$3Dmolpromise.then(function() {\nviewer_1599074577845468 = $3Dmol.createViewer($(\"#3dmolviewer_1599074577845468\"),{backgroundColor:\"white\"});\n\tviewer_1599074577845468.addModel(\"@<TRIPOS>MOLECULE\\nRES\\n512 0 1 0 1\\nSMALL\\nNO_CHARGES\\n@<TRIPOS>CRYSIN\\n   20.9710    26.5140    17.5001    90.0000    90.0000    90.0000  1  1\\n@<TRIPOS>ATOM\\n       1 Mo           5.8344     6.8279     2.6516 Mo            1 RES     \\n       2 Nb           3.3774    12.9999     2.5876 Nb            1 RES     \\n       3 V            2.1024    -7.1831     2.6216 V             1 RES     \\n       4 V            1.3284   -10.6891     1.5046 V             1 RES     \\n       5 Mo          -0.1426    12.4559     1.5416 Mo            1 RES     \\n       6 Mo          -2.2516     9.6009     2.6276 Mo            1 RES     \\n       7 Nb          -3.8126    12.8919     1.5046 Nb            1 RES     \\n       8 Mo           5.8264    10.3859     1.5586 Mo            1 RES     \\n       9 Nb          -1.4376    -8.0451     1.6946 Nb            1 RES     \\n      10 Mo          -4.7366    -6.4951     2.6516 Mo            1 RES     \\n      11 Mo           8.2924     0.6549     2.5857 Mo            1 RES     \\n      12 V           -2.2796    -0.3231     2.5876 V             1 RES     \\n      13 Mo          -7.1946   -12.6681     2.5856 Mo            1 RES     \\n      14 Mo           9.5694    -5.8081     2.6197 Mo            1 RES     \\n      15 V           -1.0036     6.1409     2.6216 V             1 RES     \\n      16 Mo          -8.4716     7.5159     2.6196 Mo            1 RES     \\n      17 Mo          10.3424    -2.3011     1.5037 Mo            1 RES     \\n      18 Mo          -0.2306     2.6349     1.5046 Mo            1 RES     \\n      19 Mo          -9.2446    11.0219     1.5026 Mo            1 RES     \\n      20 Nb          -9.3316     1.2019     1.5416 Nb            1 RES     \\n      21 Nb           1.2404    -0.8681     1.5426 Nb            1 RES     \\n      22 Nb          10.4294   -12.1221     1.5407 Nb            1 RES     \\n      23 Nb          -7.2236     4.0559     2.6276 Nb            1 RES     \\n      24 Mo           3.3494    -3.7221     2.6276 Mo            1 RES     \\n      25 Mo           8.3204    -9.2671     2.6267 Mo            1 RES     \\n      26 Mo          -5.6616     0.7659     1.5046 Mo            1 RES     \\n      27 Mo           4.9094    -0.4321     1.5046 Mo            1 RES     \\n      28 Mo           6.7594   -12.5581     1.5047 Mo            1 RES     \\n      29 V            5.8444     3.2709     1.5586 V             1 RES     \\n      30 Mo          -4.7286    -2.9381     1.5596 Mo            1 RES     \\n      31 V           -4.7466   -10.0521     1.5586 V             1 RES     \\n      32 V           -8.0346    -4.9441     1.6956 V             1 RES     \\n      33 Mo           2.5364     5.2789     1.6946 Mo            1 RES     \\n      34 Mo           9.1324     8.3789     1.6947 Mo            1 RES     \\n      35 Mo          -1.7696   -11.3331     2.5406 Mo            1 RES     \\n      36 Mo          -7.7046    -1.6551     2.5416 Mo            1 RES     \\n      37 Mo           2.8674     1.9899     2.5406 Mo            1 RES     \\n      38 Mo           8.8024    11.6679     2.5407 Mo            1 RES     \\n      39 Mo          -5.7096     9.8959     2.0406 Mo            1 RES     \\n      40 Mo          -3.7646     3.7609     2.0416 Mo            1 RES     \\n      41 Mo           6.8084    -3.4281     2.0416 Mo            1 RES     \\n      42 Mo           4.8624    -9.5631     2.0416 Mo            1 RES     \\n      43 Mo           5.8344    -6.4951     1.5756 Mo            1 RES     \\n      44 Mo          -4.7376     6.8279     1.5766 Mo            1 RES     \\n      45 O            5.8344     6.8279     4.3236 O             1 RES     \\n      46 O            5.8344    -6.4951    -0.0924 O             1 RES     \\n      47 O            3.3884    12.9749     4.2606 O             1 RES     \\n      48 O            2.0954    -7.2441     4.2926 O             1 RES     \\n      49 O            1.3304   -10.6981    -0.1744 O             1 RES     \\n      50 O           -0.1686    12.4649    -0.1364 O             1 RES     \\n      51 O           -2.2086     9.6809     4.2976 O             1 RES     \\n      52 O           -3.7696    12.8639    -0.1724 O             1 RES     \\n      53 O           -1.7736   -11.3341     4.2516 O             1 RES     \\n      54 O            5.8144    10.3589    -0.1194 O             1 RES     \\n      55 O           -1.4536    -7.9661     0.0186 O             1 RES     \\n      56 O           -5.8506    10.0929     0.2206 O             1 RES     \\n      57 O           -5.1506    -8.3131     2.0796 O             1 RES     \\n      58 O           -6.2726   -10.9951     2.0636 O             1 RES     \\n      59 O            5.0044   -12.7431     2.0446 O             1 RES     \\n      60 O           -6.4116     7.7819     2.1736 O             1 RES     \\n      61 O           -8.9376   -11.9401     2.0506 O             1 RES     \\n      62 O          -10.5416    12.5089     1.9456 O             1 RES     \\n      63 O           -8.4326     9.4039     2.0386 O             1 RES     \\n      64 O            6.5854    -8.2431     2.1886 O             1 RES     \\n      65 O            9.7144   -10.4491     2.0167 O             1 RES     \\n      66 O           10.1544    10.1469     2.0607 O             1 RES     \\n      67 O          -10.4026     7.5189     2.1776 O             1 RES     \\n      68 O            8.6164   -12.8751     2.1347 O             1 RES     \\n      69 O            7.7784     9.9059     2.0557 O             1 RES     \\n      70 O            7.7554     7.2669     2.2417 O             1 RES     \\n      71 O            9.2294    -7.6411     2.2207 O             1 RES     \\n      72 O            6.9414   -10.7121     2.1257 O             1 RES     \\n      73 O            6.8834    12.1049     1.9456 O             1 RES     \\n      74 O            2.6094   -11.8721     2.0906 O             1 RES     \\n      75 O           -4.7366    -6.4951     4.3236 O             1 RES     \\n      76 O           -4.7376     6.8279    -0.0924 O             1 RES     \\n      77 O            8.2804     0.6789     4.2597 O             1 RES     \\n      78 O           -2.2916    -0.3471     4.2616 O             1 RES     \\n      79 O           -7.1836   -12.6451     4.2596 O             1 RES     \\n      80 O            9.5764    -5.7471     4.2907 O             1 RES     \\n      81 O           -0.9976     6.0799     4.2926 O             1 RES     \\n      82 O           -8.4786     7.5769     4.2906 O             1 RES     \\n      83 O           10.3424    -2.2921    -0.1753 O             1 RES     \\n      84 O           -0.2316     2.6249    -0.1744 O             1 RES     \\n      85 O           -9.2446    11.0309    -0.1764 O             1 RES     \\n      86 O           -9.3056     1.1909    -0.1364 O             1 RES     \\n      87 O            1.2664    -0.8581    -0.1354 O             1 RES     \\n      88 O           10.4034   -12.1321    -0.1363 O             1 RES     \\n      89 O           -7.2676     3.9779     4.2976 O             1 RES     \\n      90 O            3.3064    -3.6431     4.2976 O             1 RES     \\n      91 O            8.3654    -9.3461     4.2977 O             1 RES     \\n      92 O           -5.7026     0.7939    -0.1714 O             1 RES     \\n      93 O            4.8664    -0.4601    -0.1714 O             1 RES     \\n      94 O            6.7994   -12.5291    -0.1714 O             1 RES     \\n      95 O           -7.7006    -1.6531     4.2526 O             1 RES     \\n      96 O            2.8724     1.9889     4.2516 O             1 RES     \\n      97 O            8.7984    11.6709     4.2527 O             1 RES     \\n      98 O            5.8574     3.2979    -0.1194 O             1 RES     \\n      99 O           -4.7166    -2.9641    -0.1184 O             1 RES     \\n     100 O           -4.7596   -10.0251    -0.1194 O             1 RES     \\n     101 O           -8.0176    -5.0201     0.0196 O             1 RES     \\n     102 O            2.5514     5.3569     0.0186 O             1 RES     \\n     103 O            9.1164     8.3019     0.0187 O             1 RES     \\n     104 O           -3.6236     3.5629     0.2226 O             1 RES     \\n     105 O            6.9484    -3.2311     0.2217 O             1 RES     \\n     106 O            4.7214    -9.7601     0.2216 O             1 RES     \\n     107 O           -4.3236    -4.6761     2.0796 O             1 RES     \\n     108 O            6.2484     5.0099     2.0796 O             1 RES     \\n     109 O            5.4214     8.6469     2.0796 O             1 RES     \\n     110 O           -3.2016    -1.9951     2.0626 O             1 RES     \\n     111 O            7.3704     2.3279     2.0637 O             1 RES     \\n     112 O            4.2994    11.3279     2.0626 O             1 RES     \\n     113 O            6.6644    -0.2471     2.0427 O             1 RES     \\n     114 O           -3.9076     0.5809     2.0446 O             1 RES     \\n     115 O           -5.5666    13.0769     2.0426 O             1 RES     \\n     116 O           -3.0626     5.8739     2.1746 O             1 RES     \\n     117 O            7.5094    -5.5411     2.1737 O             1 RES     \\n     118 O            4.1604    -7.4491     2.1746 O             1 RES     \\n     119 O           -0.5366    -1.0491     2.0526 O             1 RES     \\n     120 O           10.0344     1.3829     2.0507 O             1 RES     \\n     121 O            1.6344    12.2739     2.0516 O             1 RES     \\n     122 O            1.0674     1.1489     1.9466 O             1 RES     \\n     123 O           -9.5046    -0.8141     1.9466 O             1 RES     \\n     124 O            0.0304   -12.1751     1.9456 O             1 RES     \\n     125 O           -1.0416     4.2529     2.0406 O             1 RES     \\n     126 O            9.5304    -3.9201     2.0387 O             1 RES     \\n     127 O            2.1404    -9.0701     2.0406 O             1 RES     \\n     128 O            5.0854    -4.7471     2.1896 O             1 RES     \\n     129 O           -5.4876     5.0809     2.1896 O             1 RES     \\n     130 O           -3.9876     8.5759     2.1886 O             1 RES     \\n     131 O            1.9554    -2.5401     2.0186 O             1 RES     \\n     132 O           -8.6166     2.8739     2.0166 O             1 RES     \\n     133 O           -0.8576    10.7829     2.0176 O             1 RES     \\n     134 O            1.5144     3.5109     2.0596 O             1 RES     \\n     135 O           -9.0566    -3.1761     2.0606 O             1 RES     \\n     136 O           -0.4166    -9.8131     2.0596 O             1 RES     \\n     137 O            0.9274     6.1379     2.1796 O             1 RES     \\n     138 O           -9.6436    -5.8041     2.1776 O             1 RES     \\n     139 O            0.1704    -7.1851     2.1796 O             1 RES     \\n     140 O            3.0534    -0.1141     2.1366 O             1 RES     \\n     141 O           -7.5186     0.4479     2.1346 O             1 RES     \\n     142 O           -1.9556   -13.4371     2.1356 O             1 RES     \\n     143 O            3.8914     3.7519     2.0526 O             1 RES     \\n     144 O           -6.6806    -3.4171     2.0566 O             1 RES     \\n     145 O           -2.7936    -9.5721     2.0526 O             1 RES     \\n     146 O            3.9134     6.3899     2.2416 O             1 RES     \\n     147 O           -6.6576    -6.0561     2.2416 O             1 RES     \\n     148 O           -2.8156    -6.9331     2.2416 O             1 RES     \\n     149 O            2.4414    -5.3491     2.2216 O             1 RES     \\n     150 O           -8.1316     5.6829     2.2206 O             1 RES     \\n     151 O           -1.3436     7.9739     2.2216 O             1 RES     \\n     152 O            4.7284    -2.2781     2.1256 O             1 RES     \\n     153 O           -5.8436     2.6119     2.1266 O             1 RES     \\n     154 O           -3.6306    11.0459     2.1256 O             1 RES     \\n     155 O            4.7854     1.5529     1.9456 O             1 RES     \\n     156 O           -5.7866    -1.2181     1.9466 O             1 RES     \\n     157 O           -3.6886   -11.7711     1.9456 O             1 RES     \\n     158 O            9.0604    -1.1181     2.0877 O             1 RES     \\n     159 O           -1.5116     1.4509     2.0906 O             1 RES     \\n     160 O           -7.7506    12.3039     2.0966 O             1 RES     \\n     161 Mo           5.8344     6.8279    -1.3516 Mo            1 RES     \\n     162 Te           3.3774    12.9999    -1.4156 Te            1 RES     \\n     163 Mo           2.1024    -7.1831    -1.3816 Mo            1 RES     \\n     164 Mo           1.3284   -10.6891    -2.4986 Mo            1 RES     \\n     165 Mo          -0.1426    12.4559    -2.4616 Mo            1 RES     \\n     166 Mo          -2.2516     9.6009    -1.3756 Mo            1 RES     \\n     167 V           -3.8126    12.8919    -2.4986 V             1 RES     \\n     168 V            5.8264    10.3859    -2.4446 V             1 RES     \\n     169 V           -1.4376    -8.0451    -2.3086 V             1 RES     \\n     170 Mo          -4.7366    -6.4951    -1.3516 Mo            1 RES     \\n     171 Mo           8.2924     0.6549    -1.4176 Mo            1 RES     \\n     172 Mo          -2.2796    -0.3231    -1.4156 Mo            1 RES     \\n     173 Mo          -7.1946   -12.6681    -1.4176 Mo            1 RES     \\n     174 Nb           9.5694    -5.8081    -1.3836 Nb            1 RES     \\n     175 Mo          -1.0036     6.1409    -1.3816 Mo            1 RES     \\n     176 V           -8.4716     7.5159    -1.3836 V             1 RES     \\n     177 Mo          10.3424    -2.3011    -2.4996 Mo            1 RES     \\n     178 Mo          -0.2306     2.6349    -2.4986 Mo            1 RES     \\n     179 Mo          -9.2446    11.0219    -2.5006 Mo            1 RES     \\n     180 V           -9.3316     1.2019    -2.4616 V             1 RES     \\n     181 Nb           1.2404    -0.8681    -2.4606 Nb            1 RES     \\n     182 Nb          10.4294   -12.1221    -2.4626 Nb            1 RES     \\n     183 Te          -7.2236     4.0559    -1.3756 Te            1 RES     \\n     184 Te           3.3494    -3.7221    -1.3756 Te            1 RES     \\n     185 Mo           8.3204    -9.2671    -1.3766 Mo            1 RES     \\n     186 V           -5.6616     0.7659    -2.4986 V             1 RES     \\n     187 Te           4.9094    -0.4321    -2.4986 Te            1 RES     \\n     188 Mo           6.7594   -12.5581    -2.4986 Mo            1 RES     \\n     189 Te           5.8444     3.2709    -2.4446 Te            1 RES     \\n     190 Te          -4.7286    -2.9381    -2.4436 Te            1 RES     \\n     191 Mo          -4.7466   -10.0521    -2.4446 Mo            1 RES     \\n     192 Mo          -8.0346    -4.9441    -2.3076 Mo            1 RES     \\n     193 Mo           2.5364     5.2789    -2.3086 Mo            1 RES     \\n     194 Mo           9.1324     8.3789    -2.3086 Mo            1 RES     \\n     195 Mo          -1.7696   -11.3331    -1.4626 Mo            1 RES     \\n     196 Mo          -7.7046    -1.6551    -1.4616 Mo            1 RES     \\n     197 Mo           2.8674     1.9899    -1.4626 Mo            1 RES     \\n     198 V            8.8024    11.6679    -1.4626 V             1 RES     \\n     199 Mo          -5.7096     9.8959    -1.9626 Mo            1 RES     \\n     200 V           -3.7646     3.7609    -1.9616 V             1 RES     \\n     201 Mo           6.8084    -3.4281    -1.9616 Mo            1 RES     \\n     202 Mo           4.8624    -9.5631    -1.9616 Mo            1 RES     \\n     203 Te           5.8344    -6.4951    -2.4276 Te            1 RES     \\n     204 Mo          -4.7376     6.8279    -2.4266 Mo            1 RES     \\n     205 O            5.8344     6.8279     0.3204 O             1 RES     \\n     206 O            5.8344    -6.4951    -4.0956 O             1 RES     \\n     207 O            3.3884    12.9749     0.2574 O             1 RES     \\n     208 O            2.0954    -7.2441     0.2894 O             1 RES     \\n     209 O            1.3304   -10.6981    -4.1776 O             1 RES     \\n     210 O           -0.1686    12.4649    -4.1396 O             1 RES     \\n     211 O           -2.2086     9.6809     0.2944 O             1 RES     \\n     212 O           -3.7696    12.8639    -4.1756 O             1 RES     \\n     213 O           -1.7736   -11.3341     0.2484 O             1 RES     \\n     214 O            5.8144    10.3589    -4.1226 O             1 RES     \\n     215 O           -1.4536    -7.9661    -3.9846 O             1 RES     \\n     216 O           -5.8506    10.0929    -3.7826 O             1 RES     \\n     217 O           -5.1506    -8.3131    -1.9236 O             1 RES     \\n     218 O           -6.2726   -10.9951    -1.9396 O             1 RES     \\n     219 O            5.0044   -12.7431    -1.9586 O             1 RES     \\n     220 O           -6.4116     7.7819    -1.8296 O             1 RES     \\n     221 O           -8.9376   -11.9401    -1.9526 O             1 RES     \\n     222 O          -10.5416    12.5089    -2.0576 O             1 RES     \\n     223 O           -8.4326     9.4039    -1.9646 O             1 RES     \\n     224 O            6.5854    -8.2431    -1.8146 O             1 RES     \\n     225 O            9.7144   -10.4491    -1.9866 O             1 RES     \\n     226 O           10.1544    10.1469    -1.9426 O             1 RES     \\n     227 O          -10.4026     7.5189    -1.8256 O             1 RES     \\n     228 O            8.6164   -12.8751    -1.8686 O             1 RES     \\n     229 O            7.7784     9.9059    -1.9476 O             1 RES     \\n     230 O            7.7554     7.2669    -1.7616 O             1 RES     \\n     231 O            9.2294    -7.6411    -1.7826 O             1 RES     \\n     232 O            6.9414   -10.7121    -1.8776 O             1 RES     \\n     233 O            6.8834    12.1049    -2.0576 O             1 RES     \\n     234 O            2.6094   -11.8721    -1.9126 O             1 RES     \\n     235 O           -4.7366    -6.4951     0.3204 O             1 RES     \\n     236 O           -4.7376     6.8279    -4.0956 O             1 RES     \\n     237 O            8.2804     0.6789     0.2564 O             1 RES     \\n     238 O           -2.2916    -0.3471     0.2584 O             1 RES     \\n     239 O           -7.1836   -12.6451     0.2564 O             1 RES     \\n     240 O            9.5764    -5.7471     0.2874 O             1 RES     \\n     241 O           -0.9976     6.0799     0.2894 O             1 RES     \\n     242 O           -8.4786     7.5769     0.2874 O             1 RES     \\n     243 O           10.3424    -2.2921    -4.1786 O             1 RES     \\n     244 O           -0.2316     2.6249    -4.1776 O             1 RES     \\n     245 O           -9.2446    11.0309    -4.1796 O             1 RES     \\n     246 O           -9.3056     1.1909    -4.1396 O             1 RES     \\n     247 O            1.2664    -0.8581    -4.1386 O             1 RES     \\n     248 O           10.4034   -12.1321    -4.1395 O             1 RES     \\n     249 O           -7.2676     3.9779     0.2944 O             1 RES     \\n     250 O            3.3064    -3.6431     0.2944 O             1 RES     \\n     251 O            8.3654    -9.3461     0.2944 O             1 RES     \\n     252 O           -5.7026     0.7939    -4.1746 O             1 RES     \\n     253 O            4.8664    -0.4601    -4.1746 O             1 RES     \\n     254 O            6.7994   -12.5291    -4.1746 O             1 RES     \\n     255 O           -7.7006    -1.6531     0.2494 O             1 RES     \\n     256 O            2.8724     1.9889     0.2484 O             1 RES     \\n     257 O            8.7984    11.6709     0.2494 O             1 RES     \\n     258 O            5.8574     3.2979    -4.1226 O             1 RES     \\n     259 O           -4.7166    -2.9641    -4.1216 O             1 RES     \\n     260 O           -4.7596   -10.0251    -4.1226 O             1 RES     \\n     261 O           -8.0176    -5.0201    -3.9836 O             1 RES     \\n     262 O            2.5514     5.3569    -3.9846 O             1 RES     \\n     263 O            9.1164     8.3019    -3.9846 O             1 RES     \\n     264 O           -3.6236     3.5629    -3.7806 O             1 RES     \\n     265 O            6.9484    -3.2311    -3.7816 O             1 RES     \\n     266 O            4.7214    -9.7601    -3.7816 O             1 RES     \\n     267 O           -4.3236    -4.6761    -1.9236 O             1 RES     \\n     268 O            6.2484     5.0099    -1.9236 O             1 RES     \\n     269 O            5.4214     8.6469    -1.9236 O             1 RES     \\n     270 O           -3.2016    -1.9951    -1.9406 O             1 RES     \\n     271 O            7.3704     2.3279    -1.9396 O             1 RES     \\n     272 O            4.2994    11.3279    -1.9406 O             1 RES     \\n     273 O            6.6644    -0.2471    -1.9606 O             1 RES     \\n     274 O           -3.9076     0.5809    -1.9586 O             1 RES     \\n     275 O           -5.5666    13.0769    -1.9606 O             1 RES     \\n     276 O           -3.0626     5.8739    -1.8286 O             1 RES     \\n     277 O            7.5094    -5.5411    -1.8296 O             1 RES     \\n     278 O            4.1604    -7.4491    -1.8286 O             1 RES     \\n     279 O           -0.5366    -1.0491    -1.9506 O             1 RES     \\n     280 O           10.0344     1.3829    -1.9526 O             1 RES     \\n     281 O            1.6344    12.2739    -1.9516 O             1 RES     \\n     282 O            1.0674     1.1489    -2.0566 O             1 RES     \\n     283 O           -9.5046    -0.8141    -2.0566 O             1 RES     \\n     284 O            0.0304   -12.1751    -2.0576 O             1 RES     \\n     285 O           -1.0416     4.2529    -1.9626 O             1 RES     \\n     286 O            9.5304    -3.9201    -1.9646 O             1 RES     \\n     287 O            2.1404    -9.0701    -1.9626 O             1 RES     \\n     288 O            5.0854    -4.7471    -1.8136 O             1 RES     \\n     289 O           -5.4876     5.0809    -1.8136 O             1 RES     \\n     290 O           -3.9876     8.5759    -1.8146 O             1 RES     \\n     291 O            1.9554    -2.5401    -1.9846 O             1 RES     \\n     292 O           -8.6166     2.8739    -1.9866 O             1 RES     \\n     293 O           -0.8576    10.7829    -1.9856 O             1 RES     \\n     294 O            1.5144     3.5109    -1.9436 O             1 RES     \\n     295 O           -9.0566    -3.1761    -1.9426 O             1 RES     \\n     296 O           -0.4166    -9.8131    -1.9436 O             1 RES     \\n     297 O            0.9274     6.1379    -1.8236 O             1 RES     \\n     298 O           -9.6436    -5.8041    -1.8256 O             1 RES     \\n     299 O            0.1704    -7.1851    -1.8236 O             1 RES     \\n     300 O            3.0534    -0.1141    -1.8666 O             1 RES     \\n     301 O           -7.5186     0.4479    -1.8686 O             1 RES     \\n     302 O           -1.9556   -13.4371    -1.8676 O             1 RES     \\n     303 O            3.8914     3.7519    -1.9506 O             1 RES     \\n     304 O           -6.6806    -3.4171    -1.9466 O             1 RES     \\n     305 O           -2.7936    -9.5721    -1.9506 O             1 RES     \\n     306 O            3.9134     6.3899    -1.7616 O             1 RES     \\n     307 O           -6.6576    -6.0561    -1.7616 O             1 RES     \\n     308 O           -2.8156    -6.9331    -1.7616 O             1 RES     \\n     309 O            2.4414    -5.3491    -1.7816 O             1 RES     \\n     310 O           -8.1316     5.6829    -1.7826 O             1 RES     \\n     311 O           -1.3436     7.9739    -1.7816 O             1 RES     \\n     312 O            4.7284    -2.2781    -1.8776 O             1 RES     \\n     313 O           -5.8436     2.6119    -1.8766 O             1 RES     \\n     314 O           -3.6306    11.0459    -1.8776 O             1 RES     \\n     315 O            4.7854     1.5529    -2.0576 O             1 RES     \\n     316 O           -5.7866    -1.2181    -2.0566 O             1 RES     \\n     317 O           -3.6886   -11.7711    -2.0576 O             1 RES     \\n     318 O            9.0604    -1.1181    -1.9156 O             1 RES     \\n     319 O           -1.5116     1.4509    -1.9126 O             1 RES     \\n     320 O           -7.7506    12.3039    -1.9066 O             1 RES     \\n     321 C            5.5959     6.3500    -5.9007 C             1 RES     \\n     322 C            6.0982     7.6519    -5.8974 C             1 RES     \\n     323 C            7.4766     7.8660    -5.9156 C             1 RES     \\n     324 C            8.3516     6.7812    -5.8961 C             1 RES     \\n     325 C            7.8494     5.4793    -5.8862 C             1 RES     \\n     326 C            6.4709     5.2650    -5.9001 C             1 RES     \\n     327 H            4.5219     6.1829    -5.9065 H             1 RES     \\n     328 H            5.4168     8.4974    -5.8818 H             1 RES     \\n     329 H            7.8680     8.8798    -5.9454 H             1 RES     \\n     330 H            9.4255     6.9488    -5.8879 H             1 RES     \\n     331 H            8.5311     4.6340    -5.8722 H             1 RES     \\n     332 H            6.0794     4.2508    -5.9074 H             1 RES     \\n     333 C           -3.3813    -4.4117    -5.9010 C             1 RES     \\n     334 C           -2.8790    -3.1098    -5.8977 C             1 RES     \\n     335 C           -1.5006    -2.8957    -5.9159 C             1 RES     \\n     336 C           -0.6256    -3.9804    -5.8964 C             1 RES     \\n     337 C           -1.1278    -5.2824    -5.8865 C             1 RES     \\n     338 C           -2.5064    -5.4967    -5.9004 C             1 RES     \\n     339 H           -4.4553    -4.5788    -5.9068 H             1 RES     \\n     340 H           -3.5604    -2.2642    -5.8820 H             1 RES     \\n     341 H           -1.1093    -1.8818    -5.9457 H             1 RES     \\n     342 H            0.4483    -3.8129    -5.8882 H             1 RES     \\n     343 H           -0.4461    -6.1277    -5.8725 H             1 RES     \\n     344 H           -2.8978    -6.5109    -5.9076 H             1 RES     \\n     345 C           -0.5777     8.6662    -5.9074 C             1 RES     \\n     346 C           -0.0755     9.9682    -5.9041 C             1 RES     \\n     347 C            1.3030    10.1822    -5.9223 C             1 RES     \\n     348 C            2.1779     9.0975    -5.9027 C             1 RES     \\n     349 C            1.6757     7.7956    -5.8929 C             1 RES     \\n     350 C            0.2972     7.5813    -5.9068 C             1 RES     \\n     351 H           -1.6518     8.4992    -5.9132 H             1 RES     \\n     352 H           -0.7569    10.8137    -5.8884 H             1 RES     \\n     353 H            1.6943    11.1961    -5.9520 H             1 RES     \\n     354 H            3.2518     9.2650    -5.8946 H             1 RES     \\n     355 H            2.3574     6.9502    -5.8789 H             1 RES     \\n     356 H           -0.0943     6.5670    -5.9140 H             1 RES     \\n     357 C           -4.9113     3.1533    -5.9007 C             1 RES     \\n     358 C           -4.4091     4.4552    -5.8974 C             1 RES     \\n     359 C           -3.0306     4.6693    -5.9156 C             1 RES     \\n     360 C           -2.1557     3.5846    -5.8961 C             1 RES     \\n     361 C           -2.6578     2.2826    -5.8862 C             1 RES     \\n     362 C           -4.0364     2.0684    -5.9001 C             1 RES     \\n     363 H           -5.9853     2.9862    -5.9065 H             1 RES     \\n     364 H           -5.0905     5.3008    -5.8818 H             1 RES     \\n     365 H           -2.6393     5.6832    -5.9454 H             1 RES     \\n     366 H           -1.0817     3.7521    -5.8879 H             1 RES     \\n     367 H           -1.9761     1.4373    -5.8722 H             1 RES     \\n     368 H           -4.4278     1.0541    -5.9074 H             1 RES     \\n     369 C            5.5914    -1.7697    -5.9004 C             1 RES     \\n     370 C            6.0936    -0.4678    -5.8971 C             1 RES     \\n     371 C            7.4721    -0.2537    -5.9153 C             1 RES     \\n     372 C            8.3470    -1.3385    -5.8958 C             1 RES     \\n     373 C            7.8449    -2.6404    -5.8859 C             1 RES     \\n     374 C            6.4663    -2.8547    -5.8998 C             1 RES     \\n     375 H            4.5174    -1.9368    -5.9062 H             1 RES     \\n     376 H            5.4122     0.3777    -5.8814 H             1 RES     \\n     377 H            7.8634     0.7601    -5.9451 H             1 RES     \\n     378 H            9.4210    -1.1709    -5.8876 H             1 RES     \\n     379 H            8.5266    -3.4857    -5.8719 H             1 RES     \\n     380 H            6.0749    -3.8689    -5.9071 H             1 RES     \\n     381 C           -8.5053    -9.2972    -5.9072 C             1 RES     \\n     382 C           -8.0030    -7.9952    -5.9039 C             1 RES     \\n     383 C           -6.6246    -7.7812    -5.9221 C             1 RES     \\n     384 C           -5.7496    -8.8659    -5.9026 C             1 RES     \\n     385 C           -6.2518   -10.1678    -5.8927 C             1 RES     \\n     386 C           -7.6304   -10.3821    -5.9066 C             1 RES     \\n     387 H           -9.5793    -9.4642    -5.9130 H             1 RES     \\n     388 H           -8.6844    -7.1497    -5.8882 H             1 RES     \\n     389 H           -6.2333    -6.7673    -5.9519 H             1 RES     \\n     390 H           -4.6757    -8.6984    -5.8944 H             1 RES     \\n     391 H           -5.5701   -11.0132    -5.8787 H             1 RES     \\n     392 H           -8.0218   -11.3963    -5.9139 H             1 RES     \\n     393 C           -7.4941     9.5046    -5.9008 C             1 RES     \\n     394 C           -6.9919    10.8065    -5.8975 C             1 RES     \\n     395 C           -5.6134    11.0206    -5.9157 C             1 RES     \\n     396 C           -4.7385     9.9358    -5.8962 C             1 RES     \\n     397 C           -5.2406     8.6339    -5.8863 C             1 RES     \\n     398 C           -6.6192     8.4196    -5.9002 C             1 RES     \\n     399 H           -8.5681     9.3375    -5.9066 H             1 RES     \\n     400 H           -7.6733    11.6520    -5.8818 H             1 RES     \\n     401 H           -5.2221    12.0344    -5.9454 H             1 RES     \\n     402 H           -3.6645    10.1034    -5.8880 H             1 RES     \\n     403 H           -4.5589     7.7886    -5.8723 H             1 RES     \\n     404 H           -7.0106     7.4054    -5.9074 H             1 RES     \\n     405 C            2.4233    -8.5306    -5.9007 C             1 RES     \\n     406 C            2.9256    -7.2287    -5.8974 C             1 RES     \\n     407 C            4.3040    -7.0146    -5.9156 C             1 RES     \\n     408 C            5.1790    -8.0993    -5.8961 C             1 RES     \\n     409 C            4.6768    -9.4013    -5.8862 C             1 RES     \\n     410 C            3.2982    -9.6155    -5.9001 C             1 RES     \\n     411 H            1.3493    -8.6977    -5.9065 H             1 RES     \\n     412 H            2.2442    -6.3831    -5.8817 H             1 RES     \\n     413 H            4.6953    -6.0007    -5.9453 H             1 RES     \\n     414 H            6.2529    -7.9318    -5.8879 H             1 RES     \\n     415 H            5.3585   -10.2466    -5.8722 H             1 RES     \\n     416 H            2.9068   -10.6298    -5.9073 H             1 RES     \\n     417 C           -5.3946     2.1345     5.9997 C             1 RES     \\n     418 C           -5.8969     3.4364     5.9964 C             1 RES     \\n     419 C           -7.2753     3.6505     6.0146 C             1 RES     \\n     420 C           -8.1503     2.5658     5.9951 C             1 RES     \\n     421 C           -7.6481     1.2638     5.9852 C             1 RES     \\n     422 C           -6.2695     1.0495     5.9991 C             1 RES     \\n     423 H           -4.3206     1.9674     6.0055 H             1 RES     \\n     424 H           -5.2154     4.2820     5.9808 H             1 RES     \\n     425 H           -7.6666     4.6644     6.0444 H             1 RES     \\n     426 H           -9.2242     2.7333     5.9869 H             1 RES     \\n     427 H           -8.3298     0.4185     5.9713 H             1 RES     \\n     428 H           -5.8781     0.0353     6.0064 H             1 RES     \\n     429 C            7.6396     9.3538     6.0063 C             1 RES     \\n     430 C            7.1374    10.6557     6.0030 C             1 RES     \\n     431 C            5.7589    10.8698     6.0212 C             1 RES     \\n     432 C            4.8840     9.7851     6.0017 C             1 RES     \\n     433 C            5.3861     8.4831     5.9918 C             1 RES     \\n     434 C            6.7647     8.2688     6.0057 C             1 RES     \\n     435 H            8.7137     9.1867     6.0121 H             1 RES     \\n     436 H            7.8188    11.5012     5.9874 H             1 RES     \\n     437 H            5.3676    11.8837     6.0510 H             1 RES     \\n     438 H            3.8100     9.9526     5.9935 H             1 RES     \\n     439 H            4.7045     7.6378     5.9778 H             1 RES     \\n     440 H            7.1562     7.2546     6.0130 H             1 RES     \\n     441 C            1.8666     6.7875     5.9998 C             1 RES     \\n     442 C            1.3643     8.0894     5.9965 C             1 RES     \\n     443 C           -0.0141     8.3035     6.0147 C             1 RES     \\n     444 C           -0.8891     7.2188     5.9951 C             1 RES     \\n     445 C           -0.3869     5.9168     5.9853 C             1 RES     \\n     446 C            0.9917     5.7025     5.9992 C             1 RES     \\n     447 H            2.9406     6.6204     6.0056 H             1 RES     \\n     448 H            2.0458     8.9350     5.9808 H             1 RES     \\n     449 H           -0.4054     9.3174     6.0444 H             1 RES     \\n     450 H           -1.9630     7.3863     5.9870 H             1 RES     \\n     451 H           -1.0686     5.0715     5.9713 H             1 RES     \\n     452 H            1.3831     4.6883     6.0064 H             1 RES     \\n     453 C            7.6362     2.9419     6.0063 C             1 RES     \\n     454 C            7.1340     4.2438     6.0030 C             1 RES     \\n     455 C            5.7555     4.4579     6.0212 C             1 RES     \\n     456 C            4.8806     3.3731     6.0017 C             1 RES     \\n     457 C            5.3828     2.0712     5.9918 C             1 RES     \\n     458 C            6.7613     1.8569     6.0057 C             1 RES     \\n     459 H            8.7103     2.7748     6.0121 H             1 RES     \\n     460 H            7.8154     5.0893     5.9874 H             1 RES     \\n     461 H            5.3642     5.4717     6.0510 H             1 RES     \\n     462 H            3.8067     3.5407     5.9935 H             1 RES     \\n     463 H            4.7011     1.2259     5.9778 H             1 RES     \\n     464 H            7.1528     0.8427     6.0130 H             1 RES     \\n     465 C           -5.4748    -4.6563     6.0064 C             1 RES     \\n     466 C           -5.9770    -3.3543     6.0031 C             1 RES     \\n     467 C           -7.3555    -3.1403     6.0213 C             1 RES     \\n     468 C           -8.2304    -4.2250     6.0017 C             1 RES     \\n     469 C           -7.7283    -5.5269     5.9919 C             1 RES     \\n     470 C           -6.3497    -5.7412     6.0058 C             1 RES     \\n     471 H           -4.4008    -4.8234     6.0122 H             1 RES     \\n     472 H           -5.2956    -2.5088     5.9874 H             1 RES     \\n     473 H           -7.7468    -2.1264     6.0510 H             1 RES     \\n     474 H           -9.3044    -4.0575     5.9936 H             1 RES     \\n     475 H           -8.4099    -6.3723     5.9779 H             1 RES     \\n     476 H           -5.9582    -6.7555     6.0130 H             1 RES     \\n     477 C            1.1339    -3.5498     6.0064 C             1 RES     \\n     478 C            0.6316    -2.2479     6.0031 C             1 RES     \\n     479 C           -0.7468    -2.0338     6.0213 C             1 RES     \\n     480 C           -1.6218    -3.1186     6.0018 C             1 RES     \\n     481 C           -1.1196    -4.4205     5.9919 C             1 RES     \\n     482 C            0.2590    -4.6348     6.0058 C             1 RES     \\n     483 H            2.2079    -3.7169     6.0122 H             1 RES     \\n     484 H            1.3131    -1.4024     5.9875 H             1 RES     \\n     485 H           -1.1381    -1.0200     6.0511 H             1 RES     \\n     486 H           -2.6957    -2.9510     5.9936 H             1 RES     \\n     487 H           -1.8013    -5.2658     5.9779 H             1 RES     \\n     488 H            0.6504    -5.6490     6.0131 H             1 RES     \\n     489 C           -5.5724    -9.9568     5.9997 C             1 RES     \\n     490 C           -6.0747    -8.6548     5.9964 C             1 RES     \\n     491 C           -7.4532    -8.4408     6.0146 C             1 RES     \\n     492 C           -8.3281    -9.5255     5.9951 C             1 RES     \\n     493 C           -7.8259   -10.8274     5.9852 C             1 RES     \\n     494 C           -6.4474   -11.0417     5.9991 C             1 RES     \\n     495 H           -4.4984   -10.1238     6.0055 H             1 RES     \\n     496 H           -5.3933    -7.8093     5.9807 H             1 RES     \\n     497 H           -7.8445    -7.4269     6.0444 H             1 RES     \\n     498 H           -9.4020    -9.3580     5.9869 H             1 RES     \\n     499 H           -8.5076   -11.6728     5.9712 H             1 RES     \\n     500 H           -6.0559   -12.0559     6.0063 H             1 RES     \\n     501 C            1.8017   -10.1929     6.0067 C             1 RES     \\n     502 C            1.2995    -8.8909     6.0034 C             1 RES     \\n     503 C           -0.0790    -8.6769     6.0216 C             1 RES     \\n     504 C           -0.9539    -9.7616     6.0020 C             1 RES     \\n     505 C           -0.4518   -11.0635     5.9922 C             1 RES     \\n     506 C            0.9268   -11.2778     6.0061 C             1 RES     \\n     507 H            2.8757   -10.3599     6.0125 H             1 RES     \\n     508 H            1.9809    -8.0454     5.9877 H             1 RES     \\n     509 H           -0.4703    -7.6630     6.0513 H             1 RES     \\n     510 H           -2.0279    -9.5941     5.9939 H             1 RES     \\n     511 H           -1.1335   -11.9089     5.9782 H             1 RES     \\n     512 H            1.3182   -12.2921     6.0133 H             1 RES     \\n@<TRIPOS>BOND\\n@<TRIPOS>SUBSTRUCTURE\\n       1 RES             1 RESIDUE    0 **** ROOT      0\\n\",\"mol2\");\n\tviewer_1599074577845468.setStyle({\"stick\": {\"radius\": 0.2, \"color\": \"grey\"}, \"sphere\": {\"scale\": 0.3, \"colorscheme\": {}}});\n\tviewer_1599074577845468.zoomTo();\nviewer_1599074577845468.render();\n});\n</script>",
      "text/html": [
       "<div id=\"3dmolviewer_1599074577845468\"  style=\"position: relative; width: 640px; height: 480px\">\n",
       "        <p id=\"3dmolwarning_1599074577845468\" style=\"background-color:#ffcccc;color:black\">You appear to be running in JupyterLab (or JavaScript failed to load for some other reason).  You need to install the 3dmol extension: <br>\n",
       "        <tt>jupyter labextension install jupyterlab_3dmol</tt></p>\n",
       "        </div>\n",
       "<script>\n",
       "\n",
       "var loadScriptAsync = function(uri){\n",
       "  return new Promise((resolve, reject) => {\n",
       "    var tag = document.createElement('script');\n",
       "    tag.src = uri;\n",
       "    tag.async = true;\n",
       "    tag.onload = () => {\n",
       "      resolve();\n",
       "    };\n",
       "  var firstScriptTag = document.getElementsByTagName('script')[0];\n",
       "  firstScriptTag.parentNode.insertBefore(tag, firstScriptTag);\n",
       "});\n",
       "};\n",
       "\n",
       "if(typeof $3Dmolpromise === 'undefined') {\n",
       "$3Dmolpromise = null;\n",
       "  $3Dmolpromise = loadScriptAsync('https://3dmol.csb.pitt.edu/build/3Dmol.js');\n",
       "}\n",
       "\n",
       "var viewer_1599074577845468 = null;\n",
       "var warn = document.getElementById(\"3dmolwarning_1599074577845468\");\n",
       "if(warn) {\n",
       "    warn.parentNode.removeChild(warn);\n",
       "}\n",
       "$3Dmolpromise.then(function() {\n",
       "viewer_1599074577845468 = $3Dmol.createViewer($(\"#3dmolviewer_1599074577845468\"),{backgroundColor:\"white\"});\n",
       "\tviewer_1599074577845468.addModel(\"@<TRIPOS>MOLECULE\\nRES\\n512 0 1 0 1\\nSMALL\\nNO_CHARGES\\n@<TRIPOS>CRYSIN\\n   20.9710    26.5140    17.5001    90.0000    90.0000    90.0000  1  1\\n@<TRIPOS>ATOM\\n       1 Mo           5.8344     6.8279     2.6516 Mo            1 RES     \\n       2 Nb           3.3774    12.9999     2.5876 Nb            1 RES     \\n       3 V            2.1024    -7.1831     2.6216 V             1 RES     \\n       4 V            1.3284   -10.6891     1.5046 V             1 RES     \\n       5 Mo          -0.1426    12.4559     1.5416 Mo            1 RES     \\n       6 Mo          -2.2516     9.6009     2.6276 Mo            1 RES     \\n       7 Nb          -3.8126    12.8919     1.5046 Nb            1 RES     \\n       8 Mo           5.8264    10.3859     1.5586 Mo            1 RES     \\n       9 Nb          -1.4376    -8.0451     1.6946 Nb            1 RES     \\n      10 Mo          -4.7366    -6.4951     2.6516 Mo            1 RES     \\n      11 Mo           8.2924     0.6549     2.5857 Mo            1 RES     \\n      12 V           -2.2796    -0.3231     2.5876 V             1 RES     \\n      13 Mo          -7.1946   -12.6681     2.5856 Mo            1 RES     \\n      14 Mo           9.5694    -5.8081     2.6197 Mo            1 RES     \\n      15 V           -1.0036     6.1409     2.6216 V             1 RES     \\n      16 Mo          -8.4716     7.5159     2.6196 Mo            1 RES     \\n      17 Mo          10.3424    -2.3011     1.5037 Mo            1 RES     \\n      18 Mo          -0.2306     2.6349     1.5046 Mo            1 RES     \\n      19 Mo          -9.2446    11.0219     1.5026 Mo            1 RES     \\n      20 Nb          -9.3316     1.2019     1.5416 Nb            1 RES     \\n      21 Nb           1.2404    -0.8681     1.5426 Nb            1 RES     \\n      22 Nb          10.4294   -12.1221     1.5407 Nb            1 RES     \\n      23 Nb          -7.2236     4.0559     2.6276 Nb            1 RES     \\n      24 Mo           3.3494    -3.7221     2.6276 Mo            1 RES     \\n      25 Mo           8.3204    -9.2671     2.6267 Mo            1 RES     \\n      26 Mo          -5.6616     0.7659     1.5046 Mo            1 RES     \\n      27 Mo           4.9094    -0.4321     1.5046 Mo            1 RES     \\n      28 Mo           6.7594   -12.5581     1.5047 Mo            1 RES     \\n      29 V            5.8444     3.2709     1.5586 V             1 RES     \\n      30 Mo          -4.7286    -2.9381     1.5596 Mo            1 RES     \\n      31 V           -4.7466   -10.0521     1.5586 V             1 RES     \\n      32 V           -8.0346    -4.9441     1.6956 V             1 RES     \\n      33 Mo           2.5364     5.2789     1.6946 Mo            1 RES     \\n      34 Mo           9.1324     8.3789     1.6947 Mo            1 RES     \\n      35 Mo          -1.7696   -11.3331     2.5406 Mo            1 RES     \\n      36 Mo          -7.7046    -1.6551     2.5416 Mo            1 RES     \\n      37 Mo           2.8674     1.9899     2.5406 Mo            1 RES     \\n      38 Mo           8.8024    11.6679     2.5407 Mo            1 RES     \\n      39 Mo          -5.7096     9.8959     2.0406 Mo            1 RES     \\n      40 Mo          -3.7646     3.7609     2.0416 Mo            1 RES     \\n      41 Mo           6.8084    -3.4281     2.0416 Mo            1 RES     \\n      42 Mo           4.8624    -9.5631     2.0416 Mo            1 RES     \\n      43 Mo           5.8344    -6.4951     1.5756 Mo            1 RES     \\n      44 Mo          -4.7376     6.8279     1.5766 Mo            1 RES     \\n      45 O            5.8344     6.8279     4.3236 O             1 RES     \\n      46 O            5.8344    -6.4951    -0.0924 O             1 RES     \\n      47 O            3.3884    12.9749     4.2606 O             1 RES     \\n      48 O            2.0954    -7.2441     4.2926 O             1 RES     \\n      49 O            1.3304   -10.6981    -0.1744 O             1 RES     \\n      50 O           -0.1686    12.4649    -0.1364 O             1 RES     \\n      51 O           -2.2086     9.6809     4.2976 O             1 RES     \\n      52 O           -3.7696    12.8639    -0.1724 O             1 RES     \\n      53 O           -1.7736   -11.3341     4.2516 O             1 RES     \\n      54 O            5.8144    10.3589    -0.1194 O             1 RES     \\n      55 O           -1.4536    -7.9661     0.0186 O             1 RES     \\n      56 O           -5.8506    10.0929     0.2206 O             1 RES     \\n      57 O           -5.1506    -8.3131     2.0796 O             1 RES     \\n      58 O           -6.2726   -10.9951     2.0636 O             1 RES     \\n      59 O            5.0044   -12.7431     2.0446 O             1 RES     \\n      60 O           -6.4116     7.7819     2.1736 O             1 RES     \\n      61 O           -8.9376   -11.9401     2.0506 O             1 RES     \\n      62 O          -10.5416    12.5089     1.9456 O             1 RES     \\n      63 O           -8.4326     9.4039     2.0386 O             1 RES     \\n      64 O            6.5854    -8.2431     2.1886 O             1 RES     \\n      65 O            9.7144   -10.4491     2.0167 O             1 RES     \\n      66 O           10.1544    10.1469     2.0607 O             1 RES     \\n      67 O          -10.4026     7.5189     2.1776 O             1 RES     \\n      68 O            8.6164   -12.8751     2.1347 O             1 RES     \\n      69 O            7.7784     9.9059     2.0557 O             1 RES     \\n      70 O            7.7554     7.2669     2.2417 O             1 RES     \\n      71 O            9.2294    -7.6411     2.2207 O             1 RES     \\n      72 O            6.9414   -10.7121     2.1257 O             1 RES     \\n      73 O            6.8834    12.1049     1.9456 O             1 RES     \\n      74 O            2.6094   -11.8721     2.0906 O             1 RES     \\n      75 O           -4.7366    -6.4951     4.3236 O             1 RES     \\n      76 O           -4.7376     6.8279    -0.0924 O             1 RES     \\n      77 O            8.2804     0.6789     4.2597 O             1 RES     \\n      78 O           -2.2916    -0.3471     4.2616 O             1 RES     \\n      79 O           -7.1836   -12.6451     4.2596 O             1 RES     \\n      80 O            9.5764    -5.7471     4.2907 O             1 RES     \\n      81 O           -0.9976     6.0799     4.2926 O             1 RES     \\n      82 O           -8.4786     7.5769     4.2906 O             1 RES     \\n      83 O           10.3424    -2.2921    -0.1753 O             1 RES     \\n      84 O           -0.2316     2.6249    -0.1744 O             1 RES     \\n      85 O           -9.2446    11.0309    -0.1764 O             1 RES     \\n      86 O           -9.3056     1.1909    -0.1364 O             1 RES     \\n      87 O            1.2664    -0.8581    -0.1354 O             1 RES     \\n      88 O           10.4034   -12.1321    -0.1363 O             1 RES     \\n      89 O           -7.2676     3.9779     4.2976 O             1 RES     \\n      90 O            3.3064    -3.6431     4.2976 O             1 RES     \\n      91 O            8.3654    -9.3461     4.2977 O             1 RES     \\n      92 O           -5.7026     0.7939    -0.1714 O             1 RES     \\n      93 O            4.8664    -0.4601    -0.1714 O             1 RES     \\n      94 O            6.7994   -12.5291    -0.1714 O             1 RES     \\n      95 O           -7.7006    -1.6531     4.2526 O             1 RES     \\n      96 O            2.8724     1.9889     4.2516 O             1 RES     \\n      97 O            8.7984    11.6709     4.2527 O             1 RES     \\n      98 O            5.8574     3.2979    -0.1194 O             1 RES     \\n      99 O           -4.7166    -2.9641    -0.1184 O             1 RES     \\n     100 O           -4.7596   -10.0251    -0.1194 O             1 RES     \\n     101 O           -8.0176    -5.0201     0.0196 O             1 RES     \\n     102 O            2.5514     5.3569     0.0186 O             1 RES     \\n     103 O            9.1164     8.3019     0.0187 O             1 RES     \\n     104 O           -3.6236     3.5629     0.2226 O             1 RES     \\n     105 O            6.9484    -3.2311     0.2217 O             1 RES     \\n     106 O            4.7214    -9.7601     0.2216 O             1 RES     \\n     107 O           -4.3236    -4.6761     2.0796 O             1 RES     \\n     108 O            6.2484     5.0099     2.0796 O             1 RES     \\n     109 O            5.4214     8.6469     2.0796 O             1 RES     \\n     110 O           -3.2016    -1.9951     2.0626 O             1 RES     \\n     111 O            7.3704     2.3279     2.0637 O             1 RES     \\n     112 O            4.2994    11.3279     2.0626 O             1 RES     \\n     113 O            6.6644    -0.2471     2.0427 O             1 RES     \\n     114 O           -3.9076     0.5809     2.0446 O             1 RES     \\n     115 O           -5.5666    13.0769     2.0426 O             1 RES     \\n     116 O           -3.0626     5.8739     2.1746 O             1 RES     \\n     117 O            7.5094    -5.5411     2.1737 O             1 RES     \\n     118 O            4.1604    -7.4491     2.1746 O             1 RES     \\n     119 O           -0.5366    -1.0491     2.0526 O             1 RES     \\n     120 O           10.0344     1.3829     2.0507 O             1 RES     \\n     121 O            1.6344    12.2739     2.0516 O             1 RES     \\n     122 O            1.0674     1.1489     1.9466 O             1 RES     \\n     123 O           -9.5046    -0.8141     1.9466 O             1 RES     \\n     124 O            0.0304   -12.1751     1.9456 O             1 RES     \\n     125 O           -1.0416     4.2529     2.0406 O             1 RES     \\n     126 O            9.5304    -3.9201     2.0387 O             1 RES     \\n     127 O            2.1404    -9.0701     2.0406 O             1 RES     \\n     128 O            5.0854    -4.7471     2.1896 O             1 RES     \\n     129 O           -5.4876     5.0809     2.1896 O             1 RES     \\n     130 O           -3.9876     8.5759     2.1886 O             1 RES     \\n     131 O            1.9554    -2.5401     2.0186 O             1 RES     \\n     132 O           -8.6166     2.8739     2.0166 O             1 RES     \\n     133 O           -0.8576    10.7829     2.0176 O             1 RES     \\n     134 O            1.5144     3.5109     2.0596 O             1 RES     \\n     135 O           -9.0566    -3.1761     2.0606 O             1 RES     \\n     136 O           -0.4166    -9.8131     2.0596 O             1 RES     \\n     137 O            0.9274     6.1379     2.1796 O             1 RES     \\n     138 O           -9.6436    -5.8041     2.1776 O             1 RES     \\n     139 O            0.1704    -7.1851     2.1796 O             1 RES     \\n     140 O            3.0534    -0.1141     2.1366 O             1 RES     \\n     141 O           -7.5186     0.4479     2.1346 O             1 RES     \\n     142 O           -1.9556   -13.4371     2.1356 O             1 RES     \\n     143 O            3.8914     3.7519     2.0526 O             1 RES     \\n     144 O           -6.6806    -3.4171     2.0566 O             1 RES     \\n     145 O           -2.7936    -9.5721     2.0526 O             1 RES     \\n     146 O            3.9134     6.3899     2.2416 O             1 RES     \\n     147 O           -6.6576    -6.0561     2.2416 O             1 RES     \\n     148 O           -2.8156    -6.9331     2.2416 O             1 RES     \\n     149 O            2.4414    -5.3491     2.2216 O             1 RES     \\n     150 O           -8.1316     5.6829     2.2206 O             1 RES     \\n     151 O           -1.3436     7.9739     2.2216 O             1 RES     \\n     152 O            4.7284    -2.2781     2.1256 O             1 RES     \\n     153 O           -5.8436     2.6119     2.1266 O             1 RES     \\n     154 O           -3.6306    11.0459     2.1256 O             1 RES     \\n     155 O            4.7854     1.5529     1.9456 O             1 RES     \\n     156 O           -5.7866    -1.2181     1.9466 O             1 RES     \\n     157 O           -3.6886   -11.7711     1.9456 O             1 RES     \\n     158 O            9.0604    -1.1181     2.0877 O             1 RES     \\n     159 O           -1.5116     1.4509     2.0906 O             1 RES     \\n     160 O           -7.7506    12.3039     2.0966 O             1 RES     \\n     161 Mo           5.8344     6.8279    -1.3516 Mo            1 RES     \\n     162 Te           3.3774    12.9999    -1.4156 Te            1 RES     \\n     163 Mo           2.1024    -7.1831    -1.3816 Mo            1 RES     \\n     164 Mo           1.3284   -10.6891    -2.4986 Mo            1 RES     \\n     165 Mo          -0.1426    12.4559    -2.4616 Mo            1 RES     \\n     166 Mo          -2.2516     9.6009    -1.3756 Mo            1 RES     \\n     167 V           -3.8126    12.8919    -2.4986 V             1 RES     \\n     168 V            5.8264    10.3859    -2.4446 V             1 RES     \\n     169 V           -1.4376    -8.0451    -2.3086 V             1 RES     \\n     170 Mo          -4.7366    -6.4951    -1.3516 Mo            1 RES     \\n     171 Mo           8.2924     0.6549    -1.4176 Mo            1 RES     \\n     172 Mo          -2.2796    -0.3231    -1.4156 Mo            1 RES     \\n     173 Mo          -7.1946   -12.6681    -1.4176 Mo            1 RES     \\n     174 Nb           9.5694    -5.8081    -1.3836 Nb            1 RES     \\n     175 Mo          -1.0036     6.1409    -1.3816 Mo            1 RES     \\n     176 V           -8.4716     7.5159    -1.3836 V             1 RES     \\n     177 Mo          10.3424    -2.3011    -2.4996 Mo            1 RES     \\n     178 Mo          -0.2306     2.6349    -2.4986 Mo            1 RES     \\n     179 Mo          -9.2446    11.0219    -2.5006 Mo            1 RES     \\n     180 V           -9.3316     1.2019    -2.4616 V             1 RES     \\n     181 Nb           1.2404    -0.8681    -2.4606 Nb            1 RES     \\n     182 Nb          10.4294   -12.1221    -2.4626 Nb            1 RES     \\n     183 Te          -7.2236     4.0559    -1.3756 Te            1 RES     \\n     184 Te           3.3494    -3.7221    -1.3756 Te            1 RES     \\n     185 Mo           8.3204    -9.2671    -1.3766 Mo            1 RES     \\n     186 V           -5.6616     0.7659    -2.4986 V             1 RES     \\n     187 Te           4.9094    -0.4321    -2.4986 Te            1 RES     \\n     188 Mo           6.7594   -12.5581    -2.4986 Mo            1 RES     \\n     189 Te           5.8444     3.2709    -2.4446 Te            1 RES     \\n     190 Te          -4.7286    -2.9381    -2.4436 Te            1 RES     \\n     191 Mo          -4.7466   -10.0521    -2.4446 Mo            1 RES     \\n     192 Mo          -8.0346    -4.9441    -2.3076 Mo            1 RES     \\n     193 Mo           2.5364     5.2789    -2.3086 Mo            1 RES     \\n     194 Mo           9.1324     8.3789    -2.3086 Mo            1 RES     \\n     195 Mo          -1.7696   -11.3331    -1.4626 Mo            1 RES     \\n     196 Mo          -7.7046    -1.6551    -1.4616 Mo            1 RES     \\n     197 Mo           2.8674     1.9899    -1.4626 Mo            1 RES     \\n     198 V            8.8024    11.6679    -1.4626 V             1 RES     \\n     199 Mo          -5.7096     9.8959    -1.9626 Mo            1 RES     \\n     200 V           -3.7646     3.7609    -1.9616 V             1 RES     \\n     201 Mo           6.8084    -3.4281    -1.9616 Mo            1 RES     \\n     202 Mo           4.8624    -9.5631    -1.9616 Mo            1 RES     \\n     203 Te           5.8344    -6.4951    -2.4276 Te            1 RES     \\n     204 Mo          -4.7376     6.8279    -2.4266 Mo            1 RES     \\n     205 O            5.8344     6.8279     0.3204 O             1 RES     \\n     206 O            5.8344    -6.4951    -4.0956 O             1 RES     \\n     207 O            3.3884    12.9749     0.2574 O             1 RES     \\n     208 O            2.0954    -7.2441     0.2894 O             1 RES     \\n     209 O            1.3304   -10.6981    -4.1776 O             1 RES     \\n     210 O           -0.1686    12.4649    -4.1396 O             1 RES     \\n     211 O           -2.2086     9.6809     0.2944 O             1 RES     \\n     212 O           -3.7696    12.8639    -4.1756 O             1 RES     \\n     213 O           -1.7736   -11.3341     0.2484 O             1 RES     \\n     214 O            5.8144    10.3589    -4.1226 O             1 RES     \\n     215 O           -1.4536    -7.9661    -3.9846 O             1 RES     \\n     216 O           -5.8506    10.0929    -3.7826 O             1 RES     \\n     217 O           -5.1506    -8.3131    -1.9236 O             1 RES     \\n     218 O           -6.2726   -10.9951    -1.9396 O             1 RES     \\n     219 O            5.0044   -12.7431    -1.9586 O             1 RES     \\n     220 O           -6.4116     7.7819    -1.8296 O             1 RES     \\n     221 O           -8.9376   -11.9401    -1.9526 O             1 RES     \\n     222 O          -10.5416    12.5089    -2.0576 O             1 RES     \\n     223 O           -8.4326     9.4039    -1.9646 O             1 RES     \\n     224 O            6.5854    -8.2431    -1.8146 O             1 RES     \\n     225 O            9.7144   -10.4491    -1.9866 O             1 RES     \\n     226 O           10.1544    10.1469    -1.9426 O             1 RES     \\n     227 O          -10.4026     7.5189    -1.8256 O             1 RES     \\n     228 O            8.6164   -12.8751    -1.8686 O             1 RES     \\n     229 O            7.7784     9.9059    -1.9476 O             1 RES     \\n     230 O            7.7554     7.2669    -1.7616 O             1 RES     \\n     231 O            9.2294    -7.6411    -1.7826 O             1 RES     \\n     232 O            6.9414   -10.7121    -1.8776 O             1 RES     \\n     233 O            6.8834    12.1049    -2.0576 O             1 RES     \\n     234 O            2.6094   -11.8721    -1.9126 O             1 RES     \\n     235 O           -4.7366    -6.4951     0.3204 O             1 RES     \\n     236 O           -4.7376     6.8279    -4.0956 O             1 RES     \\n     237 O            8.2804     0.6789     0.2564 O             1 RES     \\n     238 O           -2.2916    -0.3471     0.2584 O             1 RES     \\n     239 O           -7.1836   -12.6451     0.2564 O             1 RES     \\n     240 O            9.5764    -5.7471     0.2874 O             1 RES     \\n     241 O           -0.9976     6.0799     0.2894 O             1 RES     \\n     242 O           -8.4786     7.5769     0.2874 O             1 RES     \\n     243 O           10.3424    -2.2921    -4.1786 O             1 RES     \\n     244 O           -0.2316     2.6249    -4.1776 O             1 RES     \\n     245 O           -9.2446    11.0309    -4.1796 O             1 RES     \\n     246 O           -9.3056     1.1909    -4.1396 O             1 RES     \\n     247 O            1.2664    -0.8581    -4.1386 O             1 RES     \\n     248 O           10.4034   -12.1321    -4.1395 O             1 RES     \\n     249 O           -7.2676     3.9779     0.2944 O             1 RES     \\n     250 O            3.3064    -3.6431     0.2944 O             1 RES     \\n     251 O            8.3654    -9.3461     0.2944 O             1 RES     \\n     252 O           -5.7026     0.7939    -4.1746 O             1 RES     \\n     253 O            4.8664    -0.4601    -4.1746 O             1 RES     \\n     254 O            6.7994   -12.5291    -4.1746 O             1 RES     \\n     255 O           -7.7006    -1.6531     0.2494 O             1 RES     \\n     256 O            2.8724     1.9889     0.2484 O             1 RES     \\n     257 O            8.7984    11.6709     0.2494 O             1 RES     \\n     258 O            5.8574     3.2979    -4.1226 O             1 RES     \\n     259 O           -4.7166    -2.9641    -4.1216 O             1 RES     \\n     260 O           -4.7596   -10.0251    -4.1226 O             1 RES     \\n     261 O           -8.0176    -5.0201    -3.9836 O             1 RES     \\n     262 O            2.5514     5.3569    -3.9846 O             1 RES     \\n     263 O            9.1164     8.3019    -3.9846 O             1 RES     \\n     264 O           -3.6236     3.5629    -3.7806 O             1 RES     \\n     265 O            6.9484    -3.2311    -3.7816 O             1 RES     \\n     266 O            4.7214    -9.7601    -3.7816 O             1 RES     \\n     267 O           -4.3236    -4.6761    -1.9236 O             1 RES     \\n     268 O            6.2484     5.0099    -1.9236 O             1 RES     \\n     269 O            5.4214     8.6469    -1.9236 O             1 RES     \\n     270 O           -3.2016    -1.9951    -1.9406 O             1 RES     \\n     271 O            7.3704     2.3279    -1.9396 O             1 RES     \\n     272 O            4.2994    11.3279    -1.9406 O             1 RES     \\n     273 O            6.6644    -0.2471    -1.9606 O             1 RES     \\n     274 O           -3.9076     0.5809    -1.9586 O             1 RES     \\n     275 O           -5.5666    13.0769    -1.9606 O             1 RES     \\n     276 O           -3.0626     5.8739    -1.8286 O             1 RES     \\n     277 O            7.5094    -5.5411    -1.8296 O             1 RES     \\n     278 O            4.1604    -7.4491    -1.8286 O             1 RES     \\n     279 O           -0.5366    -1.0491    -1.9506 O             1 RES     \\n     280 O           10.0344     1.3829    -1.9526 O             1 RES     \\n     281 O            1.6344    12.2739    -1.9516 O             1 RES     \\n     282 O            1.0674     1.1489    -2.0566 O             1 RES     \\n     283 O           -9.5046    -0.8141    -2.0566 O             1 RES     \\n     284 O            0.0304   -12.1751    -2.0576 O             1 RES     \\n     285 O           -1.0416     4.2529    -1.9626 O             1 RES     \\n     286 O            9.5304    -3.9201    -1.9646 O             1 RES     \\n     287 O            2.1404    -9.0701    -1.9626 O             1 RES     \\n     288 O            5.0854    -4.7471    -1.8136 O             1 RES     \\n     289 O           -5.4876     5.0809    -1.8136 O             1 RES     \\n     290 O           -3.9876     8.5759    -1.8146 O             1 RES     \\n     291 O            1.9554    -2.5401    -1.9846 O             1 RES     \\n     292 O           -8.6166     2.8739    -1.9866 O             1 RES     \\n     293 O           -0.8576    10.7829    -1.9856 O             1 RES     \\n     294 O            1.5144     3.5109    -1.9436 O             1 RES     \\n     295 O           -9.0566    -3.1761    -1.9426 O             1 RES     \\n     296 O           -0.4166    -9.8131    -1.9436 O             1 RES     \\n     297 O            0.9274     6.1379    -1.8236 O             1 RES     \\n     298 O           -9.6436    -5.8041    -1.8256 O             1 RES     \\n     299 O            0.1704    -7.1851    -1.8236 O             1 RES     \\n     300 O            3.0534    -0.1141    -1.8666 O             1 RES     \\n     301 O           -7.5186     0.4479    -1.8686 O             1 RES     \\n     302 O           -1.9556   -13.4371    -1.8676 O             1 RES     \\n     303 O            3.8914     3.7519    -1.9506 O             1 RES     \\n     304 O           -6.6806    -3.4171    -1.9466 O             1 RES     \\n     305 O           -2.7936    -9.5721    -1.9506 O             1 RES     \\n     306 O            3.9134     6.3899    -1.7616 O             1 RES     \\n     307 O           -6.6576    -6.0561    -1.7616 O             1 RES     \\n     308 O           -2.8156    -6.9331    -1.7616 O             1 RES     \\n     309 O            2.4414    -5.3491    -1.7816 O             1 RES     \\n     310 O           -8.1316     5.6829    -1.7826 O             1 RES     \\n     311 O           -1.3436     7.9739    -1.7816 O             1 RES     \\n     312 O            4.7284    -2.2781    -1.8776 O             1 RES     \\n     313 O           -5.8436     2.6119    -1.8766 O             1 RES     \\n     314 O           -3.6306    11.0459    -1.8776 O             1 RES     \\n     315 O            4.7854     1.5529    -2.0576 O             1 RES     \\n     316 O           -5.7866    -1.2181    -2.0566 O             1 RES     \\n     317 O           -3.6886   -11.7711    -2.0576 O             1 RES     \\n     318 O            9.0604    -1.1181    -1.9156 O             1 RES     \\n     319 O           -1.5116     1.4509    -1.9126 O             1 RES     \\n     320 O           -7.7506    12.3039    -1.9066 O             1 RES     \\n     321 C            5.5959     6.3500    -5.9007 C             1 RES     \\n     322 C            6.0982     7.6519    -5.8974 C             1 RES     \\n     323 C            7.4766     7.8660    -5.9156 C             1 RES     \\n     324 C            8.3516     6.7812    -5.8961 C             1 RES     \\n     325 C            7.8494     5.4793    -5.8862 C             1 RES     \\n     326 C            6.4709     5.2650    -5.9001 C             1 RES     \\n     327 H            4.5219     6.1829    -5.9065 H             1 RES     \\n     328 H            5.4168     8.4974    -5.8818 H             1 RES     \\n     329 H            7.8680     8.8798    -5.9454 H             1 RES     \\n     330 H            9.4255     6.9488    -5.8879 H             1 RES     \\n     331 H            8.5311     4.6340    -5.8722 H             1 RES     \\n     332 H            6.0794     4.2508    -5.9074 H             1 RES     \\n     333 C           -3.3813    -4.4117    -5.9010 C             1 RES     \\n     334 C           -2.8790    -3.1098    -5.8977 C             1 RES     \\n     335 C           -1.5006    -2.8957    -5.9159 C             1 RES     \\n     336 C           -0.6256    -3.9804    -5.8964 C             1 RES     \\n     337 C           -1.1278    -5.2824    -5.8865 C             1 RES     \\n     338 C           -2.5064    -5.4967    -5.9004 C             1 RES     \\n     339 H           -4.4553    -4.5788    -5.9068 H             1 RES     \\n     340 H           -3.5604    -2.2642    -5.8820 H             1 RES     \\n     341 H           -1.1093    -1.8818    -5.9457 H             1 RES     \\n     342 H            0.4483    -3.8129    -5.8882 H             1 RES     \\n     343 H           -0.4461    -6.1277    -5.8725 H             1 RES     \\n     344 H           -2.8978    -6.5109    -5.9076 H             1 RES     \\n     345 C           -0.5777     8.6662    -5.9074 C             1 RES     \\n     346 C           -0.0755     9.9682    -5.9041 C             1 RES     \\n     347 C            1.3030    10.1822    -5.9223 C             1 RES     \\n     348 C            2.1779     9.0975    -5.9027 C             1 RES     \\n     349 C            1.6757     7.7956    -5.8929 C             1 RES     \\n     350 C            0.2972     7.5813    -5.9068 C             1 RES     \\n     351 H           -1.6518     8.4992    -5.9132 H             1 RES     \\n     352 H           -0.7569    10.8137    -5.8884 H             1 RES     \\n     353 H            1.6943    11.1961    -5.9520 H             1 RES     \\n     354 H            3.2518     9.2650    -5.8946 H             1 RES     \\n     355 H            2.3574     6.9502    -5.8789 H             1 RES     \\n     356 H           -0.0943     6.5670    -5.9140 H             1 RES     \\n     357 C           -4.9113     3.1533    -5.9007 C             1 RES     \\n     358 C           -4.4091     4.4552    -5.8974 C             1 RES     \\n     359 C           -3.0306     4.6693    -5.9156 C             1 RES     \\n     360 C           -2.1557     3.5846    -5.8961 C             1 RES     \\n     361 C           -2.6578     2.2826    -5.8862 C             1 RES     \\n     362 C           -4.0364     2.0684    -5.9001 C             1 RES     \\n     363 H           -5.9853     2.9862    -5.9065 H             1 RES     \\n     364 H           -5.0905     5.3008    -5.8818 H             1 RES     \\n     365 H           -2.6393     5.6832    -5.9454 H             1 RES     \\n     366 H           -1.0817     3.7521    -5.8879 H             1 RES     \\n     367 H           -1.9761     1.4373    -5.8722 H             1 RES     \\n     368 H           -4.4278     1.0541    -5.9074 H             1 RES     \\n     369 C            5.5914    -1.7697    -5.9004 C             1 RES     \\n     370 C            6.0936    -0.4678    -5.8971 C             1 RES     \\n     371 C            7.4721    -0.2537    -5.9153 C             1 RES     \\n     372 C            8.3470    -1.3385    -5.8958 C             1 RES     \\n     373 C            7.8449    -2.6404    -5.8859 C             1 RES     \\n     374 C            6.4663    -2.8547    -5.8998 C             1 RES     \\n     375 H            4.5174    -1.9368    -5.9062 H             1 RES     \\n     376 H            5.4122     0.3777    -5.8814 H             1 RES     \\n     377 H            7.8634     0.7601    -5.9451 H             1 RES     \\n     378 H            9.4210    -1.1709    -5.8876 H             1 RES     \\n     379 H            8.5266    -3.4857    -5.8719 H             1 RES     \\n     380 H            6.0749    -3.8689    -5.9071 H             1 RES     \\n     381 C           -8.5053    -9.2972    -5.9072 C             1 RES     \\n     382 C           -8.0030    -7.9952    -5.9039 C             1 RES     \\n     383 C           -6.6246    -7.7812    -5.9221 C             1 RES     \\n     384 C           -5.7496    -8.8659    -5.9026 C             1 RES     \\n     385 C           -6.2518   -10.1678    -5.8927 C             1 RES     \\n     386 C           -7.6304   -10.3821    -5.9066 C             1 RES     \\n     387 H           -9.5793    -9.4642    -5.9130 H             1 RES     \\n     388 H           -8.6844    -7.1497    -5.8882 H             1 RES     \\n     389 H           -6.2333    -6.7673    -5.9519 H             1 RES     \\n     390 H           -4.6757    -8.6984    -5.8944 H             1 RES     \\n     391 H           -5.5701   -11.0132    -5.8787 H             1 RES     \\n     392 H           -8.0218   -11.3963    -5.9139 H             1 RES     \\n     393 C           -7.4941     9.5046    -5.9008 C             1 RES     \\n     394 C           -6.9919    10.8065    -5.8975 C             1 RES     \\n     395 C           -5.6134    11.0206    -5.9157 C             1 RES     \\n     396 C           -4.7385     9.9358    -5.8962 C             1 RES     \\n     397 C           -5.2406     8.6339    -5.8863 C             1 RES     \\n     398 C           -6.6192     8.4196    -5.9002 C             1 RES     \\n     399 H           -8.5681     9.3375    -5.9066 H             1 RES     \\n     400 H           -7.6733    11.6520    -5.8818 H             1 RES     \\n     401 H           -5.2221    12.0344    -5.9454 H             1 RES     \\n     402 H           -3.6645    10.1034    -5.8880 H             1 RES     \\n     403 H           -4.5589     7.7886    -5.8723 H             1 RES     \\n     404 H           -7.0106     7.4054    -5.9074 H             1 RES     \\n     405 C            2.4233    -8.5306    -5.9007 C             1 RES     \\n     406 C            2.9256    -7.2287    -5.8974 C             1 RES     \\n     407 C            4.3040    -7.0146    -5.9156 C             1 RES     \\n     408 C            5.1790    -8.0993    -5.8961 C             1 RES     \\n     409 C            4.6768    -9.4013    -5.8862 C             1 RES     \\n     410 C            3.2982    -9.6155    -5.9001 C             1 RES     \\n     411 H            1.3493    -8.6977    -5.9065 H             1 RES     \\n     412 H            2.2442    -6.3831    -5.8817 H             1 RES     \\n     413 H            4.6953    -6.0007    -5.9453 H             1 RES     \\n     414 H            6.2529    -7.9318    -5.8879 H             1 RES     \\n     415 H            5.3585   -10.2466    -5.8722 H             1 RES     \\n     416 H            2.9068   -10.6298    -5.9073 H             1 RES     \\n     417 C           -5.3946     2.1345     5.9997 C             1 RES     \\n     418 C           -5.8969     3.4364     5.9964 C             1 RES     \\n     419 C           -7.2753     3.6505     6.0146 C             1 RES     \\n     420 C           -8.1503     2.5658     5.9951 C             1 RES     \\n     421 C           -7.6481     1.2638     5.9852 C             1 RES     \\n     422 C           -6.2695     1.0495     5.9991 C             1 RES     \\n     423 H           -4.3206     1.9674     6.0055 H             1 RES     \\n     424 H           -5.2154     4.2820     5.9808 H             1 RES     \\n     425 H           -7.6666     4.6644     6.0444 H             1 RES     \\n     426 H           -9.2242     2.7333     5.9869 H             1 RES     \\n     427 H           -8.3298     0.4185     5.9713 H             1 RES     \\n     428 H           -5.8781     0.0353     6.0064 H             1 RES     \\n     429 C            7.6396     9.3538     6.0063 C             1 RES     \\n     430 C            7.1374    10.6557     6.0030 C             1 RES     \\n     431 C            5.7589    10.8698     6.0212 C             1 RES     \\n     432 C            4.8840     9.7851     6.0017 C             1 RES     \\n     433 C            5.3861     8.4831     5.9918 C             1 RES     \\n     434 C            6.7647     8.2688     6.0057 C             1 RES     \\n     435 H            8.7137     9.1867     6.0121 H             1 RES     \\n     436 H            7.8188    11.5012     5.9874 H             1 RES     \\n     437 H            5.3676    11.8837     6.0510 H             1 RES     \\n     438 H            3.8100     9.9526     5.9935 H             1 RES     \\n     439 H            4.7045     7.6378     5.9778 H             1 RES     \\n     440 H            7.1562     7.2546     6.0130 H             1 RES     \\n     441 C            1.8666     6.7875     5.9998 C             1 RES     \\n     442 C            1.3643     8.0894     5.9965 C             1 RES     \\n     443 C           -0.0141     8.3035     6.0147 C             1 RES     \\n     444 C           -0.8891     7.2188     5.9951 C             1 RES     \\n     445 C           -0.3869     5.9168     5.9853 C             1 RES     \\n     446 C            0.9917     5.7025     5.9992 C             1 RES     \\n     447 H            2.9406     6.6204     6.0056 H             1 RES     \\n     448 H            2.0458     8.9350     5.9808 H             1 RES     \\n     449 H           -0.4054     9.3174     6.0444 H             1 RES     \\n     450 H           -1.9630     7.3863     5.9870 H             1 RES     \\n     451 H           -1.0686     5.0715     5.9713 H             1 RES     \\n     452 H            1.3831     4.6883     6.0064 H             1 RES     \\n     453 C            7.6362     2.9419     6.0063 C             1 RES     \\n     454 C            7.1340     4.2438     6.0030 C             1 RES     \\n     455 C            5.7555     4.4579     6.0212 C             1 RES     \\n     456 C            4.8806     3.3731     6.0017 C             1 RES     \\n     457 C            5.3828     2.0712     5.9918 C             1 RES     \\n     458 C            6.7613     1.8569     6.0057 C             1 RES     \\n     459 H            8.7103     2.7748     6.0121 H             1 RES     \\n     460 H            7.8154     5.0893     5.9874 H             1 RES     \\n     461 H            5.3642     5.4717     6.0510 H             1 RES     \\n     462 H            3.8067     3.5407     5.9935 H             1 RES     \\n     463 H            4.7011     1.2259     5.9778 H             1 RES     \\n     464 H            7.1528     0.8427     6.0130 H             1 RES     \\n     465 C           -5.4748    -4.6563     6.0064 C             1 RES     \\n     466 C           -5.9770    -3.3543     6.0031 C             1 RES     \\n     467 C           -7.3555    -3.1403     6.0213 C             1 RES     \\n     468 C           -8.2304    -4.2250     6.0017 C             1 RES     \\n     469 C           -7.7283    -5.5269     5.9919 C             1 RES     \\n     470 C           -6.3497    -5.7412     6.0058 C             1 RES     \\n     471 H           -4.4008    -4.8234     6.0122 H             1 RES     \\n     472 H           -5.2956    -2.5088     5.9874 H             1 RES     \\n     473 H           -7.7468    -2.1264     6.0510 H             1 RES     \\n     474 H           -9.3044    -4.0575     5.9936 H             1 RES     \\n     475 H           -8.4099    -6.3723     5.9779 H             1 RES     \\n     476 H           -5.9582    -6.7555     6.0130 H             1 RES     \\n     477 C            1.1339    -3.5498     6.0064 C             1 RES     \\n     478 C            0.6316    -2.2479     6.0031 C             1 RES     \\n     479 C           -0.7468    -2.0338     6.0213 C             1 RES     \\n     480 C           -1.6218    -3.1186     6.0018 C             1 RES     \\n     481 C           -1.1196    -4.4205     5.9919 C             1 RES     \\n     482 C            0.2590    -4.6348     6.0058 C             1 RES     \\n     483 H            2.2079    -3.7169     6.0122 H             1 RES     \\n     484 H            1.3131    -1.4024     5.9875 H             1 RES     \\n     485 H           -1.1381    -1.0200     6.0511 H             1 RES     \\n     486 H           -2.6957    -2.9510     5.9936 H             1 RES     \\n     487 H           -1.8013    -5.2658     5.9779 H             1 RES     \\n     488 H            0.6504    -5.6490     6.0131 H             1 RES     \\n     489 C           -5.5724    -9.9568     5.9997 C             1 RES     \\n     490 C           -6.0747    -8.6548     5.9964 C             1 RES     \\n     491 C           -7.4532    -8.4408     6.0146 C             1 RES     \\n     492 C           -8.3281    -9.5255     5.9951 C             1 RES     \\n     493 C           -7.8259   -10.8274     5.9852 C             1 RES     \\n     494 C           -6.4474   -11.0417     5.9991 C             1 RES     \\n     495 H           -4.4984   -10.1238     6.0055 H             1 RES     \\n     496 H           -5.3933    -7.8093     5.9807 H             1 RES     \\n     497 H           -7.8445    -7.4269     6.0444 H             1 RES     \\n     498 H           -9.4020    -9.3580     5.9869 H             1 RES     \\n     499 H           -8.5076   -11.6728     5.9712 H             1 RES     \\n     500 H           -6.0559   -12.0559     6.0063 H             1 RES     \\n     501 C            1.8017   -10.1929     6.0067 C             1 RES     \\n     502 C            1.2995    -8.8909     6.0034 C             1 RES     \\n     503 C           -0.0790    -8.6769     6.0216 C             1 RES     \\n     504 C           -0.9539    -9.7616     6.0020 C             1 RES     \\n     505 C           -0.4518   -11.0635     5.9922 C             1 RES     \\n     506 C            0.9268   -11.2778     6.0061 C             1 RES     \\n     507 H            2.8757   -10.3599     6.0125 H             1 RES     \\n     508 H            1.9809    -8.0454     5.9877 H             1 RES     \\n     509 H           -0.4703    -7.6630     6.0513 H             1 RES     \\n     510 H           -2.0279    -9.5941     5.9939 H             1 RES     \\n     511 H           -1.1335   -11.9089     5.9782 H             1 RES     \\n     512 H            1.3182   -12.2921     6.0133 H             1 RES     \\n@<TRIPOS>BOND\\n@<TRIPOS>SUBSTRUCTURE\\n       1 RES             1 RESIDUE    0 **** ROOT      0\\n\",\"mol2\");\n",
       "\tviewer_1599074577845468.setStyle({\"stick\": {\"radius\": 0.2, \"color\": \"grey\"}, \"sphere\": {\"scale\": 0.3, \"colorscheme\": {}}});\n",
       "\tviewer_1599074577845468.zoomTo();\n",
       "viewer_1599074577845468.render();\n",
       "});\n",
       "</script>"
      ]
     },
     "metadata": {},
     "output_type": "display_data"
    }
   ],
   "source": [
    "packed = mb.load(\"/home/erjank_project/nealeellyson/MosCas/components/1x1x2-DBLbenzene.mol2\")\n",
    "packed.translate_to(np.zeros(3)) # Added so that periodicity doesn't error out\n",
    "packed.periodicity = packed.boundingbox.lengths # necessary\n",
    "packed.periodicity = packed.periodicity + np.array([0,0,1.4-0.85032099]) # So that z = 1.4Angstrom\n",
    "packed.translate_to([0,0,0]) # Centering\n",
    "packed.visualize().show()"
   ]
  },
  {
   "cell_type": "markdown",
   "metadata": {},
   "source": [
    "<a id=\"Gases\"></a>\n",
    "## Make Gases & Visualize"
   ]
  },
  {
   "cell_type": "code",
   "execution_count": 43,
   "metadata": {},
   "outputs": [],
   "source": [
    "ethane = mb.load(\"CC\", smiles=True)\n",
    "#ethane.visualize().show()"
   ]
  },
  {
   "cell_type": "markdown",
   "metadata": {},
   "source": [
    "<a id=\"Forcefields\"></a>\n",
    "## Apply Forcefields and Generate Simulation Box"
   ]
  },
  {
   "cell_type": "code",
   "execution_count": 44,
   "metadata": {},
   "outputs": [
    {
     "name": "stderr",
     "output_type": "stream",
     "text": [
      "/home/nealeellyson/miniconda3/envs/moscas/lib/python3.7/site-packages/parmed/openmm/topsystem.py:238: OpenMMWarning: Adding what seems to be Urey-Bradley terms before Angles. This is unexpected, but the parameters will all be present in one form or another.\n",
      "  'all be present in one form or another.', OpenMMWarning)\n"
     ]
    }
   ],
   "source": [
    "# Load forcefields\n",
    "M1oplsaa_nonB = foyer.forcefields.Forcefield(forcefield_files='forcefields/M1_oplsaa-nonB.xml')\n",
    "M1oplsaa = foyer.forcefields.Forcefield(forcefield_files='forcefields/M1_oplsaa.xml')\n",
    "\n",
    "# Use foyer to apply forcefields\n",
    "typed_ethane = M1oplsaa.apply(ethane) \n",
    "typed_packed = M1oplsaa_nonB.apply(packed,\n",
    "                            assert_angle_params=False,\n",
    "                            assert_bond_params=False,\n",
    "                            assert_dihedral_params=False,\n",
    "                            assert_improper_params=False)\n",
    "\n",
    "# Establish simulation box dimensions\n",
    "L = 10\n",
    "box = mb.Box(mins=[-L/2]*3, maxs=[L/2]*3)"
   ]
  },
  {
   "cell_type": "markdown",
   "metadata": {},
   "source": [
    "<a id=\"Statepoints\"></a>\n",
    "## Define Statepoints"
   ]
  },
  {
   "cell_type": "code",
   "execution_count": 45,
   "metadata": {},
   "outputs": [],
   "source": [
    "chem_pots = [-10] #[i*T for i in range(0,10)] \n",
    "temp = 800"
   ]
  },
  {
   "cell_type": "markdown",
   "metadata": {},
   "source": [
    "<a id=\"Run\"></a>\n",
    "## Run Simulation"
   ]
  },
  {
   "cell_type": "code",
   "execution_count": 46,
   "metadata": {},
   "outputs": [
    {
     "name": "stdout",
     "output_type": "stream",
     "text": [
      "Treating <Structure 512 atoms; 1 residues; 0 bonds; PBC (orthogonal); NOT parametrized> as a non-insertable rigid species since it has no bonds\n",
      "Using the following executables for Cassandra:\n",
      "Python: /home/nealeellyson/miniconda3/envs/moscas/bin/python\n",
      "library_setup: /home/nealeellyson/miniconda3/envs/moscas/bin/library_setup.py\n",
      "Cassandra: /home/nealeellyson/miniconda3/envs/moscas/bin/cassandra.exe\n",
      "Generating fragment libraries...\n",
      "Running Cassandra...\n",
      "Using the following executables for Cassandra:\n",
      "Python: /home/nealeellyson/miniconda3/envs/moscas/bin/python\n",
      "library_setup: /home/nealeellyson/miniconda3/envs/moscas/bin/library_setup.py\n",
      "Cassandra: /home/nealeellyson/miniconda3/envs/moscas/bin/cassandra.exe\n",
      "Running Cassandra...\n"
     ]
    }
   ],
   "source": [
    "for chem_pot in chem_pots:\n",
    "    run_cassandra_surf(chem_pot,temp)"
   ]
  },
  {
   "cell_type": "markdown",
   "metadata": {},
   "source": [
    "<a id=\"Trajectory\"></a>\n",
    "## Render Trajectory"
   ]
  },
  {
   "cell_type": "code",
   "execution_count": 27,
   "metadata": {},
   "outputs": [
    {
     "name": "stdout",
     "output_type": "stream",
     "text": [
      "Copy this into Ovito Load Remote File:\n",
      "/home/nealeellyson/CassandraSim/output/gcmc.out.xyz\n"
     ]
    }
   ],
   "source": [
    "import ex_render_cassandra as erc\n",
    "import os\n",
    "import getpass\n",
    "\n",
    "# These cells are for visualizing output\n",
    "xyzfile = f\"prod_{chem_pot:.0f}_{temp:.0f}.out.xyz\"\n",
    "boxfile = f\"prod_{chem_pot:.0f}_{temp:.0f}.out.H\"\n",
    "traj = erc.make_traj(xyzfile, boxfile)\n",
    "print(\"Frames: \",len(traj))\n",
    "\n",
    "cwd = os.getcwd()\n",
    "username = getpass.getuser()\n",
    "for chem_pot in chem_pots:\n",
    "    xyzfile = f\"surfprod_{chem_pot:.0f}_{temp:.0f}.out.xyz\"\n",
    "    print(\"\\n\\tCopy this into Ovito Load Remote File:\") # From Fry\n",
    "    print('sftp://'+username+'@fry'+cwd+'/'+xyzfile)"
   ]
  },
  {
   "cell_type": "code",
   "execution_count": 26,
   "metadata": {},
   "outputs": [],
   "source": [
    "xyzfile = \"output/gcmc.out.xyz\"\n",
    "boxfile = \"output/gcmc.out.H\"\n",
    "\n",
    "traj = erc.make_traj(xyzfile, boxfile)"
   ]
  },
  {
   "cell_type": "code",
   "execution_count": 27,
   "metadata": {},
   "outputs": [
    {
     "data": {
      "image/png": "\n",
      "text/plain": [
       "<IPython.core.display.Image object>"
      ]
     },
     "metadata": {},
     "output_type": "display_data"
    }
   ],
   "source": [
    "erc.display_movie(erc.render_sphere_frame, traj)\n",
    "#erc.display_movie(erc.render_sphere_frame, traj, gif=\"traj.gif\")"
   ]
  },
  {
   "cell_type": "markdown",
   "metadata": {},
   "source": [
    "<a id=\"Errors\"></a>\n",
    "## Errors:\n",
    "```\n",
    "FoyerError: Found no types for atom 320 (6).\n",
    "```\n",
    "The offending atom was traced to be the carbons/hydrogens in the rigid benzenes coating the surface. Being a Foyer issue, it was determined that the current forcefield `M1oplsaa.xml` did not have parameters for unbonded benzene atoms. This was resolved by creating a simple pdb file of a couple of benzenes in Avogadro (SMILES strings could also be used) and sending it into the `AtomTyping.ipynb` and generating `smaller.xml` which shows the oplsaa atom types and those can be altered in a copy of the `M1oplsaa.xml`. \n",
    "\n",
    "In `smaller.xml`:\n",
    "```\n",
    "<ForceField>\n",
    "  <AtomTypes>\n",
    "    <Type name=\"opls_145\" class=\"CA\" element=\"C\" mass=\"12.01078\" def=\"[C;X3;r6]1[C;X3;r6][C;X3;r6][C;X3;r6][C;X3;r6][C;X3;r6]1\" desc=\"\" doi=\"10.1021/ja9621760\" overrides=\"\">\n",
    "      <!--Note: original overrides=\"opls_141,opls_142\"-->\n",
    "    </Type>\n",
    "    <Type name=\"opls_146\" class=\"HA\" element=\"H\" mass=\"1.007947\" def=\"[H][C;%opls_145]\" desc=\"\" doi=\"10.1021/ja9621760\" overrides=\"\">\n",
    "      <!--Note: original overrides=\"opls_144\"-->\n",
    "    </Type>\n",
    "  </AtomTypes>\n",
    "  <NonbondedForce coulomb14scale=\"0.5\" lj14scale=\"0.5\">\n",
    "    <Atom type=\"opls_145\" charge=\"-0.115\" sigma=\"0.355\" epsilon=\"0.29288\"/>\n",
    "    <Atom type=\"opls_146\" charge=\"0.115\" sigma=\"0.242\" epsilon=\"0.12552\"/>\n",
    "  </NonbondedForce>\n",
    "  <HarmonicBondForce>\n",
    "    <Bond type1=\"opls_145\" type2=\"opls_145\" length=\"0.14\" k=\"392459.2\"/>\n",
    "    <Bond type1=\"opls_145\" type2=\"opls_146\" length=\"0.108\" k=\"307105.6\"/>\n",
    "  </HarmonicBondForce>\n",
    "  <HarmonicAngleForce>\n",
    "    <Angle type1=\"opls_145\" type2=\"opls_145\" type3=\"opls_145\" angle=\"2.0943951024\" k=\"527.184\"/>\n",
    "    <Angle type1=\"opls_145\" type2=\"opls_145\" type3=\"opls_146\" angle=\"2.0943951024\" k=\"292.88\"/>\n",
    "  </HarmonicAngleForce>\n",
    "  <RBTorsionForce>\n",
    "    <Proper type1=\"opls_145\" type2=\"opls_145\" type3=\"opls_145\" type4=\"opls_145\" c0=\"30.334\" c1=\"0.0\" c2=\"-30.334\" c3=\"0.0\" c4=\"0.0\" c5=\"0.0\"/>\n",
    "    <Proper type1=\"opls_145\" type2=\"opls_145\" type3=\"opls_145\" type4=\"opls_146\" c0=\"30.334\" c1=\"0.0\" c2=\"-30.334\" c3=\"0.0\" c4=\"0.0\" c5=\"0.0\"/>\n",
    "    <Proper type1=\"opls_146\" type2=\"opls_145\" type3=\"opls_145\" type4=\"opls_146\" c0=\"30.334\" c1=\"0.0\" c2=\"-30.334\" c3=\"0.0\" c4=\"0.0\" c5=\"0.0\"/>\n",
    "  </RBTorsionForce>\n",
    "</ForceField>\n",
    "```\n",
    "\n",
    "Where `opls_145` and `opls_146` need to be revised in the `M1oplsaa.xml` copy to have \n",
    "```\n",
    "  <Type name=\"opls_145\" class=\"CA\" element=\"C\" mass=\"12.01100\" def=\"[C]\" overrides=\"opls_141,opls_142\" doi=\"10.1021/ja9621760\"/>\n",
    "  <Type name=\"opls_146\" class=\"HA\" element=\"H\" mass=\"1.00800\"  def=\"[H]\" overrides=\"opls_144\" desc=\"benzene H\" doi=\"10.1021/ja9621760\"/>\n",
    "```\n",
    "Where the only change is in `def=[C]`. The forcefield can then be applied to a packed, non-bonded surface.  \n",
    "\n",
    "\n",
    "### When running `run_cassandra_surf()`:\n",
    "```\n",
    "ValueError: Not all components of the molecule are connected. MCF files are for a single molecule and thus everything should be connected through bonds.\n",
    "```\n",
    "\n"
   ]
  },
  {
   "cell_type": "markdown",
   "metadata": {},
   "source": [
    "<a id=\"Notes\"></a>\n",
    "## Notes"
   ]
  },
  {
   "cell_type": "markdown",
   "metadata": {},
   "source": []
  },
  {
   "cell_type": "code",
   "execution_count": null,
   "metadata": {},
   "outputs": [],
   "source": []
  }
 ],
 "metadata": {
  "kernelspec": {
   "display_name": "Python 3",
   "language": "python",
   "name": "python3"
  },
  "language_info": {
   "codemirror_mode": {
    "name": "ipython",
    "version": 3
   },
   "file_extension": ".py",
   "mimetype": "text/x-python",
   "name": "python",
   "nbconvert_exporter": "python",
   "pygments_lexer": "ipython3",
   "version": "3.7.8"
  }
 },
 "nbformat": 4,
 "nbformat_minor": 4
}
