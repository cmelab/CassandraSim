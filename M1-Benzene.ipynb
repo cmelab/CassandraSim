{
 "cells": [
  {
   "cell_type": "markdown",
   "metadata": {},
   "source": [
    "# Contents\n",
    " - [Imports](#Imports)\n",
    " - [Functions](#Functions)\n",
    " - [Make Surface & Visualize](#Surface)\n",
    " - [Make Gases & Visualize](#Gases)\n",
    " - [Apply Forcefields and Generate Simulation Box](#Forcefields)\n",
    " - [Define Statepoints](#Statepoints)\n",
    " - [Render Trajectory](#Trajectory)\n",
    " - [Errors](#Errors)\n",
    " - [Notes](#Notes)\n",
    "\n",
    "# Interesting Etherpads\n",
    " - [7-9: Equilibration & Box Stuff](https://etherpad.boisestate.edu/p/ldrd-s20-9)\n",
    " - [7-30: New Sweeps](https://etherpad.boisestate.edu/p/ldrd-s20-12)"
   ]
  },
  {
   "cell_type": "code",
   "execution_count": 14,
   "metadata": {},
   "outputs": [],
   "source": [
    "# Quick commands\n",
    "#!tail -n 1 signac/workspace/*/surfequil*.prp\n",
    "#!head -n 10 signac/workspace/*/surfprod*.prp\n",
    "!rm -rf *.in.* species* *.out* *.inp* *.log*"
   ]
  },
  {
   "cell_type": "markdown",
   "metadata": {},
   "source": [
    "<a id=\"Imports\"></a>\n",
    "## Imports"
   ]
  },
  {
   "cell_type": "code",
   "execution_count": 15,
   "metadata": {},
   "outputs": [],
   "source": [
    "import mosdef_cassandra as mc\n",
    "import generate_mc as gen   # Chris' script\n",
    "import mbuild as mb\n",
    "import foyer\n",
    "import numpy as np\n",
    "import matplotlib.pyplot as plt\n",
    "from scipy.spatial import ConvexHull\n",
    "import random\n",
    "import unyt as u    # For Cassandra's physical unit specification \n",
    "                    # https://mosdef-cassandra.readthedocs.io/en/latest/guides/unyts.html"
   ]
  },
  {
   "cell_type": "markdown",
   "metadata": {},
   "source": [
    "<a id=\"Functions\"></a>\n",
    "## Functions"
   ]
  },
  {
   "cell_type": "code",
   "execution_count": 23,
   "metadata": {},
   "outputs": [],
   "source": [
    "def run_cassandra_surf(chem_pot, temp):\n",
    "    # Create box and species list\n",
    "    box_list = [packed]\n",
    "    species_list = [typed_packed,typed_ethane] #\n",
    "\n",
    "    # Since we have an occupied box we need to specify\n",
    "    # the number of each species present in the intial config\n",
    "    mols_in_boxes = [[1,0]]\n",
    "\n",
    "    system = mc.System(box_list, species_list, mols_in_boxes=mols_in_boxes)\n",
    "    moveset = mc.MoveSet(\"gcmc\", species_list)\n",
    "\n",
    "    custom_args = {\n",
    "        \"run_name\": f\"surfequil\",\n",
    "        \"chemical_potentials\": [\"none\",chem_pot*u.Unit('kJ/mol')],\n",
    "        \"rcut_min\": 0.3980 * 2.5* u.angstrom, #(or 3.0)\n",
    "        \"vdw_cutoff\": min(box.lengths)/2.1* u.angstrom,\n",
    "        \"charge_style\": \"none\",\n",
    "        #\"charge_cutoff\": 14.0,\n",
    "        \"coord_freq\": 100,\n",
    "        \"prop_freq\": 10,\n",
    "    }\n",
    "\n",
    "    mc.run(\n",
    "        system=system, \n",
    "        moveset=moveset, \n",
    "        run_type=\"equilibration\", \n",
    "        run_length= 10000, # To reach ~1.33 hours\n",
    "        temperature=temp*u.K, \n",
    "        **custom_args\n",
    "    )\n",
    "    \n",
    "    # Set max translate and volume for production\n",
    "    moveset.max_translate = [[0* u.angstrom,10.0* u.angstrom]] # angstroms\n",
    "\n",
    "    # Update run_name and restart_name\n",
    "    custom_args[\"run_name\"] = f\"surfprod_{chem_pot:.0f}_{temp:.0f}\"\n",
    "    custom_args[\"restart_name\"] = f\"surfequil\"\n",
    "\n",
    "    mc.restart(\n",
    "        system=system,\n",
    "        moveset=moveset,\n",
    "        run_type=\"production\",\n",
    "        run_length= 50000, # To reach ~6.67 hours, total 8 hrs\n",
    "        temperature=temp*u.K,\n",
    "        **custom_args,\n",
    "    )"
   ]
  },
  {
   "cell_type": "code",
   "execution_count": 17,
   "metadata": {},
   "outputs": [
    {
     "name": "stdout",
     "output_type": "stream",
     "text": [
      "Using the following executables for Cassandra:\n",
      "Python: /home/nealeellyson/miniconda3/envs/moscas/bin/python\n",
      "library_setup: /home/nealeellyson/miniconda3/envs/moscas/bin/library_setup.py\n",
      "Cassandra: /home/nealeellyson/miniconda3/envs/moscas/bin/cassandra.exe\n"
     ]
    }
   ],
   "source": [
    "mc.utils.detect_cassandra_binaries();"
   ]
  },
  {
   "cell_type": "markdown",
   "metadata": {},
   "source": [
    "<a id=\"Surface\"></a>\n",
    "## Make Surface & Visualize"
   ]
  },
  {
   "cell_type": "code",
   "execution_count": 18,
   "metadata": {},
   "outputs": [],
   "source": [
    "packed = mb.load(\"/home/erjank_project/nealeellyson/LDRD/rhaco-mc/surface-gen/1x1x2-benzene-nonbonded.mol2\")\n",
    "packed.translate_to(np.zeros(3)) # Added so that periodicity doesn't error out\n",
    "packed.periodicity = packed.boundingbox.lengths # necessary\n",
    "#packed.visualize().show()"
   ]
  },
  {
   "cell_type": "markdown",
   "metadata": {},
   "source": [
    "<a id=\"Gases\"></a>\n",
    "## Make Gases & Visualize"
   ]
  },
  {
   "cell_type": "code",
   "execution_count": 19,
   "metadata": {},
   "outputs": [],
   "source": [
    "ethane = mb.load(\"CC\", smiles=True)\n",
    "#ethane.visualize().show()"
   ]
  },
  {
   "cell_type": "markdown",
   "metadata": {},
   "source": [
    "<a id=\"Forcefields\"></a>\n",
    "## Apply Forcefields and Generate Simulation Box"
   ]
  },
  {
   "cell_type": "code",
   "execution_count": 20,
   "metadata": {},
   "outputs": [
    {
     "name": "stderr",
     "output_type": "stream",
     "text": [
      "/home/nealeellyson/miniconda3/envs/moscas/lib/python3.7/site-packages/parmed/openmm/topsystem.py:238: OpenMMWarning: Adding what seems to be Urey-Bradley terms before Angles. This is unexpected, but the parameters will all be present in one form or another.\n",
      "  'all be present in one form or another.', OpenMMWarning)\n"
     ]
    }
   ],
   "source": [
    "# Load forcefields\n",
    "#opls_uff = foyer.forcefields.Forcefield(forcefield_files='forcefields/FF_opls_uff.xml')\n",
    "oplsaa = foyer.forcefields.load_OPLSAA()\n",
    "M1oplsaa_nonB = foyer.forcefields.Forcefield(forcefield_files='forcefields/M1_oplsaa-nonB.xml')\n",
    "M1oplsaa = foyer.forcefields.Forcefield(forcefield_files='forcefields/M1_oplsaa.xml')\n",
    "\n",
    "# Use foyer to apply forcefields\n",
    "typed_ethane = M1oplsaa.apply(ethane) \n",
    "typed_packed = M1oplsaa_nonB.apply(packed,\n",
    "                            assert_angle_params=False,\n",
    "                            assert_bond_params=False,\n",
    "                            assert_dihedral_params=False,\n",
    "                            assert_improper_params=False)\n",
    "\n",
    "# Establish simulation box dimensions\n",
    "L = 10\n",
    "box = mb.Box(mins=[-L/2]*3, maxs=[L/2]*3)"
   ]
  },
  {
   "cell_type": "markdown",
   "metadata": {},
   "source": [
    "<a id=\"Statepoints\"></a>\n",
    "## Define Statepoints"
   ]
  },
  {
   "cell_type": "code",
   "execution_count": 21,
   "metadata": {},
   "outputs": [
    {
     "name": "stdout",
     "output_type": "stream",
     "text": [
      "epsilon: 0.07\n",
      "sigma:  3.5\n",
      "The unit temperature is 33 K\n"
     ]
    }
   ],
   "source": [
    "eps = typed_ethane.atoms[0].epsilon\n",
    "print(f\"epsilon: {eps:.2f}\")\n",
    "print(\"sigma: \", typed_ethane.atoms[0].sigma)\n",
    "# ParmEd is in kcal/mol\n",
    "\n",
    "kb = 0.001985875    # kcal/(mol K)\n",
    "T = eps/kb\n",
    "\n",
    "print(f\"The unit temperature is {T:.0f} K\")\n",
    "chem_pots = [-10] #[i*T for i in range(0,10)] \n",
    "temp = 800"
   ]
  },
  {
   "cell_type": "markdown",
   "metadata": {},
   "source": [
    "<a id=\"Run\"></a>\n",
    "## Run Simulation"
   ]
  },
  {
   "cell_type": "code",
   "execution_count": 22,
   "metadata": {},
   "outputs": [
    {
     "name": "stdout",
     "output_type": "stream",
     "text": [
      "Treating <Structure 416 atoms; 1 residues; 0 bonds; PBC (orthogonal); NOT parametrized> as a non-insertable rigid species since it has no bonds\n",
      "Using the following executables for Cassandra:\n",
      "Python: /home/nealeellyson/miniconda3/envs/moscas/bin/python\n",
      "library_setup: /home/nealeellyson/miniconda3/envs/moscas/bin/library_setup.py\n",
      "Cassandra: /home/nealeellyson/miniconda3/envs/moscas/bin/cassandra.exe\n",
      "Generating fragment libraries...\n",
      "Running Cassandra...\n"
     ]
    },
    {
     "ename": "CassandraRuntimeError",
     "evalue": "Cassandra exited with an error, see mosdef_cassandra_2020-08-19_13:16:45.731968.log for details.",
     "output_type": "error",
     "traceback": [
      "\u001b[0;31m---------------------------------------------------------------------------\u001b[0m",
      "\u001b[0;31mCassandraRuntimeError\u001b[0m                     Traceback (most recent call last)",
      "\u001b[0;32m<ipython-input-22-dd17cdd50224>\u001b[0m in \u001b[0;36m<module>\u001b[0;34m\u001b[0m\n\u001b[1;32m      1\u001b[0m \u001b[0;32mfor\u001b[0m \u001b[0mchem_pot\u001b[0m \u001b[0;32min\u001b[0m \u001b[0mchem_pots\u001b[0m\u001b[0;34m:\u001b[0m\u001b[0;34m\u001b[0m\u001b[0;34m\u001b[0m\u001b[0m\n\u001b[0;32m----> 2\u001b[0;31m     \u001b[0mrun_cassandra_surf\u001b[0m\u001b[0;34m(\u001b[0m\u001b[0mchem_pot\u001b[0m\u001b[0;34m,\u001b[0m\u001b[0mtemp\u001b[0m\u001b[0;34m)\u001b[0m\u001b[0;34m\u001b[0m\u001b[0;34m\u001b[0m\u001b[0m\n\u001b[0m",
      "\u001b[0;32m<ipython-input-16-252c4c4ec729>\u001b[0m in \u001b[0;36mrun_cassandra_surf\u001b[0;34m(chem_pot, temp)\u001b[0m\n\u001b[1;32m     28\u001b[0m         \u001b[0mrun_length\u001b[0m\u001b[0;34m=\u001b[0m \u001b[0;36m10000\u001b[0m\u001b[0;34m,\u001b[0m \u001b[0;31m# To reach ~1.33 hours\u001b[0m\u001b[0;34m\u001b[0m\u001b[0;34m\u001b[0m\u001b[0m\n\u001b[1;32m     29\u001b[0m         \u001b[0mtemperature\u001b[0m\u001b[0;34m=\u001b[0m\u001b[0mtemp\u001b[0m\u001b[0;34m*\u001b[0m\u001b[0mu\u001b[0m\u001b[0;34m.\u001b[0m\u001b[0mK\u001b[0m\u001b[0;34m,\u001b[0m\u001b[0;34m\u001b[0m\u001b[0;34m\u001b[0m\u001b[0m\n\u001b[0;32m---> 30\u001b[0;31m         \u001b[0;34m**\u001b[0m\u001b[0mcustom_args\u001b[0m\u001b[0;34m\u001b[0m\u001b[0;34m\u001b[0m\u001b[0m\n\u001b[0m\u001b[1;32m     31\u001b[0m     )\n\u001b[1;32m     32\u001b[0m \u001b[0;34m\u001b[0m\u001b[0m\n",
      "\u001b[0;32m~/miniconda3/envs/moscas/lib/python3.7/site-packages/mosdef_cassandra/runners/runners.py\u001b[0m in \u001b[0;36mrun\u001b[0;34m(system, moveset, run_type, run_length, temperature, **kwargs)\u001b[0m\n\u001b[1;32m     87\u001b[0m     \u001b[0;31m# Run simulation\u001b[0m\u001b[0;34m\u001b[0m\u001b[0;34m\u001b[0m\u001b[0;34m\u001b[0m\u001b[0m\n\u001b[1;32m     88\u001b[0m     \u001b[0mprint\u001b[0m\u001b[0;34m(\u001b[0m\u001b[0;34m\"Running Cassandra...\"\u001b[0m\u001b[0;34m)\u001b[0m\u001b[0;34m\u001b[0m\u001b[0;34m\u001b[0m\u001b[0m\n\u001b[0;32m---> 89\u001b[0;31m     \u001b[0m_run_cassandra\u001b[0m\u001b[0;34m(\u001b[0m\u001b[0mcassandra\u001b[0m\u001b[0;34m,\u001b[0m \u001b[0minp_file\u001b[0m\u001b[0;34m,\u001b[0m \u001b[0mlog_file\u001b[0m\u001b[0;34m)\u001b[0m\u001b[0;34m\u001b[0m\u001b[0;34m\u001b[0m\u001b[0m\n\u001b[0m\u001b[1;32m     90\u001b[0m \u001b[0;34m\u001b[0m\u001b[0m\n\u001b[1;32m     91\u001b[0m \u001b[0;34m\u001b[0m\u001b[0m\n",
      "\u001b[0;32m~/miniconda3/envs/moscas/lib/python3.7/site-packages/mosdef_cassandra/runners/runners.py\u001b[0m in \u001b[0;36m_run_cassandra\u001b[0;34m(cassandra, inp_file, log_file)\u001b[0m\n\u001b[1;32m    240\u001b[0m         raise CassandraRuntimeError(\n\u001b[1;32m    241\u001b[0m             \u001b[0;34m\"Cassandra exited with an error, \"\u001b[0m\u001b[0;34m\u001b[0m\u001b[0;34m\u001b[0m\u001b[0m\n\u001b[0;32m--> 242\u001b[0;31m             \u001b[0;34m\"see {} for details.\"\u001b[0m\u001b[0;34m.\u001b[0m\u001b[0mformat\u001b[0m\u001b[0;34m(\u001b[0m\u001b[0mlog_file\u001b[0m\u001b[0;34m)\u001b[0m\u001b[0;34m\u001b[0m\u001b[0;34m\u001b[0m\u001b[0m\n\u001b[0m\u001b[1;32m    243\u001b[0m         )\n\u001b[1;32m    244\u001b[0m \u001b[0;34m\u001b[0m\u001b[0m\n",
      "\u001b[0;31mCassandraRuntimeError\u001b[0m: Cassandra exited with an error, see mosdef_cassandra_2020-08-19_13:16:45.731968.log for details."
     ]
    }
   ],
   "source": [
    "for chem_pot in chem_pots:\n",
    "    run_cassandra_surf(chem_pot,temp)"
   ]
  },
  {
   "cell_type": "markdown",
   "metadata": {},
   "source": [
    "<a id=\"Trajectory\"></a>\n",
    "## Render Trajectory"
   ]
  },
  {
   "cell_type": "code",
   "execution_count": 27,
   "metadata": {},
   "outputs": [
    {
     "name": "stdout",
     "output_type": "stream",
     "text": [
      "Copy this into Ovito Load Remote File:\n",
      "/home/nealeellyson/CassandraSim/output/gcmc.out.xyz\n"
     ]
    }
   ],
   "source": [
    "import ex_render_cassandra as erc\n",
    "import os\n",
    "import getpass\n",
    "\n",
    "# These cells are for visualizing output\n",
    "xyzfile = f\"prod_{chem_pot:.0f}_{temp:.0f}.out.xyz\"\n",
    "boxfile = f\"prod_{chem_pot:.0f}_{temp:.0f}.out.H\"\n",
    "traj = erc.make_traj(xyzfile, boxfile)\n",
    "print(\"Frames: \",len(traj))\n",
    "\n",
    "cwd = os.getcwd()\n",
    "username = getpass.getuser()\n",
    "for chem_pot in chem_pots:\n",
    "    xyzfile = f\"surfprod_{chem_pot:.0f}_{temp:.0f}.out.xyz\"\n",
    "    print(\"\\n\\tCopy this into Ovito Load Remote File:\") # From Fry\n",
    "    print('sftp://'+username+'@fry'+cwd+'/'+xyzfile)"
   ]
  },
  {
   "cell_type": "code",
   "execution_count": 26,
   "metadata": {},
   "outputs": [],
   "source": [
    "xyzfile = \"output/gcmc.out.xyz\"\n",
    "boxfile = \"output/gcmc.out.H\"\n",
    "\n",
    "traj = erc.make_traj(xyzfile, boxfile)"
   ]
  },
  {
   "cell_type": "code",
   "execution_count": 27,
   "metadata": {},
   "outputs": [
    {
     "data": {
      "image/png": "\n",
      "text/plain": [
       "<IPython.core.display.Image object>"
      ]
     },
     "metadata": {},
     "output_type": "display_data"
    }
   ],
   "source": [
    "erc.display_movie(erc.render_sphere_frame, traj)\n",
    "#erc.display_movie(erc.render_sphere_frame, traj, gif=\"traj.gif\")"
   ]
  },
  {
   "cell_type": "markdown",
   "metadata": {},
   "source": [
    "<a id=\"Errors\"></a>\n",
    "## Errors:\n",
    "```\n",
    "FoyerError: Found no types for atom 320 (6).\n",
    "```\n",
    "The offending atom was traced to be the carbons/hydrogens in the rigid benzenes coating the surface. Being a Foyer issue, it was determined that the current forcefield `M1oplsaa.xml` did not have parameters for unbonded benzene atoms. This was resolved by creating a simple pdb file of a couple of benzenes in Avogadro (SMILES strings could also be used) and sending it into the `AtomTyping.ipynb` and generating `smaller.xml` which shows the oplsaa atom types and those can be altered in a copy of the `M1oplsaa.xml`. \n",
    "\n",
    "In `smaller.xml`:\n",
    "```\n",
    "<ForceField>\n",
    "  <AtomTypes>\n",
    "    <Type name=\"opls_145\" class=\"CA\" element=\"C\" mass=\"12.01078\" def=\"[C;X3;r6]1[C;X3;r6][C;X3;r6][C;X3;r6][C;X3;r6][C;X3;r6]1\" desc=\"\" doi=\"10.1021/ja9621760\" overrides=\"\">\n",
    "      <!--Note: original overrides=\"opls_141,opls_142\"-->\n",
    "    </Type>\n",
    "    <Type name=\"opls_146\" class=\"HA\" element=\"H\" mass=\"1.007947\" def=\"[H][C;%opls_145]\" desc=\"\" doi=\"10.1021/ja9621760\" overrides=\"\">\n",
    "      <!--Note: original overrides=\"opls_144\"-->\n",
    "    </Type>\n",
    "  </AtomTypes>\n",
    "  <NonbondedForce coulomb14scale=\"0.5\" lj14scale=\"0.5\">\n",
    "    <Atom type=\"opls_145\" charge=\"-0.115\" sigma=\"0.355\" epsilon=\"0.29288\"/>\n",
    "    <Atom type=\"opls_146\" charge=\"0.115\" sigma=\"0.242\" epsilon=\"0.12552\"/>\n",
    "  </NonbondedForce>\n",
    "  <HarmonicBondForce>\n",
    "    <Bond type1=\"opls_145\" type2=\"opls_145\" length=\"0.14\" k=\"392459.2\"/>\n",
    "    <Bond type1=\"opls_145\" type2=\"opls_146\" length=\"0.108\" k=\"307105.6\"/>\n",
    "  </HarmonicBondForce>\n",
    "  <HarmonicAngleForce>\n",
    "    <Angle type1=\"opls_145\" type2=\"opls_145\" type3=\"opls_145\" angle=\"2.0943951024\" k=\"527.184\"/>\n",
    "    <Angle type1=\"opls_145\" type2=\"opls_145\" type3=\"opls_146\" angle=\"2.0943951024\" k=\"292.88\"/>\n",
    "  </HarmonicAngleForce>\n",
    "  <RBTorsionForce>\n",
    "    <Proper type1=\"opls_145\" type2=\"opls_145\" type3=\"opls_145\" type4=\"opls_145\" c0=\"30.334\" c1=\"0.0\" c2=\"-30.334\" c3=\"0.0\" c4=\"0.0\" c5=\"0.0\"/>\n",
    "    <Proper type1=\"opls_145\" type2=\"opls_145\" type3=\"opls_145\" type4=\"opls_146\" c0=\"30.334\" c1=\"0.0\" c2=\"-30.334\" c3=\"0.0\" c4=\"0.0\" c5=\"0.0\"/>\n",
    "    <Proper type1=\"opls_146\" type2=\"opls_145\" type3=\"opls_145\" type4=\"opls_146\" c0=\"30.334\" c1=\"0.0\" c2=\"-30.334\" c3=\"0.0\" c4=\"0.0\" c5=\"0.0\"/>\n",
    "  </RBTorsionForce>\n",
    "</ForceField>\n",
    "```\n",
    "\n",
    "Where `opls_145` and `opls_146` need to be revised in the `M1oplsaa.xml` copy to have \n",
    "```\n",
    "  <Type name=\"opls_145\" class=\"CA\" element=\"C\" mass=\"12.01100\" def=\"[C]\" overrides=\"opls_141,opls_142\" doi=\"10.1021/ja9621760\"/>\n",
    "  <Type name=\"opls_146\" class=\"HA\" element=\"H\" mass=\"1.00800\"  def=\"[H]\" overrides=\"opls_144\" desc=\"benzene H\" doi=\"10.1021/ja9621760\"/>\n",
    "```\n",
    "Where the only change is in `def=[C]`. The forcefield can then be applied to a packed, non-bonded surface.  \n",
    "\n",
    "\n",
    "```\n",
    "Atomic overlap in the configuration\n",
    "This error occurred in subroutine Check_System_Energy on step 0.\n",
    "```\n",
    "\n"
   ]
  },
  {
   "cell_type": "markdown",
   "metadata": {},
   "source": [
    "<a id=\"Notes\"></a>\n",
    "## Notes"
   ]
  },
  {
   "cell_type": "markdown",
   "metadata": {},
   "source": []
  },
  {
   "cell_type": "code",
   "execution_count": null,
   "metadata": {},
   "outputs": [],
   "source": []
  }
 ],
 "metadata": {
  "kernelspec": {
   "display_name": "Python 3",
   "language": "python",
   "name": "python3"
  },
  "language_info": {
   "codemirror_mode": {
    "name": "ipython",
    "version": 3
   },
   "file_extension": ".py",
   "mimetype": "text/x-python",
   "name": "python",
   "nbconvert_exporter": "python",
   "pygments_lexer": "ipython3",
   "version": "3.7.8"
  }
 },
 "nbformat": 4,
 "nbformat_minor": 4
}
